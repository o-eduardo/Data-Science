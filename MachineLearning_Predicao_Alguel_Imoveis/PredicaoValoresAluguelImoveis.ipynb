{
 "cells": [
  {
   "cell_type": "markdown",
   "metadata": {
    "id": "GFJ4EVNomx-9"
   },
   "source": [
    "## **Semana de Data Science**\n",
    "\n",
    "- Minerando Dados"
   ]
  },
  {
   "cell_type": "markdown",
   "metadata": {
    "id": "4vhNe3CadOcI"
   },
   "source": [
    "### Conhecendo a base de dados"
   ]
  },
  {
   "cell_type": "markdown",
   "metadata": {
    "id": "UIKcG9cuf73S"
   },
   "source": [
    "Monta o drive"
   ]
  },
  {
   "cell_type": "code",
   "execution_count": null,
   "metadata": {
    "colab": {
     "base_uri": "https://localhost:8080/",
     "height": 53
    },
    "executionInfo": {
     "elapsed": 666,
     "status": "ok",
     "timestamp": 1589759043692,
     "user": {
      "displayName": "Carlos Eduardo Ramos",
      "photoUrl": "https://lh3.googleusercontent.com/a-/AOh14Girfo8mrae_OWZZG95sEc5f3DNmMM0k7I9Qw1Za=s64",
      "userId": "01761804650114495504"
     },
     "user_tz": 180
    },
    "id": "Pra_pLjfAW3d",
    "outputId": "ca689395-60cb-43c0-fe9d-ed6557f4cb49"
   },
   "outputs": [
    {
     "name": "stdout",
     "output_type": "stream",
     "text": [
      "Drive already mounted at /content/drive; to attempt to forcibly remount, call drive.mount(\"/content/drive\", force_remount=True).\n"
     ]
    }
   ],
   "source": [
    "from google.colab import drive\n",
    "drive.mount('/content/drive')"
   ]
  },
  {
   "cell_type": "code",
   "execution_count": null,
   "metadata": {
    "colab": {
     "base_uri": "https://localhost:8080/",
     "height": 33
    },
    "executionInfo": {
     "elapsed": 654,
     "status": "ok",
     "timestamp": 1589759046701,
     "user": {
      "displayName": "Carlos Eduardo Ramos",
      "photoUrl": "https://lh3.googleusercontent.com/a-/AOh14Girfo8mrae_OWZZG95sEc5f3DNmMM0k7I9Qw1Za=s64",
      "userId": "01761804650114495504"
     },
     "user_tz": 180
    },
    "id": "jlKvIePk2qtx",
    "outputId": "d55d1174-e462-4bc0-f971-2d4bf057bf7e"
   },
   "outputs": [
    {
     "name": "stdout",
     "output_type": "stream",
     "text": [
      "/content/drive/My Drive/DataScience/SemanaDataScience\n"
     ]
    }
   ],
   "source": [
    "cd /content/drive/My Drive/DataScience/SemanaDataScience"
   ]
  },
  {
   "cell_type": "markdown",
   "metadata": {
    "id": "LpI7iiKFVv85"
   },
   "source": [
    "Importando as bibliotecas básicas"
   ]
  },
  {
   "cell_type": "code",
   "execution_count": null,
   "metadata": {
    "colab": {
     "base_uri": "https://localhost:8080/",
     "height": 70
    },
    "executionInfo": {
     "elapsed": 1035,
     "status": "ok",
     "timestamp": 1589759049195,
     "user": {
      "displayName": "Carlos Eduardo Ramos",
      "photoUrl": "https://lh3.googleusercontent.com/a-/AOh14Girfo8mrae_OWZZG95sEc5f3DNmMM0k7I9Qw1Za=s64",
      "userId": "01761804650114495504"
     },
     "user_tz": 180
    },
    "id": "KrCFI6wjVy8r",
    "outputId": "9c5900a3-cb66-47e8-8a40-e604f30bbb74"
   },
   "outputs": [
    {
     "name": "stderr",
     "output_type": "stream",
     "text": [
      "/usr/local/lib/python3.6/dist-packages/statsmodels/tools/_testing.py:19: FutureWarning: pandas.util.testing is deprecated. Use the functions in the public API at pandas.testing instead.\n",
      "  import pandas.util.testing as tm\n"
     ]
    }
   ],
   "source": [
    "import pandas as pd\n",
    "import seaborn as sns\n",
    "import numpy as np\n",
    "import matplotlib.pyplot as plt"
   ]
  },
  {
   "cell_type": "markdown",
   "metadata": {
    "id": "pN6MI_aOdLkK"
   },
   "source": [
    "Carregando a Base de Dados"
   ]
  },
  {
   "cell_type": "code",
   "execution_count": null,
   "metadata": {
    "id": "fH08VuIvDYqC"
   },
   "outputs": [],
   "source": [
    "# carrega o dataset de london\n",
    "from sklearn.datasets import load_boston\n",
    "boston = load_boston()"
   ]
  },
  {
   "cell_type": "code",
   "execution_count": null,
   "metadata": {
    "colab": {
     "base_uri": "https://localhost:8080/",
     "height": 866
    },
    "executionInfo": {
     "elapsed": 552,
     "status": "ok",
     "timestamp": 1589759052491,
     "user": {
      "displayName": "Carlos Eduardo Ramos",
      "photoUrl": "https://lh3.googleusercontent.com/a-/AOh14Girfo8mrae_OWZZG95sEc5f3DNmMM0k7I9Qw1Za=s64",
      "userId": "01761804650114495504"
     },
     "user_tz": 180
    },
    "id": "vdncFGtm9EZe",
    "outputId": "e5a4de15-c439-4bce-9811-b864f3560072"
   },
   "outputs": [
    {
     "name": "stdout",
     "output_type": "stream",
     "text": [
      ".. _boston_dataset:\n",
      "\n",
      "Boston house prices dataset\n",
      "---------------------------\n",
      "\n",
      "**Data Set Characteristics:**  \n",
      "\n",
      "    :Number of Instances: 506 \n",
      "\n",
      "    :Number of Attributes: 13 numeric/categorical predictive. Median Value (attribute 14) is usually the target.\n",
      "\n",
      "    :Attribute Information (in order):\n",
      "        - CRIM     per capita crime rate by town\n",
      "        - ZN       proportion of residential land zoned for lots over 25,000 sq.ft.\n",
      "        - INDUS    proportion of non-retail business acres per town\n",
      "        - CHAS     Charles River dummy variable (= 1 if tract bounds river; 0 otherwise)\n",
      "        - NOX      nitric oxides concentration (parts per 10 million)\n",
      "        - RM       average number of rooms per dwelling\n",
      "        - AGE      proportion of owner-occupied units built prior to 1940\n",
      "        - DIS      weighted distances to five Boston employment centres\n",
      "        - RAD      index of accessibility to radial highways\n",
      "        - TAX      full-value property-tax rate per $10,000\n",
      "        - PTRATIO  pupil-teacher ratio by town\n",
      "        - B        1000(Bk - 0.63)^2 where Bk is the proportion of blacks by town\n",
      "        - LSTAT    % lower status of the population\n",
      "        - MEDV     Median value of owner-occupied homes in $1000's\n",
      "\n",
      "    :Missing Attribute Values: None\n",
      "\n",
      "    :Creator: Harrison, D. and Rubinfeld, D.L.\n",
      "\n",
      "This is a copy of UCI ML housing dataset.\n",
      "https://archive.ics.uci.edu/ml/machine-learning-databases/housing/\n",
      "\n",
      "\n",
      "This dataset was taken from the StatLib library which is maintained at Carnegie Mellon University.\n",
      "\n",
      "The Boston house-price data of Harrison, D. and Rubinfeld, D.L. 'Hedonic\n",
      "prices and the demand for clean air', J. Environ. Economics & Management,\n",
      "vol.5, 81-102, 1978.   Used in Belsley, Kuh & Welsch, 'Regression diagnostics\n",
      "...', Wiley, 1980.   N.B. Various transformations are used in the table on\n",
      "pages 244-261 of the latter.\n",
      "\n",
      "The Boston house-price data has been used in many machine learning papers that address regression\n",
      "problems.   \n",
      "     \n",
      ".. topic:: References\n",
      "\n",
      "   - Belsley, Kuh & Welsch, 'Regression diagnostics: Identifying Influential Data and Sources of Collinearity', Wiley, 1980. 244-261.\n",
      "   - Quinlan,R. (1993). Combining Instance-Based and Model-Based Learning. In Proceedings on the Tenth International Conference of Machine Learning, 236-243, University of Massachusetts, Amherst. Morgan Kaufmann.\n",
      "\n"
     ]
    }
   ],
   "source": [
    "# descrição do dataset\n",
    "print (boston.DESCR)"
   ]
  },
  {
   "cell_type": "code",
   "execution_count": null,
   "metadata": {
    "id": "e1d1cfElD_aD"
   },
   "outputs": [],
   "source": [
    "# cria um dataframe pandas\n",
    "data = pd.DataFrame(boston.data, columns=boston.feature_names)"
   ]
  },
  {
   "cell_type": "markdown",
   "metadata": {
    "id": "2DqDhU9Gdkme"
   },
   "source": [
    "Adicionando a coluna que será nossa variável alvo"
   ]
  },
  {
   "cell_type": "code",
   "execution_count": null,
   "metadata": {
    "id": "WaGqRi0vElWS"
   },
   "outputs": [],
   "source": [
    "# adiciona a variável MEDV\n",
    "data['MEDV'] = boston.target"
   ]
  },
  {
   "cell_type": "code",
   "execution_count": null,
   "metadata": {
    "id": "caKPkl_SFil0"
   },
   "outputs": [],
   "source": [
    "# filtra os top 16 maiores registro da coluna MEDV\n",
    "top16 = data.nlargest(16, 'MEDV').index"
   ]
  },
  {
   "cell_type": "code",
   "execution_count": null,
   "metadata": {
    "id": "cicsUFf4OELZ"
   },
   "outputs": [],
   "source": [
    "# remove os valores listados em top16\n",
    "data.drop(top16, inplace=True)"
   ]
  },
  {
   "cell_type": "markdown",
   "metadata": {
    "id": "X2mMG-H_xfCU"
   },
   "source": [
    "**Definindo um Baseline**\n",
    "\n",
    "- `Uma baseline é importante para ter marcos no projeto`.\n",
    "- `Permite uma explicação fácil para todos os envolvidos`.\n",
    "- `É algo que sempre tentaremos ganhar na medida do possível`."
   ]
  },
  {
   "cell_type": "code",
   "execution_count": null,
   "metadata": {
    "id": "q-k-jC68Tmra"
   },
   "outputs": [],
   "source": [
    "# converte os dados\n",
    "data.RM = data.RM.astype(int)"
   ]
  },
  {
   "cell_type": "code",
   "execution_count": null,
   "metadata": {
    "colab": {
     "base_uri": "https://localhost:8080/",
     "height": 358
    },
    "executionInfo": {
     "elapsed": 635,
     "status": "ok",
     "timestamp": 1589759069764,
     "user": {
      "displayName": "Carlos Eduardo Ramos",
      "photoUrl": "https://lh3.googleusercontent.com/a-/AOh14Girfo8mrae_OWZZG95sEc5f3DNmMM0k7I9Qw1Za=s64",
      "userId": "01761804650114495504"
     },
     "user_tz": 180
    },
    "id": "cA9VCNRnUOPi",
    "outputId": "d66cbc1f-0e3d-4fde-aa13-684c5947bea2"
   },
   "outputs": [
    {
     "name": "stdout",
     "output_type": "stream",
     "text": [
      "<class 'pandas.core.frame.DataFrame'>\n",
      "Int64Index: 490 entries, 0 to 505\n",
      "Data columns (total 14 columns):\n",
      " #   Column   Non-Null Count  Dtype  \n",
      "---  ------   --------------  -----  \n",
      " 0   CRIM     490 non-null    float64\n",
      " 1   ZN       490 non-null    float64\n",
      " 2   INDUS    490 non-null    float64\n",
      " 3   CHAS     490 non-null    float64\n",
      " 4   NOX      490 non-null    float64\n",
      " 5   RM       490 non-null    int64  \n",
      " 6   AGE      490 non-null    float64\n",
      " 7   DIS      490 non-null    float64\n",
      " 8   RAD      490 non-null    float64\n",
      " 9   TAX      490 non-null    float64\n",
      " 10  PTRATIO  490 non-null    float64\n",
      " 11  B        490 non-null    float64\n",
      " 12  LSTAT    490 non-null    float64\n",
      " 13  MEDV     490 non-null    float64\n",
      "dtypes: float64(13), int64(1)\n",
      "memory usage: 57.4 KB\n"
     ]
    }
   ],
   "source": [
    "data.info()"
   ]
  },
  {
   "cell_type": "code",
   "execution_count": null,
   "metadata": {
    "colab": {
     "base_uri": "https://localhost:8080/",
     "height": 163
    },
    "executionInfo": {
     "elapsed": 606,
     "status": "ok",
     "timestamp": 1589759071428,
     "user": {
      "displayName": "Carlos Eduardo Ramos",
      "photoUrl": "https://lh3.googleusercontent.com/a-/AOh14Girfo8mrae_OWZZG95sEc5f3DNmMM0k7I9Qw1Za=s64",
      "userId": "01761804650114495504"
     },
     "user_tz": 180
    },
    "id": "K_-mp-6WtUee",
    "outputId": "da43a07a-b36b-4a5b-e763-99ee1d89f3c4"
   },
   "outputs": [
    {
     "data": {
      "text/plain": [
       "count    490.000000\n",
       "mean       5.740816\n",
       "std        0.737657\n",
       "min        3.000000\n",
       "25%        5.000000\n",
       "50%        6.000000\n",
       "75%        6.000000\n",
       "max        8.000000\n",
       "Name: RM, dtype: float64"
      ]
     },
     "execution_count": 13,
     "metadata": {
      "tags": []
     },
     "output_type": "execute_result"
    }
   ],
   "source": [
    "# estatística descritiva da coluna numero de quartos\n",
    "data.RM.describe()"
   ]
  },
  {
   "cell_type": "code",
   "execution_count": null,
   "metadata": {
    "id": "HIknobGdtUQR"
   },
   "outputs": [],
   "source": [
    "# definindo a regra para categorizar os dados\n",
    "categorias = []"
   ]
  },
  {
   "cell_type": "code",
   "execution_count": null,
   "metadata": {
    "id": "faL-8m1onPP2"
   },
   "outputs": [],
   "source": [
    "# alimenta a lista categorias\n",
    "for i in data.RM.iteritems():\n",
    "  valor = (i[1])\n",
    "  if valor <= 4:\n",
    "    categorias.append('Pequeno')\n",
    "  elif valor < 7:\n",
    "    categorias.append('Medio')\n",
    "  else:\n",
    "    categorias.append('Grande')"
   ]
  },
  {
   "cell_type": "code",
   "execution_count": null,
   "metadata": {
    "id": "-nEk0wXeNFWE"
   },
   "outputs": [],
   "source": [
    "# cria a coluna categorias\n",
    "data['categorias'] = categorias"
   ]
  },
  {
   "cell_type": "code",
   "execution_count": null,
   "metadata": {
    "colab": {
     "base_uri": "https://localhost:8080/",
     "height": 82
    },
    "executionInfo": {
     "elapsed": 540,
     "status": "ok",
     "timestamp": 1589759075678,
     "user": {
      "displayName": "Carlos Eduardo Ramos",
      "photoUrl": "https://lh3.googleusercontent.com/a-/AOh14Girfo8mrae_OWZZG95sEc5f3DNmMM0k7I9Qw1Za=s64",
      "userId": "01761804650114495504"
     },
     "user_tz": 180
    },
    "id": "i-iVO76sR-am",
    "outputId": "55f67d7c-6d1e-42ec-8270-7efacb79d4a1"
   },
   "outputs": [
    {
     "data": {
      "text/plain": [
       "Medio      424\n",
       "Grande      52\n",
       "Pequeno     14\n",
       "Name: categorias, dtype: int64"
      ]
     },
     "execution_count": 17,
     "metadata": {
      "tags": []
     },
     "output_type": "execute_result"
    }
   ],
   "source": [
    "# imprime a contagem de categorias\n",
    "data.categorias.value_counts()"
   ]
  },
  {
   "cell_type": "code",
   "execution_count": null,
   "metadata": {
    "id": "Gxa6OrD8Ht-0"
   },
   "outputs": [],
   "source": [
    "# agrupa as categorias e calcula as médias\n",
    "medias_categorias = data.groupby(by='categorias')['MEDV'].mean()"
   ]
  },
  {
   "cell_type": "code",
   "execution_count": null,
   "metadata": {
    "colab": {
     "base_uri": "https://localhost:8080/",
     "height": 98
    },
    "executionInfo": {
     "elapsed": 658,
     "status": "ok",
     "timestamp": 1589759079979,
     "user": {
      "displayName": "Carlos Eduardo Ramos",
      "photoUrl": "https://lh3.googleusercontent.com/a-/AOh14Girfo8mrae_OWZZG95sEc5f3DNmMM0k7I9Qw1Za=s64",
      "userId": "01761804650114495504"
     },
     "user_tz": 180
    },
    "id": "zYMhxnzDIM2X",
    "outputId": "eeecc33c-be95-4bb9-e2c1-6eebbec85bc2"
   },
   "outputs": [
    {
     "data": {
      "text/plain": [
       "categorias\n",
       "Grande     35.719231\n",
       "Medio      20.130425\n",
       "Pequeno    14.921429\n",
       "Name: MEDV, dtype: float64"
      ]
     },
     "execution_count": 19,
     "metadata": {
      "tags": []
     },
     "output_type": "execute_result"
    }
   ],
   "source": [
    "# visualizando a variável medias_categorias\n",
    "medias_categorias"
   ]
  },
  {
   "cell_type": "code",
   "execution_count": null,
   "metadata": {
    "id": "wJHkQXozHcYN"
   },
   "outputs": [],
   "source": [
    "# criando o dicionario com chaves medio, grande e pequeno e seus valores\n",
    "dic_baseline = {'Grande': medias_categorias[0], 'Medio': medias_categorias[1], 'Pequeno': medias_categorias[2]}"
   ]
  },
  {
   "cell_type": "code",
   "execution_count": null,
   "metadata": {
    "colab": {
     "base_uri": "https://localhost:8080/",
     "height": 66
    },
    "executionInfo": {
     "elapsed": 417,
     "status": "ok",
     "timestamp": 1589759081917,
     "user": {
      "displayName": "Carlos Eduardo Ramos",
      "photoUrl": "https://lh3.googleusercontent.com/a-/AOh14Girfo8mrae_OWZZG95sEc5f3DNmMM0k7I9Qw1Za=s64",
      "userId": "01761804650114495504"
     },
     "user_tz": 180
    },
    "id": "AMrYkM_T7eqS",
    "outputId": "8777cbc1-2dc5-4801-fd1f-fb372cf1f14c"
   },
   "outputs": [
    {
     "data": {
      "text/plain": [
       "{'Grande': 35.71923076923077,\n",
       " 'Medio': 20.1304245283019,\n",
       " 'Pequeno': 14.921428571428574}"
      ]
     },
     "execution_count": 21,
     "metadata": {
      "tags": []
     },
     "output_type": "execute_result"
    }
   ],
   "source": [
    "# imprime dicionario\n",
    "dic_baseline"
   ]
  },
  {
   "cell_type": "code",
   "execution_count": null,
   "metadata": {
    "id": "7lfDPAmL8kjX"
   },
   "outputs": [],
   "source": [
    "# cria a função retorna baseline\n",
    "def retorna_baseline(num_quartos):\n",
    "  if num_quartos <= 4:\n",
    "    return dic_baseline.get('Pequeno')\n",
    "  elif num_quartos < 7:\n",
    "    return dic_baseline.get('Medio')\n",
    "  else:\n",
    "    return dic_baseline.get('Grande')"
   ]
  },
  {
   "cell_type": "code",
   "execution_count": null,
   "metadata": {
    "colab": {
     "base_uri": "https://localhost:8080/",
     "height": 33
    },
    "executionInfo": {
     "elapsed": 628,
     "status": "ok",
     "timestamp": 1589759086423,
     "user": {
      "displayName": "Carlos Eduardo Ramos",
      "photoUrl": "https://lh3.googleusercontent.com/a-/AOh14Girfo8mrae_OWZZG95sEc5f3DNmMM0k7I9Qw1Za=s64",
      "userId": "01761804650114495504"
     },
     "user_tz": 180
    },
    "id": "um5I8oQ2Arhe",
    "outputId": "4d945c8b-a576-4632-eaeb-8692fc8da691"
   },
   "outputs": [
    {
     "data": {
      "text/plain": [
       "14.921428571428574"
      ]
     },
     "execution_count": 23,
     "metadata": {
      "tags": []
     },
     "output_type": "execute_result"
    }
   ],
   "source": [
    "# chama a função retorna baseline\n",
    "retorna_baseline(3)"
   ]
  },
  {
   "cell_type": "code",
   "execution_count": null,
   "metadata": {
    "id": "785EhcLuCoqw"
   },
   "outputs": [],
   "source": [
    "for i in data.RM.iteritems():\n",
    "  n_quartos = i[1]\n",
    "  print('Número de quartos é: {} , Valor médio: {}'.format(n_quartos,retorna_baseline(n_quartos)))"
   ]
  },
  {
   "cell_type": "code",
   "execution_count": null,
   "metadata": {
    "colab": {
     "base_uri": "https://localhost:8080/",
     "height": 211
    },
    "executionInfo": {
     "elapsed": 1026,
     "status": "ok",
     "timestamp": 1589759091174,
     "user": {
      "displayName": "Carlos Eduardo Ramos",
      "photoUrl": "https://lh3.googleusercontent.com/a-/AOh14Girfo8mrae_OWZZG95sEc5f3DNmMM0k7I9Qw1Za=s64",
      "userId": "01761804650114495504"
     },
     "user_tz": 180
    },
    "id": "7Is3KDjcXzBG",
    "outputId": "8c6faa91-afe0-4bc1-ee35-e6afc1b86534"
   },
   "outputs": [
    {
     "data": {
      "text/html": [
       "<div>\n",
       "<style scoped>\n",
       "    .dataframe tbody tr th:only-of-type {\n",
       "        vertical-align: middle;\n",
       "    }\n",
       "\n",
       "    .dataframe tbody tr th {\n",
       "        vertical-align: top;\n",
       "    }\n",
       "\n",
       "    .dataframe thead th {\n",
       "        text-align: right;\n",
       "    }\n",
       "</style>\n",
       "<table border=\"1\" class=\"dataframe\">\n",
       "  <thead>\n",
       "    <tr style=\"text-align: right;\">\n",
       "      <th></th>\n",
       "      <th>CRIM</th>\n",
       "      <th>ZN</th>\n",
       "      <th>INDUS</th>\n",
       "      <th>CHAS</th>\n",
       "      <th>NOX</th>\n",
       "      <th>RM</th>\n",
       "      <th>AGE</th>\n",
       "      <th>DIS</th>\n",
       "      <th>RAD</th>\n",
       "      <th>TAX</th>\n",
       "      <th>PTRATIO</th>\n",
       "      <th>B</th>\n",
       "      <th>LSTAT</th>\n",
       "      <th>MEDV</th>\n",
       "      <th>categorias</th>\n",
       "    </tr>\n",
       "  </thead>\n",
       "  <tbody>\n",
       "    <tr>\n",
       "      <th>0</th>\n",
       "      <td>0.00632</td>\n",
       "      <td>18.0</td>\n",
       "      <td>2.31</td>\n",
       "      <td>0.0</td>\n",
       "      <td>0.538</td>\n",
       "      <td>6</td>\n",
       "      <td>65.2</td>\n",
       "      <td>4.0900</td>\n",
       "      <td>1.0</td>\n",
       "      <td>296.0</td>\n",
       "      <td>15.3</td>\n",
       "      <td>396.90</td>\n",
       "      <td>4.98</td>\n",
       "      <td>24.0</td>\n",
       "      <td>Medio</td>\n",
       "    </tr>\n",
       "    <tr>\n",
       "      <th>1</th>\n",
       "      <td>0.02731</td>\n",
       "      <td>0.0</td>\n",
       "      <td>7.07</td>\n",
       "      <td>0.0</td>\n",
       "      <td>0.469</td>\n",
       "      <td>6</td>\n",
       "      <td>78.9</td>\n",
       "      <td>4.9671</td>\n",
       "      <td>2.0</td>\n",
       "      <td>242.0</td>\n",
       "      <td>17.8</td>\n",
       "      <td>396.90</td>\n",
       "      <td>9.14</td>\n",
       "      <td>21.6</td>\n",
       "      <td>Medio</td>\n",
       "    </tr>\n",
       "    <tr>\n",
       "      <th>2</th>\n",
       "      <td>0.02729</td>\n",
       "      <td>0.0</td>\n",
       "      <td>7.07</td>\n",
       "      <td>0.0</td>\n",
       "      <td>0.469</td>\n",
       "      <td>7</td>\n",
       "      <td>61.1</td>\n",
       "      <td>4.9671</td>\n",
       "      <td>2.0</td>\n",
       "      <td>242.0</td>\n",
       "      <td>17.8</td>\n",
       "      <td>392.83</td>\n",
       "      <td>4.03</td>\n",
       "      <td>34.7</td>\n",
       "      <td>Grande</td>\n",
       "    </tr>\n",
       "    <tr>\n",
       "      <th>3</th>\n",
       "      <td>0.03237</td>\n",
       "      <td>0.0</td>\n",
       "      <td>2.18</td>\n",
       "      <td>0.0</td>\n",
       "      <td>0.458</td>\n",
       "      <td>6</td>\n",
       "      <td>45.8</td>\n",
       "      <td>6.0622</td>\n",
       "      <td>3.0</td>\n",
       "      <td>222.0</td>\n",
       "      <td>18.7</td>\n",
       "      <td>394.63</td>\n",
       "      <td>2.94</td>\n",
       "      <td>33.4</td>\n",
       "      <td>Medio</td>\n",
       "    </tr>\n",
       "    <tr>\n",
       "      <th>4</th>\n",
       "      <td>0.06905</td>\n",
       "      <td>0.0</td>\n",
       "      <td>2.18</td>\n",
       "      <td>0.0</td>\n",
       "      <td>0.458</td>\n",
       "      <td>7</td>\n",
       "      <td>54.2</td>\n",
       "      <td>6.0622</td>\n",
       "      <td>3.0</td>\n",
       "      <td>222.0</td>\n",
       "      <td>18.7</td>\n",
       "      <td>396.90</td>\n",
       "      <td>5.33</td>\n",
       "      <td>36.2</td>\n",
       "      <td>Grande</td>\n",
       "    </tr>\n",
       "  </tbody>\n",
       "</table>\n",
       "</div>"
      ],
      "text/plain": [
       "      CRIM    ZN  INDUS  CHAS    NOX  ...  PTRATIO       B  LSTAT  MEDV  categorias\n",
       "0  0.00632  18.0   2.31   0.0  0.538  ...     15.3  396.90   4.98  24.0       Medio\n",
       "1  0.02731   0.0   7.07   0.0  0.469  ...     17.8  396.90   9.14  21.6       Medio\n",
       "2  0.02729   0.0   7.07   0.0  0.469  ...     17.8  392.83   4.03  34.7      Grande\n",
       "3  0.03237   0.0   2.18   0.0  0.458  ...     18.7  394.63   2.94  33.4       Medio\n",
       "4  0.06905   0.0   2.18   0.0  0.458  ...     18.7  396.90   5.33  36.2      Grande\n",
       "\n",
       "[5 rows x 15 columns]"
      ]
     },
     "execution_count": 25,
     "metadata": {
      "tags": []
     },
     "output_type": "execute_result"
    }
   ],
   "source": [
    "# imprime as 5 primeiras linhas do dataframe\n",
    "data.head()"
   ]
  },
  {
   "cell_type": "markdown",
   "metadata": {
    "id": "SaYmsVtotcF_"
   },
   "source": [
    "### Trabalhando com a baseline"
   ]
  },
  {
   "cell_type": "markdown",
   "metadata": {
    "id": "SXXetS7AHiXz"
   },
   "source": [
    "Preparando os dados"
   ]
  },
  {
   "cell_type": "code",
   "execution_count": null,
   "metadata": {
    "id": "Ai2si0SMFKVX"
   },
   "outputs": [],
   "source": [
    "# remove as colunas colineares, variavel alvo e a coluna categorias\n",
    "\n",
    "X = data.drop(['RAD','TAX','MEDV','DIS','AGE','ZN','categorias'], axis=1)"
   ]
  },
  {
   "cell_type": "code",
   "execution_count": null,
   "metadata": {
    "colab": {
     "base_uri": "https://localhost:8080/",
     "height": 191
    },
    "executionInfo": {
     "elapsed": 672,
     "status": "ok",
     "timestamp": 1589759095395,
     "user": {
      "displayName": "Carlos Eduardo Ramos",
      "photoUrl": "https://lh3.googleusercontent.com/a-/AOh14Girfo8mrae_OWZZG95sEc5f3DNmMM0k7I9Qw1Za=s64",
      "userId": "01761804650114495504"
     },
     "user_tz": 180
    },
    "id": "6sn_nTxw4ux_",
    "outputId": "49f6829c-d721-46f7-e042-da2c0ee7c1ac"
   },
   "outputs": [
    {
     "data": {
      "text/html": [
       "<div>\n",
       "<style scoped>\n",
       "    .dataframe tbody tr th:only-of-type {\n",
       "        vertical-align: middle;\n",
       "    }\n",
       "\n",
       "    .dataframe tbody tr th {\n",
       "        vertical-align: top;\n",
       "    }\n",
       "\n",
       "    .dataframe thead th {\n",
       "        text-align: right;\n",
       "    }\n",
       "</style>\n",
       "<table border=\"1\" class=\"dataframe\">\n",
       "  <thead>\n",
       "    <tr style=\"text-align: right;\">\n",
       "      <th></th>\n",
       "      <th>CRIM</th>\n",
       "      <th>INDUS</th>\n",
       "      <th>CHAS</th>\n",
       "      <th>NOX</th>\n",
       "      <th>RM</th>\n",
       "      <th>PTRATIO</th>\n",
       "      <th>B</th>\n",
       "      <th>LSTAT</th>\n",
       "    </tr>\n",
       "  </thead>\n",
       "  <tbody>\n",
       "    <tr>\n",
       "      <th>0</th>\n",
       "      <td>0.00632</td>\n",
       "      <td>2.31</td>\n",
       "      <td>0.0</td>\n",
       "      <td>0.538</td>\n",
       "      <td>6</td>\n",
       "      <td>15.3</td>\n",
       "      <td>396.90</td>\n",
       "      <td>4.98</td>\n",
       "    </tr>\n",
       "    <tr>\n",
       "      <th>1</th>\n",
       "      <td>0.02731</td>\n",
       "      <td>7.07</td>\n",
       "      <td>0.0</td>\n",
       "      <td>0.469</td>\n",
       "      <td>6</td>\n",
       "      <td>17.8</td>\n",
       "      <td>396.90</td>\n",
       "      <td>9.14</td>\n",
       "    </tr>\n",
       "    <tr>\n",
       "      <th>2</th>\n",
       "      <td>0.02729</td>\n",
       "      <td>7.07</td>\n",
       "      <td>0.0</td>\n",
       "      <td>0.469</td>\n",
       "      <td>7</td>\n",
       "      <td>17.8</td>\n",
       "      <td>392.83</td>\n",
       "      <td>4.03</td>\n",
       "    </tr>\n",
       "    <tr>\n",
       "      <th>3</th>\n",
       "      <td>0.03237</td>\n",
       "      <td>2.18</td>\n",
       "      <td>0.0</td>\n",
       "      <td>0.458</td>\n",
       "      <td>6</td>\n",
       "      <td>18.7</td>\n",
       "      <td>394.63</td>\n",
       "      <td>2.94</td>\n",
       "    </tr>\n",
       "    <tr>\n",
       "      <th>4</th>\n",
       "      <td>0.06905</td>\n",
       "      <td>2.18</td>\n",
       "      <td>0.0</td>\n",
       "      <td>0.458</td>\n",
       "      <td>7</td>\n",
       "      <td>18.7</td>\n",
       "      <td>396.90</td>\n",
       "      <td>5.33</td>\n",
       "    </tr>\n",
       "  </tbody>\n",
       "</table>\n",
       "</div>"
      ],
      "text/plain": [
       "      CRIM  INDUS  CHAS    NOX  RM  PTRATIO       B  LSTAT\n",
       "0  0.00632   2.31   0.0  0.538   6     15.3  396.90   4.98\n",
       "1  0.02731   7.07   0.0  0.469   6     17.8  396.90   9.14\n",
       "2  0.02729   7.07   0.0  0.469   7     17.8  392.83   4.03\n",
       "3  0.03237   2.18   0.0  0.458   6     18.7  394.63   2.94\n",
       "4  0.06905   2.18   0.0  0.458   7     18.7  396.90   5.33"
      ]
     },
     "execution_count": 27,
     "metadata": {
      "tags": []
     },
     "output_type": "execute_result"
    }
   ],
   "source": [
    "X.head()"
   ]
  },
  {
   "cell_type": "markdown",
   "metadata": {
    "id": "cCFKNIJk3Zls"
   },
   "source": [
    "## Verificamos estas com colinearidade atraves da analise de alta correlação entre elas ( ['RAD', 'TAX', 'MEDV', 'DIS', 'AGE'])\n",
    "\n",
    "## PARA AS VARAIVEIS COM MUITOS VALORES NULOS TAMBEM ('zn')"
   ]
  },
  {
   "cell_type": "markdown",
   "metadata": {
    "id": "0GakiJfp30Mx"
   },
   "source": [
    "Removeremos a variavel MEDV para separarmos os dados de treino e dados para os testes do modelo de ML\n",
    "\n",
    "Vamos inferir o MEDV a partir do modelo de aprendizagem supervisionada"
   ]
  },
  {
   "cell_type": "code",
   "execution_count": null,
   "metadata": {
    "id": "vxOb-hwYFFJx"
   },
   "outputs": [],
   "source": [
    "# variável 'y' é nossa variável alvo\n",
    "y = data['MEDV']"
   ]
  },
  {
   "cell_type": "markdown",
   "metadata": {
    "id": "R9qA7v2K4Vdn"
   },
   "source": [
    "Usar a variavel y como variavel que será predita a partir de valores da variavel x\n",
    "\n",
    "Modelo de uma função y = f(x)"
   ]
  },
  {
   "cell_type": "code",
   "execution_count": null,
   "metadata": {
    "colab": {
     "base_uri": "https://localhost:8080/",
     "height": 191
    },
    "executionInfo": {
     "elapsed": 602,
     "status": "ok",
     "timestamp": 1589759100550,
     "user": {
      "displayName": "Carlos Eduardo Ramos",
      "photoUrl": "https://lh3.googleusercontent.com/a-/AOh14Girfo8mrae_OWZZG95sEc5f3DNmMM0k7I9Qw1Za=s64",
      "userId": "01761804650114495504"
     },
     "user_tz": 180
    },
    "id": "EhagncsDLyk-",
    "outputId": "015e5e4d-be82-4e65-f384-74cc44ccde3a"
   },
   "outputs": [
    {
     "data": {
      "text/html": [
       "<div>\n",
       "<style scoped>\n",
       "    .dataframe tbody tr th:only-of-type {\n",
       "        vertical-align: middle;\n",
       "    }\n",
       "\n",
       "    .dataframe tbody tr th {\n",
       "        vertical-align: top;\n",
       "    }\n",
       "\n",
       "    .dataframe thead th {\n",
       "        text-align: right;\n",
       "    }\n",
       "</style>\n",
       "<table border=\"1\" class=\"dataframe\">\n",
       "  <thead>\n",
       "    <tr style=\"text-align: right;\">\n",
       "      <th></th>\n",
       "      <th>CRIM</th>\n",
       "      <th>INDUS</th>\n",
       "      <th>CHAS</th>\n",
       "      <th>NOX</th>\n",
       "      <th>RM</th>\n",
       "      <th>PTRATIO</th>\n",
       "      <th>B</th>\n",
       "      <th>LSTAT</th>\n",
       "    </tr>\n",
       "  </thead>\n",
       "  <tbody>\n",
       "    <tr>\n",
       "      <th>0</th>\n",
       "      <td>0.00632</td>\n",
       "      <td>2.31</td>\n",
       "      <td>0.0</td>\n",
       "      <td>0.538</td>\n",
       "      <td>6</td>\n",
       "      <td>15.3</td>\n",
       "      <td>396.90</td>\n",
       "      <td>4.98</td>\n",
       "    </tr>\n",
       "    <tr>\n",
       "      <th>1</th>\n",
       "      <td>0.02731</td>\n",
       "      <td>7.07</td>\n",
       "      <td>0.0</td>\n",
       "      <td>0.469</td>\n",
       "      <td>6</td>\n",
       "      <td>17.8</td>\n",
       "      <td>396.90</td>\n",
       "      <td>9.14</td>\n",
       "    </tr>\n",
       "    <tr>\n",
       "      <th>2</th>\n",
       "      <td>0.02729</td>\n",
       "      <td>7.07</td>\n",
       "      <td>0.0</td>\n",
       "      <td>0.469</td>\n",
       "      <td>7</td>\n",
       "      <td>17.8</td>\n",
       "      <td>392.83</td>\n",
       "      <td>4.03</td>\n",
       "    </tr>\n",
       "    <tr>\n",
       "      <th>3</th>\n",
       "      <td>0.03237</td>\n",
       "      <td>2.18</td>\n",
       "      <td>0.0</td>\n",
       "      <td>0.458</td>\n",
       "      <td>6</td>\n",
       "      <td>18.7</td>\n",
       "      <td>394.63</td>\n",
       "      <td>2.94</td>\n",
       "    </tr>\n",
       "    <tr>\n",
       "      <th>4</th>\n",
       "      <td>0.06905</td>\n",
       "      <td>2.18</td>\n",
       "      <td>0.0</td>\n",
       "      <td>0.458</td>\n",
       "      <td>7</td>\n",
       "      <td>18.7</td>\n",
       "      <td>396.90</td>\n",
       "      <td>5.33</td>\n",
       "    </tr>\n",
       "  </tbody>\n",
       "</table>\n",
       "</div>"
      ],
      "text/plain": [
       "      CRIM  INDUS  CHAS    NOX  RM  PTRATIO       B  LSTAT\n",
       "0  0.00632   2.31   0.0  0.538   6     15.3  396.90   4.98\n",
       "1  0.02731   7.07   0.0  0.469   6     17.8  396.90   9.14\n",
       "2  0.02729   7.07   0.0  0.469   7     17.8  392.83   4.03\n",
       "3  0.03237   2.18   0.0  0.458   6     18.7  394.63   2.94\n",
       "4  0.06905   2.18   0.0  0.458   7     18.7  396.90   5.33"
      ]
     },
     "execution_count": 29,
     "metadata": {
      "tags": []
     },
     "output_type": "execute_result"
    }
   ],
   "source": [
    "# Dados na variável X\n",
    "X.head()"
   ]
  },
  {
   "cell_type": "code",
   "execution_count": null,
   "metadata": {
    "colab": {
     "base_uri": "https://localhost:8080/",
     "height": 115
    },
    "executionInfo": {
     "elapsed": 602,
     "status": "ok",
     "timestamp": 1589759101872,
     "user": {
      "displayName": "Carlos Eduardo Ramos",
      "photoUrl": "https://lh3.googleusercontent.com/a-/AOh14Girfo8mrae_OWZZG95sEc5f3DNmMM0k7I9Qw1Za=s64",
      "userId": "01761804650114495504"
     },
     "user_tz": 180
    },
    "id": "W3He9wgaL5W7",
    "outputId": "252fe5ba-b43c-4763-83f4-0a79ba2ed465"
   },
   "outputs": [
    {
     "data": {
      "text/plain": [
       "0    24.0\n",
       "1    21.6\n",
       "2    34.7\n",
       "3    33.4\n",
       "4    36.2\n",
       "Name: MEDV, dtype: float64"
      ]
     },
     "execution_count": 30,
     "metadata": {
      "tags": []
     },
     "output_type": "execute_result"
    }
   ],
   "source": [
    "# Variável alvo\n",
    "y.head()"
   ]
  },
  {
   "cell_type": "markdown",
   "metadata": {
    "id": "B0I1geDbH2cV"
   },
   "source": [
    "Separando os conjuntos de treino e teste\n",
    "\n",
    "Idéia é separar os dados para treino e teste, mas depois recupe-los para avaliar o modelo\n",
    "\n",
    "\n",
    "Ocultamos os valores de y, mas testamos com os 20% e avaliamos com o que era conhecido antes... só depois que aplica o \"deploy\" em produção\n",
    "\n",
    "\n",
    "Fazemos o treino e teste com a mesma amostra dos dados e aplicamos 80/20 nela.. nao na base como um todo"
   ]
  },
  {
   "cell_type": "code",
   "execution_count": null,
   "metadata": {
    "id": "13W2Fe2PfoK2"
   },
   "outputs": [],
   "source": [
    "# carrega o método train_test_split\n",
    "from sklearn.model_selection import train_test_split"
   ]
  },
  {
   "cell_type": "code",
   "execution_count": null,
   "metadata": {
    "id": "FaFtnr62AJ74"
   },
   "outputs": [],
   "source": [
    "# divide os dados entre o conjunto de treino e teste, 80% e 20% respectivamente.\n",
    "# define qualquer valor para o parâmetro random_state.\n",
    "X_train, X_test, y_train, y_test = train_test_split(X, y, test_size = 0.2, random_state=5)"
   ]
  },
  {
   "cell_type": "code",
   "execution_count": null,
   "metadata": {
    "colab": {
     "base_uri": "https://localhost:8080/",
     "height": 82
    },
    "executionInfo": {
     "elapsed": 591,
     "status": "ok",
     "timestamp": 1589759106722,
     "user": {
      "displayName": "Carlos Eduardo Ramos",
      "photoUrl": "https://lh3.googleusercontent.com/a-/AOh14Girfo8mrae_OWZZG95sEc5f3DNmMM0k7I9Qw1Za=s64",
      "userId": "01761804650114495504"
     },
     "user_tz": 180
    },
    "id": "BiUsFzXQAJ38",
    "outputId": "7fbc3cb5-f514-466f-abb3-2fc31f7dcb06"
   },
   "outputs": [
    {
     "name": "stdout",
     "output_type": "stream",
     "text": [
      "X_train: numero de linhas e colunas: (392, 8)\n",
      "X_test: numero de linhas e colunas: (98, 8)\n",
      "y_train: numero de linhas e colunas: (392,)\n",
      "y_test: numero de linhas e colunas: (98,)\n"
     ]
    }
   ],
   "source": [
    "# imprime a quantidade de linhas dos conjuntos\n",
    "print ('X_train: numero de linhas e colunas: {}'.format(X_train.shape))\n",
    "print ('X_test: numero de linhas e colunas: {}'.format(X_test.shape))\n",
    "print ('y_train: numero de linhas e colunas: {}'.format(y_train.shape))\n",
    "print ('y_test: numero de linhas e colunas: {}'.format(y_test.shape))"
   ]
  },
  {
   "cell_type": "markdown",
   "metadata": {
    "id": "Wu94wESmFQqy"
   },
   "source": [
    "Modelo de baseline"
   ]
  },
  {
   "cell_type": "code",
   "execution_count": null,
   "metadata": {
    "colab": {
     "base_uri": "https://localhost:8080/",
     "height": 191
    },
    "executionInfo": {
     "elapsed": 602,
     "status": "ok",
     "timestamp": 1589759110433,
     "user": {
      "displayName": "Carlos Eduardo Ramos",
      "photoUrl": "https://lh3.googleusercontent.com/a-/AOh14Girfo8mrae_OWZZG95sEc5f3DNmMM0k7I9Qw1Za=s64",
      "userId": "01761804650114495504"
     },
     "user_tz": 180
    },
    "id": "FI97hd4HFPtR",
    "outputId": "173d1e81-72c2-47bb-f657-a6ed20c2a998"
   },
   "outputs": [
    {
     "data": {
      "text/html": [
       "<div>\n",
       "<style scoped>\n",
       "    .dataframe tbody tr th:only-of-type {\n",
       "        vertical-align: middle;\n",
       "    }\n",
       "\n",
       "    .dataframe tbody tr th {\n",
       "        vertical-align: top;\n",
       "    }\n",
       "\n",
       "    .dataframe thead th {\n",
       "        text-align: right;\n",
       "    }\n",
       "</style>\n",
       "<table border=\"1\" class=\"dataframe\">\n",
       "  <thead>\n",
       "    <tr style=\"text-align: right;\">\n",
       "      <th></th>\n",
       "      <th>CRIM</th>\n",
       "      <th>INDUS</th>\n",
       "      <th>CHAS</th>\n",
       "      <th>NOX</th>\n",
       "      <th>RM</th>\n",
       "      <th>PTRATIO</th>\n",
       "      <th>B</th>\n",
       "      <th>LSTAT</th>\n",
       "    </tr>\n",
       "  </thead>\n",
       "  <tbody>\n",
       "    <tr>\n",
       "      <th>245</th>\n",
       "      <td>0.19133</td>\n",
       "      <td>5.86</td>\n",
       "      <td>0.0</td>\n",
       "      <td>0.431</td>\n",
       "      <td>5</td>\n",
       "      <td>19.1</td>\n",
       "      <td>389.13</td>\n",
       "      <td>18.46</td>\n",
       "    </tr>\n",
       "    <tr>\n",
       "      <th>456</th>\n",
       "      <td>4.66883</td>\n",
       "      <td>18.10</td>\n",
       "      <td>0.0</td>\n",
       "      <td>0.713</td>\n",
       "      <td>5</td>\n",
       "      <td>20.2</td>\n",
       "      <td>10.48</td>\n",
       "      <td>19.01</td>\n",
       "    </tr>\n",
       "    <tr>\n",
       "      <th>75</th>\n",
       "      <td>0.09512</td>\n",
       "      <td>12.83</td>\n",
       "      <td>0.0</td>\n",
       "      <td>0.437</td>\n",
       "      <td>6</td>\n",
       "      <td>18.7</td>\n",
       "      <td>383.23</td>\n",
       "      <td>8.94</td>\n",
       "    </tr>\n",
       "    <tr>\n",
       "      <th>238</th>\n",
       "      <td>0.08244</td>\n",
       "      <td>4.93</td>\n",
       "      <td>0.0</td>\n",
       "      <td>0.428</td>\n",
       "      <td>6</td>\n",
       "      <td>16.6</td>\n",
       "      <td>379.41</td>\n",
       "      <td>6.36</td>\n",
       "    </tr>\n",
       "    <tr>\n",
       "      <th>362</th>\n",
       "      <td>3.67822</td>\n",
       "      <td>18.10</td>\n",
       "      <td>0.0</td>\n",
       "      <td>0.770</td>\n",
       "      <td>5</td>\n",
       "      <td>20.2</td>\n",
       "      <td>380.79</td>\n",
       "      <td>10.19</td>\n",
       "    </tr>\n",
       "  </tbody>\n",
       "</table>\n",
       "</div>"
      ],
      "text/plain": [
       "        CRIM  INDUS  CHAS    NOX  RM  PTRATIO       B  LSTAT\n",
       "245  0.19133   5.86   0.0  0.431   5     19.1  389.13  18.46\n",
       "456  4.66883  18.10   0.0  0.713   5     20.2   10.48  19.01\n",
       "75   0.09512  12.83   0.0  0.437   6     18.7  383.23   8.94\n",
       "238  0.08244   4.93   0.0  0.428   6     16.6  379.41   6.36\n",
       "362  3.67822  18.10   0.0  0.770   5     20.2  380.79  10.19"
      ]
     },
     "execution_count": 34,
     "metadata": {
      "tags": []
     },
     "output_type": "execute_result"
    }
   ],
   "source": [
    "# imprimindo as 5 primeiras linhas dos dados de teste\n",
    "X_test.head()"
   ]
  },
  {
   "cell_type": "code",
   "execution_count": null,
   "metadata": {
    "id": "vRGvzY2jFbvD"
   },
   "outputs": [],
   "source": [
    "# definindo uma lista de predicoes\n",
    "predicoes = []"
   ]
  },
  {
   "cell_type": "code",
   "execution_count": null,
   "metadata": {
    "id": "xZ09WeQcGdL0"
   },
   "outputs": [],
   "source": [
    "# para cada elemento do teste alimenta a lista predicoes\n",
    "for i in X_test.RM.iteritems():\n",
    "  n_quartos = i[1]\n",
    "  predicoes.append(retorna_baseline(n_quartos))"
   ]
  },
  {
   "cell_type": "code",
   "execution_count": null,
   "metadata": {
    "colab": {
     "base_uri": "https://localhost:8080/",
     "height": 180
    },
    "executionInfo": {
     "elapsed": 611,
     "status": "ok",
     "timestamp": 1589759114368,
     "user": {
      "displayName": "Carlos Eduardo Ramos",
      "photoUrl": "https://lh3.googleusercontent.com/a-/AOh14Girfo8mrae_OWZZG95sEc5f3DNmMM0k7I9Qw1Za=s64",
      "userId": "01761804650114495504"
     },
     "user_tz": 180
    },
    "id": "Zn-1qKZYF16H",
    "outputId": "4fb6a096-9af1-4d44-d6c1-f07c458e3b53"
   },
   "outputs": [
    {
     "data": {
      "text/plain": [
       "[20.1304245283019,\n",
       " 20.1304245283019,\n",
       " 20.1304245283019,\n",
       " 20.1304245283019,\n",
       " 20.1304245283019,\n",
       " 20.1304245283019,\n",
       " 20.1304245283019,\n",
       " 20.1304245283019,\n",
       " 35.71923076923077,\n",
       " 35.71923076923077]"
      ]
     },
     "execution_count": 37,
     "metadata": {
      "tags": []
     },
     "output_type": "execute_result"
    }
   ],
   "source": [
    "# imprime as 10 primeiras linhas da lista de predicoes\n",
    "predicoes[:10]"
   ]
  },
  {
   "cell_type": "markdown",
   "metadata": {
    "id": "CM3QVVQ-Ug5L"
   },
   "source": [
    "Atribuindo resultados a um dataframe\n",
    "\n",
    "-   `Manteremos um log ao longo do projeto`\n",
    "-   `Permite a evolução dado o baseline`\n",
    "\n"
   ]
  },
  {
   "cell_type": "markdown",
   "metadata": {
    "id": "h7e0WWA3-IIs"
   },
   "source": [
    "Log para comparar os resultados obtidos pelo baseline\n",
    "e pelo algoritmo de ML que usaremos"
   ]
  },
  {
   "cell_type": "code",
   "execution_count": null,
   "metadata": {
    "id": "dMr0oUucnuy-"
   },
   "outputs": [],
   "source": [
    "# cria um dataframe vazio\n",
    "df_results = pd.DataFrame()"
   ]
  },
  {
   "cell_type": "code",
   "execution_count": null,
   "metadata": {
    "id": "9T5FnjHnUDTA"
   },
   "outputs": [],
   "source": [
    "# adiciona a coluna valor_real\n",
    "df_results['valor_real'] = y_test.values"
   ]
  },
  {
   "cell_type": "code",
   "execution_count": null,
   "metadata": {
    "colab": {
     "base_uri": "https://localhost:8080/",
     "height": 50
    },
    "executionInfo": {
     "elapsed": 752,
     "status": "ok",
     "timestamp": 1589759121365,
     "user": {
      "displayName": "Carlos Eduardo Ramos",
      "photoUrl": "https://lh3.googleusercontent.com/a-/AOh14Girfo8mrae_OWZZG95sEc5f3DNmMM0k7I9Qw1Za=s64",
      "userId": "01761804650114495504"
     },
     "user_tz": 180
    },
    "id": "OaZPbllE-sNg",
    "outputId": "ff7361a8-e9d9-4f92-b7bc-8ee037a15386"
   },
   "outputs": [
    {
     "name": "stdout",
     "output_type": "stream",
     "text": [
      "98\n",
      "98\n"
     ]
    }
   ],
   "source": [
    "print(len(df_results))\n",
    "print(len(predicoes))"
   ]
  },
  {
   "cell_type": "code",
   "execution_count": null,
   "metadata": {
    "id": "seteWjL0UDL3"
   },
   "outputs": [],
   "source": [
    "# cria a coluna valor_predito_baseline com as predicoes\n",
    "df_results['valor_predito_baseline'] = predicoes"
   ]
  },
  {
   "cell_type": "code",
   "execution_count": null,
   "metadata": {
    "colab": {
     "base_uri": "https://localhost:8080/",
     "height": 335
    },
    "executionInfo": {
     "elapsed": 660,
     "status": "ok",
     "timestamp": 1589759131825,
     "user": {
      "displayName": "Carlos Eduardo Ramos",
      "photoUrl": "https://lh3.googleusercontent.com/a-/AOh14Girfo8mrae_OWZZG95sEc5f3DNmMM0k7I9Qw1Za=s64",
      "userId": "01761804650114495504"
     },
     "user_tz": 180
    },
    "id": "6e34IoHyUC77",
    "outputId": "9d513585-865f-4375-b90c-6433b434c2c5"
   },
   "outputs": [
    {
     "data": {
      "text/html": [
       "<div>\n",
       "<style scoped>\n",
       "    .dataframe tbody tr th:only-of-type {\n",
       "        vertical-align: middle;\n",
       "    }\n",
       "\n",
       "    .dataframe tbody tr th {\n",
       "        vertical-align: top;\n",
       "    }\n",
       "\n",
       "    .dataframe thead th {\n",
       "        text-align: right;\n",
       "    }\n",
       "</style>\n",
       "<table border=\"1\" class=\"dataframe\">\n",
       "  <thead>\n",
       "    <tr style=\"text-align: right;\">\n",
       "      <th></th>\n",
       "      <th>valor_real</th>\n",
       "      <th>valor_predito_baseline</th>\n",
       "    </tr>\n",
       "  </thead>\n",
       "  <tbody>\n",
       "    <tr>\n",
       "      <th>0</th>\n",
       "      <td>18.5</td>\n",
       "      <td>20.130425</td>\n",
       "    </tr>\n",
       "    <tr>\n",
       "      <th>1</th>\n",
       "      <td>12.7</td>\n",
       "      <td>20.130425</td>\n",
       "    </tr>\n",
       "    <tr>\n",
       "      <th>2</th>\n",
       "      <td>21.4</td>\n",
       "      <td>20.130425</td>\n",
       "    </tr>\n",
       "    <tr>\n",
       "      <th>3</th>\n",
       "      <td>23.7</td>\n",
       "      <td>20.130425</td>\n",
       "    </tr>\n",
       "    <tr>\n",
       "      <th>4</th>\n",
       "      <td>20.8</td>\n",
       "      <td>20.130425</td>\n",
       "    </tr>\n",
       "    <tr>\n",
       "      <th>5</th>\n",
       "      <td>25.0</td>\n",
       "      <td>20.130425</td>\n",
       "    </tr>\n",
       "    <tr>\n",
       "      <th>6</th>\n",
       "      <td>9.7</td>\n",
       "      <td>20.130425</td>\n",
       "    </tr>\n",
       "    <tr>\n",
       "      <th>7</th>\n",
       "      <td>14.9</td>\n",
       "      <td>20.130425</td>\n",
       "    </tr>\n",
       "    <tr>\n",
       "      <th>8</th>\n",
       "      <td>34.9</td>\n",
       "      <td>35.719231</td>\n",
       "    </tr>\n",
       "    <tr>\n",
       "      <th>9</th>\n",
       "      <td>31.6</td>\n",
       "      <td>35.719231</td>\n",
       "    </tr>\n",
       "  </tbody>\n",
       "</table>\n",
       "</div>"
      ],
      "text/plain": [
       "   valor_real  valor_predito_baseline\n",
       "0        18.5               20.130425\n",
       "1        12.7               20.130425\n",
       "2        21.4               20.130425\n",
       "3        23.7               20.130425\n",
       "4        20.8               20.130425\n",
       "5        25.0               20.130425\n",
       "6         9.7               20.130425\n",
       "7        14.9               20.130425\n",
       "8        34.9               35.719231\n",
       "9        31.6               35.719231"
      ]
     },
     "execution_count": 42,
     "metadata": {
      "tags": []
     },
     "output_type": "execute_result"
    }
   ],
   "source": [
    "# imprimindo as 10 primeiras linhas do df_results\n",
    "df_results.head(10)"
   ]
  },
  {
   "cell_type": "markdown",
   "metadata": {
    "id": "HNRa3fuzVX_6"
   },
   "source": [
    "Plota o valor real e o baseline"
   ]
  },
  {
   "cell_type": "code",
   "execution_count": null,
   "metadata": {
    "colab": {
     "base_uri": "https://localhost:8080/",
     "height": 542
    },
    "executionInfo": {
     "elapsed": 1428,
     "status": "ok",
     "timestamp": 1589759139111,
     "user": {
      "displayName": "Carlos Eduardo Ramos",
      "photoUrl": "https://lh3.googleusercontent.com/a-/AOh14Girfo8mrae_OWZZG95sEc5f3DNmMM0k7I9Qw1Za=s64",
      "userId": "01761804650114495504"
     },
     "user_tz": 180
    },
    "id": "wcrc2krAVJCN",
    "outputId": "e73f2ccd-0bc6-438f-ee93-638319f35754"
   },
   "outputs": [
    {
     "data": {
      "text/html": [
       "<html>\n",
       "<head><meta charset=\"utf-8\" /></head>\n",
       "<body>\n",
       "    <div>\n",
       "            <script src=\"https://cdnjs.cloudflare.com/ajax/libs/mathjax/2.7.5/MathJax.js?config=TeX-AMS-MML_SVG\"></script><script type=\"text/javascript\">if (window.MathJax) {MathJax.Hub.Config({SVG: {font: \"STIX-Web\"}});}</script>\n",
       "                <script type=\"text/javascript\">window.PlotlyConfig = {MathJaxConfig: 'local'};</script>\n",
       "        <script src=\"https://cdn.plot.ly/plotly-latest.min.js\"></script>    \n",
       "            <div id=\"92f45db7-ec76-47b9-87d5-41cc539bba03\" class=\"plotly-graph-div\" style=\"height:525px; width:100%;\"></div>\n",
       "            <script type=\"text/javascript\">\n",
       "                \n",
       "                    window.PLOTLYENV=window.PLOTLYENV || {};\n",
       "                    \n",
       "                if (document.getElementById(\"92f45db7-ec76-47b9-87d5-41cc539bba03\")) {\n",
       "                    Plotly.newPlot(\n",
       "                        '92f45db7-ec76-47b9-87d5-41cc539bba03',\n",
       "                        [{\"mode\": \"lines+markers\", \"name\": \"Valor Real\", \"type\": \"scatter\", \"x\": [0, 1, 2, 3, 4, 5, 6, 7, 8, 9, 10, 11, 12, 13, 14, 15, 16, 17, 18, 19, 20, 21, 22, 23, 24, 25, 26, 27, 28, 29, 30, 31, 32, 33, 34, 35, 36, 37, 38, 39, 40, 41, 42, 43, 44, 45, 46, 47, 48, 49, 50, 51, 52, 53, 54, 55, 56, 57, 58, 59, 60, 61, 62, 63, 64, 65, 66, 67, 68, 69, 70, 71, 72, 73, 74, 75, 76, 77, 78, 79, 80, 81, 82, 83, 84, 85, 86, 87, 88, 89, 90, 91, 92, 93, 94, 95, 96, 97], \"y\": [18.5, 12.7, 21.4, 23.7, 20.8, 25.0, 9.7, 14.9, 34.9, 31.6, 24.7, 22.9, 33.2, 9.6, 30.5, 19.2, 30.3, 15.4, 24.3, 24.4, 21.5, 27.9, 17.3, 21.4, 21.7, 24.4, 8.5, 15.0, 11.5, 13.6, 24.4, 7.4, 44.0, 21.7, 19.3, 16.1, 29.0, 26.4, 20.3, 10.8, 5.0, 19.6, 23.1, 23.9, 17.5, 13.5, 48.8, 26.2, 19.7, 14.2, 11.0, 19.0, 21.7, 18.4, 33.4, 14.0, 24.7, 43.8, 48.5, 25.0, 22.6, 21.2, 22.4, 23.8, 19.9, 16.5, 16.7, 17.2, 13.1, 19.1, 18.5, 22.2, 22.6, 19.4, 15.2, 19.8, 19.4, 21.6, 18.2, 19.6, 19.6, 23.0, 7.0, 17.6, 25.0, 41.3, 24.1, 22.6, 18.7, 22.6, 13.1, 22.2, 16.1, 39.8, 25.0, 20.5, 10.4, 20.4]}, {\"mode\": \"lines+markers\", \"name\": \"Valor Predito Baseline\", \"type\": \"scatter\", \"x\": [0, 1, 2, 3, 4, 5, 6, 7, 8, 9, 10, 11, 12, 13, 14, 15, 16, 17, 18, 19, 20, 21, 22, 23, 24, 25, 26, 27, 28, 29, 30, 31, 32, 33, 34, 35, 36, 37, 38, 39, 40, 41, 42, 43, 44, 45, 46, 47, 48, 49, 50, 51, 52, 53, 54, 55, 56, 57, 58, 59, 60, 61, 62, 63, 64, 65, 66, 67, 68, 69, 70, 71, 72, 73, 74, 75, 76, 77, 78, 79, 80, 81, 82, 83, 84, 85, 86, 87, 88, 89, 90, 91, 92, 93, 94, 95, 96, 97], \"y\": [20.1304245283019, 20.1304245283019, 20.1304245283019, 20.1304245283019, 20.1304245283019, 20.1304245283019, 20.1304245283019, 20.1304245283019, 35.71923076923077, 35.71923076923077, 20.1304245283019, 20.1304245283019, 35.71923076923077, 20.1304245283019, 20.1304245283019, 20.1304245283019, 35.71923076923077, 20.1304245283019, 20.1304245283019, 20.1304245283019, 20.1304245283019, 20.1304245283019, 20.1304245283019, 20.1304245283019, 20.1304245283019, 20.1304245283019, 20.1304245283019, 35.71923076923077, 20.1304245283019, 20.1304245283019, 20.1304245283019, 20.1304245283019, 35.71923076923077, 20.1304245283019, 20.1304245283019, 14.921428571428574, 35.71923076923077, 20.1304245283019, 20.1304245283019, 20.1304245283019, 20.1304245283019, 20.1304245283019, 20.1304245283019, 20.1304245283019, 20.1304245283019, 20.1304245283019, 35.71923076923077, 20.1304245283019, 20.1304245283019, 20.1304245283019, 20.1304245283019, 20.1304245283019, 20.1304245283019, 20.1304245283019, 35.71923076923077, 20.1304245283019, 20.1304245283019, 35.71923076923077, 35.71923076923077, 20.1304245283019, 20.1304245283019, 20.1304245283019, 20.1304245283019, 20.1304245283019, 20.1304245283019, 20.1304245283019, 20.1304245283019, 20.1304245283019, 20.1304245283019, 20.1304245283019, 20.1304245283019, 20.1304245283019, 20.1304245283019, 20.1304245283019, 20.1304245283019, 20.1304245283019, 20.1304245283019, 20.1304245283019, 20.1304245283019, 20.1304245283019, 20.1304245283019, 20.1304245283019, 14.921428571428574, 20.1304245283019, 20.1304245283019, 20.1304245283019, 20.1304245283019, 20.1304245283019, 20.1304245283019, 20.1304245283019, 20.1304245283019, 20.1304245283019, 20.1304245283019, 35.71923076923077, 35.71923076923077, 20.1304245283019, 20.1304245283019, 20.1304245283019]}],\n",
       "                        {\"template\": {\"data\": {\"bar\": [{\"error_x\": {\"color\": \"#2a3f5f\"}, \"error_y\": {\"color\": \"#2a3f5f\"}, \"marker\": {\"line\": {\"color\": \"#E5ECF6\", \"width\": 0.5}}, \"type\": \"bar\"}], \"barpolar\": [{\"marker\": {\"line\": {\"color\": \"#E5ECF6\", \"width\": 0.5}}, \"type\": \"barpolar\"}], \"carpet\": [{\"aaxis\": {\"endlinecolor\": \"#2a3f5f\", \"gridcolor\": \"white\", \"linecolor\": \"white\", \"minorgridcolor\": \"white\", \"startlinecolor\": \"#2a3f5f\"}, \"baxis\": {\"endlinecolor\": \"#2a3f5f\", \"gridcolor\": \"white\", \"linecolor\": \"white\", \"minorgridcolor\": \"white\", \"startlinecolor\": \"#2a3f5f\"}, \"type\": \"carpet\"}], \"choropleth\": [{\"colorbar\": {\"outlinewidth\": 0, \"ticks\": \"\"}, \"type\": \"choropleth\"}], \"contour\": [{\"colorbar\": {\"outlinewidth\": 0, \"ticks\": \"\"}, \"colorscale\": [[0.0, \"#0d0887\"], [0.1111111111111111, \"#46039f\"], [0.2222222222222222, \"#7201a8\"], [0.3333333333333333, \"#9c179e\"], [0.4444444444444444, \"#bd3786\"], [0.5555555555555556, \"#d8576b\"], [0.6666666666666666, \"#ed7953\"], [0.7777777777777778, \"#fb9f3a\"], [0.8888888888888888, \"#fdca26\"], [1.0, \"#f0f921\"]], \"type\": \"contour\"}], \"contourcarpet\": [{\"colorbar\": {\"outlinewidth\": 0, \"ticks\": \"\"}, \"type\": \"contourcarpet\"}], \"heatmap\": [{\"colorbar\": {\"outlinewidth\": 0, \"ticks\": \"\"}, \"colorscale\": [[0.0, \"#0d0887\"], [0.1111111111111111, \"#46039f\"], [0.2222222222222222, \"#7201a8\"], [0.3333333333333333, \"#9c179e\"], [0.4444444444444444, \"#bd3786\"], [0.5555555555555556, \"#d8576b\"], [0.6666666666666666, \"#ed7953\"], [0.7777777777777778, \"#fb9f3a\"], [0.8888888888888888, \"#fdca26\"], [1.0, \"#f0f921\"]], \"type\": \"heatmap\"}], \"heatmapgl\": [{\"colorbar\": {\"outlinewidth\": 0, \"ticks\": \"\"}, \"colorscale\": [[0.0, \"#0d0887\"], [0.1111111111111111, \"#46039f\"], [0.2222222222222222, \"#7201a8\"], [0.3333333333333333, \"#9c179e\"], [0.4444444444444444, \"#bd3786\"], [0.5555555555555556, \"#d8576b\"], [0.6666666666666666, \"#ed7953\"], [0.7777777777777778, \"#fb9f3a\"], [0.8888888888888888, \"#fdca26\"], [1.0, \"#f0f921\"]], \"type\": \"heatmapgl\"}], \"histogram\": [{\"marker\": {\"colorbar\": {\"outlinewidth\": 0, \"ticks\": \"\"}}, \"type\": \"histogram\"}], \"histogram2d\": [{\"colorbar\": {\"outlinewidth\": 0, \"ticks\": \"\"}, \"colorscale\": [[0.0, \"#0d0887\"], [0.1111111111111111, \"#46039f\"], [0.2222222222222222, \"#7201a8\"], [0.3333333333333333, \"#9c179e\"], [0.4444444444444444, \"#bd3786\"], [0.5555555555555556, \"#d8576b\"], [0.6666666666666666, \"#ed7953\"], [0.7777777777777778, \"#fb9f3a\"], [0.8888888888888888, \"#fdca26\"], [1.0, \"#f0f921\"]], \"type\": \"histogram2d\"}], \"histogram2dcontour\": [{\"colorbar\": {\"outlinewidth\": 0, \"ticks\": \"\"}, \"colorscale\": [[0.0, \"#0d0887\"], [0.1111111111111111, \"#46039f\"], [0.2222222222222222, \"#7201a8\"], [0.3333333333333333, \"#9c179e\"], [0.4444444444444444, \"#bd3786\"], [0.5555555555555556, \"#d8576b\"], [0.6666666666666666, \"#ed7953\"], [0.7777777777777778, \"#fb9f3a\"], [0.8888888888888888, \"#fdca26\"], [1.0, \"#f0f921\"]], \"type\": \"histogram2dcontour\"}], \"mesh3d\": [{\"colorbar\": {\"outlinewidth\": 0, \"ticks\": \"\"}, \"type\": \"mesh3d\"}], \"parcoords\": [{\"line\": {\"colorbar\": {\"outlinewidth\": 0, \"ticks\": \"\"}}, \"type\": \"parcoords\"}], \"pie\": [{\"automargin\": true, \"type\": \"pie\"}], \"scatter\": [{\"marker\": {\"colorbar\": {\"outlinewidth\": 0, \"ticks\": \"\"}}, \"type\": \"scatter\"}], \"scatter3d\": [{\"line\": {\"colorbar\": {\"outlinewidth\": 0, \"ticks\": \"\"}}, \"marker\": {\"colorbar\": {\"outlinewidth\": 0, \"ticks\": \"\"}}, \"type\": \"scatter3d\"}], \"scattercarpet\": [{\"marker\": {\"colorbar\": {\"outlinewidth\": 0, \"ticks\": \"\"}}, \"type\": \"scattercarpet\"}], \"scattergeo\": [{\"marker\": {\"colorbar\": {\"outlinewidth\": 0, \"ticks\": \"\"}}, \"type\": \"scattergeo\"}], \"scattergl\": [{\"marker\": {\"colorbar\": {\"outlinewidth\": 0, \"ticks\": \"\"}}, \"type\": \"scattergl\"}], \"scattermapbox\": [{\"marker\": {\"colorbar\": {\"outlinewidth\": 0, \"ticks\": \"\"}}, \"type\": \"scattermapbox\"}], \"scatterpolar\": [{\"marker\": {\"colorbar\": {\"outlinewidth\": 0, \"ticks\": \"\"}}, \"type\": \"scatterpolar\"}], \"scatterpolargl\": [{\"marker\": {\"colorbar\": {\"outlinewidth\": 0, \"ticks\": \"\"}}, \"type\": \"scatterpolargl\"}], \"scatterternary\": [{\"marker\": {\"colorbar\": {\"outlinewidth\": 0, \"ticks\": \"\"}}, \"type\": \"scatterternary\"}], \"surface\": [{\"colorbar\": {\"outlinewidth\": 0, \"ticks\": \"\"}, \"colorscale\": [[0.0, \"#0d0887\"], [0.1111111111111111, \"#46039f\"], [0.2222222222222222, \"#7201a8\"], [0.3333333333333333, \"#9c179e\"], [0.4444444444444444, \"#bd3786\"], [0.5555555555555556, \"#d8576b\"], [0.6666666666666666, \"#ed7953\"], [0.7777777777777778, \"#fb9f3a\"], [0.8888888888888888, \"#fdca26\"], [1.0, \"#f0f921\"]], \"type\": \"surface\"}], \"table\": [{\"cells\": {\"fill\": {\"color\": \"#EBF0F8\"}, \"line\": {\"color\": \"white\"}}, \"header\": {\"fill\": {\"color\": \"#C8D4E3\"}, \"line\": {\"color\": \"white\"}}, \"type\": \"table\"}]}, \"layout\": {\"annotationdefaults\": {\"arrowcolor\": \"#2a3f5f\", \"arrowhead\": 0, \"arrowwidth\": 1}, \"coloraxis\": {\"colorbar\": {\"outlinewidth\": 0, \"ticks\": \"\"}}, \"colorscale\": {\"diverging\": [[0, \"#8e0152\"], [0.1, \"#c51b7d\"], [0.2, \"#de77ae\"], [0.3, \"#f1b6da\"], [0.4, \"#fde0ef\"], [0.5, \"#f7f7f7\"], [0.6, \"#e6f5d0\"], [0.7, \"#b8e186\"], [0.8, \"#7fbc41\"], [0.9, \"#4d9221\"], [1, \"#276419\"]], \"sequential\": [[0.0, \"#0d0887\"], [0.1111111111111111, \"#46039f\"], [0.2222222222222222, \"#7201a8\"], [0.3333333333333333, \"#9c179e\"], [0.4444444444444444, \"#bd3786\"], [0.5555555555555556, \"#d8576b\"], [0.6666666666666666, \"#ed7953\"], [0.7777777777777778, \"#fb9f3a\"], [0.8888888888888888, \"#fdca26\"], [1.0, \"#f0f921\"]], \"sequentialminus\": [[0.0, \"#0d0887\"], [0.1111111111111111, \"#46039f\"], [0.2222222222222222, \"#7201a8\"], [0.3333333333333333, \"#9c179e\"], [0.4444444444444444, \"#bd3786\"], [0.5555555555555556, \"#d8576b\"], [0.6666666666666666, \"#ed7953\"], [0.7777777777777778, \"#fb9f3a\"], [0.8888888888888888, \"#fdca26\"], [1.0, \"#f0f921\"]]}, \"colorway\": [\"#636efa\", \"#EF553B\", \"#00cc96\", \"#ab63fa\", \"#FFA15A\", \"#19d3f3\", \"#FF6692\", \"#B6E880\", \"#FF97FF\", \"#FECB52\"], \"font\": {\"color\": \"#2a3f5f\"}, \"geo\": {\"bgcolor\": \"white\", \"lakecolor\": \"white\", \"landcolor\": \"#E5ECF6\", \"showlakes\": true, \"showland\": true, \"subunitcolor\": \"white\"}, \"hoverlabel\": {\"align\": \"left\"}, \"hovermode\": \"closest\", \"mapbox\": {\"style\": \"light\"}, \"paper_bgcolor\": \"white\", \"plot_bgcolor\": \"#E5ECF6\", \"polar\": {\"angularaxis\": {\"gridcolor\": \"white\", \"linecolor\": \"white\", \"ticks\": \"\"}, \"bgcolor\": \"#E5ECF6\", \"radialaxis\": {\"gridcolor\": \"white\", \"linecolor\": \"white\", \"ticks\": \"\"}}, \"scene\": {\"xaxis\": {\"backgroundcolor\": \"#E5ECF6\", \"gridcolor\": \"white\", \"gridwidth\": 2, \"linecolor\": \"white\", \"showbackground\": true, \"ticks\": \"\", \"zerolinecolor\": \"white\"}, \"yaxis\": {\"backgroundcolor\": \"#E5ECF6\", \"gridcolor\": \"white\", \"gridwidth\": 2, \"linecolor\": \"white\", \"showbackground\": true, \"ticks\": \"\", \"zerolinecolor\": \"white\"}, \"zaxis\": {\"backgroundcolor\": \"#E5ECF6\", \"gridcolor\": \"white\", \"gridwidth\": 2, \"linecolor\": \"white\", \"showbackground\": true, \"ticks\": \"\", \"zerolinecolor\": \"white\"}}, \"shapedefaults\": {\"line\": {\"color\": \"#2a3f5f\"}}, \"ternary\": {\"aaxis\": {\"gridcolor\": \"white\", \"linecolor\": \"white\", \"ticks\": \"\"}, \"baxis\": {\"gridcolor\": \"white\", \"linecolor\": \"white\", \"ticks\": \"\"}, \"bgcolor\": \"#E5ECF6\", \"caxis\": {\"gridcolor\": \"white\", \"linecolor\": \"white\", \"ticks\": \"\"}}, \"title\": {\"x\": 0.05}, \"xaxis\": {\"automargin\": true, \"gridcolor\": \"white\", \"linecolor\": \"white\", \"ticks\": \"\", \"title\": {\"standoff\": 15}, \"zerolinecolor\": \"white\", \"zerolinewidth\": 2}, \"yaxis\": {\"automargin\": true, \"gridcolor\": \"white\", \"linecolor\": \"white\", \"ticks\": \"\", \"title\": {\"standoff\": 15}, \"zerolinecolor\": \"white\", \"zerolinewidth\": 2}}}},\n",
       "                        {\"responsive\": true}\n",
       "                    ).then(function(){\n",
       "                            \n",
       "var gd = document.getElementById('92f45db7-ec76-47b9-87d5-41cc539bba03');\n",
       "var x = new MutationObserver(function (mutations, observer) {{\n",
       "        var display = window.getComputedStyle(gd).display;\n",
       "        if (!display || display === 'none') {{\n",
       "            console.log([gd, 'removed!']);\n",
       "            Plotly.purge(gd);\n",
       "            observer.disconnect();\n",
       "        }}\n",
       "}});\n",
       "\n",
       "// Listen for the removal of the full notebook cells\n",
       "var notebookContainer = gd.closest('#notebook-container');\n",
       "if (notebookContainer) {{\n",
       "    x.observe(notebookContainer, {childList: true});\n",
       "}}\n",
       "\n",
       "// Listen for the clearing of the current output cell\n",
       "var outputEl = gd.closest('.output');\n",
       "if (outputEl) {{\n",
       "    x.observe(outputEl, {childList: true});\n",
       "}}\n",
       "\n",
       "                        })\n",
       "                };\n",
       "                \n",
       "            </script>\n",
       "        </div>\n",
       "</body>\n",
       "</html>"
      ]
     },
     "metadata": {
      "tags": []
     },
     "output_type": "display_data"
    }
   ],
   "source": [
    "import plotly.graph_objects as go\n",
    "\n",
    "# Create traces\n",
    "fig = go.Figure()\n",
    "\n",
    "# Linha com os dados de teste\n",
    "fig.add_trace(go.Scatter(x=df_results.index,\n",
    "                         y=df_results.valor_real,\n",
    "                         mode='lines+markers',\n",
    "                         name='Valor Real'))\n",
    "\n",
    "# Linha com os dados preditos\n",
    "fig.add_trace(go.Scatter(x=df_results.index,\n",
    "                         y=df_results.valor_predito_baseline,\n",
    "                         mode='lines+markers',\n",
    "                         name='Valor Predito Baseline'))\n",
    "# Plota a figura\n",
    "fig.show()"
   ]
  },
  {
   "cell_type": "markdown",
   "metadata": {
    "id": "IUt81GVWGHLb"
   },
   "source": [
    "Avaliação do modelo baseline"
   ]
  },
  {
   "cell_type": "code",
   "execution_count": null,
   "metadata": {
    "id": "ACJFie9JF7iq"
   },
   "outputs": [],
   "source": [
    "# calcula a métrica rmse\n",
    "from sklearn.metrics import mean_squared_error\n",
    "from math import sqrt"
   ]
  },
  {
   "cell_type": "markdown",
   "metadata": {
    "id": "yPd52sqbC3VU"
   },
   "source": [
    "Aplicar o rmse entre as predições do baseline e os valores reais - rmse é um valor de incerteza, erro medio quadratico das predi~]oes do baseline"
   ]
  },
  {
   "cell_type": "code",
   "execution_count": null,
   "metadata": {
    "id": "6UO0iZm44Gl_"
   },
   "outputs": [],
   "source": [
    "rmse = (np.sqrt(mean_squared_error(y_test, predicoes)))"
   ]
  },
  {
   "cell_type": "code",
   "execution_count": null,
   "metadata": {
    "colab": {
     "base_uri": "https://localhost:8080/",
     "height": 66
    },
    "executionInfo": {
     "elapsed": 644,
     "status": "ok",
     "timestamp": 1589759483212,
     "user": {
      "displayName": "Carlos Eduardo Ramos",
      "photoUrl": "https://lh3.googleusercontent.com/a-/AOh14Girfo8mrae_OWZZG95sEc5f3DNmMM0k7I9Qw1Za=s64",
      "userId": "01761804650114495504"
     },
     "user_tz": 180
    },
    "id": "aFThM7L9GDA6",
    "outputId": "264cc544-b78a-4509-fb99-bf978fe4d54a"
   },
   "outputs": [
    {
     "name": "stdout",
     "output_type": "stream",
     "text": [
      "Performance do modelo baseline:\n",
      "\n",
      "RMSE é: 6.205816494411828 \n"
     ]
    }
   ],
   "source": [
    "# imprime a performance do modelo\n",
    "print ('Performance do modelo baseline:')\n",
    "print('\\nRMSE é: {} '.format(rmse))"
   ]
  },
  {
   "cell_type": "markdown",
   "metadata": {
    "id": "OOs-M_4vDNE7"
   },
   "source": [
    "### A predição pelo baseline tem margem de erro de 6 para mais e para menos - incerteza da predição por baseline(numero de quartos em função do valor medio)"
   ]
  },
  {
   "cell_type": "markdown",
   "metadata": {
    "id": "6jL-gszHYgZY"
   },
   "source": [
    "### Machine Learning"
   ]
  },
  {
   "cell_type": "markdown",
   "metadata": {
    "id": "8rokdiRpzTry"
   },
   "source": [
    "#### Regressão Linear"
   ]
  },
  {
   "cell_type": "markdown",
   "metadata": {
    "id": "nEbWBlL3Ir9M"
   },
   "source": [
    "- `Devido a correlação entre algumas features podemos usar uma regressão linear.`\n",
    "- `Modelo simples e eficiente.`\n",
    "- `Solução rápida e robusta.`"
   ]
  },
  {
   "cell_type": "markdown",
   "metadata": {
    "id": "jGTZM8y3Dq0k"
   },
   "source": [
    "Inferir uma reta que pode relacionar as variaveis/atributtos com alta correlação"
   ]
  },
  {
   "cell_type": "code",
   "execution_count": null,
   "metadata": {
    "id": "xy7zx_pJIw6e"
   },
   "outputs": [],
   "source": [
    "# carrega o pacote LinearRegression\n",
    "from sklearn.linear_model import LinearRegression"
   ]
  },
  {
   "cell_type": "code",
   "execution_count": null,
   "metadata": {
    "id": "fRgZ6NHUfvzM"
   },
   "outputs": [],
   "source": [
    "# cria o objeto do tipo LinearRegression\n",
    "#instancia de LinearRegression vinda do sklearn\n",
    "lin_model = LinearRegression()"
   ]
  },
  {
   "cell_type": "code",
   "execution_count": null,
   "metadata": {
    "id": "EP4-r-x9fyMF"
   },
   "outputs": [],
   "source": [
    "# treina o algoritmo de regressão linear\n",
    "lin_model.fit(X_train, y_train)"
   ]
  },
  {
   "cell_type": "code",
   "execution_count": null,
   "metadata": {
    "id": "XwIaD1k1NVzg"
   },
   "outputs": [],
   "source": [
    "# avaliação do modelo nos dados de teste\n",
    "# predizemos por regressao linear os valores de Y\n",
    "y_pred = lin_model.predict(X_test)"
   ]
  },
  {
   "cell_type": "code",
   "execution_count": null,
   "metadata": {
    "id": "Wx7arH2JoHGU"
   },
   "outputs": [],
   "source": [
    "# calcula a métrica rmse\n",
    "rmse = (np.sqrt(mean_squared_error(y_test, y_pred)))"
   ]
  },
  {
   "cell_type": "code",
   "execution_count": null,
   "metadata": {
    "id": "zi54cRQwNcPm"
   },
   "outputs": [],
   "source": [
    "# imprime a performance do modelo\n",
    "print ('Performance do modelo avaliado com os dados de teste:')\n",
    "print('\\nRMSE é: {} '.format(rmse))"
   ]
  },
  {
   "cell_type": "markdown",
   "metadata": {
    "id": "6tBEAA5YFMeT"
   },
   "source": [
    "Alcançamos uma aproximação maior dos valores reis\n"
   ]
  },
  {
   "cell_type": "code",
   "execution_count": null,
   "metadata": {
    "id": "Fc4Cy6ehSRz7"
   },
   "outputs": [],
   "source": [
    "# atribui os resultados no dataframe df_results\n",
    "df_results['valor_predito_reg_linear'] = lin_model.predict(X_test)"
   ]
  },
  {
   "cell_type": "code",
   "execution_count": null,
   "metadata": {
    "id": "vY6sddMASRrj"
   },
   "outputs": [],
   "source": [
    "df_results.head(10)"
   ]
  },
  {
   "cell_type": "code",
   "execution_count": null,
   "metadata": {
    "id": "qojh6XHzSDHZ"
   },
   "outputs": [],
   "source": [
    "import plotly.graph_objects as go\n",
    "\n",
    "# Create traces\n",
    "fig = go.Figure()\n",
    "\n",
    "# Linha com os dados de teste\n",
    "fig.add_trace(go.Scatter(x=df_results.index,\n",
    "                         y=df_results.valor_real,\n",
    "                         mode='lines+markers',\n",
    "                         name='Valor Real'))\n",
    "\n",
    "# Linha com os dados de baseline\n",
    "fig.add_trace(go.Scatter(x=df_results.index,\n",
    "                         y=df_results.valor_predito_baseline,\n",
    "                         mode='lines+markers',\n",
    "                         name='Baseline'))\n",
    "\n",
    "# Linha com os dados preditos pela regressão linear\n",
    "fig.add_trace(go.Scatter(x=df_results.index,\n",
    "                         y=df_results.valor_predito_reg_linear,\n",
    "                         mode='lines',\n",
    "                         line = dict(color = '#FEBFB3'),\n",
    "                         name='Valor Predito Regressão Linear'))\n",
    "\n",
    "# Plota a figura\n",
    "fig.show()"
   ]
  },
  {
   "cell_type": "markdown",
   "metadata": {
    "id": "yhHrta_etlaE"
   },
   "source": [
    "##### Arvore de decisão\n",
    "\n",
    "*   `Algoritmo de aprendizado supervisionado`\n",
    "*   `Explicabilidade do Modelo`\n",
    "*   `Simples`\n"
   ]
  },
  {
   "cell_type": "code",
   "execution_count": null,
   "metadata": {
    "id": "s6AMt-S1tklE"
   },
   "outputs": [],
   "source": [
    "# importa o pacote DecisionTreeRegressor\n",
    "from sklearn.tree import DecisionTreeRegressor"
   ]
  },
  {
   "cell_type": "code",
   "execution_count": null,
   "metadata": {
    "id": "9GWqPqMatkiv"
   },
   "outputs": [],
   "source": [
    "# cria um objeto do tipo DecisionTreeRegressor\n",
    "regressor = DecisionTreeRegressor()"
   ]
  },
  {
   "cell_type": "code",
   "execution_count": null,
   "metadata": {
    "id": "aesYvbgetkgX"
   },
   "outputs": [],
   "source": [
    "# treina o algoritmo passando os dados de treino\n",
    "regressor.fit(X_train, y_train)"
   ]
  },
  {
   "cell_type": "markdown",
   "metadata": {
    "id": "WHDUHZgHyztm"
   },
   "source": [
    "Avaliando o modelo de Árvore de Decisão"
   ]
  },
  {
   "cell_type": "code",
   "execution_count": null,
   "metadata": {
    "id": "3rnUwS6Vtkdw"
   },
   "outputs": [],
   "source": [
    "# fazendo as previsões\n",
    "y_pred = regressor.predict(X_test)"
   ]
  },
  {
   "cell_type": "code",
   "execution_count": null,
   "metadata": {
    "id": "WPIrhQh_Lt4i"
   },
   "outputs": [],
   "source": [
    "# Adicionando o valor do modelo no dataframe df_results\n",
    "df_results['valor_predito_arvore'] = y_pred"
   ]
  },
  {
   "cell_type": "code",
   "execution_count": null,
   "metadata": {
    "id": "z3bMNJK0LASe"
   },
   "outputs": [],
   "source": [
    "# visualiza o dataframe df_results\n",
    "df_results.head(10)"
   ]
  },
  {
   "cell_type": "code",
   "execution_count": null,
   "metadata": {
    "id": "PV-RAtLPN12A"
   },
   "outputs": [],
   "source": [
    "import plotly.graph_objects as go\n",
    "\n",
    "# cria uma figura\n",
    "fig = go.Figure()\n",
    "\n",
    "# Linha com os dados de teste\n",
    "fig.add_trace(go.Scatter(x=df_results.index,\n",
    "                         y=df_results.valor_real,\n",
    "                         mode='lines+markers',\n",
    "                         name='Valor Real'))\n",
    "\n",
    "# Linha com os dados de teste\n",
    "fig.add_trace(go.Scatter(x=df_results.index,\n",
    "                         y=df_results.valor_predito_baseline,\n",
    "                         mode='lines+markers',\n",
    "                         name='Valor Predito Baseline'))\n",
    "\n",
    "\n",
    "# Linha com os dados de teste\n",
    "fig.add_trace(go.Scatter(x=df_results.index,\n",
    "                         y=df_results.valor_predito_reg_linear,\n",
    "                         mode='lines+markers',\n",
    "                         name='Valor Predito Reg Liner'))\n",
    "\n",
    "# Linha com os dados preditos\n",
    "fig.add_trace(go.Scatter(x=df_results.index,\n",
    "                         y=df_results.valor_predito_arvore,\n",
    "                         mode='lines+markers',\n",
    "                         name='Valor Predito Arvore'))\n",
    "# Plota a figura\n",
    "fig.show()"
   ]
  },
  {
   "cell_type": "markdown",
   "metadata": {
    "id": "exqvETJrM0BB"
   },
   "source": [
    "Avaliação do Modelo"
   ]
  },
  {
   "cell_type": "code",
   "execution_count": null,
   "metadata": {
    "id": "VpR1FT389JN_"
   },
   "outputs": [],
   "source": [
    "# calcula a métrica rmse\n",
    "rmse = (np.sqrt(mean_squared_error(y_test, y_pred)))"
   ]
  },
  {
   "cell_type": "code",
   "execution_count": null,
   "metadata": {
    "id": "cEBz7JpJyYcm"
   },
   "outputs": [],
   "source": [
    "# imprime a performance do modelo\n",
    "print ('Performance do modelo avaliado com os dados de teste:')\n",
    "print('\\nRMSE é: {} '.format(rmse))"
   ]
  },
  {
   "cell_type": "markdown",
   "metadata": {
    "id": "fCv8gohoLGRr"
   },
   "source": [
    "Arvore de decisão foi melhor do que regressão\n",
    "\n"
   ]
  },
  {
   "cell_type": "markdown",
   "metadata": {
    "id": "IPf53dk8cQ4A"
   },
   "source": [
    "#### Random Forest\n",
    "\n",
    "- `Método Ensemble`\n",
    "- `Mais robustez para os modelos`"
   ]
  },
  {
   "cell_type": "code",
   "execution_count": null,
   "metadata": {
    "id": "dXpfe5pfWcxs"
   },
   "outputs": [],
   "source": [
    "# Importa o método RandomForestRegressor\n",
    "from sklearn.ensemble import RandomForestRegressor"
   ]
  },
  {
   "cell_type": "code",
   "execution_count": null,
   "metadata": {
    "id": "G-TcDYH6WcqX"
   },
   "outputs": [],
   "source": [
    "# cria o objeto rf_regressor\n",
    "rf_regressor = RandomForestRegressor()"
   ]
  },
  {
   "cell_type": "code",
   "execution_count": null,
   "metadata": {
    "colab": {
     "base_uri": "https://localhost:8080/",
     "height": 33
    },
    "executionInfo": {
     "elapsed": 712,
     "status": "ok",
     "timestamp": 1589761940458,
     "user": {
      "displayName": "Carlos Eduardo Ramos",
      "photoUrl": "https://lh3.googleusercontent.com/a-/AOh14Girfo8mrae_OWZZG95sEc5f3DNmMM0k7I9Qw1Za=s64",
      "userId": "01761804650114495504"
     },
     "user_tz": 180
    },
    "id": "PXwdpDXdWcm5",
    "outputId": "2d32c822-a8d1-4d9e-caab-5f2ef8b8a4fd"
   },
   "outputs": [
    {
     "data": {
      "text/plain": [
       "RandomForestRegressor()"
      ]
     },
     "execution_count": 84,
     "metadata": {
      "tags": []
     },
     "output_type": "execute_result"
    }
   ],
   "source": [
    "# treina o algoritmo\n",
    "rf_regressor.fit(X_train, y_train)"
   ]
  },
  {
   "cell_type": "code",
   "execution_count": null,
   "metadata": {
    "id": "YJp4BOStc5bS"
   },
   "outputs": [],
   "source": [
    "# avaliação do modelo nos dados de teste\n",
    "y_pred = rf_regressor.predict(X_test)"
   ]
  },
  {
   "cell_type": "code",
   "execution_count": null,
   "metadata": {
    "id": "2jH8pO-PdD3I"
   },
   "outputs": [],
   "source": [
    "# adiciona os resultados no dataframe df_results\n",
    "df_results['valor_predito_random_forest'] = rf_regressor.predict(X_test)"
   ]
  },
  {
   "cell_type": "code",
   "execution_count": null,
   "metadata": {
    "id": "WLxMyfruc5UO"
   },
   "outputs": [],
   "source": [
    "# calcula a métrica rmse\n",
    "rmse = (np.sqrt(mean_squared_error(y_test, y_pred)))"
   ]
  },
  {
   "cell_type": "code",
   "execution_count": null,
   "metadata": {
    "colab": {
     "base_uri": "https://localhost:8080/",
     "height": 66
    },
    "executionInfo": {
     "elapsed": 1033,
     "status": "ok",
     "timestamp": 1589762010147,
     "user": {
      "displayName": "Carlos Eduardo Ramos",
      "photoUrl": "https://lh3.googleusercontent.com/a-/AOh14Girfo8mrae_OWZZG95sEc5f3DNmMM0k7I9Qw1Za=s64",
      "userId": "01761804650114495504"
     },
     "user_tz": 180
    },
    "id": "V7Yt6UAxc5MQ",
    "outputId": "6bfef4ed-5ab4-4b15-d384-911183d2089b"
   },
   "outputs": [
    {
     "name": "stdout",
     "output_type": "stream",
     "text": [
      "Performance do modelo avaliado com os dados de teste:\n",
      "\n",
      "RMSE é: 3.3513084651478184 \n"
     ]
    }
   ],
   "source": [
    "# imprime a performance do modelo\n",
    "print ('Performance do modelo avaliado com os dados de teste:')\n",
    "print('\\nRMSE é: {} '.format(rmse))"
   ]
  },
  {
   "cell_type": "code",
   "execution_count": null,
   "metadata": {
    "colab": {
     "base_uri": "https://localhost:8080/",
     "height": 542
    },
    "executionInfo": {
     "elapsed": 746,
     "status": "ok",
     "timestamp": 1589762013340,
     "user": {
      "displayName": "Carlos Eduardo Ramos",
      "photoUrl": "https://lh3.googleusercontent.com/a-/AOh14Girfo8mrae_OWZZG95sEc5f3DNmMM0k7I9Qw1Za=s64",
      "userId": "01761804650114495504"
     },
     "user_tz": 180
    },
    "id": "xKy2c8eidpdW",
    "outputId": "364d6b06-3a34-47ba-dc6f-3cb1a90054b9"
   },
   "outputs": [
    {
     "data": {
      "text/html": [
       "<html>\n",
       "<head><meta charset=\"utf-8\" /></head>\n",
       "<body>\n",
       "    <div>\n",
       "            <script src=\"https://cdnjs.cloudflare.com/ajax/libs/mathjax/2.7.5/MathJax.js?config=TeX-AMS-MML_SVG\"></script><script type=\"text/javascript\">if (window.MathJax) {MathJax.Hub.Config({SVG: {font: \"STIX-Web\"}});}</script>\n",
       "                <script type=\"text/javascript\">window.PlotlyConfig = {MathJaxConfig: 'local'};</script>\n",
       "        <script src=\"https://cdn.plot.ly/plotly-latest.min.js\"></script>    \n",
       "            <div id=\"93c36881-719c-46ac-9a69-8fdb585f0efc\" class=\"plotly-graph-div\" style=\"height:525px; width:100%;\"></div>\n",
       "            <script type=\"text/javascript\">\n",
       "                \n",
       "                    window.PLOTLYENV=window.PLOTLYENV || {};\n",
       "                    \n",
       "                if (document.getElementById(\"93c36881-719c-46ac-9a69-8fdb585f0efc\")) {\n",
       "                    Plotly.newPlot(\n",
       "                        '93c36881-719c-46ac-9a69-8fdb585f0efc',\n",
       "                        [{\"mode\": \"markers\", \"name\": \"Valor Real\", \"type\": \"scatter\", \"x\": [0, 1, 2, 3, 4, 5, 6, 7, 8, 9, 10, 11, 12, 13, 14, 15, 16, 17, 18, 19, 20, 21, 22, 23, 24, 25, 26, 27, 28, 29, 30, 31, 32, 33, 34, 35, 36, 37, 38, 39, 40, 41, 42, 43, 44, 45, 46, 47, 48, 49, 50, 51, 52, 53, 54, 55, 56, 57, 58, 59, 60, 61, 62, 63, 64, 65, 66, 67, 68, 69, 70, 71, 72, 73, 74, 75, 76, 77, 78, 79, 80, 81, 82, 83, 84, 85, 86, 87, 88, 89, 90, 91, 92, 93, 94, 95, 96, 97], \"y\": [18.5, 12.7, 21.4, 23.7, 20.8, 25.0, 9.7, 14.9, 34.9, 31.6, 24.7, 22.9, 33.2, 9.6, 30.5, 19.2, 30.3, 15.4, 24.3, 24.4, 21.5, 27.9, 17.3, 21.4, 21.7, 24.4, 8.5, 15.0, 11.5, 13.6, 24.4, 7.4, 44.0, 21.7, 19.3, 16.1, 29.0, 26.4, 20.3, 10.8, 5.0, 19.6, 23.1, 23.9, 17.5, 13.5, 48.8, 26.2, 19.7, 14.2, 11.0, 19.0, 21.7, 18.4, 33.4, 14.0, 24.7, 43.8, 48.5, 25.0, 22.6, 21.2, 22.4, 23.8, 19.9, 16.5, 16.7, 17.2, 13.1, 19.1, 18.5, 22.2, 22.6, 19.4, 15.2, 19.8, 19.4, 21.6, 18.2, 19.6, 19.6, 23.0, 7.0, 17.6, 25.0, 41.3, 24.1, 22.6, 18.7, 22.6, 13.1, 22.2, 16.1, 39.8, 25.0, 20.5, 10.4, 20.4]}, {\"line\": {\"color\": \"#FF00FF\"}, \"mode\": \"lines+markers\", \"name\": \"Valor da Baseline\", \"type\": \"scatter\", \"x\": [0, 1, 2, 3, 4, 5, 6, 7, 8, 9, 10, 11, 12, 13, 14, 15, 16, 17, 18, 19, 20, 21, 22, 23, 24, 25, 26, 27, 28, 29, 30, 31, 32, 33, 34, 35, 36, 37, 38, 39, 40, 41, 42, 43, 44, 45, 46, 47, 48, 49, 50, 51, 52, 53, 54, 55, 56, 57, 58, 59, 60, 61, 62, 63, 64, 65, 66, 67, 68, 69, 70, 71, 72, 73, 74, 75, 76, 77, 78, 79, 80, 81, 82, 83, 84, 85, 86, 87, 88, 89, 90, 91, 92, 93, 94, 95, 96, 97], \"y\": [20.1304245283019, 20.1304245283019, 20.1304245283019, 20.1304245283019, 20.1304245283019, 20.1304245283019, 20.1304245283019, 20.1304245283019, 35.71923076923077, 35.71923076923077, 20.1304245283019, 20.1304245283019, 35.71923076923077, 20.1304245283019, 20.1304245283019, 20.1304245283019, 35.71923076923077, 20.1304245283019, 20.1304245283019, 20.1304245283019, 20.1304245283019, 20.1304245283019, 20.1304245283019, 20.1304245283019, 20.1304245283019, 20.1304245283019, 20.1304245283019, 35.71923076923077, 20.1304245283019, 20.1304245283019, 20.1304245283019, 20.1304245283019, 35.71923076923077, 20.1304245283019, 20.1304245283019, 14.921428571428574, 35.71923076923077, 20.1304245283019, 20.1304245283019, 20.1304245283019, 20.1304245283019, 20.1304245283019, 20.1304245283019, 20.1304245283019, 20.1304245283019, 20.1304245283019, 35.71923076923077, 20.1304245283019, 20.1304245283019, 20.1304245283019, 20.1304245283019, 20.1304245283019, 20.1304245283019, 20.1304245283019, 35.71923076923077, 20.1304245283019, 20.1304245283019, 35.71923076923077, 35.71923076923077, 20.1304245283019, 20.1304245283019, 20.1304245283019, 20.1304245283019, 20.1304245283019, 20.1304245283019, 20.1304245283019, 20.1304245283019, 20.1304245283019, 20.1304245283019, 20.1304245283019, 20.1304245283019, 20.1304245283019, 20.1304245283019, 20.1304245283019, 20.1304245283019, 20.1304245283019, 20.1304245283019, 20.1304245283019, 20.1304245283019, 20.1304245283019, 20.1304245283019, 20.1304245283019, 14.921428571428574, 20.1304245283019, 20.1304245283019, 20.1304245283019, 20.1304245283019, 20.1304245283019, 20.1304245283019, 20.1304245283019, 20.1304245283019, 20.1304245283019, 20.1304245283019, 35.71923076923077, 35.71923076923077, 20.1304245283019, 20.1304245283019, 20.1304245283019]}, {\"line\": {\"color\": \"#B2FF66\"}, \"mode\": \"lines\", \"name\": \"Valor Predito \\u00c1rvore\", \"type\": \"scatter\", \"x\": [0, 1, 2, 3, 4, 5, 6, 7, 8, 9, 10, 11, 12, 13, 14, 15, 16, 17, 18, 19, 20, 21, 22, 23, 24, 25, 26, 27, 28, 29, 30, 31, 32, 33, 34, 35, 36, 37, 38, 39, 40, 41, 42, 43, 44, 45, 46, 47, 48, 49, 50, 51, 52, 53, 54, 55, 56, 57, 58, 59, 60, 61, 62, 63, 64, 65, 66, 67, 68, 69, 70, 71, 72, 73, 74, 75, 76, 77, 78, 79, 80, 81, 82, 83, 84, 85, 86, 87, 88, 89, 90, 91, 92, 93, 94, 95, 96, 97], \"y\": [16.6, 23.2, 24.5, 23.3, 23.0, 27.5, 7.2, 17.1, 36.4, 31.7, 24.5, 22.2, 34.9, 15.4, 29.8, 23.1, 34.6, 14.6, 24.5, 23.8, 15.3, 28.5, 15.7, 21.4, 23.4, 19.4, 12.1, 31.0, 12.8, 14.3, 22.2, 10.5, 45.4, 23.2, 22.8, 14.5, 33.0, 23.3, 18.8, 8.4, 6.3, 19.2, 25.0, 22.2, 17.2, 13.9, 43.1, 23.3, 17.1, 22.4, 9.5, 19.5, 19.6, 21.1, 36.1, 14.4, 22.1, 38.7, 34.7, 24.3, 29.9, 20.1, 27.5, 19.1, 15.6, 22.0, 20.1, 27.5, 15.6, 20.0, 20.0, 20.6, 20.5, 22.4, 14.3, 19.4, 22.8, 23.8, 27.5, 15.3, 19.3, 20.6, 8.5, 17.2, 34.9, 23.7, 27.0, 16.2, 19.5, 30.1, 12.7, 22.0, 18.4, 37.9, 21.9, 22.5, 8.5, 19.3]}, {\"line\": {\"color\": \"#17BECF\"}, \"mode\": \"lines\", \"name\": \"Valor Predito Regress\\u00e3o Linear\", \"type\": \"scatter\", \"x\": [0, 1, 2, 3, 4, 5, 6, 7, 8, 9, 10, 11, 12, 13, 14, 15, 16, 17, 18, 19, 20, 21, 22, 23, 24, 25, 26, 27, 28, 29, 30, 31, 32, 33, 34, 35, 36, 37, 38, 39, 40, 41, 42, 43, 44, 45, 46, 47, 48, 49, 50, 51, 52, 53, 54, 55, 56, 57, 58, 59, 60, 61, 62, 63, 64, 65, 66, 67, 68, 69, 70, 71, 72, 73, 74, 75, 76, 77, 78, 79, 80, 81, 82, 83, 84, 85, 86, 87, 88, 89, 90, 91, 92, 93, 94, 95, 96, 97], \"y\": [18.459169620175622, 12.27989416415651, 24.588306565387423, 28.254693280668697, 18.195438537343797, 21.630648235689588, 11.31919803094615, 14.561032219959813, 31.623716773040094, 29.588132607557007, 28.60393601525742, 26.482125815783224, 29.966034207781306, 14.553173045326115, 30.278248711999723, 24.63003915876186, 33.23345824950145, 16.931248570273684, 24.99446421909778, 26.466441440860127, 22.813639524070087, 27.103390731816347, 12.524996632311225, 19.37929751974933, 21.581545971002537, 23.877006702039054, 14.085855797820356, 21.230146967559786, 13.643973122717863, 14.716712882017276, 25.80016154201209, 7.867171947538868, 33.02051098404501, 26.045218917809276, 24.03678166511637, 17.775403456686533, 33.22709163662169, 27.517944398741662, 21.187383562583435, 10.957868727277681, 7.507685772949113, 19.418586584539916, 27.393339951286585, 23.8410182563615, 24.74227083856386, 16.990723698020265, 35.47974424493103, 26.159912917617135, 22.49691218178387, 17.904788196114122, 14.154116782257066, 21.181885684574734, 20.624525388320667, 21.177587641065532, 29.49552122400647, 14.23004112679746, 26.544112805265772, 31.0880450668066, 33.726935599253906, 24.891581735351775, 24.187944371239205, 23.864725908860084, 22.05278167361648, 21.38994045785447, 18.845951646544716, 27.841582054943295, 17.93632331758325, 13.823897089289773, 17.676139911036124, 19.29463827968289, 20.582306559638138, 25.390649846634087, 26.23596042344075, 18.89486986816471, 14.74830291774068, 26.818675625015647, 24.878238751496404, 25.213916812117624, 21.19251508313218, 20.512703338801487, 18.270477629632566, 21.37039101688553, -0.09444264955234871, 20.958291503542682, 28.552537591219135, 28.0218620799915, 27.66690749195503, 21.458421647169153, 21.377824334771667, 27.621006503404928, 16.075247361056483, 26.092542124103044, 17.756087552806495, 29.38959640373895, 25.474439973258512, 15.839468986221018, 8.44698583407828, 20.760205429443275]}, {\"line\": {\"color\": \"#7F7F7F\"}, \"mode\": \"lines\", \"name\": \"Valor Predito Random Forest\", \"type\": \"scatter\", \"x\": [0, 1, 2, 3, 4, 5, 6, 7, 8, 9, 10, 11, 12, 13, 14, 15, 16, 17, 18, 19, 20, 21, 22, 23, 24, 25, 26, 27, 28, 29, 30, 31, 32, 33, 34, 35, 36, 37, 38, 39, 40, 41, 42, 43, 44, 45, 46, 47, 48, 49, 50, 51, 52, 53, 54, 55, 56, 57, 58, 59, 60, 61, 62, 63, 64, 65, 66, 67, 68, 69, 70, 71, 72, 73, 74, 75, 76, 77, 78, 79, 80, 81, 82, 83, 84, 85, 86, 87, 88, 89, 90, 91, 92, 93, 94, 95, 96, 97], \"y\": [19.55199999999999, 16.084999999999994, 23.601999999999997, 24.679999999999982, 21.612, 23.694000000000006, 9.965000000000005, 13.551999999999998, 39.05200000000004, 33.55399999999995, 25.914999999999985, 26.319999999999986, 32.89699999999998, 13.202000000000009, 32.926, 20.958999999999996, 32.287000000000006, 15.467999999999986, 23.48400000000001, 24.94499999999999, 18.605999999999998, 27.961, 17.83800000000001, 22.791999999999987, 22.359000000000005, 21.53799999999998, 13.843999999999989, 22.40200000000001, 12.418999999999983, 16.861000000000004, 23.425000000000004, 8.43500000000001, 42.28800000000002, 21.679999999999993, 25.045000000000005, 19.81599999999999, 35.14599999999999, 23.987000000000002, 20.842999999999996, 10.555999999999992, 6.975000000000008, 19.16500000000001, 25.145999999999994, 21.799000000000007, 20.750000000000004, 14.444999999999991, 38.19799999999997, 24.636999999999993, 20.24899999999999, 15.377, 12.537999999999997, 20.444000000000013, 20.841000000000005, 19.419000000000008, 33.89499999999995, 14.806999999999999, 25.066000000000003, 39.46700000000004, 39.94900000000005, 24.320999999999994, 24.188999999999993, 20.58199999999999, 21.17900000000001, 19.686999999999987, 17.450000000000003, 25.511999999999997, 14.953999999999994, 18.02500000000001, 15.54199999999999, 18.139000000000006, 21.116000000000007, 24.53699999999999, 24.46, 16.29, 16.702999999999996, 23.99800000000001, 22.300999999999995, 23.170000000000005, 20.601999999999997, 17.682999999999982, 18.603, 20.59799999999999, 8.463, 19.008000000000003, 29.471999999999984, 26.747000000000003, 26.171999999999993, 19.98499999999999, 20.635, 28.78400000000001, 14.600000000000005, 21.671999999999993, 17.62000000000001, 33.315999999999974, 30.532999999999998, 19.44399999999998, 7.683000000000002, 19.949999999999992]}],\n",
       "                        {\"template\": {\"data\": {\"bar\": [{\"error_x\": {\"color\": \"#2a3f5f\"}, \"error_y\": {\"color\": \"#2a3f5f\"}, \"marker\": {\"line\": {\"color\": \"#E5ECF6\", \"width\": 0.5}}, \"type\": \"bar\"}], \"barpolar\": [{\"marker\": {\"line\": {\"color\": \"#E5ECF6\", \"width\": 0.5}}, \"type\": \"barpolar\"}], \"carpet\": [{\"aaxis\": {\"endlinecolor\": \"#2a3f5f\", \"gridcolor\": \"white\", \"linecolor\": \"white\", \"minorgridcolor\": \"white\", \"startlinecolor\": \"#2a3f5f\"}, \"baxis\": {\"endlinecolor\": \"#2a3f5f\", \"gridcolor\": \"white\", \"linecolor\": \"white\", \"minorgridcolor\": \"white\", \"startlinecolor\": \"#2a3f5f\"}, \"type\": \"carpet\"}], \"choropleth\": [{\"colorbar\": {\"outlinewidth\": 0, \"ticks\": \"\"}, \"type\": \"choropleth\"}], \"contour\": [{\"colorbar\": {\"outlinewidth\": 0, \"ticks\": \"\"}, \"colorscale\": [[0.0, \"#0d0887\"], [0.1111111111111111, \"#46039f\"], [0.2222222222222222, \"#7201a8\"], [0.3333333333333333, \"#9c179e\"], [0.4444444444444444, \"#bd3786\"], [0.5555555555555556, \"#d8576b\"], [0.6666666666666666, \"#ed7953\"], [0.7777777777777778, \"#fb9f3a\"], [0.8888888888888888, \"#fdca26\"], [1.0, \"#f0f921\"]], \"type\": \"contour\"}], \"contourcarpet\": [{\"colorbar\": {\"outlinewidth\": 0, \"ticks\": \"\"}, \"type\": \"contourcarpet\"}], \"heatmap\": [{\"colorbar\": {\"outlinewidth\": 0, \"ticks\": \"\"}, \"colorscale\": [[0.0, \"#0d0887\"], [0.1111111111111111, \"#46039f\"], [0.2222222222222222, \"#7201a8\"], [0.3333333333333333, \"#9c179e\"], [0.4444444444444444, \"#bd3786\"], [0.5555555555555556, \"#d8576b\"], [0.6666666666666666, \"#ed7953\"], [0.7777777777777778, \"#fb9f3a\"], [0.8888888888888888, \"#fdca26\"], [1.0, \"#f0f921\"]], \"type\": \"heatmap\"}], \"heatmapgl\": [{\"colorbar\": {\"outlinewidth\": 0, \"ticks\": \"\"}, \"colorscale\": [[0.0, \"#0d0887\"], [0.1111111111111111, \"#46039f\"], [0.2222222222222222, \"#7201a8\"], [0.3333333333333333, \"#9c179e\"], [0.4444444444444444, \"#bd3786\"], [0.5555555555555556, \"#d8576b\"], [0.6666666666666666, \"#ed7953\"], [0.7777777777777778, \"#fb9f3a\"], [0.8888888888888888, \"#fdca26\"], [1.0, \"#f0f921\"]], \"type\": \"heatmapgl\"}], \"histogram\": [{\"marker\": {\"colorbar\": {\"outlinewidth\": 0, \"ticks\": \"\"}}, \"type\": \"histogram\"}], \"histogram2d\": [{\"colorbar\": {\"outlinewidth\": 0, \"ticks\": \"\"}, \"colorscale\": [[0.0, \"#0d0887\"], [0.1111111111111111, \"#46039f\"], [0.2222222222222222, \"#7201a8\"], [0.3333333333333333, \"#9c179e\"], [0.4444444444444444, \"#bd3786\"], [0.5555555555555556, \"#d8576b\"], [0.6666666666666666, \"#ed7953\"], [0.7777777777777778, \"#fb9f3a\"], [0.8888888888888888, \"#fdca26\"], [1.0, \"#f0f921\"]], \"type\": \"histogram2d\"}], \"histogram2dcontour\": [{\"colorbar\": {\"outlinewidth\": 0, \"ticks\": \"\"}, \"colorscale\": [[0.0, \"#0d0887\"], [0.1111111111111111, \"#46039f\"], [0.2222222222222222, \"#7201a8\"], [0.3333333333333333, \"#9c179e\"], [0.4444444444444444, \"#bd3786\"], [0.5555555555555556, \"#d8576b\"], [0.6666666666666666, \"#ed7953\"], [0.7777777777777778, \"#fb9f3a\"], [0.8888888888888888, \"#fdca26\"], [1.0, \"#f0f921\"]], \"type\": \"histogram2dcontour\"}], \"mesh3d\": [{\"colorbar\": {\"outlinewidth\": 0, \"ticks\": \"\"}, \"type\": \"mesh3d\"}], \"parcoords\": [{\"line\": {\"colorbar\": {\"outlinewidth\": 0, \"ticks\": \"\"}}, \"type\": \"parcoords\"}], \"pie\": [{\"automargin\": true, \"type\": \"pie\"}], \"scatter\": [{\"marker\": {\"colorbar\": {\"outlinewidth\": 0, \"ticks\": \"\"}}, \"type\": \"scatter\"}], \"scatter3d\": [{\"line\": {\"colorbar\": {\"outlinewidth\": 0, \"ticks\": \"\"}}, \"marker\": {\"colorbar\": {\"outlinewidth\": 0, \"ticks\": \"\"}}, \"type\": \"scatter3d\"}], \"scattercarpet\": [{\"marker\": {\"colorbar\": {\"outlinewidth\": 0, \"ticks\": \"\"}}, \"type\": \"scattercarpet\"}], \"scattergeo\": [{\"marker\": {\"colorbar\": {\"outlinewidth\": 0, \"ticks\": \"\"}}, \"type\": \"scattergeo\"}], \"scattergl\": [{\"marker\": {\"colorbar\": {\"outlinewidth\": 0, \"ticks\": \"\"}}, \"type\": \"scattergl\"}], \"scattermapbox\": [{\"marker\": {\"colorbar\": {\"outlinewidth\": 0, \"ticks\": \"\"}}, \"type\": \"scattermapbox\"}], \"scatterpolar\": [{\"marker\": {\"colorbar\": {\"outlinewidth\": 0, \"ticks\": \"\"}}, \"type\": \"scatterpolar\"}], \"scatterpolargl\": [{\"marker\": {\"colorbar\": {\"outlinewidth\": 0, \"ticks\": \"\"}}, \"type\": \"scatterpolargl\"}], \"scatterternary\": [{\"marker\": {\"colorbar\": {\"outlinewidth\": 0, \"ticks\": \"\"}}, \"type\": \"scatterternary\"}], \"surface\": [{\"colorbar\": {\"outlinewidth\": 0, \"ticks\": \"\"}, \"colorscale\": [[0.0, \"#0d0887\"], [0.1111111111111111, \"#46039f\"], [0.2222222222222222, \"#7201a8\"], [0.3333333333333333, \"#9c179e\"], [0.4444444444444444, \"#bd3786\"], [0.5555555555555556, \"#d8576b\"], [0.6666666666666666, \"#ed7953\"], [0.7777777777777778, \"#fb9f3a\"], [0.8888888888888888, \"#fdca26\"], [1.0, \"#f0f921\"]], \"type\": \"surface\"}], \"table\": [{\"cells\": {\"fill\": {\"color\": \"#EBF0F8\"}, \"line\": {\"color\": \"white\"}}, \"header\": {\"fill\": {\"color\": \"#C8D4E3\"}, \"line\": {\"color\": \"white\"}}, \"type\": \"table\"}]}, \"layout\": {\"annotationdefaults\": {\"arrowcolor\": \"#2a3f5f\", \"arrowhead\": 0, \"arrowwidth\": 1}, \"coloraxis\": {\"colorbar\": {\"outlinewidth\": 0, \"ticks\": \"\"}}, \"colorscale\": {\"diverging\": [[0, \"#8e0152\"], [0.1, \"#c51b7d\"], [0.2, \"#de77ae\"], [0.3, \"#f1b6da\"], [0.4, \"#fde0ef\"], [0.5, \"#f7f7f7\"], [0.6, \"#e6f5d0\"], [0.7, \"#b8e186\"], [0.8, \"#7fbc41\"], [0.9, \"#4d9221\"], [1, \"#276419\"]], \"sequential\": [[0.0, \"#0d0887\"], [0.1111111111111111, \"#46039f\"], [0.2222222222222222, \"#7201a8\"], [0.3333333333333333, \"#9c179e\"], [0.4444444444444444, \"#bd3786\"], [0.5555555555555556, \"#d8576b\"], [0.6666666666666666, \"#ed7953\"], [0.7777777777777778, \"#fb9f3a\"], [0.8888888888888888, \"#fdca26\"], [1.0, \"#f0f921\"]], \"sequentialminus\": [[0.0, \"#0d0887\"], [0.1111111111111111, \"#46039f\"], [0.2222222222222222, \"#7201a8\"], [0.3333333333333333, \"#9c179e\"], [0.4444444444444444, \"#bd3786\"], [0.5555555555555556, \"#d8576b\"], [0.6666666666666666, \"#ed7953\"], [0.7777777777777778, \"#fb9f3a\"], [0.8888888888888888, \"#fdca26\"], [1.0, \"#f0f921\"]]}, \"colorway\": [\"#636efa\", \"#EF553B\", \"#00cc96\", \"#ab63fa\", \"#FFA15A\", \"#19d3f3\", \"#FF6692\", \"#B6E880\", \"#FF97FF\", \"#FECB52\"], \"font\": {\"color\": \"#2a3f5f\"}, \"geo\": {\"bgcolor\": \"white\", \"lakecolor\": \"white\", \"landcolor\": \"#E5ECF6\", \"showlakes\": true, \"showland\": true, \"subunitcolor\": \"white\"}, \"hoverlabel\": {\"align\": \"left\"}, \"hovermode\": \"closest\", \"mapbox\": {\"style\": \"light\"}, \"paper_bgcolor\": \"white\", \"plot_bgcolor\": \"#E5ECF6\", \"polar\": {\"angularaxis\": {\"gridcolor\": \"white\", \"linecolor\": \"white\", \"ticks\": \"\"}, \"bgcolor\": \"#E5ECF6\", \"radialaxis\": {\"gridcolor\": \"white\", \"linecolor\": \"white\", \"ticks\": \"\"}}, \"scene\": {\"xaxis\": {\"backgroundcolor\": \"#E5ECF6\", \"gridcolor\": \"white\", \"gridwidth\": 2, \"linecolor\": \"white\", \"showbackground\": true, \"ticks\": \"\", \"zerolinecolor\": \"white\"}, \"yaxis\": {\"backgroundcolor\": \"#E5ECF6\", \"gridcolor\": \"white\", \"gridwidth\": 2, \"linecolor\": \"white\", \"showbackground\": true, \"ticks\": \"\", \"zerolinecolor\": \"white\"}, \"zaxis\": {\"backgroundcolor\": \"#E5ECF6\", \"gridcolor\": \"white\", \"gridwidth\": 2, \"linecolor\": \"white\", \"showbackground\": true, \"ticks\": \"\", \"zerolinecolor\": \"white\"}}, \"shapedefaults\": {\"line\": {\"color\": \"#2a3f5f\"}}, \"ternary\": {\"aaxis\": {\"gridcolor\": \"white\", \"linecolor\": \"white\", \"ticks\": \"\"}, \"baxis\": {\"gridcolor\": \"white\", \"linecolor\": \"white\", \"ticks\": \"\"}, \"bgcolor\": \"#E5ECF6\", \"caxis\": {\"gridcolor\": \"white\", \"linecolor\": \"white\", \"ticks\": \"\"}}, \"title\": {\"x\": 0.05}, \"xaxis\": {\"automargin\": true, \"gridcolor\": \"white\", \"linecolor\": \"white\", \"ticks\": \"\", \"title\": {\"standoff\": 15}, \"zerolinecolor\": \"white\", \"zerolinewidth\": 2}, \"yaxis\": {\"automargin\": true, \"gridcolor\": \"white\", \"linecolor\": \"white\", \"ticks\": \"\", \"title\": {\"standoff\": 15}, \"zerolinecolor\": \"white\", \"zerolinewidth\": 2}}}},\n",
       "                        {\"responsive\": true}\n",
       "                    ).then(function(){\n",
       "                            \n",
       "var gd = document.getElementById('93c36881-719c-46ac-9a69-8fdb585f0efc');\n",
       "var x = new MutationObserver(function (mutations, observer) {{\n",
       "        var display = window.getComputedStyle(gd).display;\n",
       "        if (!display || display === 'none') {{\n",
       "            console.log([gd, 'removed!']);\n",
       "            Plotly.purge(gd);\n",
       "            observer.disconnect();\n",
       "        }}\n",
       "}});\n",
       "\n",
       "// Listen for the removal of the full notebook cells\n",
       "var notebookContainer = gd.closest('#notebook-container');\n",
       "if (notebookContainer) {{\n",
       "    x.observe(notebookContainer, {childList: true});\n",
       "}}\n",
       "\n",
       "// Listen for the clearing of the current output cell\n",
       "var outputEl = gd.closest('.output');\n",
       "if (outputEl) {{\n",
       "    x.observe(outputEl, {childList: true});\n",
       "}}\n",
       "\n",
       "                        })\n",
       "                };\n",
       "                \n",
       "            </script>\n",
       "        </div>\n",
       "</body>\n",
       "</html>"
      ]
     },
     "metadata": {
      "tags": []
     },
     "output_type": "display_data"
    }
   ],
   "source": [
    "# plota os resultados dos modelos e o valor real.\n",
    "import plotly.graph_objects as go\n",
    "\n",
    "# Create traces\n",
    "fig = go.Figure()\n",
    "\n",
    "# Linha com os dados de teste\n",
    "fig.add_trace(go.Scatter(x=df_results.index,\n",
    "                         y=df_results.valor_real,\n",
    "                         mode='markers',\n",
    "                         name='Valor Real'))\n",
    "\n",
    "# Linha com os dados da baseline\n",
    "fig.add_trace(go.Scatter(x=df_results.index,\n",
    "                         y=df_results.valor_predito_baseline,\n",
    "                         mode='lines+markers',\n",
    "                         line = dict(color = '#FF00FF'),\n",
    "                         name='Valor da Baseline'))\n",
    "\n",
    "# Linha com os dados preditos pela arvore\n",
    "fig.add_trace(go.Scatter(x=df_results.index,\n",
    "                         y=df_results.valor_predito_arvore,\n",
    "                         mode='lines',\n",
    "                         line = dict(color = '#B2FF66'),\n",
    "                         name='Valor Predito Árvore'))\n",
    "\n",
    "# Linha com os dados preditos pela regressão linear\n",
    "fig.add_trace(go.Scatter(x=df_results.index,\n",
    "                         y=df_results.valor_predito_reg_linear,\n",
    "                         mode='lines',\n",
    "                         line = dict(color = '#17BECF'),\n",
    "                         name='Valor Predito Regressão Linear'))\n",
    "\n",
    "\n",
    "# Linha com os dados preditos pela Random Forest\n",
    "fig.add_trace(go.Scatter(x=df_results.index,\n",
    "                         y=df_results.valor_predito_random_forest,\n",
    "                         mode='lines',\n",
    "                         line = dict(color = '#7F7F7F'),\n",
    "                         name='Valor Predito Random Forest'))\n",
    "\n",
    "# Plota a figura\n",
    "fig.show()"
   ]
  },
  {
   "cell_type": "markdown",
   "metadata": {
    "id": "udB7k-TMe9tj"
   },
   "source": [
    "### Tunning do Algoritmo de Machine Learning"
   ]
  },
  {
   "cell_type": "markdown",
   "metadata": {
    "id": "-ivExBIzzrmX"
   },
   "source": [
    "**Parâmetros da Random Forest**\n",
    "\n",
    "- `O parâmetro n_estimators define a quantidade de árvores que serão usadas para criação dos modelos. Quanto maior o número de árvores, maior será o número de modelos no ensemble.`\n",
    "\n",
    "- `O parâmtro max_deph define a profundidade da árvore, quanto mais profunda a árvore, mais especializado nos dados de treino o nosso modelo estará.`\n",
    "\n",
    "- `O parâmetro max_features define a quantidade máxima de nós que serão usados para separar os níveis folha da árvore`"
   ]
  },
  {
   "cell_type": "markdown",
   "metadata": {
    "id": "Kt1_TcBfWn31"
   },
   "source": [
    "Deploy da Aplicação"
   ]
  },
  {
   "cell_type": "code",
   "execution_count": null,
   "metadata": {
    "id": "o_vwA3soYjYq"
   },
   "outputs": [],
   "source": [
    "X['MEDV'] = y"
   ]
  },
  {
   "cell_type": "code",
   "execution_count": null,
   "metadata": {
    "colab": {
     "base_uri": "https://localhost:8080/",
     "height": 191
    },
    "executionInfo": {
     "elapsed": 575,
     "status": "ok",
     "timestamp": 1589762206663,
     "user": {
      "displayName": "Carlos Eduardo Ramos",
      "photoUrl": "https://lh3.googleusercontent.com/a-/AOh14Girfo8mrae_OWZZG95sEc5f3DNmMM0k7I9Qw1Za=s64",
      "userId": "01761804650114495504"
     },
     "user_tz": 180
    },
    "id": "x5-qVIdOZwdt",
    "outputId": "39a4ce6f-ef2c-4198-d203-60cc694cb3b3"
   },
   "outputs": [
    {
     "data": {
      "text/html": [
       "<div>\n",
       "<style scoped>\n",
       "    .dataframe tbody tr th:only-of-type {\n",
       "        vertical-align: middle;\n",
       "    }\n",
       "\n",
       "    .dataframe tbody tr th {\n",
       "        vertical-align: top;\n",
       "    }\n",
       "\n",
       "    .dataframe thead th {\n",
       "        text-align: right;\n",
       "    }\n",
       "</style>\n",
       "<table border=\"1\" class=\"dataframe\">\n",
       "  <thead>\n",
       "    <tr style=\"text-align: right;\">\n",
       "      <th></th>\n",
       "      <th>CRIM</th>\n",
       "      <th>INDUS</th>\n",
       "      <th>CHAS</th>\n",
       "      <th>NOX</th>\n",
       "      <th>RM</th>\n",
       "      <th>PTRATIO</th>\n",
       "      <th>B</th>\n",
       "      <th>LSTAT</th>\n",
       "      <th>MEDV</th>\n",
       "    </tr>\n",
       "  </thead>\n",
       "  <tbody>\n",
       "    <tr>\n",
       "      <th>0</th>\n",
       "      <td>0.00632</td>\n",
       "      <td>2.31</td>\n",
       "      <td>0.0</td>\n",
       "      <td>0.538</td>\n",
       "      <td>6</td>\n",
       "      <td>15.3</td>\n",
       "      <td>396.90</td>\n",
       "      <td>4.98</td>\n",
       "      <td>24.0</td>\n",
       "    </tr>\n",
       "    <tr>\n",
       "      <th>1</th>\n",
       "      <td>0.02731</td>\n",
       "      <td>7.07</td>\n",
       "      <td>0.0</td>\n",
       "      <td>0.469</td>\n",
       "      <td>6</td>\n",
       "      <td>17.8</td>\n",
       "      <td>396.90</td>\n",
       "      <td>9.14</td>\n",
       "      <td>21.6</td>\n",
       "    </tr>\n",
       "    <tr>\n",
       "      <th>2</th>\n",
       "      <td>0.02729</td>\n",
       "      <td>7.07</td>\n",
       "      <td>0.0</td>\n",
       "      <td>0.469</td>\n",
       "      <td>7</td>\n",
       "      <td>17.8</td>\n",
       "      <td>392.83</td>\n",
       "      <td>4.03</td>\n",
       "      <td>34.7</td>\n",
       "    </tr>\n",
       "    <tr>\n",
       "      <th>3</th>\n",
       "      <td>0.03237</td>\n",
       "      <td>2.18</td>\n",
       "      <td>0.0</td>\n",
       "      <td>0.458</td>\n",
       "      <td>6</td>\n",
       "      <td>18.7</td>\n",
       "      <td>394.63</td>\n",
       "      <td>2.94</td>\n",
       "      <td>33.4</td>\n",
       "    </tr>\n",
       "    <tr>\n",
       "      <th>4</th>\n",
       "      <td>0.06905</td>\n",
       "      <td>2.18</td>\n",
       "      <td>0.0</td>\n",
       "      <td>0.458</td>\n",
       "      <td>7</td>\n",
       "      <td>18.7</td>\n",
       "      <td>396.90</td>\n",
       "      <td>5.33</td>\n",
       "      <td>36.2</td>\n",
       "    </tr>\n",
       "  </tbody>\n",
       "</table>\n",
       "</div>"
      ],
      "text/plain": [
       "      CRIM  INDUS  CHAS    NOX  RM  PTRATIO       B  LSTAT  MEDV\n",
       "0  0.00632   2.31   0.0  0.538   6     15.3  396.90   4.98  24.0\n",
       "1  0.02731   7.07   0.0  0.469   6     17.8  396.90   9.14  21.6\n",
       "2  0.02729   7.07   0.0  0.469   7     17.8  392.83   4.03  34.7\n",
       "3  0.03237   2.18   0.0  0.458   6     18.7  394.63   2.94  33.4\n",
       "4  0.06905   2.18   0.0  0.458   7     18.7  396.90   5.33  36.2"
      ]
     },
     "execution_count": 94,
     "metadata": {
      "tags": []
     },
     "output_type": "execute_result"
    }
   ],
   "source": [
    "X.head()"
   ]
  },
  {
   "cell_type": "code",
   "execution_count": null,
   "metadata": {
    "id": "vbPO7woOa7N0"
   },
   "outputs": [],
   "source": [
    "X.to_csv('data.csv', index=False)"
   ]
  }
 ],
 "metadata": {
  "anaconda-cloud": {},
  "colab": {
   "collapsed_sections": [],
   "name": "PredicaoValoresAluguelImoveis.ipynb",
   "provenance": []
  },
  "kernelspec": {
   "display_name": "Python 3",
   "language": "python",
   "name": "python3"
  },
  "language_info": {
   "codemirror_mode": {
    "name": "ipython",
    "version": 3
   },
   "file_extension": ".py",
   "mimetype": "text/x-python",
   "name": "python",
   "nbconvert_exporter": "python",
   "pygments_lexer": "ipython3",
   "version": "3.8.8"
  }
 },
 "nbformat": 4,
 "nbformat_minor": 1
}
