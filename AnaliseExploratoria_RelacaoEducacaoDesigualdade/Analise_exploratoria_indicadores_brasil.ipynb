{
 "cells": [
  {
   "cell_type": "markdown",
   "metadata": {
    "id": "QtKssBsPlwE-"
   },
   "source": [
    "# Análise Exploratória de Indicadores Sócioeconomicos do Brasil (1984-2016)\n"
   ]
  },
  {
   "cell_type": "markdown",
   "metadata": {
    "id": "GIc4DNtwNfR6"
   },
   "source": [
    "# Contexto\n",
    "\n",
    "Os indicadores economicos e sociais tem como principal finalidade permitir a medição da situação e evolução de um país em seus vários aspectos.\n",
    "\n",
    "O objetivo deste projeto é realizar uma análise exploratória com os dados dos indicadores socioeconomicos do Brasil. Dentre as etapas, vamos realizar a coleta dos dados, preparação dos dados, exploração inicial e a visualização dos indicadores.\n",
    "\n",
    "\n",
    "A obtenção e coleta dos dados foi realizada no [GapMinder](https://www.gapminder.org/) e no [WID](https://wid.world/data/).\n",
    "\n",
    "Para os dados do GapMinder, selecionamos os indicadores:\n",
    "  *   **Índice De Desigualdade (GINI)**\n",
    "\n",
    "> Mede o grau de concentração de renda em determinado grupo. Ele aponta a diferença entre os rendimentos dos mais pobres e dos mais ricos.\n",
    "Numericamente, varia de zero a cem, onde o valor zero representa a situação de igualdade, ou seja, todos têm a mesma renda. O valor cem está no extremo oposto, de modo que uma só pessoa detém toda a riqueza.\n",
    "\n",
    "  *   **Índice De Educação (OWID)**\n",
    "\n",
    "> Mede a taxa de alfabetização de adultos e a taxa de escolarização. A taxa de alfabetização de adultos dá uma indicação da capacidade de ler e escrever, enquanto a taxa de escolarização dá uma indicação do nível de educação da creche ao ensino de pós-graduação. O valor máximo da pontuação é cem, que corresponde à educação perfeita a ser alcançada.\n",
    "\n",
    "\n",
    "Já nos dados do WID, selecionamos os indicadores de:\n",
    "\n",
    "  *   **Concentração da Renda Nacional dos 10% mais ricos**\n",
    "\n",
    "> Calcula a porcentagem da concentração da renda dos 10% mais ricos do Brasil.Valores mais próximo de um, indicam que os 10% mais ricos detém maior concentração da renda de todo o país.\n",
    "\n",
    "  *   **Renda Per Capita**\n",
    "\n",
    "> A média é obtida através da divisão do Produto Interno Bruto (PIB) pelo número total de habitantes.\n",
    "\n",
    "\n",
    "Para todos os indicadores escolhidos, optamos por analisar somente os dados do Brasil, entre os anos de 1984 e 2016.\n",
    "\n",
    "\n",
    "Na implementação da análise utilizamos a linguagem Python, com o aparato das bibliotecas: Pandas, Numpy, Matplotlib e Seaborn."
   ]
  },
  {
   "cell_type": "markdown",
   "metadata": {
    "id": "75FrnYiuoaWc"
   },
   "source": [
    "# Implementação\n",
    "\n",
    "Vamos iniciar a nossa análise!"
   ]
  },
  {
   "cell_type": "markdown",
   "metadata": {
    "id": "ZtRWfTuZEVK0"
   },
   "source": [
    "## Coleta de Dados\n",
    "\n"
   ]
  },
  {
   "cell_type": "markdown",
   "metadata": {
    "id": "iOrWnqe4oiJq"
   },
   "source": [
    "### Imports básicos"
   ]
  },
  {
   "cell_type": "code",
   "execution_count": 1,
   "metadata": {
    "id": "_DhMdLgsokPJ"
   },
   "outputs": [],
   "source": [
    "import pandas as pd\n",
    "import numpy as np\n",
    "import matplotlib.pyplot as plt\n",
    "import matplotlib as mpl\n",
    "import seaborn as sns\n",
    "#import seaborn as sns \n",
    "%matplotlib inline\n",
    "import urllib.request\n",
    "import re\n"
   ]
  },
  {
   "cell_type": "markdown",
   "metadata": {
    "id": "__vD7CDwopeS"
   },
   "source": [
    "### Lendo o DataSet com os dados de Desiguladade\n",
    "\n",
    "Os arquivos CSV com os índices coletados no GapMiner foram alocados nesta pasta.\n",
    "\n",
    "Vamos acessar os arquivos e armazenar o conteúdo deles em DataFrames do pandas."
   ]
  },
  {
   "cell_type": "code",
   "execution_count": 4,
   "metadata": {
    "colab": {
     "base_uri": "https://localhost:8080/",
     "height": 273
    },
    "id": "gnj_F78zpgpB",
    "outputId": "a942f9a5-1dc6-4acc-808a-9bbe210fff10"
   },
   "outputs": [
    {
     "data": {
      "text/html": [
       "<div>\n",
       "<style scoped>\n",
       "    .dataframe tbody tr th:only-of-type {\n",
       "        vertical-align: middle;\n",
       "    }\n",
       "\n",
       "    .dataframe tbody tr th {\n",
       "        vertical-align: top;\n",
       "    }\n",
       "\n",
       "    .dataframe thead th {\n",
       "        text-align: right;\n",
       "    }\n",
       "</style>\n",
       "<table border=\"1\" class=\"dataframe\">\n",
       "  <thead>\n",
       "    <tr style=\"text-align: right;\">\n",
       "      <th></th>\n",
       "      <th>country</th>\n",
       "      <th>1799</th>\n",
       "      <th>1800</th>\n",
       "      <th>1801</th>\n",
       "      <th>1802</th>\n",
       "      <th>1803</th>\n",
       "      <th>1804</th>\n",
       "      <th>1805</th>\n",
       "      <th>1806</th>\n",
       "      <th>1807</th>\n",
       "      <th>...</th>\n",
       "      <th>2030</th>\n",
       "      <th>2031</th>\n",
       "      <th>2032</th>\n",
       "      <th>2033</th>\n",
       "      <th>2034</th>\n",
       "      <th>2035</th>\n",
       "      <th>2036</th>\n",
       "      <th>2037</th>\n",
       "      <th>2038</th>\n",
       "      <th>2039</th>\n",
       "    </tr>\n",
       "  </thead>\n",
       "  <tbody>\n",
       "    <tr>\n",
       "      <th>0</th>\n",
       "      <td>Afghanistan</td>\n",
       "      <td>30.5</td>\n",
       "      <td>30.5</td>\n",
       "      <td>30.5</td>\n",
       "      <td>30.5</td>\n",
       "      <td>30.5</td>\n",
       "      <td>30.5</td>\n",
       "      <td>30.5</td>\n",
       "      <td>30.5</td>\n",
       "      <td>30.5</td>\n",
       "      <td>...</td>\n",
       "      <td>36.8</td>\n",
       "      <td>36.8</td>\n",
       "      <td>36.8</td>\n",
       "      <td>36.8</td>\n",
       "      <td>36.8</td>\n",
       "      <td>36.8</td>\n",
       "      <td>36.8</td>\n",
       "      <td>36.8</td>\n",
       "      <td>36.8</td>\n",
       "      <td>36.8</td>\n",
       "    </tr>\n",
       "    <tr>\n",
       "      <th>1</th>\n",
       "      <td>Angola</td>\n",
       "      <td>57.2</td>\n",
       "      <td>57.2</td>\n",
       "      <td>57.2</td>\n",
       "      <td>57.2</td>\n",
       "      <td>57.2</td>\n",
       "      <td>57.2</td>\n",
       "      <td>57.2</td>\n",
       "      <td>57.2</td>\n",
       "      <td>57.2</td>\n",
       "      <td>...</td>\n",
       "      <td>42.6</td>\n",
       "      <td>42.6</td>\n",
       "      <td>42.6</td>\n",
       "      <td>42.6</td>\n",
       "      <td>42.6</td>\n",
       "      <td>42.6</td>\n",
       "      <td>42.6</td>\n",
       "      <td>42.6</td>\n",
       "      <td>42.6</td>\n",
       "      <td>42.6</td>\n",
       "    </tr>\n",
       "    <tr>\n",
       "      <th>2</th>\n",
       "      <td>Albania</td>\n",
       "      <td>38.9</td>\n",
       "      <td>38.9</td>\n",
       "      <td>38.9</td>\n",
       "      <td>38.9</td>\n",
       "      <td>38.9</td>\n",
       "      <td>38.9</td>\n",
       "      <td>38.9</td>\n",
       "      <td>38.9</td>\n",
       "      <td>38.9</td>\n",
       "      <td>...</td>\n",
       "      <td>29.0</td>\n",
       "      <td>29.0</td>\n",
       "      <td>29.0</td>\n",
       "      <td>29.0</td>\n",
       "      <td>29.0</td>\n",
       "      <td>29.0</td>\n",
       "      <td>29.0</td>\n",
       "      <td>29.0</td>\n",
       "      <td>29.0</td>\n",
       "      <td>29.0</td>\n",
       "    </tr>\n",
       "    <tr>\n",
       "      <th>3</th>\n",
       "      <td>Andorra</td>\n",
       "      <td>40.0</td>\n",
       "      <td>40.0</td>\n",
       "      <td>40.0</td>\n",
       "      <td>40.0</td>\n",
       "      <td>40.0</td>\n",
       "      <td>40.0</td>\n",
       "      <td>40.0</td>\n",
       "      <td>40.0</td>\n",
       "      <td>40.0</td>\n",
       "      <td>...</td>\n",
       "      <td>40.0</td>\n",
       "      <td>40.0</td>\n",
       "      <td>40.0</td>\n",
       "      <td>40.0</td>\n",
       "      <td>40.0</td>\n",
       "      <td>40.0</td>\n",
       "      <td>40.0</td>\n",
       "      <td>40.0</td>\n",
       "      <td>40.0</td>\n",
       "      <td>40.0</td>\n",
       "    </tr>\n",
       "    <tr>\n",
       "      <th>4</th>\n",
       "      <td>United Arab Emirates</td>\n",
       "      <td>40.0</td>\n",
       "      <td>40.0</td>\n",
       "      <td>40.0</td>\n",
       "      <td>40.0</td>\n",
       "      <td>40.0</td>\n",
       "      <td>40.0</td>\n",
       "      <td>40.0</td>\n",
       "      <td>40.0</td>\n",
       "      <td>40.0</td>\n",
       "      <td>...</td>\n",
       "      <td>40.0</td>\n",
       "      <td>40.0</td>\n",
       "      <td>40.0</td>\n",
       "      <td>40.0</td>\n",
       "      <td>40.0</td>\n",
       "      <td>40.0</td>\n",
       "      <td>40.0</td>\n",
       "      <td>40.0</td>\n",
       "      <td>40.0</td>\n",
       "      <td>40.0</td>\n",
       "    </tr>\n",
       "  </tbody>\n",
       "</table>\n",
       "<p>5 rows × 242 columns</p>\n",
       "</div>"
      ],
      "text/plain": [
       "                country  1799  1800  1801  1802  1803  1804  1805  1806  1807  \\\n",
       "0           Afghanistan  30.5  30.5  30.5  30.5  30.5  30.5  30.5  30.5  30.5   \n",
       "1                Angola  57.2  57.2  57.2  57.2  57.2  57.2  57.2  57.2  57.2   \n",
       "2               Albania  38.9  38.9  38.9  38.9  38.9  38.9  38.9  38.9  38.9   \n",
       "3               Andorra  40.0  40.0  40.0  40.0  40.0  40.0  40.0  40.0  40.0   \n",
       "4  United Arab Emirates  40.0  40.0  40.0  40.0  40.0  40.0  40.0  40.0  40.0   \n",
       "\n",
       "   ...  2030  2031  2032  2033  2034  2035  2036  2037  2038  2039  \n",
       "0  ...  36.8  36.8  36.8  36.8  36.8  36.8  36.8  36.8  36.8  36.8  \n",
       "1  ...  42.6  42.6  42.6  42.6  42.6  42.6  42.6  42.6  42.6  42.6  \n",
       "2  ...  29.0  29.0  29.0  29.0  29.0  29.0  29.0  29.0  29.0  29.0  \n",
       "3  ...  40.0  40.0  40.0  40.0  40.0  40.0  40.0  40.0  40.0  40.0  \n",
       "4  ...  40.0  40.0  40.0  40.0  40.0  40.0  40.0  40.0  40.0  40.0  \n",
       "\n",
       "[5 rows x 242 columns]"
      ]
     },
     "execution_count": 4,
     "metadata": {},
     "output_type": "execute_result"
    }
   ],
   "source": [
    "df_desigualdade = pd.read_csv(\"gini.csv\")\n",
    "df_desigualdade.head()"
   ]
  },
  {
   "cell_type": "markdown",
   "metadata": {
    "id": "Mvi12go8p6jM"
   },
   "source": [
    "### Preparação dos Dados\n",
    "\n",
    "Neste trabalho, iremos analisar os dados de Desigualdade e Escolaridade do Brasil. Como o GapMiner apresenta os índices de diversos países no data set, precisamos separar os dados do Brasil e depois iremos unir os dados para fazer nossa analise. "
   ]
  },
  {
   "cell_type": "code",
   "execution_count": 5,
   "metadata": {
    "colab": {
     "base_uri": "https://localhost:8080/",
     "height": 130
    },
    "id": "f5rynCsxqzYZ",
    "outputId": "a270610b-7835-4925-d922-3a5a1a80cd0e"
   },
   "outputs": [
    {
     "data": {
      "text/html": [
       "<div>\n",
       "<style scoped>\n",
       "    .dataframe tbody tr th:only-of-type {\n",
       "        vertical-align: middle;\n",
       "    }\n",
       "\n",
       "    .dataframe tbody tr th {\n",
       "        vertical-align: top;\n",
       "    }\n",
       "\n",
       "    .dataframe thead th {\n",
       "        text-align: right;\n",
       "    }\n",
       "</style>\n",
       "<table border=\"1\" class=\"dataframe\">\n",
       "  <thead>\n",
       "    <tr style=\"text-align: right;\">\n",
       "      <th></th>\n",
       "      <th>country</th>\n",
       "      <th>1799</th>\n",
       "      <th>1800</th>\n",
       "      <th>1801</th>\n",
       "      <th>1802</th>\n",
       "      <th>1803</th>\n",
       "      <th>1804</th>\n",
       "      <th>1805</th>\n",
       "      <th>1806</th>\n",
       "      <th>1807</th>\n",
       "      <th>...</th>\n",
       "      <th>2030</th>\n",
       "      <th>2031</th>\n",
       "      <th>2032</th>\n",
       "      <th>2033</th>\n",
       "      <th>2034</th>\n",
       "      <th>2035</th>\n",
       "      <th>2036</th>\n",
       "      <th>2037</th>\n",
       "      <th>2038</th>\n",
       "      <th>2039</th>\n",
       "    </tr>\n",
       "  </thead>\n",
       "  <tbody>\n",
       "    <tr>\n",
       "      <th>23</th>\n",
       "      <td>Brazil</td>\n",
       "      <td>37.9</td>\n",
       "      <td>37.9</td>\n",
       "      <td>37.9</td>\n",
       "      <td>37.9</td>\n",
       "      <td>37.9</td>\n",
       "      <td>37.9</td>\n",
       "      <td>37.9</td>\n",
       "      <td>37.9</td>\n",
       "      <td>37.9</td>\n",
       "      <td>...</td>\n",
       "      <td>51.3</td>\n",
       "      <td>51.3</td>\n",
       "      <td>51.3</td>\n",
       "      <td>51.3</td>\n",
       "      <td>51.3</td>\n",
       "      <td>51.3</td>\n",
       "      <td>51.3</td>\n",
       "      <td>51.3</td>\n",
       "      <td>51.3</td>\n",
       "      <td>51.3</td>\n",
       "    </tr>\n",
       "  </tbody>\n",
       "</table>\n",
       "<p>1 rows × 242 columns</p>\n",
       "</div>"
      ],
      "text/plain": [
       "   country  1799  1800  1801  1802  1803  1804  1805  1806  1807  ...  2030  \\\n",
       "23  Brazil  37.9  37.9  37.9  37.9  37.9  37.9  37.9  37.9  37.9  ...  51.3   \n",
       "\n",
       "    2031  2032  2033  2034  2035  2036  2037  2038  2039  \n",
       "23  51.3  51.3  51.3  51.3  51.3  51.3  51.3  51.3  51.3  \n",
       "\n",
       "[1 rows x 242 columns]"
      ]
     },
     "execution_count": 5,
     "metadata": {},
     "output_type": "execute_result"
    }
   ],
   "source": [
    "df_desigualdade_br = df_desigualdade[df_desigualdade.country == 'Brazil'] \n",
    "df_desigualdade_br.head()"
   ]
  },
  {
   "cell_type": "markdown",
   "metadata": {
    "id": "FvXH9gjbsK2m"
   },
   "source": [
    "Transformando as colunas da série temporal em linhas"
   ]
  },
  {
   "cell_type": "code",
   "execution_count": 6,
   "metadata": {
    "colab": {
     "base_uri": "https://localhost:8080/",
     "height": 206
    },
    "id": "SjP7GdMjrcuY",
    "outputId": "b0fae510-8b2c-463a-a080-12f59ecc4e64"
   },
   "outputs": [
    {
     "data": {
      "text/html": [
       "<div>\n",
       "<style scoped>\n",
       "    .dataframe tbody tr th:only-of-type {\n",
       "        vertical-align: middle;\n",
       "    }\n",
       "\n",
       "    .dataframe tbody tr th {\n",
       "        vertical-align: top;\n",
       "    }\n",
       "\n",
       "    .dataframe thead th {\n",
       "        text-align: right;\n",
       "    }\n",
       "</style>\n",
       "<table border=\"1\" class=\"dataframe\">\n",
       "  <thead>\n",
       "    <tr style=\"text-align: right;\">\n",
       "      <th></th>\n",
       "      <th>country</th>\n",
       "      <th>variable</th>\n",
       "      <th>value</th>\n",
       "    </tr>\n",
       "  </thead>\n",
       "  <tbody>\n",
       "    <tr>\n",
       "      <th>0</th>\n",
       "      <td>Brazil</td>\n",
       "      <td>1799</td>\n",
       "      <td>37.9</td>\n",
       "    </tr>\n",
       "    <tr>\n",
       "      <th>1</th>\n",
       "      <td>Brazil</td>\n",
       "      <td>1800</td>\n",
       "      <td>37.9</td>\n",
       "    </tr>\n",
       "    <tr>\n",
       "      <th>2</th>\n",
       "      <td>Brazil</td>\n",
       "      <td>1801</td>\n",
       "      <td>37.9</td>\n",
       "    </tr>\n",
       "    <tr>\n",
       "      <th>3</th>\n",
       "      <td>Brazil</td>\n",
       "      <td>1802</td>\n",
       "      <td>37.9</td>\n",
       "    </tr>\n",
       "    <tr>\n",
       "      <th>4</th>\n",
       "      <td>Brazil</td>\n",
       "      <td>1803</td>\n",
       "      <td>37.9</td>\n",
       "    </tr>\n",
       "  </tbody>\n",
       "</table>\n",
       "</div>"
      ],
      "text/plain": [
       "  country variable  value\n",
       "0  Brazil     1799   37.9\n",
       "1  Brazil     1800   37.9\n",
       "2  Brazil     1801   37.9\n",
       "3  Brazil     1802   37.9\n",
       "4  Brazil     1803   37.9"
      ]
     },
     "execution_count": 6,
     "metadata": {},
     "output_type": "execute_result"
    }
   ],
   "source": [
    "df_idesigualdade_br = pd.melt(df_desigualdade_br, id_vars=['country'])\n",
    "df_idesigualdade_br.head()"
   ]
  },
  {
   "cell_type": "markdown",
   "metadata": {
    "id": "MgJY0nQ4sKJg"
   },
   "source": [
    "Ajustando os nomes das colunas"
   ]
  },
  {
   "cell_type": "code",
   "execution_count": 7,
   "metadata": {
    "colab": {
     "base_uri": "https://localhost:8080/",
     "height": 206
    },
    "id": "6WtzO1jMsJtg",
    "outputId": "1ff5ec7c-70d7-4661-f224-eb648a9c5505"
   },
   "outputs": [
    {
     "data": {
      "text/html": [
       "<div>\n",
       "<style scoped>\n",
       "    .dataframe tbody tr th:only-of-type {\n",
       "        vertical-align: middle;\n",
       "    }\n",
       "\n",
       "    .dataframe tbody tr th {\n",
       "        vertical-align: top;\n",
       "    }\n",
       "\n",
       "    .dataframe thead th {\n",
       "        text-align: right;\n",
       "    }\n",
       "</style>\n",
       "<table border=\"1\" class=\"dataframe\">\n",
       "  <thead>\n",
       "    <tr style=\"text-align: right;\">\n",
       "      <th></th>\n",
       "      <th>country</th>\n",
       "      <th>year</th>\n",
       "      <th>gini_index</th>\n",
       "    </tr>\n",
       "  </thead>\n",
       "  <tbody>\n",
       "    <tr>\n",
       "      <th>0</th>\n",
       "      <td>Brazil</td>\n",
       "      <td>1799</td>\n",
       "      <td>37.9</td>\n",
       "    </tr>\n",
       "    <tr>\n",
       "      <th>1</th>\n",
       "      <td>Brazil</td>\n",
       "      <td>1800</td>\n",
       "      <td>37.9</td>\n",
       "    </tr>\n",
       "    <tr>\n",
       "      <th>2</th>\n",
       "      <td>Brazil</td>\n",
       "      <td>1801</td>\n",
       "      <td>37.9</td>\n",
       "    </tr>\n",
       "    <tr>\n",
       "      <th>3</th>\n",
       "      <td>Brazil</td>\n",
       "      <td>1802</td>\n",
       "      <td>37.9</td>\n",
       "    </tr>\n",
       "    <tr>\n",
       "      <th>4</th>\n",
       "      <td>Brazil</td>\n",
       "      <td>1803</td>\n",
       "      <td>37.9</td>\n",
       "    </tr>\n",
       "  </tbody>\n",
       "</table>\n",
       "</div>"
      ],
      "text/plain": [
       "  country  year  gini_index\n",
       "0  Brazil  1799        37.9\n",
       "1  Brazil  1800        37.9\n",
       "2  Brazil  1801        37.9\n",
       "3  Brazil  1802        37.9\n",
       "4  Brazil  1803        37.9"
      ]
     },
     "execution_count": 7,
     "metadata": {},
     "output_type": "execute_result"
    }
   ],
   "source": [
    "df_idesigualdade_br = df_idesigualdade_br.rename(columns={'variable':'year',\n",
    "                                                          'value':'gini_index'})\n",
    "df_idesigualdade_br.head()"
   ]
  },
  {
   "cell_type": "markdown",
   "metadata": {
    "id": "JWNd_lOKpVqK"
   },
   "source": [
    "### Lendo o DataSet com os dados de Educação\n",
    "\n",
    "Os arquivos CSV com os índices coletados no GapMiner foram alocados nesta pasta.\n",
    "\n",
    "Vamos acessar os arquivos e armazenar o conteúdo deles em DataFrames do pandas."
   ]
  },
  {
   "cell_type": "code",
   "execution_count": 9,
   "metadata": {
    "colab": {
     "base_uri": "https://localhost:8080/",
     "height": 273
    },
    "id": "7ilm-0pmtQcY",
    "outputId": "f70838df-ec79-4a05-f489-085c7d86014a"
   },
   "outputs": [
    {
     "data": {
      "text/html": [
       "<div>\n",
       "<style scoped>\n",
       "    .dataframe tbody tr th:only-of-type {\n",
       "        vertical-align: middle;\n",
       "    }\n",
       "\n",
       "    .dataframe tbody tr th {\n",
       "        vertical-align: top;\n",
       "    }\n",
       "\n",
       "    .dataframe thead th {\n",
       "        text-align: right;\n",
       "    }\n",
       "</style>\n",
       "<table border=\"1\" class=\"dataframe\">\n",
       "  <thead>\n",
       "    <tr style=\"text-align: right;\">\n",
       "      <th></th>\n",
       "      <th>country</th>\n",
       "      <th>1869</th>\n",
       "      <th>1874</th>\n",
       "      <th>1875</th>\n",
       "      <th>1876</th>\n",
       "      <th>1877</th>\n",
       "      <th>1878</th>\n",
       "      <th>1879</th>\n",
       "      <th>1880</th>\n",
       "      <th>1881</th>\n",
       "      <th>...</th>\n",
       "      <th>2007</th>\n",
       "      <th>2008</th>\n",
       "      <th>2009</th>\n",
       "      <th>2010</th>\n",
       "      <th>2011</th>\n",
       "      <th>2012</th>\n",
       "      <th>2013</th>\n",
       "      <th>2014</th>\n",
       "      <th>2015</th>\n",
       "      <th>2016</th>\n",
       "    </tr>\n",
       "  </thead>\n",
       "  <tbody>\n",
       "    <tr>\n",
       "      <th>0</th>\n",
       "      <td>Afghanistan</td>\n",
       "      <td>0.0667</td>\n",
       "      <td>0.0667</td>\n",
       "      <td>NaN</td>\n",
       "      <td>NaN</td>\n",
       "      <td>NaN</td>\n",
       "      <td>NaN</td>\n",
       "      <td>0.0667</td>\n",
       "      <td>NaN</td>\n",
       "      <td>NaN</td>\n",
       "      <td>...</td>\n",
       "      <td>20.0</td>\n",
       "      <td>20.7</td>\n",
       "      <td>21.3</td>\n",
       "      <td>22.0</td>\n",
       "      <td>22.7</td>\n",
       "      <td>23.3</td>\n",
       "      <td>23.3</td>\n",
       "      <td>24.0</td>\n",
       "      <td>24.0</td>\n",
       "      <td>25.3</td>\n",
       "    </tr>\n",
       "    <tr>\n",
       "      <th>1</th>\n",
       "      <td>Angola</td>\n",
       "      <td>NaN</td>\n",
       "      <td>NaN</td>\n",
       "      <td>NaN</td>\n",
       "      <td>NaN</td>\n",
       "      <td>NaN</td>\n",
       "      <td>NaN</td>\n",
       "      <td>NaN</td>\n",
       "      <td>NaN</td>\n",
       "      <td>NaN</td>\n",
       "      <td>...</td>\n",
       "      <td>30.7</td>\n",
       "      <td>31.3</td>\n",
       "      <td>31.3</td>\n",
       "      <td>31.3</td>\n",
       "      <td>32.0</td>\n",
       "      <td>32.7</td>\n",
       "      <td>32.7</td>\n",
       "      <td>33.3</td>\n",
       "      <td>34.0</td>\n",
       "      <td>34.0</td>\n",
       "    </tr>\n",
       "    <tr>\n",
       "      <th>2</th>\n",
       "      <td>Albania</td>\n",
       "      <td>0.1330</td>\n",
       "      <td>0.1330</td>\n",
       "      <td>NaN</td>\n",
       "      <td>NaN</td>\n",
       "      <td>NaN</td>\n",
       "      <td>NaN</td>\n",
       "      <td>0.1330</td>\n",
       "      <td>NaN</td>\n",
       "      <td>NaN</td>\n",
       "      <td>...</td>\n",
       "      <td>61.3</td>\n",
       "      <td>62.0</td>\n",
       "      <td>62.0</td>\n",
       "      <td>62.0</td>\n",
       "      <td>64.0</td>\n",
       "      <td>64.7</td>\n",
       "      <td>64.7</td>\n",
       "      <td>64.7</td>\n",
       "      <td>66.7</td>\n",
       "      <td>66.7</td>\n",
       "    </tr>\n",
       "    <tr>\n",
       "      <th>3</th>\n",
       "      <td>Andorra</td>\n",
       "      <td>NaN</td>\n",
       "      <td>NaN</td>\n",
       "      <td>NaN</td>\n",
       "      <td>NaN</td>\n",
       "      <td>NaN</td>\n",
       "      <td>NaN</td>\n",
       "      <td>NaN</td>\n",
       "      <td>NaN</td>\n",
       "      <td>NaN</td>\n",
       "      <td>...</td>\n",
       "      <td>67.3</td>\n",
       "      <td>67.3</td>\n",
       "      <td>67.3</td>\n",
       "      <td>68.0</td>\n",
       "      <td>68.0</td>\n",
       "      <td>68.0</td>\n",
       "      <td>68.0</td>\n",
       "      <td>68.0</td>\n",
       "      <td>68.0</td>\n",
       "      <td>68.0</td>\n",
       "    </tr>\n",
       "    <tr>\n",
       "      <th>4</th>\n",
       "      <td>United Arab Emirates</td>\n",
       "      <td>NaN</td>\n",
       "      <td>NaN</td>\n",
       "      <td>NaN</td>\n",
       "      <td>NaN</td>\n",
       "      <td>NaN</td>\n",
       "      <td>NaN</td>\n",
       "      <td>NaN</td>\n",
       "      <td>NaN</td>\n",
       "      <td>NaN</td>\n",
       "      <td>...</td>\n",
       "      <td>64.0</td>\n",
       "      <td>64.7</td>\n",
       "      <td>66.0</td>\n",
       "      <td>66.7</td>\n",
       "      <td>68.0</td>\n",
       "      <td>68.7</td>\n",
       "      <td>70.0</td>\n",
       "      <td>70.7</td>\n",
       "      <td>72.0</td>\n",
       "      <td>72.0</td>\n",
       "    </tr>\n",
       "  </tbody>\n",
       "</table>\n",
       "<p>5 rows × 145 columns</p>\n",
       "</div>"
      ],
      "text/plain": [
       "                country    1869    1874  1875  1876  1877  1878    1879  1880  \\\n",
       "0           Afghanistan  0.0667  0.0667   NaN   NaN   NaN   NaN  0.0667   NaN   \n",
       "1                Angola     NaN     NaN   NaN   NaN   NaN   NaN     NaN   NaN   \n",
       "2               Albania  0.1330  0.1330   NaN   NaN   NaN   NaN  0.1330   NaN   \n",
       "3               Andorra     NaN     NaN   NaN   NaN   NaN   NaN     NaN   NaN   \n",
       "4  United Arab Emirates     NaN     NaN   NaN   NaN   NaN   NaN     NaN   NaN   \n",
       "\n",
       "   1881  ...  2007  2008  2009  2010  2011  2012  2013  2014  2015  2016  \n",
       "0   NaN  ...  20.0  20.7  21.3  22.0  22.7  23.3  23.3  24.0  24.0  25.3  \n",
       "1   NaN  ...  30.7  31.3  31.3  31.3  32.0  32.7  32.7  33.3  34.0  34.0  \n",
       "2   NaN  ...  61.3  62.0  62.0  62.0  64.0  64.7  64.7  64.7  66.7  66.7  \n",
       "3   NaN  ...  67.3  67.3  67.3  68.0  68.0  68.0  68.0  68.0  68.0  68.0  \n",
       "4   NaN  ...  64.0  64.7  66.0  66.7  68.0  68.7  70.0  70.7  72.0  72.0  \n",
       "\n",
       "[5 rows x 145 columns]"
      ]
     },
     "execution_count": 9,
     "metadata": {},
     "output_type": "execute_result"
    }
   ],
   "source": [
    "df_educacao = pd.read_csv(\"owid_education_idx.csv\")\n",
    "df_educacao.head()"
   ]
  },
  {
   "cell_type": "markdown",
   "metadata": {
    "id": "MQHYfvRRtQcY"
   },
   "source": [
    "### Preparação dos Dados\n",
    "\n",
    "Neste trabalho, iremos analisar os dados de Desigualdade e Escolaridade do Brasil. Como o GapMiner apresenta os índices de diversos países no data set, precisamos separar os dados do Brasil e depois iremos unir os dados para fazer nossa analise. "
   ]
  },
  {
   "cell_type": "code",
   "execution_count": 10,
   "metadata": {
    "colab": {
     "base_uri": "https://localhost:8080/",
     "height": 130
    },
    "id": "9szXFUoetQcZ",
    "outputId": "61ba2fd6-6734-42c1-bbd0-560c5ed8a15f"
   },
   "outputs": [
    {
     "data": {
      "text/html": [
       "<div>\n",
       "<style scoped>\n",
       "    .dataframe tbody tr th:only-of-type {\n",
       "        vertical-align: middle;\n",
       "    }\n",
       "\n",
       "    .dataframe tbody tr th {\n",
       "        vertical-align: top;\n",
       "    }\n",
       "\n",
       "    .dataframe thead th {\n",
       "        text-align: right;\n",
       "    }\n",
       "</style>\n",
       "<table border=\"1\" class=\"dataframe\">\n",
       "  <thead>\n",
       "    <tr style=\"text-align: right;\">\n",
       "      <th></th>\n",
       "      <th>country</th>\n",
       "      <th>1869</th>\n",
       "      <th>1874</th>\n",
       "      <th>1875</th>\n",
       "      <th>1876</th>\n",
       "      <th>1877</th>\n",
       "      <th>1878</th>\n",
       "      <th>1879</th>\n",
       "      <th>1880</th>\n",
       "      <th>1881</th>\n",
       "      <th>...</th>\n",
       "      <th>2007</th>\n",
       "      <th>2008</th>\n",
       "      <th>2009</th>\n",
       "      <th>2010</th>\n",
       "      <th>2011</th>\n",
       "      <th>2012</th>\n",
       "      <th>2013</th>\n",
       "      <th>2014</th>\n",
       "      <th>2015</th>\n",
       "      <th>2016</th>\n",
       "    </tr>\n",
       "  </thead>\n",
       "  <tbody>\n",
       "    <tr>\n",
       "      <th>23</th>\n",
       "      <td>Brazil</td>\n",
       "      <td>0.667</td>\n",
       "      <td>0.8</td>\n",
       "      <td>NaN</td>\n",
       "      <td>NaN</td>\n",
       "      <td>NaN</td>\n",
       "      <td>NaN</td>\n",
       "      <td>1.07</td>\n",
       "      <td>NaN</td>\n",
       "      <td>NaN</td>\n",
       "      <td>...</td>\n",
       "      <td>44.7</td>\n",
       "      <td>45.3</td>\n",
       "      <td>46.0</td>\n",
       "      <td>47.3</td>\n",
       "      <td>48.7</td>\n",
       "      <td>49.3</td>\n",
       "      <td>49.3</td>\n",
       "      <td>50.7</td>\n",
       "      <td>52.0</td>\n",
       "      <td>52.0</td>\n",
       "    </tr>\n",
       "  </tbody>\n",
       "</table>\n",
       "<p>1 rows × 145 columns</p>\n",
       "</div>"
      ],
      "text/plain": [
       "   country   1869  1874  1875  1876  1877  1878  1879  1880  1881  ...  2007  \\\n",
       "23  Brazil  0.667   0.8   NaN   NaN   NaN   NaN  1.07   NaN   NaN  ...  44.7   \n",
       "\n",
       "    2008  2009  2010  2011  2012  2013  2014  2015  2016  \n",
       "23  45.3  46.0  47.3  48.7  49.3  49.3  50.7  52.0  52.0  \n",
       "\n",
       "[1 rows x 145 columns]"
      ]
     },
     "execution_count": 10,
     "metadata": {},
     "output_type": "execute_result"
    }
   ],
   "source": [
    "df_educacao_br = df_educacao[df_educacao.country == 'Brazil'] \n",
    "df_educacao_br.head()"
   ]
  },
  {
   "cell_type": "markdown",
   "metadata": {
    "id": "DQRK0tIdtQcZ"
   },
   "source": [
    "Transformando as colunas da série temporal em linhas"
   ]
  },
  {
   "cell_type": "code",
   "execution_count": 11,
   "metadata": {
    "colab": {
     "base_uri": "https://localhost:8080/",
     "height": 206
    },
    "id": "WbE_o1aBtQcZ",
    "outputId": "053446e6-2871-443b-d5e8-81982b0cb847"
   },
   "outputs": [
    {
     "data": {
      "text/html": [
       "<div>\n",
       "<style scoped>\n",
       "    .dataframe tbody tr th:only-of-type {\n",
       "        vertical-align: middle;\n",
       "    }\n",
       "\n",
       "    .dataframe tbody tr th {\n",
       "        vertical-align: top;\n",
       "    }\n",
       "\n",
       "    .dataframe thead th {\n",
       "        text-align: right;\n",
       "    }\n",
       "</style>\n",
       "<table border=\"1\" class=\"dataframe\">\n",
       "  <thead>\n",
       "    <tr style=\"text-align: right;\">\n",
       "      <th></th>\n",
       "      <th>country</th>\n",
       "      <th>variable</th>\n",
       "      <th>value</th>\n",
       "    </tr>\n",
       "  </thead>\n",
       "  <tbody>\n",
       "    <tr>\n",
       "      <th>0</th>\n",
       "      <td>Brazil</td>\n",
       "      <td>1869</td>\n",
       "      <td>0.667</td>\n",
       "    </tr>\n",
       "    <tr>\n",
       "      <th>1</th>\n",
       "      <td>Brazil</td>\n",
       "      <td>1874</td>\n",
       "      <td>0.800</td>\n",
       "    </tr>\n",
       "    <tr>\n",
       "      <th>2</th>\n",
       "      <td>Brazil</td>\n",
       "      <td>1875</td>\n",
       "      <td>NaN</td>\n",
       "    </tr>\n",
       "    <tr>\n",
       "      <th>3</th>\n",
       "      <td>Brazil</td>\n",
       "      <td>1876</td>\n",
       "      <td>NaN</td>\n",
       "    </tr>\n",
       "    <tr>\n",
       "      <th>4</th>\n",
       "      <td>Brazil</td>\n",
       "      <td>1877</td>\n",
       "      <td>NaN</td>\n",
       "    </tr>\n",
       "  </tbody>\n",
       "</table>\n",
       "</div>"
      ],
      "text/plain": [
       "  country variable  value\n",
       "0  Brazil     1869  0.667\n",
       "1  Brazil     1874  0.800\n",
       "2  Brazil     1875    NaN\n",
       "3  Brazil     1876    NaN\n",
       "4  Brazil     1877    NaN"
      ]
     },
     "execution_count": 11,
     "metadata": {},
     "output_type": "execute_result"
    }
   ],
   "source": [
    "df_ieducacao_br = pd.melt(df_educacao_br, id_vars=['country'])\n",
    "df_ieducacao_br.head()"
   ]
  },
  {
   "cell_type": "markdown",
   "metadata": {
    "id": "BApkGAcotQcZ"
   },
   "source": [
    "Ajustando os nomes das colunas"
   ]
  },
  {
   "cell_type": "code",
   "execution_count": 12,
   "metadata": {
    "colab": {
     "base_uri": "https://localhost:8080/",
     "height": 206
    },
    "id": "CS14lT63tQcZ",
    "outputId": "8c5ae557-a9b2-467e-ee7f-1bf7271f7cf7"
   },
   "outputs": [
    {
     "data": {
      "text/html": [
       "<div>\n",
       "<style scoped>\n",
       "    .dataframe tbody tr th:only-of-type {\n",
       "        vertical-align: middle;\n",
       "    }\n",
       "\n",
       "    .dataframe tbody tr th {\n",
       "        vertical-align: top;\n",
       "    }\n",
       "\n",
       "    .dataframe thead th {\n",
       "        text-align: right;\n",
       "    }\n",
       "</style>\n",
       "<table border=\"1\" class=\"dataframe\">\n",
       "  <thead>\n",
       "    <tr style=\"text-align: right;\">\n",
       "      <th></th>\n",
       "      <th>country</th>\n",
       "      <th>year</th>\n",
       "      <th>owid_education_index</th>\n",
       "    </tr>\n",
       "  </thead>\n",
       "  <tbody>\n",
       "    <tr>\n",
       "      <th>0</th>\n",
       "      <td>Brazil</td>\n",
       "      <td>1869</td>\n",
       "      <td>0.667</td>\n",
       "    </tr>\n",
       "    <tr>\n",
       "      <th>1</th>\n",
       "      <td>Brazil</td>\n",
       "      <td>1874</td>\n",
       "      <td>0.800</td>\n",
       "    </tr>\n",
       "    <tr>\n",
       "      <th>2</th>\n",
       "      <td>Brazil</td>\n",
       "      <td>1875</td>\n",
       "      <td>NaN</td>\n",
       "    </tr>\n",
       "    <tr>\n",
       "      <th>3</th>\n",
       "      <td>Brazil</td>\n",
       "      <td>1876</td>\n",
       "      <td>NaN</td>\n",
       "    </tr>\n",
       "    <tr>\n",
       "      <th>4</th>\n",
       "      <td>Brazil</td>\n",
       "      <td>1877</td>\n",
       "      <td>NaN</td>\n",
       "    </tr>\n",
       "  </tbody>\n",
       "</table>\n",
       "</div>"
      ],
      "text/plain": [
       "  country  year  owid_education_index\n",
       "0  Brazil  1869                 0.667\n",
       "1  Brazil  1874                 0.800\n",
       "2  Brazil  1875                   NaN\n",
       "3  Brazil  1876                   NaN\n",
       "4  Brazil  1877                   NaN"
      ]
     },
     "execution_count": 12,
     "metadata": {},
     "output_type": "execute_result"
    }
   ],
   "source": [
    "df_ieducacao_br = df_ieducacao_br.rename(columns={'variable':'year',\n",
    "                                                  'value':'owid_education_index'})\n",
    "df_ieducacao_br.head()"
   ]
  },
  {
   "cell_type": "markdown",
   "metadata": {
    "id": "uxPuaHo6v3TV"
   },
   "source": [
    "### Unificando os dois Índices"
   ]
  },
  {
   "cell_type": "code",
   "execution_count": 13,
   "metadata": {
    "colab": {
     "base_uri": "https://localhost:8080/",
     "height": 206
    },
    "id": "1th-8CNDv7R1",
    "outputId": "73056295-6438-4dec-c397-d0ad18cd2b28"
   },
   "outputs": [
    {
     "data": {
      "text/html": [
       "<div>\n",
       "<style scoped>\n",
       "    .dataframe tbody tr th:only-of-type {\n",
       "        vertical-align: middle;\n",
       "    }\n",
       "\n",
       "    .dataframe tbody tr th {\n",
       "        vertical-align: top;\n",
       "    }\n",
       "\n",
       "    .dataframe thead th {\n",
       "        text-align: right;\n",
       "    }\n",
       "</style>\n",
       "<table border=\"1\" class=\"dataframe\">\n",
       "  <thead>\n",
       "    <tr style=\"text-align: right;\">\n",
       "      <th></th>\n",
       "      <th>country</th>\n",
       "      <th>year</th>\n",
       "      <th>gini_index</th>\n",
       "      <th>owid_education_index</th>\n",
       "    </tr>\n",
       "  </thead>\n",
       "  <tbody>\n",
       "    <tr>\n",
       "      <th>0</th>\n",
       "      <td>Brazil</td>\n",
       "      <td>1869</td>\n",
       "      <td>31.2</td>\n",
       "      <td>0.667</td>\n",
       "    </tr>\n",
       "    <tr>\n",
       "      <th>1</th>\n",
       "      <td>Brazil</td>\n",
       "      <td>1874</td>\n",
       "      <td>30.9</td>\n",
       "      <td>0.800</td>\n",
       "    </tr>\n",
       "    <tr>\n",
       "      <th>2</th>\n",
       "      <td>Brazil</td>\n",
       "      <td>1875</td>\n",
       "      <td>30.7</td>\n",
       "      <td>NaN</td>\n",
       "    </tr>\n",
       "    <tr>\n",
       "      <th>3</th>\n",
       "      <td>Brazil</td>\n",
       "      <td>1876</td>\n",
       "      <td>30.6</td>\n",
       "      <td>NaN</td>\n",
       "    </tr>\n",
       "    <tr>\n",
       "      <th>4</th>\n",
       "      <td>Brazil</td>\n",
       "      <td>1877</td>\n",
       "      <td>30.5</td>\n",
       "      <td>NaN</td>\n",
       "    </tr>\n",
       "  </tbody>\n",
       "</table>\n",
       "</div>"
      ],
      "text/plain": [
       "  country  year  gini_index  owid_education_index\n",
       "0  Brazil  1869        31.2                 0.667\n",
       "1  Brazil  1874        30.9                 0.800\n",
       "2  Brazil  1875        30.7                   NaN\n",
       "3  Brazil  1876        30.6                   NaN\n",
       "4  Brazil  1877        30.5                   NaN"
      ]
     },
     "execution_count": 13,
     "metadata": {},
     "output_type": "execute_result"
    }
   ],
   "source": [
    "df_indices_br = pd.merge(df_idesigualdade_br, \n",
    "                         df_ieducacao_br, \n",
    "                         on=['country','year'])\n",
    "df_indices_br.head()"
   ]
  },
  {
   "cell_type": "markdown",
   "metadata": {
    "id": "33YAPjk8Q0xu"
   },
   "source": [
    "### Lendo o DataSet com os dados de Concentração de Renda e Renda Per Caapita\n",
    "\n",
    "Os arquivos XLS com os índices coletados no WID foram alocados nesta pasta.\n",
    "\n",
    "Vamos acessar os arquivos e armazenar o conteúdo deles em DataFrames do pandas."
   ]
  },
  {
   "cell_type": "code",
   "execution_count": 17,
   "metadata": {
    "colab": {
     "base_uri": "https://localhost:8080/",
     "height": 206
    },
    "id": "h_rrVoAQOfM4",
    "outputId": "48f2fed9-8fd4-4e12-baa4-fd8a73176eb7"
   },
   "outputs": [
    {
     "data": {
      "text/html": [
       "<div>\n",
       "<style scoped>\n",
       "    .dataframe tbody tr th:only-of-type {\n",
       "        vertical-align: middle;\n",
       "    }\n",
       "\n",
       "    .dataframe tbody tr th {\n",
       "        vertical-align: top;\n",
       "    }\n",
       "\n",
       "    .dataframe thead th {\n",
       "        text-align: right;\n",
       "    }\n",
       "</style>\n",
       "<table border=\"1\" class=\"dataframe\">\n",
       "  <thead>\n",
       "    <tr style=\"text-align: right;\">\n",
       "      <th></th>\n",
       "      <th>0</th>\n",
       "      <th>1</th>\n",
       "      <th>2</th>\n",
       "      <th>3</th>\n",
       "      <th>4</th>\n",
       "    </tr>\n",
       "  </thead>\n",
       "  <tbody>\n",
       "    <tr>\n",
       "      <th>0</th>\n",
       "      <td>Brasil</td>\n",
       "      <td>agdpro_pall_992_i_BR\\nProduto Interno Bruto\\nP...</td>\n",
       "      <td>mortalha</td>\n",
       "      <td>1950</td>\n",
       "      <td>5640.7720</td>\n",
       "    </tr>\n",
       "    <tr>\n",
       "      <th>1</th>\n",
       "      <td>Brasil</td>\n",
       "      <td>agdpro_pall_992_i_BR\\nProduto Interno Bruto\\nP...</td>\n",
       "      <td>mortalha</td>\n",
       "      <td>1951</td>\n",
       "      <td>5757.5249</td>\n",
       "    </tr>\n",
       "    <tr>\n",
       "      <th>2</th>\n",
       "      <td>Brasil</td>\n",
       "      <td>agdpro_pall_992_i_BR\\nProduto Interno Bruto\\nP...</td>\n",
       "      <td>mortalha</td>\n",
       "      <td>1952</td>\n",
       "      <td>5940.6765</td>\n",
       "    </tr>\n",
       "    <tr>\n",
       "      <th>3</th>\n",
       "      <td>Brasil</td>\n",
       "      <td>agdpro_pall_992_i_BR\\nProduto Interno Bruto\\nP...</td>\n",
       "      <td>mortalha</td>\n",
       "      <td>1953</td>\n",
       "      <td>6067.0429</td>\n",
       "    </tr>\n",
       "    <tr>\n",
       "      <th>4</th>\n",
       "      <td>Brasil</td>\n",
       "      <td>agdpro_pall_992_i_BR\\nProduto Interno Bruto\\nP...</td>\n",
       "      <td>mortalha</td>\n",
       "      <td>1954</td>\n",
       "      <td>6300.8140</td>\n",
       "    </tr>\n",
       "  </tbody>\n",
       "</table>\n",
       "</div>"
      ],
      "text/plain": [
       "        0                                                  1         2     3  \\\n",
       "0  Brasil  agdpro_pall_992_i_BR\\nProduto Interno Bruto\\nP...  mortalha  1950   \n",
       "1  Brasil  agdpro_pall_992_i_BR\\nProduto Interno Bruto\\nP...  mortalha  1951   \n",
       "2  Brasil  agdpro_pall_992_i_BR\\nProduto Interno Bruto\\nP...  mortalha  1952   \n",
       "3  Brasil  agdpro_pall_992_i_BR\\nProduto Interno Bruto\\nP...  mortalha  1953   \n",
       "4  Brasil  agdpro_pall_992_i_BR\\nProduto Interno Bruto\\nP...  mortalha  1954   \n",
       "\n",
       "           4  \n",
       "0  5640.7720  \n",
       "1  5757.5249  \n",
       "2  5940.6765  \n",
       "3  6067.0429  \n",
       "4  6300.8140  "
      ]
     },
     "execution_count": 17,
     "metadata": {},
     "output_type": "execute_result"
    }
   ],
   "source": [
    "df_wid = pd.read_excel(\"WID_Data_PIB_Renda10percent.xls\", header=None)\n",
    "df_wid.head()"
   ]
  },
  {
   "cell_type": "markdown",
   "metadata": {
    "id": "YekOjpOgQzy2"
   },
   "source": [
    "Ajustando o header da tabela com os nomes das colunas"
   ]
  },
  {
   "cell_type": "code",
   "execution_count": 18,
   "metadata": {
    "colab": {
     "base_uri": "https://localhost:8080/",
     "height": 206
    },
    "id": "H3eqwnJGQNYf",
    "outputId": "052473a0-e380-40b5-9b33-75652f46dcc6"
   },
   "outputs": [
    {
     "data": {
      "text/html": [
       "<div>\n",
       "<style scoped>\n",
       "    .dataframe tbody tr th:only-of-type {\n",
       "        vertical-align: middle;\n",
       "    }\n",
       "\n",
       "    .dataframe tbody tr th {\n",
       "        vertical-align: top;\n",
       "    }\n",
       "\n",
       "    .dataframe thead th {\n",
       "        text-align: right;\n",
       "    }\n",
       "</style>\n",
       "<table border=\"1\" class=\"dataframe\">\n",
       "  <thead>\n",
       "    <tr style=\"text-align: right;\">\n",
       "      <th></th>\n",
       "      <th>country</th>\n",
       "      <th>ind_description</th>\n",
       "      <th>ind_code</th>\n",
       "      <th>year</th>\n",
       "      <th>value</th>\n",
       "    </tr>\n",
       "  </thead>\n",
       "  <tbody>\n",
       "    <tr>\n",
       "      <th>0</th>\n",
       "      <td>Brasil</td>\n",
       "      <td>agdpro_pall_992_i_BR\\nProduto Interno Bruto\\nP...</td>\n",
       "      <td>mortalha</td>\n",
       "      <td>1950</td>\n",
       "      <td>5640.7720</td>\n",
       "    </tr>\n",
       "    <tr>\n",
       "      <th>1</th>\n",
       "      <td>Brasil</td>\n",
       "      <td>agdpro_pall_992_i_BR\\nProduto Interno Bruto\\nP...</td>\n",
       "      <td>mortalha</td>\n",
       "      <td>1951</td>\n",
       "      <td>5757.5249</td>\n",
       "    </tr>\n",
       "    <tr>\n",
       "      <th>2</th>\n",
       "      <td>Brasil</td>\n",
       "      <td>agdpro_pall_992_i_BR\\nProduto Interno Bruto\\nP...</td>\n",
       "      <td>mortalha</td>\n",
       "      <td>1952</td>\n",
       "      <td>5940.6765</td>\n",
       "    </tr>\n",
       "    <tr>\n",
       "      <th>3</th>\n",
       "      <td>Brasil</td>\n",
       "      <td>agdpro_pall_992_i_BR\\nProduto Interno Bruto\\nP...</td>\n",
       "      <td>mortalha</td>\n",
       "      <td>1953</td>\n",
       "      <td>6067.0429</td>\n",
       "    </tr>\n",
       "    <tr>\n",
       "      <th>4</th>\n",
       "      <td>Brasil</td>\n",
       "      <td>agdpro_pall_992_i_BR\\nProduto Interno Bruto\\nP...</td>\n",
       "      <td>mortalha</td>\n",
       "      <td>1954</td>\n",
       "      <td>6300.8140</td>\n",
       "    </tr>\n",
       "  </tbody>\n",
       "</table>\n",
       "</div>"
      ],
      "text/plain": [
       "  country                                    ind_description  ind_code  year  \\\n",
       "0  Brasil  agdpro_pall_992_i_BR\\nProduto Interno Bruto\\nP...  mortalha  1950   \n",
       "1  Brasil  agdpro_pall_992_i_BR\\nProduto Interno Bruto\\nP...  mortalha  1951   \n",
       "2  Brasil  agdpro_pall_992_i_BR\\nProduto Interno Bruto\\nP...  mortalha  1952   \n",
       "3  Brasil  agdpro_pall_992_i_BR\\nProduto Interno Bruto\\nP...  mortalha  1953   \n",
       "4  Brasil  agdpro_pall_992_i_BR\\nProduto Interno Bruto\\nP...  mortalha  1954   \n",
       "\n",
       "       value  \n",
       "0  5640.7720  \n",
       "1  5757.5249  \n",
       "2  5940.6765  \n",
       "3  6067.0429  \n",
       "4  6300.8140  "
      ]
     },
     "execution_count": 18,
     "metadata": {},
     "output_type": "execute_result"
    }
   ],
   "source": [
    "df_wid.columns = ['country', 'ind_description',  'ind_code', 'year', 'value']\n",
    "df_wid.year = df_wid.year.astype(str)\n",
    "df_wid.head()\n",
    "        "
   ]
  },
  {
   "cell_type": "markdown",
   "metadata": {
    "id": "O4ZFFVPoRBpO"
   },
   "source": [
    "Separando os indicadores em dataFrame separados por código do indicador"
   ]
  },
  {
   "cell_type": "code",
   "execution_count": 19,
   "metadata": {
    "id": "BGSYvy2CQjTu"
   },
   "outputs": [],
   "source": [
    "df_wid_pib = df_wid[df_wid.ind_code == 'mortalha'][['country', 'year', 'value']]\n",
    "df_wid_perc_renda_dez = df_wid[df_wid.ind_code == 'p90p100'][['country', 'year', 'value']]"
   ]
  },
  {
   "cell_type": "code",
   "execution_count": 20,
   "metadata": {
    "colab": {
     "base_uri": "https://localhost:8080/",
     "height": 206
    },
    "id": "dUVcLJ4MQwCd",
    "outputId": "123cbb82-1b73-46cb-e61e-ef6680496fca"
   },
   "outputs": [
    {
     "data": {
      "text/html": [
       "<div>\n",
       "<style scoped>\n",
       "    .dataframe tbody tr th:only-of-type {\n",
       "        vertical-align: middle;\n",
       "    }\n",
       "\n",
       "    .dataframe tbody tr th {\n",
       "        vertical-align: top;\n",
       "    }\n",
       "\n",
       "    .dataframe thead th {\n",
       "        text-align: right;\n",
       "    }\n",
       "</style>\n",
       "<table border=\"1\" class=\"dataframe\">\n",
       "  <thead>\n",
       "    <tr style=\"text-align: right;\">\n",
       "      <th></th>\n",
       "      <th>country</th>\n",
       "      <th>year</th>\n",
       "      <th>value</th>\n",
       "    </tr>\n",
       "  </thead>\n",
       "  <tbody>\n",
       "    <tr>\n",
       "      <th>0</th>\n",
       "      <td>Brasil</td>\n",
       "      <td>1950</td>\n",
       "      <td>5640.7720</td>\n",
       "    </tr>\n",
       "    <tr>\n",
       "      <th>1</th>\n",
       "      <td>Brasil</td>\n",
       "      <td>1951</td>\n",
       "      <td>5757.5249</td>\n",
       "    </tr>\n",
       "    <tr>\n",
       "      <th>2</th>\n",
       "      <td>Brasil</td>\n",
       "      <td>1952</td>\n",
       "      <td>5940.6765</td>\n",
       "    </tr>\n",
       "    <tr>\n",
       "      <th>3</th>\n",
       "      <td>Brasil</td>\n",
       "      <td>1953</td>\n",
       "      <td>6067.0429</td>\n",
       "    </tr>\n",
       "    <tr>\n",
       "      <th>4</th>\n",
       "      <td>Brasil</td>\n",
       "      <td>1954</td>\n",
       "      <td>6300.8140</td>\n",
       "    </tr>\n",
       "  </tbody>\n",
       "</table>\n",
       "</div>"
      ],
      "text/plain": [
       "  country  year      value\n",
       "0  Brasil  1950  5640.7720\n",
       "1  Brasil  1951  5757.5249\n",
       "2  Brasil  1952  5940.6765\n",
       "3  Brasil  1953  6067.0429\n",
       "4  Brasil  1954  6300.8140"
      ]
     },
     "execution_count": 20,
     "metadata": {},
     "output_type": "execute_result"
    }
   ],
   "source": [
    "df_wid_pib.head()"
   ]
  },
  {
   "cell_type": "code",
   "execution_count": 21,
   "metadata": {
    "colab": {
     "base_uri": "https://localhost:8080/",
     "height": 206
    },
    "id": "GrzMTgYJQw0e",
    "outputId": "d213a1a0-224d-43f5-cf8f-4501910fde0e"
   },
   "outputs": [
    {
     "data": {
      "text/html": [
       "<div>\n",
       "<style scoped>\n",
       "    .dataframe tbody tr th:only-of-type {\n",
       "        vertical-align: middle;\n",
       "    }\n",
       "\n",
       "    .dataframe tbody tr th {\n",
       "        vertical-align: top;\n",
       "    }\n",
       "\n",
       "    .dataframe thead th {\n",
       "        text-align: right;\n",
       "    }\n",
       "</style>\n",
       "<table border=\"1\" class=\"dataframe\">\n",
       "  <thead>\n",
       "    <tr style=\"text-align: right;\">\n",
       "      <th></th>\n",
       "      <th>country</th>\n",
       "      <th>year</th>\n",
       "      <th>value</th>\n",
       "    </tr>\n",
       "  </thead>\n",
       "  <tbody>\n",
       "    <tr>\n",
       "      <th>70</th>\n",
       "      <td>Brasil</td>\n",
       "      <td>1950</td>\n",
       "      <td>NaN</td>\n",
       "    </tr>\n",
       "    <tr>\n",
       "      <th>71</th>\n",
       "      <td>Brasil</td>\n",
       "      <td>1951</td>\n",
       "      <td>NaN</td>\n",
       "    </tr>\n",
       "    <tr>\n",
       "      <th>72</th>\n",
       "      <td>Brasil</td>\n",
       "      <td>1952</td>\n",
       "      <td>NaN</td>\n",
       "    </tr>\n",
       "    <tr>\n",
       "      <th>73</th>\n",
       "      <td>Brasil</td>\n",
       "      <td>1953</td>\n",
       "      <td>NaN</td>\n",
       "    </tr>\n",
       "    <tr>\n",
       "      <th>74</th>\n",
       "      <td>Brasil</td>\n",
       "      <td>1954</td>\n",
       "      <td>NaN</td>\n",
       "    </tr>\n",
       "  </tbody>\n",
       "</table>\n",
       "</div>"
      ],
      "text/plain": [
       "   country  year  value\n",
       "70  Brasil  1950    NaN\n",
       "71  Brasil  1951    NaN\n",
       "72  Brasil  1952    NaN\n",
       "73  Brasil  1953    NaN\n",
       "74  Brasil  1954    NaN"
      ]
     },
     "execution_count": 21,
     "metadata": {},
     "output_type": "execute_result"
    }
   ],
   "source": [
    "df_wid_perc_renda_dez.head()"
   ]
  },
  {
   "cell_type": "markdown",
   "metadata": {
    "id": "67IyCCEIHakS"
   },
   "source": [
    "### Unificando o dataframe de renda per capita e ajustando os nomes das colunas para os respectivos indicadores"
   ]
  },
  {
   "cell_type": "code",
   "execution_count": 22,
   "metadata": {
    "colab": {
     "base_uri": "https://localhost:8080/",
     "height": 206
    },
    "id": "4K_ZzZ4QHuVR",
    "outputId": "47f9438d-2321-435f-ddb0-8e4e47c6dd76"
   },
   "outputs": [
    {
     "data": {
      "text/html": [
       "<div>\n",
       "<style scoped>\n",
       "    .dataframe tbody tr th:only-of-type {\n",
       "        vertical-align: middle;\n",
       "    }\n",
       "\n",
       "    .dataframe tbody tr th {\n",
       "        vertical-align: top;\n",
       "    }\n",
       "\n",
       "    .dataframe thead th {\n",
       "        text-align: right;\n",
       "    }\n",
       "</style>\n",
       "<table border=\"1\" class=\"dataframe\">\n",
       "  <thead>\n",
       "    <tr style=\"text-align: right;\">\n",
       "      <th></th>\n",
       "      <th>country</th>\n",
       "      <th>year</th>\n",
       "      <th>gini_index</th>\n",
       "      <th>owid_education_index</th>\n",
       "      <th>gpd_per_capita</th>\n",
       "    </tr>\n",
       "  </thead>\n",
       "  <tbody>\n",
       "    <tr>\n",
       "      <th>0</th>\n",
       "      <td>Brazil</td>\n",
       "      <td>1950</td>\n",
       "      <td>40.6</td>\n",
       "      <td>NaN</td>\n",
       "      <td>5640.7720</td>\n",
       "    </tr>\n",
       "    <tr>\n",
       "      <th>1</th>\n",
       "      <td>Brazil</td>\n",
       "      <td>1951</td>\n",
       "      <td>40.8</td>\n",
       "      <td>NaN</td>\n",
       "      <td>5757.5249</td>\n",
       "    </tr>\n",
       "    <tr>\n",
       "      <th>2</th>\n",
       "      <td>Brazil</td>\n",
       "      <td>1952</td>\n",
       "      <td>41.1</td>\n",
       "      <td>NaN</td>\n",
       "      <td>5940.6765</td>\n",
       "    </tr>\n",
       "    <tr>\n",
       "      <th>3</th>\n",
       "      <td>Brazil</td>\n",
       "      <td>1953</td>\n",
       "      <td>41.4</td>\n",
       "      <td>NaN</td>\n",
       "      <td>6067.0429</td>\n",
       "    </tr>\n",
       "    <tr>\n",
       "      <th>4</th>\n",
       "      <td>Brazil</td>\n",
       "      <td>1954</td>\n",
       "      <td>41.9</td>\n",
       "      <td>14.5</td>\n",
       "      <td>6300.8140</td>\n",
       "    </tr>\n",
       "  </tbody>\n",
       "</table>\n",
       "</div>"
      ],
      "text/plain": [
       "  country  year  gini_index  owid_education_index  gpd_per_capita\n",
       "0  Brazil  1950        40.6                   NaN       5640.7720\n",
       "1  Brazil  1951        40.8                   NaN       5757.5249\n",
       "2  Brazil  1952        41.1                   NaN       5940.6765\n",
       "3  Brazil  1953        41.4                   NaN       6067.0429\n",
       "4  Brazil  1954        41.9                  14.5       6300.8140"
      ]
     },
     "execution_count": 22,
     "metadata": {},
     "output_type": "execute_result"
    }
   ],
   "source": [
    "df_indices_br = pd.merge(df_indices_br, \n",
    "                         df_wid_pib.drop(columns=['country']), \n",
    "                         on=['year'])\n",
    "\n",
    "df_indices_br = df_indices_br.rename(columns={'value':'gpd_per_capita'})\n",
    "df_indices_br.head()"
   ]
  },
  {
   "cell_type": "markdown",
   "metadata": {
    "id": "XlkarBpEGQwr"
   },
   "source": [
    "### Unificando o dataframe de concentração de renda e ajustando os nomes das colunas para os respectivos indicadores"
   ]
  },
  {
   "cell_type": "code",
   "execution_count": 23,
   "metadata": {
    "colab": {
     "base_uri": "https://localhost:8080/",
     "height": 206
    },
    "id": "L0WgHUNZJVYB",
    "outputId": "5250faba-476f-4865-e95a-fbb658b8db1a"
   },
   "outputs": [
    {
     "data": {
      "text/html": [
       "<div>\n",
       "<style scoped>\n",
       "    .dataframe tbody tr th:only-of-type {\n",
       "        vertical-align: middle;\n",
       "    }\n",
       "\n",
       "    .dataframe tbody tr th {\n",
       "        vertical-align: top;\n",
       "    }\n",
       "\n",
       "    .dataframe thead th {\n",
       "        text-align: right;\n",
       "    }\n",
       "</style>\n",
       "<table border=\"1\" class=\"dataframe\">\n",
       "  <thead>\n",
       "    <tr style=\"text-align: right;\">\n",
       "      <th></th>\n",
       "      <th>country</th>\n",
       "      <th>year</th>\n",
       "      <th>gini_index</th>\n",
       "      <th>owid_education_index</th>\n",
       "      <th>gpd_per_capita</th>\n",
       "      <th>gpd_perc10</th>\n",
       "    </tr>\n",
       "  </thead>\n",
       "  <tbody>\n",
       "    <tr>\n",
       "      <th>0</th>\n",
       "      <td>Brazil</td>\n",
       "      <td>1950</td>\n",
       "      <td>40.6</td>\n",
       "      <td>NaN</td>\n",
       "      <td>5640.7720</td>\n",
       "      <td>NaN</td>\n",
       "    </tr>\n",
       "    <tr>\n",
       "      <th>1</th>\n",
       "      <td>Brazil</td>\n",
       "      <td>1951</td>\n",
       "      <td>40.8</td>\n",
       "      <td>NaN</td>\n",
       "      <td>5757.5249</td>\n",
       "      <td>NaN</td>\n",
       "    </tr>\n",
       "    <tr>\n",
       "      <th>2</th>\n",
       "      <td>Brazil</td>\n",
       "      <td>1952</td>\n",
       "      <td>41.1</td>\n",
       "      <td>NaN</td>\n",
       "      <td>5940.6765</td>\n",
       "      <td>NaN</td>\n",
       "    </tr>\n",
       "    <tr>\n",
       "      <th>3</th>\n",
       "      <td>Brazil</td>\n",
       "      <td>1953</td>\n",
       "      <td>41.4</td>\n",
       "      <td>NaN</td>\n",
       "      <td>6067.0429</td>\n",
       "      <td>NaN</td>\n",
       "    </tr>\n",
       "    <tr>\n",
       "      <th>4</th>\n",
       "      <td>Brazil</td>\n",
       "      <td>1954</td>\n",
       "      <td>41.9</td>\n",
       "      <td>14.5</td>\n",
       "      <td>6300.8140</td>\n",
       "      <td>NaN</td>\n",
       "    </tr>\n",
       "  </tbody>\n",
       "</table>\n",
       "</div>"
      ],
      "text/plain": [
       "  country  year  gini_index  owid_education_index  gpd_per_capita  gpd_perc10\n",
       "0  Brazil  1950        40.6                   NaN       5640.7720         NaN\n",
       "1  Brazil  1951        40.8                   NaN       5757.5249         NaN\n",
       "2  Brazil  1952        41.1                   NaN       5940.6765         NaN\n",
       "3  Brazil  1953        41.4                   NaN       6067.0429         NaN\n",
       "4  Brazil  1954        41.9                  14.5       6300.8140         NaN"
      ]
     },
     "execution_count": 23,
     "metadata": {},
     "output_type": "execute_result"
    }
   ],
   "source": [
    "df_indices_br = pd.merge(df_indices_br, \n",
    "                         df_wid_perc_renda_dez.drop(columns=['country']), \n",
    "                         on=['year'])\n",
    "df_indices_br = df_indices_br.rename(columns={'value':'gpd_perc10'})\n",
    "df_indices_br.head()"
   ]
  },
  {
   "cell_type": "markdown",
   "metadata": {
    "id": "Ymq4iVGUGbUq"
   },
   "source": [
    "Agora temos o dataFrame com os quatro indicadores"
   ]
  },
  {
   "cell_type": "code",
   "execution_count": 24,
   "metadata": {
    "colab": {
     "base_uri": "https://localhost:8080/",
     "height": 206
    },
    "id": "qGGuVWBMH5xx",
    "outputId": "e9aa919c-e0c1-4d2a-efd5-ddbb58176d0a"
   },
   "outputs": [
    {
     "data": {
      "text/html": [
       "<div>\n",
       "<style scoped>\n",
       "    .dataframe tbody tr th:only-of-type {\n",
       "        vertical-align: middle;\n",
       "    }\n",
       "\n",
       "    .dataframe tbody tr th {\n",
       "        vertical-align: top;\n",
       "    }\n",
       "\n",
       "    .dataframe thead th {\n",
       "        text-align: right;\n",
       "    }\n",
       "</style>\n",
       "<table border=\"1\" class=\"dataframe\">\n",
       "  <thead>\n",
       "    <tr style=\"text-align: right;\">\n",
       "      <th></th>\n",
       "      <th>country</th>\n",
       "      <th>year</th>\n",
       "      <th>gini_index</th>\n",
       "      <th>owid_education_index</th>\n",
       "      <th>gpd_per_capita</th>\n",
       "      <th>gpd_perc10</th>\n",
       "    </tr>\n",
       "  </thead>\n",
       "  <tbody>\n",
       "    <tr>\n",
       "      <th>0</th>\n",
       "      <td>Brazil</td>\n",
       "      <td>1950</td>\n",
       "      <td>40.6</td>\n",
       "      <td>NaN</td>\n",
       "      <td>5640.7720</td>\n",
       "      <td>NaN</td>\n",
       "    </tr>\n",
       "    <tr>\n",
       "      <th>1</th>\n",
       "      <td>Brazil</td>\n",
       "      <td>1951</td>\n",
       "      <td>40.8</td>\n",
       "      <td>NaN</td>\n",
       "      <td>5757.5249</td>\n",
       "      <td>NaN</td>\n",
       "    </tr>\n",
       "    <tr>\n",
       "      <th>2</th>\n",
       "      <td>Brazil</td>\n",
       "      <td>1952</td>\n",
       "      <td>41.1</td>\n",
       "      <td>NaN</td>\n",
       "      <td>5940.6765</td>\n",
       "      <td>NaN</td>\n",
       "    </tr>\n",
       "    <tr>\n",
       "      <th>3</th>\n",
       "      <td>Brazil</td>\n",
       "      <td>1953</td>\n",
       "      <td>41.4</td>\n",
       "      <td>NaN</td>\n",
       "      <td>6067.0429</td>\n",
       "      <td>NaN</td>\n",
       "    </tr>\n",
       "    <tr>\n",
       "      <th>4</th>\n",
       "      <td>Brazil</td>\n",
       "      <td>1954</td>\n",
       "      <td>41.9</td>\n",
       "      <td>14.5</td>\n",
       "      <td>6300.8140</td>\n",
       "      <td>NaN</td>\n",
       "    </tr>\n",
       "  </tbody>\n",
       "</table>\n",
       "</div>"
      ],
      "text/plain": [
       "  country  year  gini_index  owid_education_index  gpd_per_capita  gpd_perc10\n",
       "0  Brazil  1950        40.6                   NaN       5640.7720         NaN\n",
       "1  Brazil  1951        40.8                   NaN       5757.5249         NaN\n",
       "2  Brazil  1952        41.1                   NaN       5940.6765         NaN\n",
       "3  Brazil  1953        41.4                   NaN       6067.0429         NaN\n",
       "4  Brazil  1954        41.9                  14.5       6300.8140         NaN"
      ]
     },
     "execution_count": 24,
     "metadata": {},
     "output_type": "execute_result"
    }
   ],
   "source": [
    "df_indices_br.head()"
   ]
  },
  {
   "cell_type": "markdown",
   "metadata": {
    "id": "9TBWEn66xF5b"
   },
   "source": [
    "## Exploração Inicial dos Dados\n"
   ]
  },
  {
   "cell_type": "markdown",
   "metadata": {
    "id": "qZ29doWvxQ_b"
   },
   "source": [
    "### Tamanho do DataFrame"
   ]
  },
  {
   "cell_type": "code",
   "execution_count": 25,
   "metadata": {
    "colab": {
     "base_uri": "https://localhost:8080/",
     "height": 0
    },
    "id": "oJKRjLJxxS8j",
    "outputId": "5d824fe9-87d1-4f11-cca5-21fa9d5ef7fb"
   },
   "outputs": [
    {
     "name": "stdout",
     "output_type": "stream",
     "text": [
      "Dimensões do DataFrame: (67, 6)\n"
     ]
    }
   ],
   "source": [
    "print(f\"Dimensões do DataFrame: {df_indices_br.shape}\")\n"
   ]
  },
  {
   "cell_type": "markdown",
   "metadata": {
    "id": "Of-gEqVjJzXh"
   },
   "source": [
    "### Tipos dos Dados"
   ]
  },
  {
   "cell_type": "code",
   "execution_count": 26,
   "metadata": {
    "colab": {
     "base_uri": "https://localhost:8080/",
     "height": 138
    },
    "id": "0n2CWs_HJ0z5",
    "outputId": "2387df2a-a81e-405f-fe36-42c38bdaef59"
   },
   "outputs": [
    {
     "data": {
      "text/plain": [
       "country                  object\n",
       "year                     object\n",
       "gini_index              float64\n",
       "owid_education_index    float64\n",
       "gpd_per_capita          float64\n",
       "gpd_perc10              float64\n",
       "dtype: object"
      ]
     },
     "metadata": {},
     "output_type": "display_data"
    }
   ],
   "source": [
    "display(df_indices_br.dtypes)"
   ]
  },
  {
   "cell_type": "markdown",
   "metadata": {
    "id": "vRXXGDn3xkpL"
   },
   "source": [
    "### Detalhes estatisticos do DataFrame"
   ]
  },
  {
   "cell_type": "code",
   "execution_count": 27,
   "metadata": {
    "colab": {
     "base_uri": "https://localhost:8080/",
     "height": 300
    },
    "id": "TWr9uAuhxnjb",
    "outputId": "b087aec0-4db6-4110-8459-d2031adeadc2"
   },
   "outputs": [
    {
     "data": {
      "text/html": [
       "<div>\n",
       "<style scoped>\n",
       "    .dataframe tbody tr th:only-of-type {\n",
       "        vertical-align: middle;\n",
       "    }\n",
       "\n",
       "    .dataframe tbody tr th {\n",
       "        vertical-align: top;\n",
       "    }\n",
       "\n",
       "    .dataframe thead th {\n",
       "        text-align: right;\n",
       "    }\n",
       "</style>\n",
       "<table border=\"1\" class=\"dataframe\">\n",
       "  <thead>\n",
       "    <tr style=\"text-align: right;\">\n",
       "      <th></th>\n",
       "      <th>gini_index</th>\n",
       "      <th>owid_education_index</th>\n",
       "      <th>gpd_per_capita</th>\n",
       "      <th>gpd_perc10</th>\n",
       "    </tr>\n",
       "  </thead>\n",
       "  <tbody>\n",
       "    <tr>\n",
       "      <th>count</th>\n",
       "      <td>67.000000</td>\n",
       "      <td>35.000000</td>\n",
       "      <td>67.000000</td>\n",
       "      <td>37.000000</td>\n",
       "    </tr>\n",
       "    <tr>\n",
       "      <th>mean</th>\n",
       "      <td>52.622388</td>\n",
       "      <td>35.711429</td>\n",
       "      <td>14073.616890</td>\n",
       "      <td>0.571741</td>\n",
       "    </tr>\n",
       "    <tr>\n",
       "      <th>std</th>\n",
       "      <td>6.089156</td>\n",
       "      <td>11.301790</td>\n",
       "      <td>4444.043691</td>\n",
       "      <td>0.013342</td>\n",
       "    </tr>\n",
       "    <tr>\n",
       "      <th>min</th>\n",
       "      <td>40.600000</td>\n",
       "      <td>14.500000</td>\n",
       "      <td>5640.772000</td>\n",
       "      <td>0.532600</td>\n",
       "    </tr>\n",
       "    <tr>\n",
       "      <th>25%</th>\n",
       "      <td>47.600000</td>\n",
       "      <td>27.100000</td>\n",
       "      <td>9111.520250</td>\n",
       "      <td>0.568400</td>\n",
       "    </tr>\n",
       "    <tr>\n",
       "      <th>50%</th>\n",
       "      <td>53.800000</td>\n",
       "      <td>37.300000</td>\n",
       "      <td>16290.517300</td>\n",
       "      <td>0.568400</td>\n",
       "    </tr>\n",
       "    <tr>\n",
       "      <th>75%</th>\n",
       "      <td>58.050000</td>\n",
       "      <td>45.000000</td>\n",
       "      <td>17143.473550</td>\n",
       "      <td>0.568400</td>\n",
       "    </tr>\n",
       "    <tr>\n",
       "      <th>max</th>\n",
       "      <td>60.700000</td>\n",
       "      <td>52.000000</td>\n",
       "      <td>19734.895100</td>\n",
       "      <td>0.600700</td>\n",
       "    </tr>\n",
       "  </tbody>\n",
       "</table>\n",
       "</div>"
      ],
      "text/plain": [
       "       gini_index  owid_education_index  gpd_per_capita  gpd_perc10\n",
       "count   67.000000             35.000000       67.000000   37.000000\n",
       "mean    52.622388             35.711429    14073.616890    0.571741\n",
       "std      6.089156             11.301790     4444.043691    0.013342\n",
       "min     40.600000             14.500000     5640.772000    0.532600\n",
       "25%     47.600000             27.100000     9111.520250    0.568400\n",
       "50%     53.800000             37.300000    16290.517300    0.568400\n",
       "75%     58.050000             45.000000    17143.473550    0.568400\n",
       "max     60.700000             52.000000    19734.895100    0.600700"
      ]
     },
     "metadata": {},
     "output_type": "display_data"
    }
   ],
   "source": [
    "display(df_indices_br.describe())"
   ]
  },
  {
   "cell_type": "markdown",
   "metadata": {
    "id": "VN4oL8-gKDfR"
   },
   "source": [
    "### Primeiros registros"
   ]
  },
  {
   "cell_type": "code",
   "execution_count": 30,
   "metadata": {
    "colab": {
     "base_uri": "https://localhost:8080/",
     "height": 206
    },
    "id": "1RdzAvlpzs6r",
    "outputId": "32424ffb-b46f-44e3-b861-eb3ba90c3e5e"
   },
   "outputs": [
    {
     "data": {
      "text/html": [
       "<div>\n",
       "<style scoped>\n",
       "    .dataframe tbody tr th:only-of-type {\n",
       "        vertical-align: middle;\n",
       "    }\n",
       "\n",
       "    .dataframe tbody tr th {\n",
       "        vertical-align: top;\n",
       "    }\n",
       "\n",
       "    .dataframe thead th {\n",
       "        text-align: right;\n",
       "    }\n",
       "</style>\n",
       "<table border=\"1\" class=\"dataframe\">\n",
       "  <thead>\n",
       "    <tr style=\"text-align: right;\">\n",
       "      <th></th>\n",
       "      <th>country</th>\n",
       "      <th>year</th>\n",
       "      <th>gini_index</th>\n",
       "      <th>owid_education_index</th>\n",
       "      <th>gpd_per_capita</th>\n",
       "      <th>gpd_perc10</th>\n",
       "    </tr>\n",
       "  </thead>\n",
       "  <tbody>\n",
       "    <tr>\n",
       "      <th>0</th>\n",
       "      <td>Brazil</td>\n",
       "      <td>1950</td>\n",
       "      <td>40.6</td>\n",
       "      <td>NaN</td>\n",
       "      <td>5640.7720</td>\n",
       "      <td>NaN</td>\n",
       "    </tr>\n",
       "    <tr>\n",
       "      <th>1</th>\n",
       "      <td>Brazil</td>\n",
       "      <td>1951</td>\n",
       "      <td>40.8</td>\n",
       "      <td>NaN</td>\n",
       "      <td>5757.5249</td>\n",
       "      <td>NaN</td>\n",
       "    </tr>\n",
       "    <tr>\n",
       "      <th>2</th>\n",
       "      <td>Brazil</td>\n",
       "      <td>1952</td>\n",
       "      <td>41.1</td>\n",
       "      <td>NaN</td>\n",
       "      <td>5940.6765</td>\n",
       "      <td>NaN</td>\n",
       "    </tr>\n",
       "    <tr>\n",
       "      <th>3</th>\n",
       "      <td>Brazil</td>\n",
       "      <td>1953</td>\n",
       "      <td>41.4</td>\n",
       "      <td>NaN</td>\n",
       "      <td>6067.0429</td>\n",
       "      <td>NaN</td>\n",
       "    </tr>\n",
       "    <tr>\n",
       "      <th>4</th>\n",
       "      <td>Brazil</td>\n",
       "      <td>1954</td>\n",
       "      <td>41.9</td>\n",
       "      <td>14.5</td>\n",
       "      <td>6300.8140</td>\n",
       "      <td>NaN</td>\n",
       "    </tr>\n",
       "  </tbody>\n",
       "</table>\n",
       "</div>"
      ],
      "text/plain": [
       "  country  year  gini_index  owid_education_index  gpd_per_capita  gpd_perc10\n",
       "0  Brazil  1950        40.6                   NaN       5640.7720         NaN\n",
       "1  Brazil  1951        40.8                   NaN       5757.5249         NaN\n",
       "2  Brazil  1952        41.1                   NaN       5940.6765         NaN\n",
       "3  Brazil  1953        41.4                   NaN       6067.0429         NaN\n",
       "4  Brazil  1954        41.9                  14.5       6300.8140         NaN"
      ]
     },
     "execution_count": 30,
     "metadata": {},
     "output_type": "execute_result"
    }
   ],
   "source": [
    "df_indices_br.head()"
   ]
  },
  {
   "cell_type": "markdown",
   "metadata": {
    "id": "GFL0v-sFKqJQ"
   },
   "source": [
    "### Valores duplicados"
   ]
  },
  {
   "cell_type": "code",
   "execution_count": 31,
   "metadata": {
    "colab": {
     "base_uri": "https://localhost:8080/",
     "height": 86
    },
    "id": "w1OGdV_TKrmn",
    "outputId": "ae9211d0-1b2c-4495-8383-88614d25ce52"
   },
   "outputs": [
    {
     "name": "stdout",
     "output_type": "stream",
     "text": [
      "Soma dos registros duplicados do dataset\n"
     ]
    },
    {
     "data": {
      "text/plain": [
       "0"
      ]
     },
     "metadata": {},
     "output_type": "display_data"
    },
    {
     "name": "stdout",
     "output_type": "stream",
     "text": [
      "\n",
      "\n"
     ]
    }
   ],
   "source": [
    "print(f\"Soma dos registros duplicados do dataset\")\n",
    "display(df_indices_br.duplicated().sum())\n",
    "print(\"\\n\")"
   ]
  },
  {
   "cell_type": "markdown",
   "metadata": {
    "id": "khctB92kHfHV"
   },
   "source": [
    "## Qualidade dos Dados"
   ]
  },
  {
   "cell_type": "markdown",
   "metadata": {
    "id": "_0BcmiAVL5an"
   },
   "source": [
    "### Porcentagem das Linhas com valores nulos em cada coluna:\n"
   ]
  },
  {
   "cell_type": "code",
   "execution_count": 32,
   "metadata": {
    "colab": {
     "base_uri": "https://localhost:8080/",
     "height": 0
    },
    "id": "TODuTOauHiRa",
    "outputId": "6968c4dc-343f-4742-f5a0-96b6ffca0d9d"
   },
   "outputs": [
    {
     "name": "stdout",
     "output_type": "stream",
     "text": [
      "country                 0.000000\n",
      "year                    0.000000\n",
      "gini_index              0.000000\n",
      "owid_education_index    0.477612\n",
      "gpd_per_capita          0.000000\n",
      "gpd_perc10              0.447761\n",
      "dtype: float64\n"
     ]
    }
   ],
   "source": [
    "print(df_indices_br.isnull().sum() / len(df_indices_br) )"
   ]
  },
  {
   "cell_type": "markdown",
   "metadata": {
    "id": "MftSfM1THqI9"
   },
   "source": [
    "### Removendo as linhas com valores nulos"
   ]
  },
  {
   "cell_type": "code",
   "execution_count": 33,
   "metadata": {
    "colab": {
     "base_uri": "https://localhost:8080/",
     "height": 0
    },
    "id": "MSzexkuRdMzh",
    "outputId": "ba347507-aab1-471e-8321-47b7555b8fef"
   },
   "outputs": [
    {
     "name": "stdout",
     "output_type": "stream",
     "text": [
      "country                 0.000000\n",
      "year                    0.000000\n",
      "gini_index              0.000000\n",
      "owid_education_index    0.000000\n",
      "gpd_per_capita          0.000000\n",
      "gpd_perc10              0.171429\n",
      "dtype: float64\n"
     ]
    }
   ],
   "source": [
    "df_remove = df_indices_br.loc[(df_indices_br.owid_education_index.isnull() == True) ]\n",
    "df_indices_br = df_indices_br.drop(df_remove.index)\n",
    "print(df_indices_br.isnull().sum() / len(df_indices_br) )"
   ]
  },
  {
   "cell_type": "code",
   "execution_count": 34,
   "metadata": {
    "colab": {
     "base_uri": "https://localhost:8080/",
     "height": 0
    },
    "id": "_Wn1wnxUeIFP",
    "outputId": "04eb42f6-f65a-4860-fc8f-0492e1e41f09"
   },
   "outputs": [
    {
     "name": "stdout",
     "output_type": "stream",
     "text": [
      "country                 0.0\n",
      "year                    0.0\n",
      "gini_index              0.0\n",
      "owid_education_index    0.0\n",
      "gpd_per_capita          0.0\n",
      "gpd_perc10              0.0\n",
      "dtype: float64\n"
     ]
    }
   ],
   "source": [
    "df_remove = df_indices_br.loc[(df_indices_br.gpd_perc10.isnull() == True) ]\n",
    "df_indices_br = df_indices_br.drop(df_remove.index)\n",
    "print(df_indices_br.isnull().sum() / len(df_indices_br) )"
   ]
  },
  {
   "cell_type": "markdown",
   "metadata": {
    "id": "EfRE7xY3wlG9"
   },
   "source": [
    "### Intervalo de datas no DataFrame"
   ]
  },
  {
   "cell_type": "code",
   "execution_count": 36,
   "metadata": {
    "colab": {
     "base_uri": "https://localhost:8080/",
     "height": 0
    },
    "id": "FR_qnZ5hwhuU",
    "outputId": "396a5ead-45ed-413c-ac50-f751b36c070e"
   },
   "outputs": [
    {
     "name": "stdout",
     "output_type": "stream",
     "text": [
      "Menor Valor de Data: 1984\n",
      "Maior Valor de Data: 2016\n",
      "Período da Análise: 32 anos\n"
     ]
    }
   ],
   "source": [
    "data_min = int(df_indices_br.year.min())\n",
    "data_max = int(df_indices_br.year.max())\n",
    "print(f\"Menor Valor de Data: {data_min}\")\n",
    "print(f\"Maior Valor de Data: {data_max}\")\n",
    "print(f\"Período da Análise: {data_max - data_min} anos\")\n"
   ]
  },
  {
   "cell_type": "markdown",
   "metadata": {
    "id": "vM7QuUhCyW0z"
   },
   "source": [
    "## Visualização e Análise dos Dados"
   ]
  },
  {
   "cell_type": "markdown",
   "metadata": {
    "id": "dKznpuSIYB60"
   },
   "source": [
    "### Normalizando os dados, pois queremos analisar dados em escalas diferentes."
   ]
  },
  {
   "cell_type": "code",
   "execution_count": 37,
   "metadata": {
    "colab": {
     "base_uri": "https://localhost:8080/",
     "height": 206
    },
    "id": "fwdhtKhhcYDw",
    "outputId": "a95e57aa-849d-4ebe-b9d0-5fe72e6ccc3f"
   },
   "outputs": [
    {
     "data": {
      "text/html": [
       "<div>\n",
       "<style scoped>\n",
       "    .dataframe tbody tr th:only-of-type {\n",
       "        vertical-align: middle;\n",
       "    }\n",
       "\n",
       "    .dataframe tbody tr th {\n",
       "        vertical-align: top;\n",
       "    }\n",
       "\n",
       "    .dataframe thead th {\n",
       "        text-align: right;\n",
       "    }\n",
       "</style>\n",
       "<table border=\"1\" class=\"dataframe\">\n",
       "  <thead>\n",
       "    <tr style=\"text-align: right;\">\n",
       "      <th></th>\n",
       "      <th>country</th>\n",
       "      <th>year</th>\n",
       "      <th>gini_index</th>\n",
       "      <th>owid_education_index</th>\n",
       "      <th>gpd_per_capita</th>\n",
       "      <th>gpd_perc10</th>\n",
       "    </tr>\n",
       "  </thead>\n",
       "  <tbody>\n",
       "    <tr>\n",
       "      <th>34</th>\n",
       "      <td>Brazil</td>\n",
       "      <td>1984</td>\n",
       "      <td>0.973244</td>\n",
       "      <td>0.459615</td>\n",
       "      <td>0.808220</td>\n",
       "      <td>0.946229</td>\n",
       "    </tr>\n",
       "    <tr>\n",
       "      <th>39</th>\n",
       "      <td>Brazil</td>\n",
       "      <td>1989</td>\n",
       "      <td>0.986622</td>\n",
       "      <td>0.517308</td>\n",
       "      <td>0.874355</td>\n",
       "      <td>0.946229</td>\n",
       "    </tr>\n",
       "    <tr>\n",
       "      <th>40</th>\n",
       "      <td>Brazil</td>\n",
       "      <td>1990</td>\n",
       "      <td>0.983278</td>\n",
       "      <td>0.500000</td>\n",
       "      <td>0.825468</td>\n",
       "      <td>0.946229</td>\n",
       "    </tr>\n",
       "    <tr>\n",
       "      <th>41</th>\n",
       "      <td>Brazil</td>\n",
       "      <td>1991</td>\n",
       "      <td>0.971572</td>\n",
       "      <td>0.525000</td>\n",
       "      <td>0.816394</td>\n",
       "      <td>0.946229</td>\n",
       "    </tr>\n",
       "    <tr>\n",
       "      <th>42</th>\n",
       "      <td>Brazil</td>\n",
       "      <td>1992</td>\n",
       "      <td>0.968227</td>\n",
       "      <td>0.551923</td>\n",
       "      <td>0.792849</td>\n",
       "      <td>0.946229</td>\n",
       "    </tr>\n",
       "  </tbody>\n",
       "</table>\n",
       "</div>"
      ],
      "text/plain": [
       "   country  year  gini_index  owid_education_index  gpd_per_capita  gpd_perc10\n",
       "34  Brazil  1984    0.973244              0.459615        0.808220    0.946229\n",
       "39  Brazil  1989    0.986622              0.517308        0.874355    0.946229\n",
       "40  Brazil  1990    0.983278              0.500000        0.825468    0.946229\n",
       "41  Brazil  1991    0.971572              0.525000        0.816394    0.946229\n",
       "42  Brazil  1992    0.968227              0.551923        0.792849    0.946229"
      ]
     },
     "execution_count": 37,
     "metadata": {},
     "output_type": "execute_result"
    }
   ],
   "source": [
    "df_indices_br_norm = df_indices_br.copy()\n",
    "lista_indicadores = ['gini_index','owid_education_index',\n",
    "                     'gpd_per_capita','gpd_perc10']\n",
    "for indice in df_indices_br_norm[lista_indicadores]:\n",
    "  v_norm = df_indices_br_norm[indice] / df_indices_br_norm[indice].max()\n",
    "  df_indices_br_norm[indice] = v_norm\n",
    "  \n",
    "df_indices_br_norm.head()"
   ]
  },
  {
   "cell_type": "markdown",
   "metadata": {
    "id": "mQaRBYo-XBa-"
   },
   "source": [
    "### A Educação do país melhorou entre 1984 e 2016? E a desigualdade?"
   ]
  },
  {
   "cell_type": "code",
   "execution_count": 38,
   "metadata": {
    "colab": {
     "base_uri": "https://localhost:8080/",
     "height": 421
    },
    "id": "NFlyODKpXJqO",
    "outputId": "09241f65-9102-4704-973b-0994e4002adc"
   },
   "outputs": [
    {
     "data": {
      "image/png": "[encoded data removed]",
      "text/plain": [
       "<Figure size 864x432 with 1 Axes>"
      ]
     },
     "metadata": {
      "needs_background": "light"
     },
     "output_type": "display_data"
    }
   ],
   "source": [
    "plt.figure(figsize=(12,6))\n",
    "\n",
    "\n",
    "sns.lineplot(x=df_indices_br.year, y=df_indices_br_norm.owid_education_index, \n",
    "             label='Educação (OWID)')\n",
    "sns.lineplot(x=df_indices_br.year, y=df_indices_br_norm.gini_index, \n",
    "             label='Desiguladade (GINI)')\n",
    "\n",
    "\n",
    "plt.ylabel(\"Índices\")\n",
    "plt.xlabel(\"Anos\")\n",
    "\n",
    "plt.title('Brasil: Educação e Desiguladade', fontsize=14)\n",
    "plt.legend()\n",
    "plt.xticks(rotation=90)\n",
    "plt.show()"
   ]
  },
  {
   "cell_type": "markdown",
   "metadata": {
    "id": "7l1o0shjcVwh"
   },
   "source": [
    "### Como os indicadores evoluiram ao longo do período analisado no Brasil? "
   ]
  },
  {
   "cell_type": "code",
   "execution_count": 39,
   "metadata": {
    "colab": {
     "base_uri": "https://localhost:8080/",
     "height": 421
    },
    "id": "eGalOC4xeUb1",
    "outputId": "d90a3156-085c-4a67-83fe-434d53b0043b"
   },
   "outputs": [
    {
     "data": {
      "image/png": "[encoded data removed]",
      "text/plain": [
       "<Figure size 864x432 with 1 Axes>"
      ]
     },
     "metadata": {
      "needs_background": "light"
     },
     "output_type": "display_data"
    }
   ],
   "source": [
    "plt.figure(figsize=(12,6))\n",
    "\n",
    "\n",
    "sns.lineplot(x=df_indices_br_norm.year, \n",
    "             y=df_indices_br_norm.gini_index, \n",
    "             label='Desiguladade (GINI)')\n",
    "\n",
    "sns.lineplot(x=df_indices_br_norm.year, \n",
    "             y=df_indices_br_norm.owid_education_index, \n",
    "             label='Educação (OWID)')\n",
    "\n",
    "sns.lineplot(x=df_indices_br_norm.year,\n",
    "             y=df_indices_br_norm.gpd_per_capita,\n",
    "             label='PIB Per Capita')\n",
    "\n",
    "sns.lineplot(x=df_indices_br_norm.year,\n",
    "             y=df_indices_br_norm.gpd_perc10,\n",
    "             label='% da Renda do País que os 10% mais ricos detém')\n",
    "\n",
    "plt.ylabel(\"Índices\")\n",
    "plt.xlabel(\"Anos\")\n",
    "\n",
    "plt.title('Brasil: Escolaridade x Desiguladade X PIB per Capita X Concentração '\n",
    "          + 'de Renda dos 10% mais ricos', fontsize=14)\n",
    "plt.legend()\n",
    "plt.xticks(rotation=90)\n",
    "plt.show()"
   ]
  },
  {
   "cell_type": "markdown",
   "metadata": {
    "id": "Wtpfy544OVmN"
   },
   "source": [
    "### Como foi a evolução da Educação e da Renda no Brasil? \n"
   ]
  },
  {
   "cell_type": "code",
   "execution_count": 40,
   "metadata": {
    "colab": {
     "base_uri": "https://localhost:8080/",
     "height": 421
    },
    "id": "xc5CouRCydlp",
    "outputId": "658e0544-aac4-44a2-85eb-360b876cb825"
   },
   "outputs": [
    {
     "data": {
      "image/png": "[encoded data removed]",
      "text/plain": [
       "<Figure size 864x432 with 1 Axes>"
      ]
     },
     "metadata": {
      "needs_background": "light"
     },
     "output_type": "display_data"
    }
   ],
   "source": [
    "plt.figure(figsize=(12,6))\n",
    "\n",
    "sns.lineplot(x=df_indices_br_norm.year, \n",
    "             y=df_indices_br_norm.owid_education_index, \n",
    "             label='Educação (OWID)', linewidth=4, color='r')\n",
    "\n",
    "sns.lineplot(x=df_indices_br_norm.year, y=df_indices_br_norm.gpd_per_capita, \n",
    "             label='Renda per Capita', alpha=0.4)\n",
    "\n",
    "sns.lineplot(x=df_indices_br_norm.year, y=df_indices_br_norm.gpd_perc10, \n",
    "             label='% da Renda do País que os 10% mais ricos detém', alpha=0.4)\n",
    "\n",
    "plt.ylabel(\"Índices\")\n",
    "plt.xlabel(\"Anos\")\n",
    "\n",
    "plt.title('Brasil: Indicadores de Renda X Educação', fontsize=14)\n",
    "plt.legend()\n",
    "plt.xticks(rotation=90)\n",
    "plt.show()"
   ]
  },
  {
   "cell_type": "markdown",
   "metadata": {
    "id": "X3h8HWPUUOuQ"
   },
   "source": [
    "### Da mesma forma, como evoluiram os indicadores de Renda com o de Desiguladade? \n"
   ]
  },
  {
   "cell_type": "code",
   "execution_count": 41,
   "metadata": {
    "colab": {
     "base_uri": "https://localhost:8080/",
     "height": 421
    },
    "id": "sGQ_x_kTUOuW",
    "outputId": "2dae41ba-7751-4789-9c6f-1efe8cd8dc9e"
   },
   "outputs": [
    {
     "data": {
      "image/png": "[encoded data removed]",
      "text/plain": [
       "<Figure size 864x432 with 1 Axes>"
      ]
     },
     "metadata": {
      "needs_background": "light"
     },
     "output_type": "display_data"
    }
   ],
   "source": [
    "plt.figure(figsize=(12,6))\n",
    "\n",
    "sns.lineplot(x=df_indices_br_norm.year, y=df_indices_br_norm.gini_index, \n",
    "             label='Desiguladade (GINI)', linewidth=4, color='m')\n",
    "\n",
    "sns.lineplot(x=df_indices_br_norm.year, y=df_indices_br_norm.gpd_per_capita, \n",
    "             label='Renda per Capita', alpha=0.4)\n",
    "\n",
    "sns.lineplot(x=df_indices_br_norm.year, y=df_indices_br_norm.gpd_perc10, \n",
    "             label='% da Renda do País que os 10% mais ricos detém', alpha=0.4)\n",
    "\n",
    "plt.ylabel(\"Índices\")\n",
    "plt.xlabel(\"Anos\")\n",
    "\n",
    "plt.title('Brasil: Indicadores de Renda X Desiguladade', fontsize=14)\n",
    "plt.legend()\n",
    "plt.xticks(rotation=90)\n",
    "plt.show()"
   ]
  },
  {
   "cell_type": "markdown",
   "metadata": {
    "id": "MpToPGi4r0Zv"
   },
   "source": [
    "### Qual indicador teve maior variação ao longo dos anos? E a menor?\n",
    "\n",
    "O desvio padrão mostra o quanto os dados estiveram espalhados para longe da média. Valores maiores indicam um maior espalhamento dos dados, e valores menores indicam um menor espalhamento com os dados bem próximos da média."
   ]
  },
  {
   "cell_type": "markdown",
   "metadata": {
    "id": "K6e90s5dyo6i"
   },
   "source": [
    "Valores das Médias"
   ]
  },
  {
   "cell_type": "code",
   "execution_count": 42,
   "metadata": {
    "colab": {
     "base_uri": "https://localhost:8080/",
     "height": 104
    },
    "id": "G7SOzd9LyXr6",
    "outputId": "060140c4-1f87-409f-f51f-52a7eb575313"
   },
   "outputs": [
    {
     "data": {
      "text/plain": [
       "gpd_per_capita          17263.914655\n",
       "owid_education_index       39.358621\n",
       "gini_index                 56.189655\n",
       "gpd_perc10                  0.572662\n",
       "dtype: float64"
      ]
     },
     "metadata": {},
     "output_type": "display_data"
    }
   ],
   "source": [
    "display(df_indices_br[['gpd_per_capita', 'owid_education_index',\n",
    "       'gini_index', 'gpd_perc10']].mean())"
   ]
  },
  {
   "cell_type": "markdown",
   "metadata": {
    "id": "PvGeKGazyu-i"
   },
   "source": [
    "Valores do Desvio-Padrão"
   ]
  },
  {
   "cell_type": "code",
   "execution_count": 65,
   "metadata": {
    "colab": {
     "base_uri": "https://localhost:8080/",
     "height": 104
    },
    "id": "gJDA_IRWsSzf",
    "outputId": "920deebc-bafb-4c92-cf21-cef5d0ecba1a"
   },
   "outputs": [
    {
     "data": {
      "text/plain": [
       "gpd_per_capita          1239.443408\n",
       "owid_education_index       8.595078\n",
       "gini_index                 2.972054\n",
       "gpd_perc10                 0.014993\n",
       "dtype: float64"
      ]
     },
     "metadata": {},
     "output_type": "display_data"
    }
   ],
   "source": [
    "display(df_indices_br[['gini_index', 'owid_education_index',\n",
    "       'gpd_per_capita', 'gpd_perc10']].std().sort_values(ascending=False))"
   ]
  },
  {
   "cell_type": "markdown",
   "metadata": {
    "id": "r8J0BeJehPwb"
   },
   "source": [
    "### Vamos verificar quais variáveis estão linearmente correlacionadas\n",
    "\n",
    "Os valores próximos de -1 e próximos de 1 indicam fortes correlações.\n",
    "\n",
    "> No mapa de Calor: Cores mais escuras indicam uma correlação negativa e cores mais claras indicam uma correlação positiva\n"
   ]
  },
  {
   "cell_type": "code",
   "execution_count": 43,
   "metadata": {
    "colab": {
     "base_uri": "https://localhost:8080/",
     "height": 174
    },
    "id": "5WPiC7R6l75h",
    "outputId": "80255dc3-7d76-4fa3-bd99-3edcf06db9d5"
   },
   "outputs": [
    {
     "data": {
      "text/html": [
       "<div>\n",
       "<style scoped>\n",
       "    .dataframe tbody tr th:only-of-type {\n",
       "        vertical-align: middle;\n",
       "    }\n",
       "\n",
       "    .dataframe tbody tr th {\n",
       "        vertical-align: top;\n",
       "    }\n",
       "\n",
       "    .dataframe thead th {\n",
       "        text-align: right;\n",
       "    }\n",
       "</style>\n",
       "<table border=\"1\" class=\"dataframe\">\n",
       "  <thead>\n",
       "    <tr style=\"text-align: right;\">\n",
       "      <th></th>\n",
       "      <th>gini_index</th>\n",
       "      <th>owid_education_index</th>\n",
       "      <th>gpd_per_capita</th>\n",
       "      <th>gpd_perc10</th>\n",
       "    </tr>\n",
       "  </thead>\n",
       "  <tbody>\n",
       "    <tr>\n",
       "      <th>gini_index</th>\n",
       "      <td>1.000000</td>\n",
       "      <td>-0.886617</td>\n",
       "      <td>-0.849263</td>\n",
       "      <td>-0.606914</td>\n",
       "    </tr>\n",
       "    <tr>\n",
       "      <th>owid_education_index</th>\n",
       "      <td>-0.886617</td>\n",
       "      <td>1.000000</td>\n",
       "      <td>0.779993</td>\n",
       "      <td>0.474230</td>\n",
       "    </tr>\n",
       "    <tr>\n",
       "      <th>gpd_per_capita</th>\n",
       "      <td>-0.849263</td>\n",
       "      <td>0.779993</td>\n",
       "      <td>1.000000</td>\n",
       "      <td>0.630162</td>\n",
       "    </tr>\n",
       "    <tr>\n",
       "      <th>gpd_perc10</th>\n",
       "      <td>-0.606914</td>\n",
       "      <td>0.474230</td>\n",
       "      <td>0.630162</td>\n",
       "      <td>1.000000</td>\n",
       "    </tr>\n",
       "  </tbody>\n",
       "</table>\n",
       "</div>"
      ],
      "text/plain": [
       "                      gini_index  owid_education_index  gpd_per_capita  \\\n",
       "gini_index              1.000000             -0.886617       -0.849263   \n",
       "owid_education_index   -0.886617              1.000000        0.779993   \n",
       "gpd_per_capita         -0.849263              0.779993        1.000000   \n",
       "gpd_perc10             -0.606914              0.474230        0.630162   \n",
       "\n",
       "                      gpd_perc10  \n",
       "gini_index             -0.606914  \n",
       "owid_education_index    0.474230  \n",
       "gpd_per_capita          0.630162  \n",
       "gpd_perc10              1.000000  "
      ]
     },
     "metadata": {},
     "output_type": "display_data"
    }
   ],
   "source": [
    "# calculo da correlação pelo pandas\n",
    "correlacao_indices = df_indices_br[['gini_index', 'owid_education_index',\n",
    "       'gpd_per_capita', 'gpd_perc10']].corr()\n",
    "display(correlacao_indices)\n",
    "\n"
   ]
  },
  {
   "cell_type": "code",
   "execution_count": 44,
   "metadata": {
    "colab": {
     "base_uri": "https://localhost:8080/",
     "height": 388
    },
    "id": "ZlqFxn3_jg7k",
    "outputId": "504f1597-f05c-4358-b505-231f2530efd5"
   },
   "outputs": [
    {
     "data": {
      "image/png": "[encoded data removed]",
      "text/plain": [
       "<Figure size 432x288 with 2 Axes>"
      ]
     },
     "metadata": {
      "needs_background": "light"
     },
     "output_type": "display_data"
    }
   ],
   "source": [
    "plt.figure(figsize=(6,4))\n",
    "plt.title(\"Mapa de Calor da Correlação entre os indicadores\")\n",
    "sns.heatmap(correlacao_indices)\n",
    "plt.show()"
   ]
  },
  {
   "cell_type": "markdown",
   "metadata": {
    "id": "uSTioocyj-2a"
   },
   "source": [
    "### Podemos ver a dispersão dos pontos combinando as varíaveis em gráficos separados\n",
    "\n",
    "**Notamos que o índice de Desiguladade (GINI) teve forte correlação negativa com a Renda Per Capita e com a Educação (OWID)** \n",
    "\n",
    "**E também que a Educação (OWID) teve correlação positiva com a Renda Per Capita** "
   ]
  },
  {
   "cell_type": "code",
   "execution_count": 45,
   "metadata": {
    "colab": {
     "base_uri": "https://localhost:8080/",
     "height": 744
    },
    "id": "SJfctE-7hXaj",
    "outputId": "a9c47b50-8eaf-41cf-fd29-715564281b9c"
   },
   "outputs": [
    {
     "data": {
      "image/png": "[encoded data removed]",
      "text/plain": [
       "<Figure size 720x720 with 20 Axes>"
      ]
     },
     "metadata": {
      "needs_background": "light"
     },
     "output_type": "display_data"
    }
   ],
   "source": [
    "sns.pairplot(data=df_indices_br)\n",
    "plt.show()"
   ]
  },
  {
   "cell_type": "markdown",
   "metadata": {
    "id": "EfEPh-s-l_SD"
   },
   "source": [
    "### Como a Educação esteve relacionada com a Desiguladade?\n"
   ]
  },
  {
   "cell_type": "code",
   "execution_count": 46,
   "metadata": {
    "colab": {
     "base_uri": "https://localhost:8080/",
     "height": 410
    },
    "id": "q663JOccjYK6",
    "outputId": "edfa3ad4-0772-4cd6-ed55-b009af83907b"
   },
   "outputs": [
    {
     "data": {
      "image/png": "[encoded data removed]",
      "text/plain": [
       "<Figure size 864x432 with 1 Axes>"
      ]
     },
     "metadata": {
      "needs_background": "light"
     },
     "output_type": "display_data"
    }
   ],
   "source": [
    "plt.figure(figsize=(12,6))\n",
    "\n",
    "\n",
    "sns.regplot(x='owid_education_index', y='gini_index', data=df_indices_br)\n",
    "\n",
    "\n",
    "plt.ylabel(\"Desiguladade\")\n",
    "plt.xlabel(\"Educação\")\n",
    "\n",
    "plt.title(\"Brasil: Escolaridade em função do Índice de Desiguladade \", fontsize=14)\n",
    "plt.xticks(rotation=90)\n",
    "plt.show()"
   ]
  },
  {
   "cell_type": "markdown",
   "metadata": {
    "id": "sAPEWe0Gms65"
   },
   "source": [
    "### Como a Desiguladade afetou a Renda Per Capita?\n"
   ]
  },
  {
   "cell_type": "code",
   "execution_count": 47,
   "metadata": {
    "colab": {
     "base_uri": "https://localhost:8080/",
     "height": 408
    },
    "id": "6ZsOBL1tbWLJ",
    "outputId": "0533e51b-4410-46e0-f2af-9a38b76dc37b"
   },
   "outputs": [
    {
     "data": {
      "image/png": "[encoded data removed]",
      "text/plain": [
       "<Figure size 864x432 with 1 Axes>"
      ]
     },
     "metadata": {
      "needs_background": "light"
     },
     "output_type": "display_data"
    }
   ],
   "source": [
    "plt.figure(figsize=(12,6))\n",
    "\n",
    "\n",
    "sns.regplot(x='gini_index', y='gpd_per_capita', data=df_indices_br, color='g')\n",
    "\n",
    "\n",
    "plt.ylabel(\"Renda Per Capita\")\n",
    "plt.xlabel(\"Desiguladade\")\n",
    "\n",
    "plt.title('Brasil: Desiguladade (GINI) em função da Renda per Capita', \n",
    "          fontsize=14)\n",
    "plt.xticks(rotation=90)\n",
    "plt.show()"
   ]
  },
  {
   "cell_type": "markdown",
   "metadata": {
    "id": "GqnzPa_anmno"
   },
   "source": [
    "### E a como a Renda Per Capita foi relacionada com a Educação?\n"
   ]
  },
  {
   "cell_type": "code",
   "execution_count": 48,
   "metadata": {
    "colab": {
     "base_uri": "https://localhost:8080/",
     "height": 410
    },
    "id": "KILnl0rBd2gf",
    "outputId": "60475772-c27a-49f5-a5e4-f4f09d40ee30"
   },
   "outputs": [
    {
     "data": {
      "image/png": "[encoded data removed]",
      "text/plain": [
       "<Figure size 864x432 with 1 Axes>"
      ]
     },
     "metadata": {
      "needs_background": "light"
     },
     "output_type": "display_data"
    }
   ],
   "source": [
    "plt.figure(figsize=(12,6))\n",
    "\n",
    "sns.regplot(x='owid_education_index', y='gpd_per_capita', data=df_indices_br, \n",
    "            color='c')\n",
    "\n",
    "\n",
    "plt.ylabel(\"Renda Per Capita\")\n",
    "plt.xlabel(\"Educação (OWID)\")\n",
    "\n",
    "plt.title('Brasil: Renda Per Capita em função do Índice de Educação (OWID)', \n",
    "          fontsize=14)\n",
    "plt.xticks(rotation=90)\n",
    "plt.show()"
   ]
  },
  {
   "cell_type": "markdown",
   "metadata": {
    "id": "MadAQnw9vGtd"
   },
   "source": [
    "\n",
    "## Conclusões\n",
    "\n",
    "> A respeito dos dados apresentados, foi possível concluir que a Educação teve um aumento, de modo que a Desigualdade diminuiu. \n",
    "\n",
    "> Em relação à Renda per capita, houve aumento, porém nos últimos anos a mesma teve uma queda bem acentuada. \n",
    "\n",
    "> A Renda Per Capita teve um crescimento positivamente correlacionado com a melhora na Educação. \n",
    "\n",
    "> O aumento da Renda Per Capita e da Educação estiveram correlacionados linearmente com a queda da Desigualdade; mas isso não significa que existe uma relação de causa e efeito. \n",
    "\n",
    "> O indicador que teve uma maior variação ao longo dos anos foi a Renda Per Capita, com um já citado aumento. \n",
    "\n",
    "> Já o indicador que menos variou, ou seja, que se manteve mais próximo de uma média foi a Concentração de Renda dos 10% mais ricos, indicando que os 10% mais ricos não tiveram grandes variações em suas rendas concentradas. \n",
    "\n",
    "> Apesar da queda da Desigualdade, cerca de 57% da Renda do país está concentrada entre os 10% mais ricos. \n",
    "\n"
   ]
  }
 ],
 "metadata": {
  "colab": {
   "collapsed_sections": [],
   "name": "Tarefa_aprofundamento_trilha4_AnaliseExpl.ipynb",
   "provenance": []
  },
  "kernelspec": {
   "display_name": "Python 3",
   "language": "python",
   "name": "python3"
  },
  "language_info": {
   "codemirror_mode": {
    "name": "ipython",
    "version": 3
   },
   "file_extension": ".py",
   "mimetype": "text/x-python",
   "name": "python",
   "nbconvert_exporter": "python",
   "pygments_lexer": "ipython3",
   "version": "3.8.8"
  }
 },
 "nbformat": 4,
 "nbformat_minor": 1
}
