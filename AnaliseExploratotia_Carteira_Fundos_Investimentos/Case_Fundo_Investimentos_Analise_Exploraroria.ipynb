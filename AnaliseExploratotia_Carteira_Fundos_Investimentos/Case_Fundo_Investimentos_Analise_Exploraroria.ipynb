{
 "cells": [
  {
   "cell_type": "markdown",
   "metadata": {
    "id": "Zr94JEEdkpIZ"
   },
   "source": [
    "# Análise exploratória dos ativos de uma carteira de fundos de investimentos fictícios\n",
    "\n",
    "## Contexto\n",
    "\n",
    "Supondo uma empresa atacadista (Cedente) realizando transações de títulos dos fundos com os seus clientes (Sacado), de modo que os títulos têm: valor, taxa de juros mensal, taxa de desagio, uma data de vencimento e uma data de pagamento.\n",
    "\n",
    "Apresentamos uma análise descritiva dos ativos, demonstrando a situação da carteira atual (Regionalização, concentrações de clientes, taxas de pagamento, Receitas, entre outros).\n",
    "\n",
    "Na implementação da análise utilizamos a linguagem Python, com o aparato das bibliotecas: Pandas, Numpy, Matplotlib e Seaborn.\n",
    "\n"
   ]
  },
  {
   "cell_type": "markdown",
   "metadata": {},
   "source": [
    "A Base de dados possui valores fictícios, de modo que têm as colunas abaixo:\n",
    "\n",
    "| Nome variável | Descrição da variável |\n",
    "| ------ | ------ |\n",
    "| CODIGO | Código do título |\n",
    "| NOME_FUNDO | Nome do fundo em que o título está registrado|\n",
    "| TIPO_PRODUTO | Tipo de produto do título |\n",
    "| CEDENTE | Nome do Cedente |\n",
    "| SACADO | Nome do sacado |\n",
    "| LIMITE_CEDENTE | Limite de Crédito do Cedente |\n",
    "| ESTADO_CEDENTE | Estado de cadastro do Cedente |\n",
    "| ESTADO_SACADO | Estado de cadastro do sacado |\n",
    "| VENCIMENTO | Data de vencimento do título |\n",
    "| DATA_EMISSAO | Data de emissão do título |\n",
    "| DATA_PAGAMENTO | Data de vencimento de pagamento do título |\n",
    "| VALOR_REAL | Valor do título |\n",
    "| VALOR_DESAGIO | valor de deságio do título |\n",
    "| TAXA_MENSAL | Taxa mensal (30 dias) que foi utilizada para o desconto do título |\n",
    "| STATUS_LIQ_TITULO | Status de liquidação do título (EM_DIA: O Título foi pago em dia, ATRASO o título foi pago em atraso) |"
   ]
  },
  {
   "cell_type": "markdown",
   "metadata": {
    "id": "eRFRqLCZkap6"
   },
   "source": [
    "# Implementação\n",
    "\n",
    "Vamos iniciar a nossa análise!"
   ]
  },
  {
   "cell_type": "markdown",
   "metadata": {
    "id": "EngjqXQGlqVh"
   },
   "source": [
    "# Coleta e Exploração Inicial dos Dados"
   ]
  },
  {
   "cell_type": "markdown",
   "metadata": {
    "id": "a_7_n6M_0tCW"
   },
   "source": [
    "## Imports básicos\n"
   ]
  },
  {
   "cell_type": "code",
   "execution_count": 16,
   "metadata": {
    "id": "fs0NFQbEls9o"
   },
   "outputs": [],
   "source": [
    "import pandas as pd\n",
    "import numpy as np\n",
    "import matplotlib.pyplot as plt\n",
    "import matplotlib as mpl\n",
    "import seaborn as sns\n",
    "\n",
    "%matplotlib inline\n",
    "\n",
    "import warnings\n",
    "warnings.simplefilter(action='ignore', category=FutureWarning)"
   ]
  },
  {
   "cell_type": "markdown",
   "metadata": {
    "id": "6IvdfO3Okdk5"
   },
   "source": [
    "## Coleta de Dados\n"
   ]
  },
  {
   "cell_type": "code",
   "execution_count": 2,
   "metadata": {
    "colab": {
     "base_uri": "https://localhost:8080/",
     "height": 313
    },
    "id": "3RVkFScrlxkx",
    "outputId": "94fa66c0-9ead-410f-e671-f46ec78d4fcf"
   },
   "outputs": [
    {
     "data": {
      "text/html": [
       "<div>\n",
       "<style scoped>\n",
       "    .dataframe tbody tr th:only-of-type {\n",
       "        vertical-align: middle;\n",
       "    }\n",
       "\n",
       "    .dataframe tbody tr th {\n",
       "        vertical-align: top;\n",
       "    }\n",
       "\n",
       "    .dataframe thead th {\n",
       "        text-align: right;\n",
       "    }\n",
       "</style>\n",
       "<table border=\"1\" class=\"dataframe\">\n",
       "  <thead>\n",
       "    <tr style=\"text-align: right;\">\n",
       "      <th></th>\n",
       "      <th>CODIGO</th>\n",
       "      <th>NOME_FUNDO</th>\n",
       "      <th>TIPO_PRODUTO</th>\n",
       "      <th>CEDENTE</th>\n",
       "      <th>SACADO</th>\n",
       "      <th>LIMITE_CEDENTE</th>\n",
       "      <th>ESTADO_CEDENTE</th>\n",
       "      <th>ESTADO_SACADO</th>\n",
       "      <th>VENCIMENTO</th>\n",
       "      <th>DATA_EMISSAO</th>\n",
       "      <th>...</th>\n",
       "      <th>RISCO_13</th>\n",
       "      <th>RISCO_14</th>\n",
       "      <th>RISCO_15</th>\n",
       "      <th>RISCO_16</th>\n",
       "      <th>RISCO_17</th>\n",
       "      <th>RISCO_18</th>\n",
       "      <th>RISCO_19</th>\n",
       "      <th>RISCO_20</th>\n",
       "      <th>RISCO_21</th>\n",
       "      <th>STATUS_LIQ_TITULO</th>\n",
       "    </tr>\n",
       "  </thead>\n",
       "  <tbody>\n",
       "    <tr>\n",
       "      <th>0</th>\n",
       "      <td>1</td>\n",
       "      <td>Fundo 1</td>\n",
       "      <td>Produto 1</td>\n",
       "      <td>Cedente 2</td>\n",
       "      <td>Sacado 249</td>\n",
       "      <td>10000000</td>\n",
       "      <td>CE</td>\n",
       "      <td>SP</td>\n",
       "      <td>2018-03-18</td>\n",
       "      <td>2017-10-28</td>\n",
       "      <td>...</td>\n",
       "      <td>0.168124</td>\n",
       "      <td>0</td>\n",
       "      <td>0.066667</td>\n",
       "      <td>0.2</td>\n",
       "      <td>0.727965</td>\n",
       "      <td>0.738669</td>\n",
       "      <td>0.407407</td>\n",
       "      <td>0.860111</td>\n",
       "      <td>0.985155</td>\n",
       "      <td>EM_DIA</td>\n",
       "    </tr>\n",
       "    <tr>\n",
       "      <th>1</th>\n",
       "      <td>2</td>\n",
       "      <td>Fundo 2</td>\n",
       "      <td>Produto 1</td>\n",
       "      <td>Cedente 1</td>\n",
       "      <td>Sacado 1372</td>\n",
       "      <td>8035714</td>\n",
       "      <td>PA</td>\n",
       "      <td>MG</td>\n",
       "      <td>2018-06-24</td>\n",
       "      <td>2018-05-21</td>\n",
       "      <td>...</td>\n",
       "      <td>0.392065</td>\n",
       "      <td>0</td>\n",
       "      <td>0.266667</td>\n",
       "      <td>0.6</td>\n",
       "      <td>0.010041</td>\n",
       "      <td>0.012547</td>\n",
       "      <td>0.395062</td>\n",
       "      <td>0.698438</td>\n",
       "      <td>0.707374</td>\n",
       "      <td>EM_DIA</td>\n",
       "    </tr>\n",
       "    <tr>\n",
       "      <th>2</th>\n",
       "      <td>3</td>\n",
       "      <td>Fundo 1</td>\n",
       "      <td>Produto 1</td>\n",
       "      <td>Cedente 2</td>\n",
       "      <td>Sacado 346</td>\n",
       "      <td>10000000</td>\n",
       "      <td>CE</td>\n",
       "      <td>PR</td>\n",
       "      <td>2018-03-19</td>\n",
       "      <td>2017-11-29</td>\n",
       "      <td>...</td>\n",
       "      <td>0.109617</td>\n",
       "      <td>0</td>\n",
       "      <td>0.066667</td>\n",
       "      <td>0.2</td>\n",
       "      <td>0.327489</td>\n",
       "      <td>0.321123</td>\n",
       "      <td>0.395062</td>\n",
       "      <td>0.890059</td>\n",
       "      <td>0.987560</td>\n",
       "      <td>ATRASO</td>\n",
       "    </tr>\n",
       "    <tr>\n",
       "      <th>3</th>\n",
       "      <td>4</td>\n",
       "      <td>Fundo 2</td>\n",
       "      <td>Produto 1</td>\n",
       "      <td>Cedente 1</td>\n",
       "      <td>Sacado 585</td>\n",
       "      <td>8035714</td>\n",
       "      <td>PA</td>\n",
       "      <td>PA</td>\n",
       "      <td>2018-04-03</td>\n",
       "      <td>2018-02-14</td>\n",
       "      <td>...</td>\n",
       "      <td>0.415602</td>\n",
       "      <td>0</td>\n",
       "      <td>0.400000</td>\n",
       "      <td>0.6</td>\n",
       "      <td>0.012217</td>\n",
       "      <td>0.017485</td>\n",
       "      <td>0.419753</td>\n",
       "      <td>0.609827</td>\n",
       "      <td>0.906279</td>\n",
       "      <td>ATRASO</td>\n",
       "    </tr>\n",
       "    <tr>\n",
       "      <th>4</th>\n",
       "      <td>5</td>\n",
       "      <td>Fundo 1</td>\n",
       "      <td>Produto 1</td>\n",
       "      <td>Cedente 2</td>\n",
       "      <td>Sacado 2184</td>\n",
       "      <td>10000000</td>\n",
       "      <td>CE</td>\n",
       "      <td>RJ</td>\n",
       "      <td>2018-02-02</td>\n",
       "      <td>2017-11-03</td>\n",
       "      <td>...</td>\n",
       "      <td>0.168124</td>\n",
       "      <td>0</td>\n",
       "      <td>0.066667</td>\n",
       "      <td>0.2</td>\n",
       "      <td>0.727965</td>\n",
       "      <td>0.738669</td>\n",
       "      <td>0.407407</td>\n",
       "      <td>0.860111</td>\n",
       "      <td>0.368493</td>\n",
       "      <td>EM_DIA</td>\n",
       "    </tr>\n",
       "  </tbody>\n",
       "</table>\n",
       "<p>5 rows × 36 columns</p>\n",
       "</div>"
      ],
      "text/plain": [
       "   CODIGO NOME_FUNDO TIPO_PRODUTO    CEDENTE       SACADO  LIMITE_CEDENTE  \\\n",
       "0       1    Fundo 1    Produto 1  Cedente 2   Sacado 249        10000000   \n",
       "1       2    Fundo 2    Produto 1  Cedente 1  Sacado 1372         8035714   \n",
       "2       3    Fundo 1    Produto 1  Cedente 2   Sacado 346        10000000   \n",
       "3       4    Fundo 2    Produto 1  Cedente 1   Sacado 585         8035714   \n",
       "4       5    Fundo 1    Produto 1  Cedente 2  Sacado 2184        10000000   \n",
       "\n",
       "  ESTADO_CEDENTE ESTADO_SACADO  VENCIMENTO DATA_EMISSAO  ...  RISCO_13  \\\n",
       "0             CE            SP  2018-03-18   2017-10-28  ...  0.168124   \n",
       "1             PA            MG  2018-06-24   2018-05-21  ...  0.392065   \n",
       "2             CE            PR  2018-03-19   2017-11-29  ...  0.109617   \n",
       "3             PA            PA  2018-04-03   2018-02-14  ...  0.415602   \n",
       "4             CE            RJ  2018-02-02   2017-11-03  ...  0.168124   \n",
       "\n",
       "   RISCO_14  RISCO_15  RISCO_16  RISCO_17  RISCO_18  RISCO_19  RISCO_20  \\\n",
       "0         0  0.066667       0.2  0.727965  0.738669  0.407407  0.860111   \n",
       "1         0  0.266667       0.6  0.010041  0.012547  0.395062  0.698438   \n",
       "2         0  0.066667       0.2  0.327489  0.321123  0.395062  0.890059   \n",
       "3         0  0.400000       0.6  0.012217  0.017485  0.419753  0.609827   \n",
       "4         0  0.066667       0.2  0.727965  0.738669  0.407407  0.860111   \n",
       "\n",
       "   RISCO_21  STATUS_LIQ_TITULO  \n",
       "0  0.985155             EM_DIA  \n",
       "1  0.707374             EM_DIA  \n",
       "2  0.987560             ATRASO  \n",
       "3  0.906279             ATRASO  \n",
       "4  0.368493             EM_DIA  \n",
       "\n",
       "[5 rows x 36 columns]"
      ]
     },
     "execution_count": 2,
     "metadata": {},
     "output_type": "execute_result"
    }
   ],
   "source": [
    "df_titulos = pd.read_csv(\"BASE_TITULOS.txt\", sep=\"\\t\")\n",
    "df_titulos.head()"
   ]
  },
  {
   "cell_type": "markdown",
   "metadata": {
    "id": "3PenSE0-ooH-"
   },
   "source": [
    "### Tamanho do DataFrame"
   ]
  },
  {
   "cell_type": "code",
   "execution_count": 3,
   "metadata": {
    "colab": {
     "base_uri": "https://localhost:8080/"
    },
    "id": "ri_eNvlIoedf",
    "outputId": "c8d48645-311c-488b-d024-16899855469f"
   },
   "outputs": [
    {
     "name": "stdout",
     "output_type": "stream",
     "text": [
      "Dimensões do DataFrame: (9415, 36)\n"
     ]
    }
   ],
   "source": [
    "print(f\"Dimensões do DataFrame: {df_titulos.shape}\")"
   ]
  },
  {
   "cell_type": "markdown",
   "metadata": {
    "id": "Fwq1M8-1org-"
   },
   "source": [
    "### Tipos de Dados"
   ]
  },
  {
   "cell_type": "code",
   "execution_count": 4,
   "metadata": {
    "colab": {
     "base_uri": "https://localhost:8080/",
     "height": 780
    },
    "id": "6rRj1xD1odZH",
    "outputId": "e6943264-0081-464f-f769-cfdf234a1de4"
   },
   "outputs": [
    {
     "name": "stdout",
     "output_type": "stream",
     "text": [
      "<class 'pandas.core.frame.DataFrame'>\n",
      "RangeIndex: 9415 entries, 0 to 9414\n",
      "Data columns (total 36 columns):\n",
      " #   Column             Non-Null Count  Dtype  \n",
      "---  ------             --------------  -----  \n",
      " 0   CODIGO             9415 non-null   int64  \n",
      " 1   NOME_FUNDO         9415 non-null   object \n",
      " 2   TIPO_PRODUTO       9415 non-null   object \n",
      " 3   CEDENTE            9415 non-null   object \n",
      " 4   SACADO             9415 non-null   object \n",
      " 5   LIMITE_CEDENTE     9415 non-null   int64  \n",
      " 6   ESTADO_CEDENTE     9415 non-null   object \n",
      " 7   ESTADO_SACADO      9173 non-null   object \n",
      " 8   VENCIMENTO         9415 non-null   object \n",
      " 9   DATA_EMISSAO       9415 non-null   object \n",
      " 10  DATA_PAGAMENTO     9415 non-null   object \n",
      " 11  VALOR_REAL         9415 non-null   float64\n",
      " 12  VALOR_DESAGIO      9415 non-null   float64\n",
      " 13  TAXA_MENSAL        9413 non-null   float64\n",
      " 14  RISCO_1            9415 non-null   float64\n",
      " 15  RISCO_2            9415 non-null   float64\n",
      " 16  RISCO_3            9415 non-null   float64\n",
      " 17  RISCO_4            2568 non-null   float64\n",
      " 18  RISCO_5            9415 non-null   float64\n",
      " 19  RISCO_6            1661 non-null   float64\n",
      " 20  RISCO_7            9415 non-null   float64\n",
      " 21  RISCO_8            9415 non-null   float64\n",
      " 22  RISCO_9            9415 non-null   float64\n",
      " 23  RISCO_10           4930 non-null   float64\n",
      " 24  RISCO_11           9415 non-null   float64\n",
      " 25  RISCO_12           1651 non-null   float64\n",
      " 26  RISCO_13           9375 non-null   float64\n",
      " 27  RISCO_14           9415 non-null   int64  \n",
      " 28  RISCO_15           9415 non-null   float64\n",
      " 29  RISCO_16           9415 non-null   float64\n",
      " 30  RISCO_17           9415 non-null   float64\n",
      " 31  RISCO_18           9415 non-null   float64\n",
      " 32  RISCO_19           9278 non-null   float64\n",
      " 33  RISCO_20           9415 non-null   float64\n",
      " 34  RISCO_21           9415 non-null   float64\n",
      " 35  STATUS_LIQ_TITULO  9415 non-null   object \n",
      "dtypes: float64(23), int64(3), object(10)\n",
      "memory usage: 2.6+ MB\n"
     ]
    },
    {
     "data": {
      "text/plain": [
       "None"
      ]
     },
     "metadata": {},
     "output_type": "display_data"
    }
   ],
   "source": [
    "display(df_titulos.info())"
   ]
  },
  {
   "cell_type": "markdown",
   "metadata": {
    "id": "XUp-aR5PqTLu"
   },
   "source": [
    "### Detalhes estatisticos do DataFrame"
   ]
  },
  {
   "cell_type": "code",
   "execution_count": 5,
   "metadata": {
    "colab": {
     "base_uri": "https://localhost:8080/",
     "height": 300
    },
    "id": "WQYWZlmAqT2N",
    "outputId": "49d945ad-adc1-4260-cda1-aee14d7b804c"
   },
   "outputs": [
    {
     "data": {
      "text/html": [
       "<div>\n",
       "<style scoped>\n",
       "    .dataframe tbody tr th:only-of-type {\n",
       "        vertical-align: middle;\n",
       "    }\n",
       "\n",
       "    .dataframe tbody tr th {\n",
       "        vertical-align: top;\n",
       "    }\n",
       "\n",
       "    .dataframe thead th {\n",
       "        text-align: right;\n",
       "    }\n",
       "</style>\n",
       "<table border=\"1\" class=\"dataframe\">\n",
       "  <thead>\n",
       "    <tr style=\"text-align: right;\">\n",
       "      <th></th>\n",
       "      <th>LIMITE_CEDENTE</th>\n",
       "      <th>VALOR_REAL</th>\n",
       "      <th>VALOR_DESAGIO</th>\n",
       "      <th>TAXA_MENSAL</th>\n",
       "    </tr>\n",
       "  </thead>\n",
       "  <tbody>\n",
       "    <tr>\n",
       "      <th>count</th>\n",
       "      <td>9.415000e+03</td>\n",
       "      <td>9.415000e+03</td>\n",
       "      <td>9415.000000</td>\n",
       "      <td>9413.000000</td>\n",
       "    </tr>\n",
       "    <tr>\n",
       "      <th>mean</th>\n",
       "      <td>5.753972e+06</td>\n",
       "      <td>6.434006e+03</td>\n",
       "      <td>485.709868</td>\n",
       "      <td>0.046295</td>\n",
       "    </tr>\n",
       "    <tr>\n",
       "      <th>std</th>\n",
       "      <td>3.259539e+06</td>\n",
       "      <td>4.192773e+04</td>\n",
       "      <td>3363.835163</td>\n",
       "      <td>0.050580</td>\n",
       "    </tr>\n",
       "    <tr>\n",
       "      <th>min</th>\n",
       "      <td>0.000000e+00</td>\n",
       "      <td>1.724000e+01</td>\n",
       "      <td>0.174568</td>\n",
       "      <td>-0.532319</td>\n",
       "    </tr>\n",
       "    <tr>\n",
       "      <th>25%</th>\n",
       "      <td>2.500000e+06</td>\n",
       "      <td>4.809900e+02</td>\n",
       "      <td>31.902240</td>\n",
       "      <td>0.023639</td>\n",
       "    </tr>\n",
       "    <tr>\n",
       "      <th>50%</th>\n",
       "      <td>6.964286e+06</td>\n",
       "      <td>9.782300e+02</td>\n",
       "      <td>77.306935</td>\n",
       "      <td>0.034636</td>\n",
       "    </tr>\n",
       "    <tr>\n",
       "      <th>75%</th>\n",
       "      <td>8.035714e+06</td>\n",
       "      <td>2.868530e+03</td>\n",
       "      <td>205.160470</td>\n",
       "      <td>0.054734</td>\n",
       "    </tr>\n",
       "    <tr>\n",
       "      <th>max</th>\n",
       "      <td>1.000000e+07</td>\n",
       "      <td>3.112000e+06</td>\n",
       "      <td>163116.717700</td>\n",
       "      <td>2.320652</td>\n",
       "    </tr>\n",
       "  </tbody>\n",
       "</table>\n",
       "</div>"
      ],
      "text/plain": [
       "       LIMITE_CEDENTE    VALOR_REAL  VALOR_DESAGIO  TAXA_MENSAL\n",
       "count    9.415000e+03  9.415000e+03    9415.000000  9413.000000\n",
       "mean     5.753972e+06  6.434006e+03     485.709868     0.046295\n",
       "std      3.259539e+06  4.192773e+04    3363.835163     0.050580\n",
       "min      0.000000e+00  1.724000e+01       0.174568    -0.532319\n",
       "25%      2.500000e+06  4.809900e+02      31.902240     0.023639\n",
       "50%      6.964286e+06  9.782300e+02      77.306935     0.034636\n",
       "75%      8.035714e+06  2.868530e+03     205.160470     0.054734\n",
       "max      1.000000e+07  3.112000e+06  163116.717700     2.320652"
      ]
     },
     "metadata": {},
     "output_type": "display_data"
    }
   ],
   "source": [
    "display(df_titulos[['LIMITE_CEDENTE',\t'VALOR_REAL',\t'VALOR_DESAGIO', 'TAXA_MENSAL']].describe())"
   ]
  },
  {
   "cell_type": "markdown",
   "metadata": {
    "id": "c9RDmxoIi7C0"
   },
   "source": [
    "### Verificando a existência de linhas duplicadas"
   ]
  },
  {
   "cell_type": "code",
   "execution_count": 6,
   "metadata": {
    "colab": {
     "base_uri": "https://localhost:8080/",
     "height": 86
    },
    "id": "3K3cn03Bi_yL",
    "outputId": "42674e0c-d6d8-4a10-dc7d-21fa96dc1a5d"
   },
   "outputs": [
    {
     "name": "stdout",
     "output_type": "stream",
     "text": [
      "Soma dos registros duplicados do dataset\n"
     ]
    },
    {
     "data": {
      "text/plain": [
       "0"
      ]
     },
     "metadata": {},
     "output_type": "display_data"
    },
    {
     "name": "stdout",
     "output_type": "stream",
     "text": [
      "\n",
      "\n"
     ]
    }
   ],
   "source": [
    "print(f\"Soma dos registros duplicados do dataset\")\n",
    "display(df_titulos.duplicated().sum())\n",
    "print(\"\\n\")"
   ]
  },
  {
   "cell_type": "markdown",
   "metadata": {
    "id": "sR5FP4EQjb45"
   },
   "source": [
    "### Verificando a existência de linhas com valores nulos"
   ]
  },
  {
   "cell_type": "code",
   "execution_count": 7,
   "metadata": {
    "colab": {
     "base_uri": "https://localhost:8080/"
    },
    "id": "7wyTA6rjjjWq",
    "outputId": "932a007c-9c1b-4327-dd88-8d8eecbf89ad"
   },
   "outputs": [
    {
     "name": "stdout",
     "output_type": "stream",
     "text": [
      "CODIGO               0.000000\n",
      "NOME_FUNDO           0.000000\n",
      "TIPO_PRODUTO         0.000000\n",
      "CEDENTE              0.000000\n",
      "SACADO               0.000000\n",
      "LIMITE_CEDENTE       0.000000\n",
      "ESTADO_CEDENTE       0.000000\n",
      "ESTADO_SACADO        0.025704\n",
      "VENCIMENTO           0.000000\n",
      "DATA_EMISSAO         0.000000\n",
      "DATA_PAGAMENTO       0.000000\n",
      "VALOR_REAL           0.000000\n",
      "VALOR_DESAGIO        0.000000\n",
      "TAXA_MENSAL          0.000212\n",
      "RISCO_1              0.000000\n",
      "RISCO_2              0.000000\n",
      "RISCO_3              0.000000\n",
      "RISCO_4              0.727244\n",
      "RISCO_5              0.000000\n",
      "RISCO_6              0.823579\n",
      "RISCO_7              0.000000\n",
      "RISCO_8              0.000000\n",
      "RISCO_9              0.000000\n",
      "RISCO_10             0.476367\n",
      "RISCO_11             0.000000\n",
      "RISCO_12             0.824642\n",
      "RISCO_13             0.004249\n",
      "RISCO_14             0.000000\n",
      "RISCO_15             0.000000\n",
      "RISCO_16             0.000000\n",
      "RISCO_17             0.000000\n",
      "RISCO_18             0.000000\n",
      "RISCO_19             0.014551\n",
      "RISCO_20             0.000000\n",
      "RISCO_21             0.000000\n",
      "STATUS_LIQ_TITULO    0.000000\n",
      "dtype: float64\n"
     ]
    }
   ],
   "source": [
    "print(df_titulos.isnull().sum() / len(df_titulos))"
   ]
  },
  {
   "cell_type": "markdown",
   "metadata": {
    "id": "Es495XV6kALC"
   },
   "source": [
    "### Período de datas do DataFrame"
   ]
  },
  {
   "cell_type": "markdown",
   "metadata": {
    "id": "M594vdoYq6qN"
   },
   "source": [
    "Ajustando variaveis de data para datatime"
   ]
  },
  {
   "cell_type": "code",
   "execution_count": 8,
   "metadata": {
    "id": "bZ4g2TEQq_a9"
   },
   "outputs": [],
   "source": [
    "df_titulos.DATA_EMISSAO = pd.to_datetime(df_titulos.DATA_EMISSAO, format='%Y-%m-%d',\n",
    "                                     errors='coerce')\n",
    "df_titulos.DATA_PAGAMENTO = pd.to_datetime(df_titulos.DATA_PAGAMENTO, format='%Y-%m-%d',\n",
    "                                     errors='coerce')\n",
    "df_titulos.VENCIMENTO = pd.to_datetime(df_titulos.VENCIMENTO, format='%Y-%m-%d',\n",
    "                                     errors='coerce')"
   ]
  },
  {
   "cell_type": "code",
   "execution_count": 9,
   "metadata": {
    "colab": {
     "base_uri": "https://localhost:8080/"
    },
    "id": "fOwKl4yTkFOZ",
    "outputId": "98b259df-9b1c-44e2-da6e-11d565c97c92"
   },
   "outputs": [
    {
     "name": "stdout",
     "output_type": "stream",
     "text": [
      "Período Data Emissão: Entre 02/05/2016 e 27/09/2018\n",
      "Período Data Pagamento: Entre 24/11/2017 e 16/06/2021\n"
     ]
    }
   ],
   "source": [
    "data_emissao_min = df_titulos.DATA_EMISSAO.min().strftime(\"%d/%m/%Y\")\n",
    "data_emissao_max = df_titulos.DATA_EMISSAO.max().strftime(\"%d/%m/%Y\")\n",
    "data_pagamento_min = df_titulos.DATA_PAGAMENTO.min().strftime(\"%d/%m/%Y\")\n",
    "data_pagamento_max = df_titulos.DATA_PAGAMENTO.max().strftime(\"%d/%m/%Y\")\n",
    "print(f\"Período Data Emissão: Entre {data_emissao_min} e {data_emissao_max}\")\n",
    "print(f\"Período Data Pagamento: Entre {data_pagamento_min} e {data_pagamento_max}\")\n"
   ]
  },
  {
   "cell_type": "markdown",
   "metadata": {
    "id": "jarkYPKmkkWJ"
   },
   "source": [
    "# Análise Descritiva dos Ativos\n",
    "\n",
    "A partir de algumas perguntas, podemos entender e analisar a situação da carteira."
   ]
  },
  {
   "cell_type": "markdown",
   "metadata": {
    "id": "_4j-KQdiucx7"
   },
   "source": [
    "### Qual o fundo mais vendido? e o menos?"
   ]
  },
  {
   "cell_type": "code",
   "execution_count": 13,
   "metadata": {
    "colab": {
     "base_uri": "https://localhost:8080/",
     "height": 0
    },
    "id": "LfelnVq9PHHI",
    "outputId": "40e7e398-f3b7-41cc-81e2-76cb45412014"
   },
   "outputs": [
    {
     "data": {
      "image/png": "[encoded data removed]",
      "text/plain": [
       "<Figure size 1008x288 with 1 Axes>"
      ]
     },
     "metadata": {
      "needs_background": "light"
     },
     "output_type": "display_data"
    }
   ],
   "source": [
    "# plotando gráfico\n",
    "plt.figure(figsize=(14,4))\n",
    "sns.countplot(x=df_titulos.NOME_FUNDO)\n",
    "plt.title('Quantidade dos Fundos na Carteira')\n",
    "plt.xlabel(\"Nome do Fundo\")\n",
    "plt.ylabel(\"Quantidade\")\n",
    "plt.show()"
   ]
  },
  {
   "cell_type": "markdown",
   "metadata": {
    "id": "5j1fdvXgUJKf"
   },
   "source": [
    "O Fundo 1 é o mais vendido, de modo que o menos vendido é o Fundo 5."
   ]
  },
  {
   "cell_type": "markdown",
   "metadata": {
    "id": "Meo6NYhH1FEm"
   },
   "source": [
    "### Como está a distribuição do status de liquidação dos fundos?"
   ]
  },
  {
   "cell_type": "code",
   "execution_count": 17,
   "metadata": {
    "colab": {
     "base_uri": "https://localhost:8080/",
     "height": 0
    },
    "id": "o1Pjw0gwRg52",
    "outputId": "d9af7e87-6db7-494f-ba84-f181c6de5150"
   },
   "outputs": [
    {
     "data": {
      "image/png": "[encoded data removed]",
      "text/plain": [
       "<Figure size 864x288 with 1 Axes>"
      ]
     },
     "metadata": {
      "needs_background": "light"
     },
     "output_type": "display_data"
    }
   ],
   "source": [
    "plt.figure(figsize=(12,4))\n",
    "sns.countplot(df_titulos['NOME_FUNDO'], hue=df_titulos.STATUS_LIQ_TITULO)\n",
    "\n",
    "plt.title('Quantidade dos Fundos Liquidados dentro e fora do Vencimento')\n",
    "plt.xlabel(\"Nome do Fundo\")\n",
    "plt.legend()\n",
    "plt.ylabel(\"Quantidade\")\n",
    "plt.show()"
   ]
  },
  {
   "cell_type": "markdown",
   "metadata": {
    "id": "WPZ0x3DiYth0"
   },
   "source": [
    "O Fundo com mais liquidações em dia é o Fundo 1. O Fundo 4 tem maior quantidade de pagamentos em atraso."
   ]
  },
  {
   "cell_type": "markdown",
   "metadata": {
    "id": "2QCQZXDBu1K6"
   },
   "source": [
    "### Qual o produto mais vendido? e o menos?"
   ]
  },
  {
   "cell_type": "code",
   "execution_count": 18,
   "metadata": {
    "colab": {
     "base_uri": "https://localhost:8080/",
     "height": 0
    },
    "id": "8LivfTF-PdcQ",
    "outputId": "39651cdb-b7c9-4f6d-f518-d056cecae4a6"
   },
   "outputs": [
    {
     "data": {
      "text/html": [
       "<div>\n",
       "<style scoped>\n",
       "    .dataframe tbody tr th:only-of-type {\n",
       "        vertical-align: middle;\n",
       "    }\n",
       "\n",
       "    .dataframe tbody tr th {\n",
       "        vertical-align: top;\n",
       "    }\n",
       "\n",
       "    .dataframe thead th {\n",
       "        text-align: right;\n",
       "    }\n",
       "</style>\n",
       "<table border=\"1\" class=\"dataframe\">\n",
       "  <thead>\n",
       "    <tr style=\"text-align: right;\">\n",
       "      <th></th>\n",
       "      <th>count</th>\n",
       "    </tr>\n",
       "    <tr>\n",
       "      <th>TIPO_PRODUTO</th>\n",
       "      <th></th>\n",
       "    </tr>\n",
       "  </thead>\n",
       "  <tbody>\n",
       "    <tr>\n",
       "      <th>Produto 1</th>\n",
       "      <td>7867</td>\n",
       "    </tr>\n",
       "    <tr>\n",
       "      <th>Produto 5</th>\n",
       "      <td>1109</td>\n",
       "    </tr>\n",
       "    <tr>\n",
       "      <th>Produto 3</th>\n",
       "      <td>245</td>\n",
       "    </tr>\n",
       "    <tr>\n",
       "      <th>Produto 2</th>\n",
       "      <td>190</td>\n",
       "    </tr>\n",
       "    <tr>\n",
       "      <th>Produto 4</th>\n",
       "      <td>4</td>\n",
       "    </tr>\n",
       "  </tbody>\n",
       "</table>\n",
       "</div>"
      ],
      "text/plain": [
       "              count\n",
       "TIPO_PRODUTO       \n",
       "Produto 1      7867\n",
       "Produto 5      1109\n",
       "Produto 3       245\n",
       "Produto 2       190\n",
       "Produto 4         4"
      ]
     },
     "execution_count": 18,
     "metadata": {},
     "output_type": "execute_result"
    }
   ],
   "source": [
    "df_titulos.groupby('TIPO_PRODUTO')['TIPO_PRODUTO'].agg(['count']).sort_values(by='count', ascending=False)"
   ]
  },
  {
   "cell_type": "code",
   "execution_count": 19,
   "metadata": {
    "colab": {
     "base_uri": "https://localhost:8080/",
     "height": 0
    },
    "id": "wME93R5iRJ2w",
    "outputId": "54919985-d431-44dd-f152-b1f74925e540"
   },
   "outputs": [
    {
     "data": {
      "image/png": "[encoded data removed]",
      "text/plain": [
       "<Figure size 864x288 with 1 Axes>"
      ]
     },
     "metadata": {
      "needs_background": "light"
     },
     "output_type": "display_data"
    }
   ],
   "source": [
    "plt.figure(figsize=(12,4))\n",
    "sns.countplot(x=df_titulos.TIPO_PRODUTO)\n",
    "plt.title('Quantidade dos Produtos dos Títulos na Carteira')\n",
    "plt.xlabel(\"Nome do Produto\")\n",
    "plt.ylabel(\"Quantidade\")\n",
    "plt.show()"
   ]
  },
  {
   "cell_type": "markdown",
   "metadata": {
    "id": "xummj49gU5qv"
   },
   "source": [
    "Vemos que o produto mais vendido é o Produto 1 e o menos vendido é o Produto 4."
   ]
  },
  {
   "cell_type": "markdown",
   "metadata": {
    "id": "H_ISBLtpqJ8M"
   },
   "source": [
    "### Como está a Distribuição dos Prodututos em cada fundo? Quantos foram pagos em dia?"
   ]
  },
  {
   "cell_type": "code",
   "execution_count": 20,
   "metadata": {
    "colab": {
     "base_uri": "https://localhost:8080/",
     "height": 0
    },
    "id": "5jcsgMuBrwkG",
    "outputId": "ed810d83-70a6-44a5-ca05-e4dd2686a36e"
   },
   "outputs": [
    {
     "data": {
      "text/html": [
       "<div>\n",
       "<style scoped>\n",
       "    .dataframe tbody tr th:only-of-type {\n",
       "        vertical-align: middle;\n",
       "    }\n",
       "\n",
       "    .dataframe tbody tr th {\n",
       "        vertical-align: top;\n",
       "    }\n",
       "\n",
       "    .dataframe thead th {\n",
       "        text-align: right;\n",
       "    }\n",
       "</style>\n",
       "<table border=\"1\" class=\"dataframe\">\n",
       "  <thead>\n",
       "    <tr style=\"text-align: right;\">\n",
       "      <th></th>\n",
       "      <th></th>\n",
       "      <th>count</th>\n",
       "    </tr>\n",
       "    <tr>\n",
       "      <th>NOME_FUNDO</th>\n",
       "      <th>TIPO_PRODUTO</th>\n",
       "      <th></th>\n",
       "    </tr>\n",
       "  </thead>\n",
       "  <tbody>\n",
       "    <tr>\n",
       "      <th rowspan=\"2\" valign=\"top\">Fundo 1</th>\n",
       "      <th>Produto 1</th>\n",
       "      <td>5858</td>\n",
       "    </tr>\n",
       "    <tr>\n",
       "      <th>Produto 2</th>\n",
       "      <td>147</td>\n",
       "    </tr>\n",
       "    <tr>\n",
       "      <th rowspan=\"4\" valign=\"top\">Fundo 2</th>\n",
       "      <th>Produto 1</th>\n",
       "      <td>1839</td>\n",
       "    </tr>\n",
       "    <tr>\n",
       "      <th>Produto 2</th>\n",
       "      <td>34</td>\n",
       "    </tr>\n",
       "    <tr>\n",
       "      <th>Produto 3</th>\n",
       "      <td>243</td>\n",
       "    </tr>\n",
       "    <tr>\n",
       "      <th>Produto 5</th>\n",
       "      <td>512</td>\n",
       "    </tr>\n",
       "    <tr>\n",
       "      <th rowspan=\"2\" valign=\"top\">Fundo 3</th>\n",
       "      <th>Produto 1</th>\n",
       "      <td>98</td>\n",
       "    </tr>\n",
       "    <tr>\n",
       "      <th>Produto 5</th>\n",
       "      <td>208</td>\n",
       "    </tr>\n",
       "    <tr>\n",
       "      <th rowspan=\"4\" valign=\"top\">Fundo 4</th>\n",
       "      <th>Produto 1</th>\n",
       "      <td>72</td>\n",
       "    </tr>\n",
       "    <tr>\n",
       "      <th>Produto 2</th>\n",
       "      <td>9</td>\n",
       "    </tr>\n",
       "    <tr>\n",
       "      <th>Produto 3</th>\n",
       "      <td>2</td>\n",
       "    </tr>\n",
       "    <tr>\n",
       "      <th>Produto 5</th>\n",
       "      <td>389</td>\n",
       "    </tr>\n",
       "    <tr>\n",
       "      <th>Fundo 5</th>\n",
       "      <th>Produto 4</th>\n",
       "      <td>4</td>\n",
       "    </tr>\n",
       "  </tbody>\n",
       "</table>\n",
       "</div>"
      ],
      "text/plain": [
       "                         count\n",
       "NOME_FUNDO TIPO_PRODUTO       \n",
       "Fundo 1    Produto 1      5858\n",
       "           Produto 2       147\n",
       "Fundo 2    Produto 1      1839\n",
       "           Produto 2        34\n",
       "           Produto 3       243\n",
       "           Produto 5       512\n",
       "Fundo 3    Produto 1        98\n",
       "           Produto 5       208\n",
       "Fundo 4    Produto 1        72\n",
       "           Produto 2         9\n",
       "           Produto 3         2\n",
       "           Produto 5       389\n",
       "Fundo 5    Produto 4         4"
      ]
     },
     "metadata": {},
     "output_type": "display_data"
    }
   ],
   "source": [
    "display(df_titulos.groupby(['NOME_FUNDO', 'TIPO_PRODUTO'])['VALOR_REAL'].agg(['count']))"
   ]
  },
  {
   "cell_type": "markdown",
   "metadata": {
    "id": "hFU5eImfVbFP"
   },
   "source": [
    "Acima temos as quantidades dos Produtos atrelados a cada Fundo."
   ]
  },
  {
   "cell_type": "code",
   "execution_count": 21,
   "metadata": {
    "colab": {
     "base_uri": "https://localhost:8080/",
     "height": 0
    },
    "id": "NX0v5cWOqWkc",
    "outputId": "e586da41-f5c2-4144-eb75-ba0c74c03bf6"
   },
   "outputs": [
    {
     "name": "stderr",
     "output_type": "stream",
     "text": [
      "C:\\Users\\PICHAU\\AppData\\Local\\Temp/ipykernel_2932/29366.py:56: MatplotlibDeprecationWarning: Support for passing numbers through unit converters is deprecated since 3.5 and support will be removed two minor releases later; use Axis.convert_units instead.\n",
      "  plt.hist(df_titulos.loc[(df_titulos.NOME_FUNDO == 'Fundo 5') &\n"
     ]
    },
    {
     "data": {
      "image/png": "[encoded data removed]",
      "text/plain": [
       "<Figure size 864x864 with 5 Axes>"
      ]
     },
     "metadata": {
      "needs_background": "light"
     },
     "output_type": "display_data"
    }
   ],
   "source": [
    "fig = plt.figure(figsize=(12,12))\n",
    "\n",
    "plt.subplot(3, 2, 1)\n",
    "plt.title('Produtos do Fundo 1 dentro e fora do Vencimento')\n",
    "plt.hist(df_titulos.loc[(df_titulos.NOME_FUNDO == 'Fundo 1') & \n",
    "                        (df_titulos.STATUS_LIQ_TITULO == 'EM_DIA')]['TIPO_PRODUTO'], \n",
    "         label='Liquidação em Dia')\n",
    "plt.hist(df_titulos.loc[(df_titulos.NOME_FUNDO == 'Fundo 1') & \n",
    "                        (df_titulos.STATUS_LIQ_TITULO == 'ATRASO')]['TIPO_PRODUTO'], \n",
    "         label='Liquidação em Atraso')\n",
    "plt.xlabel(\"Nome do Produto\")\n",
    "plt.legend()\n",
    "plt.ylabel(\"Quantidade\")\n",
    "\n",
    "plt.subplot(3, 2, 2)\n",
    "plt.title('Produtos do Fundo 2 dentro e fora do Vencimento')\n",
    "plt.hist(df_titulos.loc[(df_titulos.NOME_FUNDO == 'Fundo 2') & \n",
    "                        (df_titulos.STATUS_LIQ_TITULO == 'EM_DIA')]['TIPO_PRODUTO'], \n",
    "         label='Liquidação em Dia')\n",
    "plt.hist(df_titulos.loc[(df_titulos.NOME_FUNDO == 'Fundo 2') & \n",
    "                        (df_titulos.STATUS_LIQ_TITULO == 'ATRASO')]['TIPO_PRODUTO'], \n",
    "         label='Liquidação em Atraso')\n",
    "plt.xlabel(\"Nome do Produto\")\n",
    "plt.legend()\n",
    "plt.ylabel(\"Quantidade\")\n",
    "\n",
    "plt.subplot(3, 2, 3)\n",
    "plt.title('Produtos do Fundo 3 dentro e fora do Vencimento')\n",
    "plt.hist(df_titulos.loc[(df_titulos.NOME_FUNDO == 'Fundo 3') & \n",
    "                        (df_titulos.STATUS_LIQ_TITULO == 'EM_DIA')]['TIPO_PRODUTO'], \n",
    "         label='Liquidação em Dia')\n",
    "plt.hist(df_titulos.loc[(df_titulos.NOME_FUNDO == 'Fundo 3') & \n",
    "                        (df_titulos.STATUS_LIQ_TITULO == 'ATRASO')]['TIPO_PRODUTO'], \n",
    "         label='Liquidação em Atraso')\n",
    "plt.xlabel(\"Nome do Produto\")\n",
    "plt.legend()\n",
    "plt.ylabel(\"Quantidade\")\n",
    "\n",
    "plt.subplot(3, 2, 4)\n",
    "plt.title('Produtos do Fundo 4 dentro e fora do Vencimento')\n",
    "plt.hist(df_titulos.loc[(df_titulos.NOME_FUNDO == 'Fundo 4') & \n",
    "                        (df_titulos.STATUS_LIQ_TITULO == 'EM_DIA')]['TIPO_PRODUTO'], \n",
    "         label='Liquidação em Dia')\n",
    "plt.hist(df_titulos.loc[(df_titulos.NOME_FUNDO == 'Fundo 4') & \n",
    "                        (df_titulos.STATUS_LIQ_TITULO == 'ATRASO')]['TIPO_PRODUTO'], \n",
    "         label='Liquidação em Atraso')\n",
    "plt.xlabel(\"Nome do Produto\")\n",
    "plt.legend()\n",
    "plt.ylabel(\"Quantidade\")\n",
    "\n",
    "plt.subplot(3, 2, 5)\n",
    "plt.title('Produtos do Fundo 5 dentro e fora do Vencimento')\n",
    "plt.hist(df_titulos.loc[(df_titulos.NOME_FUNDO == 'Fundo 5') & \n",
    "                        (df_titulos.STATUS_LIQ_TITULO == 'EM_DIA')]['TIPO_PRODUTO'], \n",
    "         label='Liquidação em Dia')\n",
    "plt.hist(df_titulos.loc[(df_titulos.NOME_FUNDO == 'Fundo 5') & \n",
    "                        (df_titulos.STATUS_LIQ_TITULO == 'ATRASO')]['TIPO_PRODUTO'], \n",
    "         label='Liquidação em Atraso')\n",
    "plt.xlabel(\"Nome do Produto\")\n",
    "plt.legend()\n",
    "plt.ylabel(\"Quantidade\")\n",
    "plt.tight_layout()\n",
    "plt.show()"
   ]
  },
  {
   "cell_type": "markdown",
   "metadata": {
    "id": "hLZavCS1VsIe"
   },
   "source": [
    "Este gráfico acima mostra o status de liquidação dos Produtos de cada Fundo. A maioria dos produtos do Fundo 4 teve atraso na liquidação. O Fundo 5 teve todos os produtos pagos em dia."
   ]
  },
  {
   "cell_type": "markdown",
   "metadata": {
    "id": "BLvm4jAN7ufe"
   },
   "source": [
    "### Qual o Valor Médio dos Fundos?"
   ]
  },
  {
   "cell_type": "code",
   "execution_count": 22,
   "metadata": {
    "colab": {
     "base_uri": "https://localhost:8080/",
     "height": 0
    },
    "id": "3EnalNGIuXM5",
    "outputId": "b2c3154d-57b8-4c5b-d07b-beb434f098a3"
   },
   "outputs": [
    {
     "data": {
      "text/html": [
       "<div>\n",
       "<style scoped>\n",
       "    .dataframe tbody tr th:only-of-type {\n",
       "        vertical-align: middle;\n",
       "    }\n",
       "\n",
       "    .dataframe tbody tr th {\n",
       "        vertical-align: top;\n",
       "    }\n",
       "\n",
       "    .dataframe thead th {\n",
       "        text-align: right;\n",
       "    }\n",
       "</style>\n",
       "<table border=\"1\" class=\"dataframe\">\n",
       "  <thead>\n",
       "    <tr style=\"text-align: right;\">\n",
       "      <th></th>\n",
       "      <th>mean</th>\n",
       "    </tr>\n",
       "    <tr>\n",
       "      <th>STATUS_LIQ_TITULO</th>\n",
       "      <th></th>\n",
       "    </tr>\n",
       "  </thead>\n",
       "  <tbody>\n",
       "    <tr>\n",
       "      <th>ATRASO</th>\n",
       "      <td>5110.512726</td>\n",
       "    </tr>\n",
       "    <tr>\n",
       "      <th>EM_DIA</th>\n",
       "      <td>6761.372532</td>\n",
       "    </tr>\n",
       "  </tbody>\n",
       "</table>\n",
       "</div>"
      ],
      "text/plain": [
       "                          mean\n",
       "STATUS_LIQ_TITULO             \n",
       "ATRASO             5110.512726\n",
       "EM_DIA             6761.372532"
      ]
     },
     "execution_count": 22,
     "metadata": {},
     "output_type": "execute_result"
    }
   ],
   "source": [
    "df_titulos.groupby('STATUS_LIQ_TITULO')['VALOR_REAL'].agg(['mean'])"
   ]
  },
  {
   "cell_type": "markdown",
   "metadata": {
    "id": "QyCYf8OJZZtT"
   },
   "source": [
    "Na média, os títulos liquidados em Dia tem maior valor real, com aproximadamente R\\$ 6.761,37 "
   ]
  },
  {
   "cell_type": "code",
   "execution_count": 23,
   "metadata": {
    "colab": {
     "base_uri": "https://localhost:8080/",
     "height": 0
    },
    "id": "yGNlN0R98vTl",
    "outputId": "ddb20bc5-ec53-4eca-c6c2-e57b9ad479f6"
   },
   "outputs": [
    {
     "data": {
      "image/png": "[encoded data removed]",
      "text/plain": [
       "<Figure size 864x576 with 1 Axes>"
      ]
     },
     "metadata": {
      "needs_background": "light"
     },
     "output_type": "display_data"
    }
   ],
   "source": [
    "plt.figure(figsize=(12,8))\n",
    "sns.boxplot(x='STATUS_LIQ_TITULO', y='VALOR_REAL', data=df_titulos,  \n",
    "            showfliers=False)\n",
    "\n",
    "plt.title('Distribuição do Valor Real',fontsize=14,weight='bold')\n",
    "plt.tight_layout()\n",
    "plt.show()"
   ]
  },
  {
   "cell_type": "markdown",
   "metadata": {
    "id": "ypq7DA-_aOoj"
   },
   "source": [
    "Este gráfico de boxplot mostra a distribuição do Valor dos títulos sem considerar as medidas discrepantes, o que chamamos de outliers.\n",
    "\n",
    "A linha no centro de cada caixa indica a mediana do Valor Real.\n",
    "\n",
    "As caudas de cima e de baixo são os maiores e menores valores respectivamente. Para os títulos em dia, vemos que eles são bem distantes, isso indica uma maior variação dos dados.\n",
    "\n",
    "Os títulos em atraso tem valores menores e estes valores não variam muito.\n",
    "\n"
   ]
  },
  {
   "cell_type": "markdown",
   "metadata": {
    "id": "RYSWvkP7CrQC"
   },
   "source": [
    "### Qual o valor De Desagio Médio dos Fundos?"
   ]
  },
  {
   "cell_type": "code",
   "execution_count": 24,
   "metadata": {
    "colab": {
     "base_uri": "https://localhost:8080/",
     "height": 0
    },
    "id": "E8_2sEdCvr8j",
    "outputId": "b2c2790d-ac19-4b08-9ef2-357879b81264"
   },
   "outputs": [
    {
     "data": {
      "text/html": [
       "<div>\n",
       "<style scoped>\n",
       "    .dataframe tbody tr th:only-of-type {\n",
       "        vertical-align: middle;\n",
       "    }\n",
       "\n",
       "    .dataframe tbody tr th {\n",
       "        vertical-align: top;\n",
       "    }\n",
       "\n",
       "    .dataframe thead th {\n",
       "        text-align: right;\n",
       "    }\n",
       "</style>\n",
       "<table border=\"1\" class=\"dataframe\">\n",
       "  <thead>\n",
       "    <tr style=\"text-align: right;\">\n",
       "      <th></th>\n",
       "      <th>mean</th>\n",
       "    </tr>\n",
       "    <tr>\n",
       "      <th>STATUS_LIQ_TITULO</th>\n",
       "      <th></th>\n",
       "    </tr>\n",
       "  </thead>\n",
       "  <tbody>\n",
       "    <tr>\n",
       "      <th>ATRASO</th>\n",
       "      <td>467.540467</td>\n",
       "    </tr>\n",
       "    <tr>\n",
       "      <th>EM_DIA</th>\n",
       "      <td>490.204074</td>\n",
       "    </tr>\n",
       "  </tbody>\n",
       "</table>\n",
       "</div>"
      ],
      "text/plain": [
       "                         mean\n",
       "STATUS_LIQ_TITULO            \n",
       "ATRASO             467.540467\n",
       "EM_DIA             490.204074"
      ]
     },
     "execution_count": 24,
     "metadata": {},
     "output_type": "execute_result"
    }
   ],
   "source": [
    "df_titulos.groupby('STATUS_LIQ_TITULO')['VALOR_DESAGIO'].agg(['mean'])"
   ]
  },
  {
   "cell_type": "code",
   "execution_count": 25,
   "metadata": {
    "colab": {
     "base_uri": "https://localhost:8080/",
     "height": 0
    },
    "id": "q5i1YKjWBanz",
    "outputId": "3f7606fb-266b-496c-df22-cbb72478536a"
   },
   "outputs": [
    {
     "data": {
      "image/png": "[encoded data removed]",
      "text/plain": [
       "<Figure size 864x576 with 1 Axes>"
      ]
     },
     "metadata": {
      "needs_background": "light"
     },
     "output_type": "display_data"
    }
   ],
   "source": [
    "plt.figure(figsize=(12,8))\n",
    "sns.boxplot(x='STATUS_LIQ_TITULO', y='VALOR_DESAGIO', data=df_titulos,  \n",
    "            showfliers=False)\n",
    "plt.title('Distribuição do Valor De Desagio',fontsize=14,weight='bold')\n",
    "plt.tight_layout()\n",
    "plt.show()"
   ]
  },
  {
   "cell_type": "markdown",
   "metadata": {
    "id": "CK4OJGbidi-R"
   },
   "source": [
    "Novamente um gráfico de boxplot com a distribuição do valor de desagio. Vemos que a mediana em ambos os casos é bem próxima, tanto para liquidados em dia como em atraso. "
   ]
  },
  {
   "cell_type": "markdown",
   "metadata": {
    "id": "1gMnvfFpupRS"
   },
   "source": [
    "### Como os Títulos estão distribuídos por estado?"
   ]
  },
  {
   "cell_type": "code",
   "execution_count": 26,
   "metadata": {
    "colab": {
     "base_uri": "https://localhost:8080/",
     "height": 0
    },
    "id": "BgpYt3JjUmKc",
    "outputId": "17cd1a2c-115c-4ec4-f1bf-d834b881c364"
   },
   "outputs": [
    {
     "data": {
      "text/html": [
       "<div>\n",
       "<style scoped>\n",
       "    .dataframe tbody tr th:only-of-type {\n",
       "        vertical-align: middle;\n",
       "    }\n",
       "\n",
       "    .dataframe tbody tr th {\n",
       "        vertical-align: top;\n",
       "    }\n",
       "\n",
       "    .dataframe thead th {\n",
       "        text-align: right;\n",
       "    }\n",
       "</style>\n",
       "<table border=\"1\" class=\"dataframe\">\n",
       "  <thead>\n",
       "    <tr style=\"text-align: right;\">\n",
       "      <th></th>\n",
       "      <th>count</th>\n",
       "    </tr>\n",
       "    <tr>\n",
       "      <th>ESTADO_CEDENTE</th>\n",
       "      <th></th>\n",
       "    </tr>\n",
       "  </thead>\n",
       "  <tbody>\n",
       "    <tr>\n",
       "      <th>CE</th>\n",
       "      <td>3307</td>\n",
       "    </tr>\n",
       "    <tr>\n",
       "      <th>SP</th>\n",
       "      <td>2904</td>\n",
       "    </tr>\n",
       "    <tr>\n",
       "      <th>RS</th>\n",
       "      <td>1125</td>\n",
       "    </tr>\n",
       "    <tr>\n",
       "      <th>GO</th>\n",
       "      <td>609</td>\n",
       "    </tr>\n",
       "    <tr>\n",
       "      <th>MG</th>\n",
       "      <td>567</td>\n",
       "    </tr>\n",
       "    <tr>\n",
       "      <th>RJ</th>\n",
       "      <td>305</td>\n",
       "    </tr>\n",
       "    <tr>\n",
       "      <th>PA</th>\n",
       "      <td>214</td>\n",
       "    </tr>\n",
       "    <tr>\n",
       "      <th>SC</th>\n",
       "      <td>182</td>\n",
       "    </tr>\n",
       "    <tr>\n",
       "      <th>BA</th>\n",
       "      <td>172</td>\n",
       "    </tr>\n",
       "    <tr>\n",
       "      <th>MT</th>\n",
       "      <td>22</td>\n",
       "    </tr>\n",
       "    <tr>\n",
       "      <th>SE</th>\n",
       "      <td>8</td>\n",
       "    </tr>\n",
       "  </tbody>\n",
       "</table>\n",
       "</div>"
      ],
      "text/plain": [
       "                count\n",
       "ESTADO_CEDENTE       \n",
       "CE               3307\n",
       "SP               2904\n",
       "RS               1125\n",
       "GO                609\n",
       "MG                567\n",
       "RJ                305\n",
       "PA                214\n",
       "SC                182\n",
       "BA                172\n",
       "MT                 22\n",
       "SE                  8"
      ]
     },
     "execution_count": 26,
     "metadata": {},
     "output_type": "execute_result"
    }
   ],
   "source": [
    "df_titulos.groupby('ESTADO_CEDENTE')['CODIGO'].agg(['count']).sort_values(by='count', ascending=False )"
   ]
  },
  {
   "cell_type": "markdown",
   "metadata": {
    "id": "pmdHpG7md-9Q"
   },
   "source": [
    "O estado do Ceará apresentou mais títulos com clientes cedentes cadastrados no estado. O estado com menos clientes cedentes foi o estado do Sergipe."
   ]
  },
  {
   "cell_type": "code",
   "execution_count": 27,
   "metadata": {
    "colab": {
     "base_uri": "https://localhost:8080/",
     "height": 0
    },
    "id": "UNF-xFAYVIO7",
    "outputId": "39e9f80c-bcf4-4794-b779-cf81ea2b63c0"
   },
   "outputs": [
    {
     "data": {
      "image/png": "[encoded data removed]",
      "text/plain": [
       "<Figure size 1008x288 with 1 Axes>"
      ]
     },
     "metadata": {
      "needs_background": "light"
     },
     "output_type": "display_data"
    }
   ],
   "source": [
    "plt.figure(figsize=(14,4))\n",
    "sns.countplot(x=df_titulos.ESTADO_CEDENTE, hue=df_titulos.STATUS_LIQ_TITULO)\n",
    "plt.title('Quantidade dos Títulos por Estado na Carteira')\n",
    "plt.xlabel(\"Estado\")\n",
    "plt.ylabel(\"Quantidade\")\n",
    "plt.show()"
   ]
  },
  {
   "cell_type": "markdown",
   "metadata": {
    "id": "n4485FGAeRFI"
   },
   "source": [
    "O único estado que teve mais clientes cerdentes com títulos em atraso do que pagos em dia foi o estado de Goiás."
   ]
  },
  {
   "cell_type": "markdown",
   "metadata": {
    "id": "qcB4cnhUuop6"
   },
   "source": [
    "### Como as operações estão distribuídas nas regiões do Brasil?"
   ]
  },
  {
   "cell_type": "markdown",
   "metadata": {
    "id": "IibpHFs8Vp5k"
   },
   "source": [
    "Vamos adicionar uma coluna com a região do estado Sacado\n"
   ]
  },
  {
   "cell_type": "code",
   "execution_count": 28,
   "metadata": {
    "id": "Av5304fvVj77"
   },
   "outputs": [],
   "source": [
    "# dicionário com as regiões de cada estado do Brasil\n",
    "# chave=estado; valor=Regiao\n",
    "\n",
    "dic_regiao_estado = {\n",
    "        'SP' : 'SUDESTE',\n",
    "        'MG' : 'SUDESTE',\n",
    "        'RJ' : 'SUDESTE',\n",
    "        'BA' : 'NORDESTE',\n",
    "        'RS' : 'SUL',\n",
    "        'PR' : 'SUL',\n",
    "        'PE' : 'NORDESTE',\n",
    "        'CE' : 'NORDESTE',\n",
    "        'PA' : 'NORTE',\n",
    "        'MA' : 'NORDESTE',\n",
    "        'SC' : 'SUL',\n",
    "        'GO' : 'CENTRO-OESTE',\n",
    "        'PB' : 'NORDESTE',\n",
    "        'ES' : 'SUDESTE',\n",
    "        'AM' : 'NORTE',\n",
    "        'RN' : 'NORDESTE',\n",
    "        'AL' : 'NORDESTE',\n",
    "        'PI' : 'NORDESTE',\n",
    "        'MT' : 'CENTRO-OESTE',\n",
    "        'DF' : 'CENTRO-OESTE',\n",
    "        'MS' : 'CENTRO-OESTE',\n",
    "        'SE' : 'NORDESTE',\n",
    "        'RO' : 'NORTE',\n",
    "        'TO' : 'NORTE',\n",
    "        'AC' : 'NORTE',\n",
    "        'AP' : 'NORTE',\n",
    "        'RR' : 'NORTE'\n",
    "        }"
   ]
  },
  {
   "cell_type": "code",
   "execution_count": 29,
   "metadata": {
    "id": "xGSHJqWrWCLT"
   },
   "outputs": [],
   "source": [
    "# lista para inserir coluna de regioes\n",
    "regioes_cedentes = []\n",
    "\n",
    "# populando a lista de regiao para cada linha do dataframe\n",
    "for estado_cedente in df_titulos.ESTADO_CEDENTE.iteritems():\n",
    "  estado = (estado_cedente[1])\n",
    "  regioes_cedentes.append(dic_regiao_estado[estado])\n",
    "  \n",
    "# adicionando a coluna de região do estado cedente\n",
    "df_titulos['REGIAO_CEDENTE'] = regioes_cedentes"
   ]
  },
  {
   "cell_type": "code",
   "execution_count": 30,
   "metadata": {
    "colab": {
     "base_uri": "https://localhost:8080/",
     "height": 0
    },
    "id": "SSlm_WxxYXw0",
    "outputId": "2d679a2d-e681-438c-8f1e-aaa042f1e54c"
   },
   "outputs": [
    {
     "data": {
      "text/plain": [
       "506    CENTRO-OESTE\n",
       "507    CENTRO-OESTE\n",
       "510    CENTRO-OESTE\n",
       "511    CENTRO-OESTE\n",
       "513    CENTRO-OESTE\n",
       "Name: REGIAO_CEDENTE, dtype: object"
      ]
     },
     "metadata": {},
     "output_type": "display_data"
    }
   ],
   "source": [
    "# testando coluna de região\n",
    "display(df_titulos[df_titulos.ESTADO_CEDENTE == 'MT']['REGIAO_CEDENTE'].head())"
   ]
  },
  {
   "cell_type": "code",
   "execution_count": 31,
   "metadata": {
    "colab": {
     "base_uri": "https://localhost:8080/",
     "height": 0
    },
    "id": "H6cK40spEevA",
    "outputId": "75518628-afa2-4f6e-84d6-30616d0103ac"
   },
   "outputs": [
    {
     "data": {
      "image/png": "[encoded data removed]",
      "text/plain": [
       "<Figure size 1008x288 with 1 Axes>"
      ]
     },
     "metadata": {
      "needs_background": "light"
     },
     "output_type": "display_data"
    }
   ],
   "source": [
    "plt.figure(figsize=(14,4))\n",
    "sns.countplot(x=df_titulos.REGIAO_CEDENTE, hue=df_titulos.STATUS_LIQ_TITULO)\n",
    "plt.title('Quantidade dos Títulos por Região do Brasil na Carteira')\n",
    "plt.xlabel(\"Região\")\n",
    "plt.ylabel(\"Quantidade\")\n",
    "plt.show()"
   ]
  },
  {
   "cell_type": "markdown",
   "metadata": {
    "id": "3jtI2Jm-fMcX"
   },
   "source": [
    "Conforme observamos no gráfico de atrasos por estado, vemos que a região centro-oeste teve mais títulos atrasados do que pagos em dia."
   ]
  },
  {
   "cell_type": "markdown",
   "metadata": {
    "id": "h9q9a8ERupX7"
   },
   "source": [
    "### Quais fundos foram operados por região?"
   ]
  },
  {
   "cell_type": "code",
   "execution_count": 32,
   "metadata": {
    "colab": {
     "base_uri": "https://localhost:8080/",
     "height": 0
    },
    "id": "oLaAyX4xyYbe",
    "outputId": "34396444-d94a-4308-89ee-ec639c0aa618"
   },
   "outputs": [
    {
     "data": {
      "image/png": "[encoded data removed]",
      "text/plain": [
       "<Figure size 1152x1440 with 5 Axes>"
      ]
     },
     "metadata": {
      "needs_background": "light"
     },
     "output_type": "display_data"
    }
   ],
   "source": [
    "lista_regioes = list(set(df_titulos.REGIAO_CEDENTE))\n",
    "\n",
    "fig = plt.figure(figsize=(16,20))\n",
    "\n",
    "for regiao in lista_regioes:\n",
    "  id_grafico = lista_regioes.index(regiao) + 1\n",
    "  plt.subplot(3, 2, id_grafico)\n",
    "  plt.title(f'Produtos na Região {regiao} dentro e fora do Vencimento')\n",
    "  plt.hist(df_titulos.loc[(df_titulos.REGIAO_CEDENTE == regiao) & \n",
    "                          (df_titulos.STATUS_LIQ_TITULO == 'EM_DIA')]['TIPO_PRODUTO'], \n",
    "          label='Liquidação em Dia')\n",
    "  plt.hist(df_titulos.loc[(df_titulos.REGIAO_CEDENTE == regiao) & \n",
    "                          (df_titulos.STATUS_LIQ_TITULO == 'ATRASO')]['TIPO_PRODUTO'], \n",
    "          label='Liquidação em Atraso')\n",
    "  plt.xlabel(\"Nome do Produto\")\n",
    "  plt.legend()\n",
    "  plt.ylabel(\"Quantidade\")\n",
    "\n",
    "plt.show()"
   ]
  },
  {
   "cell_type": "markdown",
   "metadata": {
    "id": "wRb7LMCGvk_N"
   },
   "source": [
    "As regiões com mais valores laranjas, de produtos pagos com atraso foram a Centro-Oeste e Sul."
   ]
  },
  {
   "cell_type": "markdown",
   "metadata": {
    "id": "52JOLs34uofL"
   },
   "source": [
    "### Qual o número total de clientes?"
   ]
  },
  {
   "cell_type": "code",
   "execution_count": 33,
   "metadata": {
    "colab": {
     "base_uri": "https://localhost:8080/"
    },
    "id": "ExOPFHf13mYz",
    "outputId": "6e5e7c28-2455-4216-cdd2-988bce742fc3"
   },
   "outputs": [
    {
     "name": "stdout",
     "output_type": "stream",
     "text": [
      "Quantidade Total de clientes cedentes: 24\n"
     ]
    }
   ],
   "source": [
    "total_clientes = len(set(df_titulos.CEDENTE))\n",
    "print(f\"Quantidade Total de clientes cedentes: {total_clientes}\")"
   ]
  },
  {
   "cell_type": "markdown",
   "metadata": {
    "id": "DSDVTsbMzB8P"
   },
   "source": [
    "### Como os clientes cedentes estão concentrados na carteira?"
   ]
  },
  {
   "cell_type": "code",
   "execution_count": 34,
   "metadata": {
    "id": "Y54LlqhX4KcD"
   },
   "outputs": [],
   "source": [
    "# criando um dicionario com as porcentagens da concentracao dos clientes\n",
    "lista_clientes = set(df_titulos.CEDENTE)\n",
    "total_operacoes = len(df_titulos)\n",
    "dic_conc_clientes = {}    # dicionario (chave;valor) com chave:cliente e valor:percentagem carteira\n",
    "for cliente in lista_clientes:\n",
    "  operacoes_cliente = df_titulos[df_titulos.CEDENTE == cliente]['CODIGO'].count()\n",
    "  porcentagem_concentracao = 100 * operacoes_cliente/total_operacoes\n",
    "  dic_conc_clientes[cliente] = round(porcentagem_concentracao, 2)\n",
    "\n"
   ]
  },
  {
   "cell_type": "code",
   "execution_count": 35,
   "metadata": {
    "id": "MwRwo0pu5u2b"
   },
   "outputs": [],
   "source": [
    "# convertendo o dicionario em dataFrame\n",
    "df_concentracao_clientes = pd.DataFrame(list(dic_conc_clientes.items()), \n",
    "                                        columns=['CEDENTE', 'Percentagem_carteira'])"
   ]
  },
  {
   "cell_type": "code",
   "execution_count": 36,
   "metadata": {
    "colab": {
     "base_uri": "https://localhost:8080/",
     "height": 0
    },
    "id": "zycr6nDA4zNq",
    "outputId": "5baea373-5cf0-4794-a84a-c94893683746"
   },
   "outputs": [
    {
     "data": {
      "text/html": [
       "<div>\n",
       "<style scoped>\n",
       "    .dataframe tbody tr th:only-of-type {\n",
       "        vertical-align: middle;\n",
       "    }\n",
       "\n",
       "    .dataframe tbody tr th {\n",
       "        vertical-align: top;\n",
       "    }\n",
       "\n",
       "    .dataframe thead th {\n",
       "        text-align: right;\n",
       "    }\n",
       "</style>\n",
       "<table border=\"1\" class=\"dataframe\">\n",
       "  <thead>\n",
       "    <tr style=\"text-align: right;\">\n",
       "      <th></th>\n",
       "      <th>CEDENTE</th>\n",
       "      <th>Percentagem_carteira</th>\n",
       "    </tr>\n",
       "  </thead>\n",
       "  <tbody>\n",
       "    <tr>\n",
       "      <th>6</th>\n",
       "      <td>Cedente 2</td>\n",
       "      <td>21.44</td>\n",
       "    </tr>\n",
       "    <tr>\n",
       "      <th>14</th>\n",
       "      <td>Cedente 1</td>\n",
       "      <td>15.94</td>\n",
       "    </tr>\n",
       "    <tr>\n",
       "      <th>0</th>\n",
       "      <td>Cedente 17</td>\n",
       "      <td>10.93</td>\n",
       "    </tr>\n",
       "    <tr>\n",
       "      <th>10</th>\n",
       "      <td>Cedente 9</td>\n",
       "      <td>10.37</td>\n",
       "    </tr>\n",
       "    <tr>\n",
       "      <th>7</th>\n",
       "      <td>Cedente 20</td>\n",
       "      <td>5.42</td>\n",
       "    </tr>\n",
       "    <tr>\n",
       "      <th>2</th>\n",
       "      <td>Cedente 3</td>\n",
       "      <td>5.20</td>\n",
       "    </tr>\n",
       "    <tr>\n",
       "      <th>15</th>\n",
       "      <td>Cedente 19</td>\n",
       "      <td>4.88</td>\n",
       "    </tr>\n",
       "    <tr>\n",
       "      <th>17</th>\n",
       "      <td>Cedente 5</td>\n",
       "      <td>4.09</td>\n",
       "    </tr>\n",
       "    <tr>\n",
       "      <th>11</th>\n",
       "      <td>Cedente 24</td>\n",
       "      <td>4.06</td>\n",
       "    </tr>\n",
       "    <tr>\n",
       "      <th>19</th>\n",
       "      <td>Cedente 22</td>\n",
       "      <td>3.25</td>\n",
       "    </tr>\n",
       "    <tr>\n",
       "      <th>4</th>\n",
       "      <td>Cedente 23</td>\n",
       "      <td>2.18</td>\n",
       "    </tr>\n",
       "    <tr>\n",
       "      <th>18</th>\n",
       "      <td>Cedente 14</td>\n",
       "      <td>1.92</td>\n",
       "    </tr>\n",
       "    <tr>\n",
       "      <th>23</th>\n",
       "      <td>Cedente 15</td>\n",
       "      <td>1.70</td>\n",
       "    </tr>\n",
       "    <tr>\n",
       "      <th>3</th>\n",
       "      <td>Cedente 21</td>\n",
       "      <td>1.61</td>\n",
       "    </tr>\n",
       "    <tr>\n",
       "      <th>12</th>\n",
       "      <td>Cedente 8</td>\n",
       "      <td>1.59</td>\n",
       "    </tr>\n",
       "    <tr>\n",
       "      <th>20</th>\n",
       "      <td>Cedente 12</td>\n",
       "      <td>1.14</td>\n",
       "    </tr>\n",
       "    <tr>\n",
       "      <th>16</th>\n",
       "      <td>Cedente 11</td>\n",
       "      <td>1.10</td>\n",
       "    </tr>\n",
       "    <tr>\n",
       "      <th>5</th>\n",
       "      <td>Cedente 6</td>\n",
       "      <td>0.82</td>\n",
       "    </tr>\n",
       "    <tr>\n",
       "      <th>1</th>\n",
       "      <td>Cedente 18</td>\n",
       "      <td>0.67</td>\n",
       "    </tr>\n",
       "    <tr>\n",
       "      <th>13</th>\n",
       "      <td>Cedente 13</td>\n",
       "      <td>0.55</td>\n",
       "    </tr>\n",
       "    <tr>\n",
       "      <th>9</th>\n",
       "      <td>Cedente 10</td>\n",
       "      <td>0.53</td>\n",
       "    </tr>\n",
       "    <tr>\n",
       "      <th>8</th>\n",
       "      <td>Cedente 16</td>\n",
       "      <td>0.28</td>\n",
       "    </tr>\n",
       "    <tr>\n",
       "      <th>22</th>\n",
       "      <td>Cedente 7</td>\n",
       "      <td>0.23</td>\n",
       "    </tr>\n",
       "    <tr>\n",
       "      <th>21</th>\n",
       "      <td>Cedente 4</td>\n",
       "      <td>0.10</td>\n",
       "    </tr>\n",
       "  </tbody>\n",
       "</table>\n",
       "</div>"
      ],
      "text/plain": [
       "       CEDENTE  Percentagem_carteira\n",
       "6    Cedente 2                 21.44\n",
       "14   Cedente 1                 15.94\n",
       "0   Cedente 17                 10.93\n",
       "10   Cedente 9                 10.37\n",
       "7   Cedente 20                  5.42\n",
       "2    Cedente 3                  5.20\n",
       "15  Cedente 19                  4.88\n",
       "17   Cedente 5                  4.09\n",
       "11  Cedente 24                  4.06\n",
       "19  Cedente 22                  3.25\n",
       "4   Cedente 23                  2.18\n",
       "18  Cedente 14                  1.92\n",
       "23  Cedente 15                  1.70\n",
       "3   Cedente 21                  1.61\n",
       "12   Cedente 8                  1.59\n",
       "20  Cedente 12                  1.14\n",
       "16  Cedente 11                  1.10\n",
       "5    Cedente 6                  0.82\n",
       "1   Cedente 18                  0.67\n",
       "13  Cedente 13                  0.55\n",
       "9   Cedente 10                  0.53\n",
       "8   Cedente 16                  0.28\n",
       "22   Cedente 7                  0.23\n",
       "21   Cedente 4                  0.10"
      ]
     },
     "metadata": {},
     "output_type": "display_data"
    }
   ],
   "source": [
    "display(df_concentracao_clientes.sort_values(by='Percentagem_carteira', ascending=False))"
   ]
  },
  {
   "cell_type": "markdown",
   "metadata": {
    "id": "pP6Lq5wgy8Il"
   },
   "source": [
    "Dentre os 24 clientes cedentes, os 4 maiores clientes representam mais da metade dos títulos."
   ]
  },
  {
   "cell_type": "markdown",
   "metadata": {
    "id": "mLuC6vcqxQc4"
   },
   "source": [
    "### Qual a taxa de Pagamento?"
   ]
  },
  {
   "cell_type": "code",
   "execution_count": 37,
   "metadata": {
    "colab": {
     "base_uri": "https://localhost:8080/"
    },
    "id": "DnmfS7ki9Azo",
    "outputId": "215ba53b-e28d-40bd-c093-07fe7aa4aa81"
   },
   "outputs": [
    {
     "name": "stdout",
     "output_type": "stream",
     "text": [
      "Taxa de Pagamento: 80.0%\n"
     ]
    }
   ],
   "source": [
    "total_operacoes = len(df_titulos)\n",
    "operacoes_em_dia = df_titulos[df_titulos.STATUS_LIQ_TITULO == 'EM_DIA']['CODIGO'].count()\n",
    "taxa_pagamento = 100 * round(operacoes_em_dia/total_operacoes, 2)\n",
    "print(f\"Taxa de Pagamento: {taxa_pagamento}%\")"
   ]
  },
  {
   "cell_type": "markdown",
   "metadata": {
    "id": "qBZLvdVxyJNn"
   },
   "source": [
    "### Qual foi a receita?"
   ]
  },
  {
   "cell_type": "code",
   "execution_count": 45,
   "metadata": {
    "colab": {
     "base_uri": "https://localhost:8080/"
    },
    "id": "YOdE_P2MAJS9",
    "outputId": "224ef858-f5ad-46e7-c95c-58d57e56e0a3"
   },
   "outputs": [
    {
     "name": "stdout",
     "output_type": "stream",
     "text": [
      "Receita Total: R$ 60576167.13\n"
     ]
    }
   ],
   "source": [
    "receita_total = df_titulos['VALOR_REAL'].sum()\n",
    "print(f\"Receita Total: R$ {receita_total}\")"
   ]
  },
  {
   "cell_type": "markdown",
   "metadata": {
    "id": "vaM7gm3wzmmu"
   },
   "source": [
    "A Receita total foi de mais de R\\$60,5 Mi"
   ]
  },
  {
   "cell_type": "markdown",
   "metadata": {
    "id": "lyrAeMK3IiZG"
   },
   "source": [
    "### Qual foi a receita em cada ano?"
   ]
  },
  {
   "cell_type": "code",
   "execution_count": 46,
   "metadata": {
    "id": "AcZh7XD1Lm2s"
   },
   "outputs": [],
   "source": [
    "# como convertemos os campos de data para datatime, podemos extrair os valores das datas\n",
    "df_titulos['ANO_EMISSAO'] = df_titulos['DATA_EMISSAO'].dt.year\n",
    "df_titulos['MES_EMISSAO'] = df_titulos['DATA_EMISSAO'].dt.month"
   ]
  },
  {
   "cell_type": "code",
   "execution_count": 47,
   "metadata": {
    "colab": {
     "base_uri": "https://localhost:8080/",
     "height": 0
    },
    "id": "owAQctKpLGzt",
    "outputId": "230ff674-29c5-4456-9a47-bfb8336dc60b"
   },
   "outputs": [
    {
     "data": {
      "text/html": [
       "<div>\n",
       "<style scoped>\n",
       "    .dataframe tbody tr th:only-of-type {\n",
       "        vertical-align: middle;\n",
       "    }\n",
       "\n",
       "    .dataframe tbody tr th {\n",
       "        vertical-align: top;\n",
       "    }\n",
       "\n",
       "    .dataframe thead th {\n",
       "        text-align: right;\n",
       "    }\n",
       "</style>\n",
       "<table border=\"1\" class=\"dataframe\">\n",
       "  <thead>\n",
       "    <tr style=\"text-align: right;\">\n",
       "      <th></th>\n",
       "      <th>ANO_EMISSAO</th>\n",
       "      <th>RECEITA</th>\n",
       "    </tr>\n",
       "  </thead>\n",
       "  <tbody>\n",
       "    <tr>\n",
       "      <th>0</th>\n",
       "      <td>2016</td>\n",
       "      <td>173503.71</td>\n",
       "    </tr>\n",
       "    <tr>\n",
       "      <th>1</th>\n",
       "      <td>2017</td>\n",
       "      <td>14638973.74</td>\n",
       "    </tr>\n",
       "    <tr>\n",
       "      <th>2</th>\n",
       "      <td>2018</td>\n",
       "      <td>45763689.68</td>\n",
       "    </tr>\n",
       "  </tbody>\n",
       "</table>\n",
       "</div>"
      ],
      "text/plain": [
       "   ANO_EMISSAO      RECEITA\n",
       "0         2016    173503.71\n",
       "1         2017  14638973.74\n",
       "2         2018  45763689.68"
      ]
     },
     "metadata": {},
     "output_type": "display_data"
    },
    {
     "name": "stdout",
     "output_type": "stream",
     "text": [
      "Obs: Ano de 2016 possui apenas registros dos meses de Maio e Agosto\n"
     ]
    }
   ],
   "source": [
    "# criando um dataframe de receita por ano\n",
    "df_receita_ano = df_titulos.groupby(['ANO_EMISSAO'])['VALOR_REAL'].agg(['sum']).reset_index()\n",
    "df_receita_ano = df_receita_ano.rename(columns={'sum':'RECEITA'})\n",
    "display(df_receita_ano)\n",
    "print(\"Obs: Ano de 2016 possui apenas registros dos meses de Maio e Agosto\")"
   ]
  },
  {
   "cell_type": "markdown",
   "metadata": {
    "id": "U3OqEe9x1WGF"
   },
   "source": [
    "Vemos que houve um aumento nas receitas ao longo dos anos."
   ]
  },
  {
   "cell_type": "markdown",
   "metadata": {
    "id": "CmdhQhwRzPxv"
   },
   "source": [
    "### Qual foi a receita dos últimos meses?"
   ]
  },
  {
   "cell_type": "code",
   "execution_count": 48,
   "metadata": {
    "colab": {
     "base_uri": "https://localhost:8080/",
     "height": 0
    },
    "id": "wbCHjn_eGpNY",
    "outputId": "7694385e-4777-4132-de7a-4c41e5d9b78e"
   },
   "outputs": [
    {
     "data": {
      "text/html": [
       "<div>\n",
       "<style scoped>\n",
       "    .dataframe tbody tr th:only-of-type {\n",
       "        vertical-align: middle;\n",
       "    }\n",
       "\n",
       "    .dataframe tbody tr th {\n",
       "        vertical-align: top;\n",
       "    }\n",
       "\n",
       "    .dataframe thead th {\n",
       "        text-align: right;\n",
       "    }\n",
       "</style>\n",
       "<table border=\"1\" class=\"dataframe\">\n",
       "  <thead>\n",
       "    <tr style=\"text-align: right;\">\n",
       "      <th></th>\n",
       "      <th>ANO_EMISSAO</th>\n",
       "      <th>MES_EMISSAO</th>\n",
       "      <th>RECEITA</th>\n",
       "    </tr>\n",
       "  </thead>\n",
       "  <tbody>\n",
       "    <tr>\n",
       "      <th>16</th>\n",
       "      <td>2018</td>\n",
       "      <td>5</td>\n",
       "      <td>5051041.48</td>\n",
       "    </tr>\n",
       "    <tr>\n",
       "      <th>17</th>\n",
       "      <td>2018</td>\n",
       "      <td>6</td>\n",
       "      <td>4745248.36</td>\n",
       "    </tr>\n",
       "    <tr>\n",
       "      <th>18</th>\n",
       "      <td>2018</td>\n",
       "      <td>7</td>\n",
       "      <td>5073769.62</td>\n",
       "    </tr>\n",
       "    <tr>\n",
       "      <th>19</th>\n",
       "      <td>2018</td>\n",
       "      <td>8</td>\n",
       "      <td>3575632.79</td>\n",
       "    </tr>\n",
       "    <tr>\n",
       "      <th>20</th>\n",
       "      <td>2018</td>\n",
       "      <td>9</td>\n",
       "      <td>665244.31</td>\n",
       "    </tr>\n",
       "  </tbody>\n",
       "</table>\n",
       "</div>"
      ],
      "text/plain": [
       "    ANO_EMISSAO  MES_EMISSAO     RECEITA\n",
       "16         2018            5  5051041.48\n",
       "17         2018            6  4745248.36\n",
       "18         2018            7  5073769.62\n",
       "19         2018            8  3575632.79\n",
       "20         2018            9   665244.31"
      ]
     },
     "metadata": {},
     "output_type": "display_data"
    }
   ],
   "source": [
    "# criando um dataframe de receita por ano e mes\n",
    "df_receita_mes = df_titulos.groupby(['ANO_EMISSAO', 'MES_EMISSAO'])['VALOR_REAL'].agg(['sum']).reset_index()\n",
    "df_receita_mes = df_receita_mes.rename(columns={'sum':'RECEITA'})\n",
    "display(df_receita_mes.tail().sort_values(by='MES_EMISSAO'))"
   ]
  },
  {
   "cell_type": "code",
   "execution_count": 49,
   "metadata": {
    "colab": {
     "base_uri": "https://localhost:8080/",
     "height": 0
    },
    "id": "LMXtmHYLF4Ab",
    "outputId": "12d9a852-ebd3-4849-a307-eec706ce688e"
   },
   "outputs": [
    {
     "data": {
      "text/html": [
       "<div>\n",
       "<style scoped>\n",
       "    .dataframe tbody tr th:only-of-type {\n",
       "        vertical-align: middle;\n",
       "    }\n",
       "\n",
       "    .dataframe tbody tr th {\n",
       "        vertical-align: top;\n",
       "    }\n",
       "\n",
       "    .dataframe thead th {\n",
       "        text-align: right;\n",
       "    }\n",
       "</style>\n",
       "<table border=\"1\" class=\"dataframe\">\n",
       "  <thead>\n",
       "    <tr style=\"text-align: right;\">\n",
       "      <th></th>\n",
       "      <th>ANO_EMISSAO</th>\n",
       "      <th>MES_EMISSAO</th>\n",
       "      <th>RECEITA</th>\n",
       "      <th>DATA_CURTA_EMISSAO</th>\n",
       "    </tr>\n",
       "  </thead>\n",
       "  <tbody>\n",
       "    <tr>\n",
       "      <th>0</th>\n",
       "      <td>2016</td>\n",
       "      <td>5</td>\n",
       "      <td>44444.44</td>\n",
       "      <td>5-2016</td>\n",
       "    </tr>\n",
       "    <tr>\n",
       "      <th>1</th>\n",
       "      <td>2016</td>\n",
       "      <td>8</td>\n",
       "      <td>129059.27</td>\n",
       "      <td>8-2016</td>\n",
       "    </tr>\n",
       "    <tr>\n",
       "      <th>2</th>\n",
       "      <td>2017</td>\n",
       "      <td>2</td>\n",
       "      <td>116084.40</td>\n",
       "      <td>2-2017</td>\n",
       "    </tr>\n",
       "    <tr>\n",
       "      <th>3</th>\n",
       "      <td>2017</td>\n",
       "      <td>4</td>\n",
       "      <td>67724.53</td>\n",
       "      <td>4-2017</td>\n",
       "    </tr>\n",
       "    <tr>\n",
       "      <th>4</th>\n",
       "      <td>2017</td>\n",
       "      <td>5</td>\n",
       "      <td>323227.05</td>\n",
       "      <td>5-2017</td>\n",
       "    </tr>\n",
       "  </tbody>\n",
       "</table>\n",
       "</div>"
      ],
      "text/plain": [
       "   ANO_EMISSAO  MES_EMISSAO    RECEITA DATA_CURTA_EMISSAO\n",
       "0         2016            5   44444.44             5-2016\n",
       "1         2016            8  129059.27             8-2016\n",
       "2         2017            2  116084.40             2-2017\n",
       "3         2017            4   67724.53             4-2017\n",
       "4         2017            5  323227.05             5-2017"
      ]
     },
     "execution_count": 49,
     "metadata": {},
     "output_type": "execute_result"
    }
   ],
   "source": [
    "# lista com as datas no formato MM-AAAA para facilitar no grafico de receita por mes\n",
    "lista_data_curta = df_receita_mes[['MES_EMISSAO', 'ANO_EMISSAO']].fillna('').values.tolist()\n",
    "data_curta_emissao = []\n",
    "\n",
    "# populando a lista de data curta MM-AAAA para cada linha do dataframe\n",
    "for data_curta in lista_data_curta:\n",
    "  dt_curta = str(data_curta[0]) + \"-\" + str(data_curta[1])\n",
    "  data_curta_emissao.append(dt_curta)\n",
    "  \n",
    "# adicionando a coluna de DATA_CURTA de emissão do estado cedente\n",
    "df_receita_mes['DATA_CURTA_EMISSAO'] = data_curta_emissao\n",
    "df_receita_mes.head()"
   ]
  },
  {
   "cell_type": "code",
   "execution_count": 50,
   "metadata": {
    "colab": {
     "base_uri": "https://localhost:8080/",
     "height": 0
    },
    "id": "56VTnHYbJqcd",
    "outputId": "9f241b56-53a4-4f0e-f082-2915adedeb52"
   },
   "outputs": [
    {
     "data": {
      "image/png": "[encoded data removed]",
      "text/plain": [
       "<Figure size 864x288 with 1 Axes>"
      ]
     },
     "metadata": {
      "needs_background": "light"
     },
     "output_type": "display_data"
    }
   ],
   "source": [
    "plt.figure(figsize=(12 ,4))\n",
    "\n",
    "sns.lineplot(x=df_receita_mes.DATA_CURTA_EMISSAO,\n",
    "             y=df_receita_mes.RECEITA)\n",
    "plt.title('Receitas Por Mês entre 2016 e 2018',fontsize=14,weight='bold')\n",
    "plt.xlabel(\"Mês-Ano\")\n",
    "plt.ylabel(\"Valor (R$)\")\n",
    "\n",
    "plt.xticks(rotation=50)\n",
    "plt.tight_layout()\n",
    "plt.show()"
   ]
  },
  {
   "cell_type": "markdown",
   "metadata": {
    "id": "Og4ToKVa2i9b"
   },
   "source": [
    "Pelo gráfico, vemos que as receitas aumentaram de maneira bem acentuada durante o ano de 2018, ao passo que o valor está em tendência de queda."
   ]
  },
  {
   "cell_type": "code",
   "execution_count": 51,
   "metadata": {
    "id": "yX8dDFayGUum"
   },
   "outputs": [],
   "source": [
    "# removendo colunas inseridas\n",
    "df_titulos = df_titulos.drop(columns=['REGIAO_CEDENTE', 'ANO_EMISSAO', 'MES_EMISSAO'])"
   ]
  }
 ],
 "metadata": {
  "colab": {
   "collapsed_sections": [
    "ms5T_qyr35ik",
    "r0WGr2dmC4E0",
    "XROcspOJnqtY",
    "sUOBm9TbqXn-",
    "7SktKbH18juk",
    "YAny6klbLySI",
    "DRhjzRxbKSyC",
    "A2hykpSUP--9",
    "aDe5hm_QYdvO"
   ],
   "name": "Prova_PD_Pratica_Carlos.ipynb",
   "provenance": []
  },
  "kernelspec": {
   "display_name": "Python 3",
   "language": "python",
   "name": "python3"
  },
  "language_info": {
   "codemirror_mode": {
    "name": "ipython",
    "version": 3
   },
   "file_extension": ".py",
   "mimetype": "text/x-python",
   "name": "python",
   "nbconvert_exporter": "python",
   "pygments_lexer": "ipython3",
   "version": "3.8.8"
  }
 },
 "nbformat": 4,
 "nbformat_minor": 1
}
