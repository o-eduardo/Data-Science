{
 "cells": [
  {
   "cell_type": "markdown",
   "metadata": {
    "id": "2KB91NDpOuRA"
   },
   "source": [
    "# Análise de Sentimentos em Resenhas de  aplicativos de Streamming\n",
    "\n",
    "\n",
    "![image.png](images/amz_vs_ntf.png)\n"
   ]
  },
  {
   "cell_type": "markdown",
   "metadata": {},
   "source": [
    "## Introdução\n",
    "\n",
    "Análise de Sentimentos é um estudo computacional que envolve [Mineração de texto](https://pt.wikipedia.org/wiki/Minera%C3%A7%C3%A3o_de_texto) e [Processamento de Linguagem Natural](https://pt.wikipedia.org/wiki/Processamento_de_linguagem_natural).\n",
    "\n",
    "O principal objetivo da Análise de Sentimentos é extrair informações úteis referentes a sentimentos em textos, informações tais como conhecimentos, críticas e opniões sobre determinado tema.\n",
    "\n",
    "Podemos usar a Análise de Sentimentos para classificar a polaridade de um texto \\(positiva ou negativa\\). Na classificação de polaridade, é possível, à partir de um dado texto, categorizá-lo de acordo com o sentimento que  o  mesmo expressa, por meio de algoritmos de **aprendizagem de máquina** com categoria supervisionada \\(classificadores\\).\n",
    "\n",
    "Entre os classificadores mais utilizados para essa tarefa, podemos citar o [Naive Bayes](https://www.organicadigital.com/blog/algoritmo-de-classificacao-naive-bayes/) e o [Suport Vector Machine](https://pt.wikipedia.org/wiki/M%C3%A1quina_de_vetores_de_suporte)\n",
    "\n",
    "\n",
    "\n",
    "## Objetivos\n",
    "Nosso objetivo é criar modelos para classificar o sentimento dos textos das resenhas dos aplicativos de streaming: **Amazon Prime Video** e **Netflix**. Vamos utilizar as resenhas tanto da Play Store \\(Android\\) quanto da App Store \\(iOS\\).\n",
    "\n",
    "Abaixo temos alguns exemplos de resenhas que irão compor nossa base de dados:\n",
    "\n",
    "> ![image.png](images/resenha_ios.png) ![image.png](images/resenha_android.png)\n",
    "\n",
    "\n",
    "\n",
    "\n",
    "\n",
    "\n",
    "## Etapas\n",
    "\n",
    "Realizamos as seguintes tarefas para alcançarmos o objetivos:\n",
    "\n",
    "1. Coleta de Dados\n",
    "\n",
    "2. Pré-Processamento dos Dados\n",
    "\n",
    "3. Treinamento do Modelo\n",
    "\n",
    "4. Avaliação do Modelo"
   ]
  },
  {
   "cell_type": "markdown",
   "metadata": {
    "id": "YPHLrX_GQ3q6"
   },
   "source": [
    "### Importando as bibliotecas necessárias"
   ]
  },
  {
   "cell_type": "code",
   "execution_count": 2,
   "metadata": {
    "scrolled": true
   },
   "outputs": [
    {
     "name": "stdout",
     "output_type": "stream",
     "text": [
      "Requirement already satisfied: gensim in c:\\users\\pichau\\anaconda3\\lib\\site-packages (4.0.1)\n",
      "Requirement already satisfied: smart-open>=1.8.1 in c:\\users\\pichau\\anaconda3\\lib\\site-packages (from gensim) (5.2.0)\n",
      "Requirement already satisfied: scipy>=0.18.1 in c:\\users\\pichau\\anaconda3\\lib\\site-packages (from gensim) (1.6.2)\n",
      "Requirement already satisfied: numpy>=1.11.3 in c:\\users\\pichau\\anaconda3\\lib\\site-packages (from gensim) (1.20.1)\n",
      "Note: you may need to restart the kernel to use updated packages.\n"
     ]
    }
   ],
   "source": [
    "pip install -U gensim"
   ]
  },
  {
   "cell_type": "code",
   "execution_count": 2,
   "metadata": {
    "scrolled": false
   },
   "outputs": [
    {
     "name": "stdout",
     "output_type": "stream",
     "text": [
      "Collecting python-Levenshtein\n",
      "  Downloading python-Levenshtein-0.12.2.tar.gz (50 kB)\n",
      "Requirement already satisfied: setuptools in c:\\users\\pichau\\anaconda3\\lib\\site-packages (from python-Levenshtein) (52.0.0.post20210125)\n",
      "Building wheels for collected packages: python-Levenshtein\n",
      "  Building wheel for python-Levenshtein (setup.py): started\n",
      "  Building wheel for python-Levenshtein (setup.py): finished with status 'done'\n",
      "  Created wheel for python-Levenshtein: filename=python_Levenshtein-0.12.2-cp38-cp38-win_amd64.whl size=82999 sha256=54a3456db58e1b674a1f4ce7e6f3e4c0ff12a46cc80359a063327f6b0b960c6d\n",
      "  Stored in directory: c:\\users\\pichau\\appdata\\local\\pip\\cache\\wheels\\d7\\0c\\76\\042b46eb0df65c3ccd0338f791210c55ab79d209bcc269e2c7\n",
      "Successfully built python-Levenshtein\n",
      "Installing collected packages: python-Levenshtein\n",
      "Successfully installed python-Levenshtein-0.12.2\n",
      "Note: you may need to restart the kernel to use updated packages.\n"
     ]
    }
   ],
   "source": [
    "pip install python-Levenshtein"
   ]
  },
  {
   "cell_type": "code",
   "execution_count": 1,
   "metadata": {
    "id": "TmROHRpoi2pC"
   },
   "outputs": [
    {
     "name": "stderr",
     "output_type": "stream",
     "text": [
      "[nltk_data] Downloading package stopwords to\n",
      "[nltk_data]     C:\\Users\\PICHAU\\AppData\\Roaming\\nltk_data...\n",
      "[nltk_data]   Package stopwords is already up-to-date!\n",
      "[nltk_data] Downloading package rslp to\n",
      "[nltk_data]     C:\\Users\\PICHAU\\AppData\\Roaming\\nltk_data...\n",
      "[nltk_data]   Package rslp is already up-to-date!\n",
      "[nltk_data] Downloading package gutenberg to\n",
      "[nltk_data]     C:\\Users\\PICHAU\\AppData\\Roaming\\nltk_data...\n",
      "[nltk_data]   Package gutenberg is already up-to-date!\n",
      "[nltk_data] Downloading package punkt to\n",
      "[nltk_data]     C:\\Users\\PICHAU\\AppData\\Roaming\\nltk_data...\n",
      "[nltk_data]   Package punkt is already up-to-date!\n"
     ]
    }
   ],
   "source": [
    "import pandas as pd\n",
    "import nltk\n",
    "nltk.download('stopwords')\n",
    "nltk.download('rslp')\n",
    "nltk.download('gutenberg')\n",
    "nltk.download('punkt')\n",
    "from unicodedata import normalize\n",
    "from nltk.probability import FreqDist\n",
    "from gensim import corpora\n",
    "\n",
    "import re\n",
    "from nltk import word_tokenize\n",
    "from nltk.tokenize import TweetTokenizer\n",
    "from nltk.corpus import stopwords"
   ]
  },
  {
   "cell_type": "code",
   "execution_count": 2,
   "metadata": {
    "id": "GCaacglTaeIn"
   },
   "outputs": [],
   "source": [
    "import os\n",
    "import io\n",
    "import requests\n",
    "from pygments.lexers.csound import newline"
   ]
  },
  {
   "cell_type": "code",
   "execution_count": 3,
   "metadata": {
    "id": "lv0Teazju41L"
   },
   "outputs": [],
   "source": [
    "from sklearn.feature_extraction.text import CountVectorizer\n",
    "from sklearn.naive_bayes import MultinomialNB\n",
    "from sklearn.pipeline import Pipeline\n",
    "from sklearn import svm\n",
    "from sklearn.model_selection import cross_val_predict\n",
    "from sklearn.metrics import *"
   ]
  },
  {
   "cell_type": "markdown",
   "metadata": {
    "id": "RyiHhM8PRBV-"
   },
   "source": [
    "Montando um gerenciador de arquivos a partir do seu Google Driver"
   ]
  },
  {
   "cell_type": "markdown",
   "metadata": {
    "id": "fLSJ5qFRRUwx"
   },
   "source": [
    "# Coleta dos dados\n",
    "\n",
    "As resenhas foram exportadas a partir do site \"\" - esqueci"
   ]
  },
  {
   "cell_type": "markdown",
   "metadata": {
    "id": "u0VJboazbFrx"
   },
   "source": [
    "# Lendo os dataframes das bases consolidadas - seguir daqui"
   ]
  },
  {
   "cell_type": "code",
   "execution_count": 4,
   "metadata": {
    "colab": {
     "base_uri": "https://localhost:8080/",
     "height": 35
    },
    "executionInfo": {
     "elapsed": 209,
     "status": "ok",
     "timestamp": 1623122139449,
     "user": {
      "displayName": "Carlos Eduardo Ramos",
      "photoUrl": "https://lh3.googleusercontent.com/a-/AOh14Girfo8mrae_OWZZG95sEc5f3DNmMM0k7I9Qw1Za=s64",
      "userId": "01761804650114495504"
     },
     "user_tz": 180
    },
    "id": "8pHSiIBkWV61",
    "outputId": "d24850fa-46ef-40de-dabf-d6eaf37ba7ee"
   },
   "outputs": [
    {
     "data": {
      "text/plain": [
       "'Voltaaaaaaa Naruto dubladooooooooooooooo !!!!!!!!?'"
      ]
     },
     "execution_count": 4,
     "metadata": {},
     "output_type": "execute_result"
    }
   ],
   "source": [
    "df_netflix_full_concat = pd.read_csv('df_netflix_concat.csv',\n",
    "                                     encoding='utf-8')\n",
    "df_netflix_full_concat['Review'][9436]"
   ]
  },
  {
   "cell_type": "code",
   "execution_count": 5,
   "metadata": {
    "colab": {
     "base_uri": "https://localhost:8080/",
     "height": 72
    },
    "executionInfo": {
     "elapsed": 201,
     "status": "ok",
     "timestamp": 1623122143294,
     "user": {
      "displayName": "Carlos Eduardo Ramos",
      "photoUrl": "https://lh3.googleusercontent.com/a-/AOh14Girfo8mrae_OWZZG95sEc5f3DNmMM0k7I9Qw1Za=s64",
      "userId": "01761804650114495504"
     },
     "user_tz": 180
    },
    "id": "ovq1uf4IY2aZ",
    "outputId": "55bea08e-9a6a-4e6f-e38b-fc11e48be7f0"
   },
   "outputs": [
    {
     "data": {
      "text/plain": [
       "'Precisa evoluir, infelizmente, é comum o travamento das legendas, em especial, no app da smartv, além de alguns conteúdos não terem a opção de dublagem na nossa língua nativa (pt-br). O Menu pode ser mais intuitivo e a interface pode ser melhor trabalhada. Ponto positivo é a edição de cores e tamanhos de legenda, filmografia e link com o IMDB..'"
      ]
     },
     "execution_count": 5,
     "metadata": {},
     "output_type": "execute_result"
    }
   ],
   "source": [
    "df_amazon_full_concat = pd.read_csv('df_amazon_concat.csv',\n",
    "                                     encoding='utf-8')\n",
    "df_amazon_full_concat['Review'][2]"
   ]
  },
  {
   "cell_type": "markdown",
   "metadata": {
    "id": "z4tWk7kpc2x6"
   },
   "source": [
    "# Funções de Pré-processamento do conteudo de texto das resenhas\n"
   ]
  },
  {
   "cell_type": "code",
   "execution_count": 7,
   "metadata": {
    "colab": {
     "base_uri": "https://localhost:8080/"
    },
    "executionInfo": {
     "elapsed": 1300,
     "status": "ok",
     "timestamp": 1623114420667,
     "user": {
      "displayName": "Carlos Eduardo Ramos",
      "photoUrl": "https://lh3.googleusercontent.com/a-/AOh14Girfo8mrae_OWZZG95sEc5f3DNmMM0k7I9Qw1Za=s64",
      "userId": "01761804650114495504"
     },
     "user_tz": 180
    },
    "id": "KxVAmrhIF9qP",
    "outputId": "e3c935e2-2e7a-4404-e579-d6b34843506f"
   },
   "outputs": [],
   "source": [
    "# -*- coding: utf-8 -*-\n",
    "\n",
    "\n",
    "def remover_stopwords(texto):\n",
    "  stop_words = set(stopwords.words('portuguese'))\n",
    "  stop_words_us = set(stopwords.words('english'))\n",
    "  #new_stopwords = obter_lista_novas_stopwords(caminho_stopwords)\n",
    "  #stop_words.update(new_stopwords)\n",
    "  #stop_words.update([stp.lower() for stp in new_stopwords])\n",
    "  stop_words.update(stop_words_us)\n",
    "  palavras_uteis = [palavra for palavra in texto.lower().split() if palavra not in stop_words]\n",
    "  return ' '.join(palavras_uteis)\n",
    "\n",
    "def tokenizar_texto(texto):\n",
    "  texto_tokenizado = word_tokenize(texto.lower())\n",
    "  return texto_tokenizado\n",
    "\n",
    "def remover_acentos(texto):\n",
    "  return normalize('NFKD', texto).encode('ASCII', 'ignore').decode('ASCII')\n",
    "\n",
    "def converter_texto_para_minusculo(texto):\n",
    "  return texto.lower()\n",
    "\n",
    "def remover_caracteres_especiais(texto):\n",
    "  texto_sem_carac_esp = re.sub(r'[^a-zA-Z0-9áéíóúÁÉÍÓÚâêîôÂÊÎÔãõÃÕàÀìÌòÒïÏñÑÜüçÇ ]', \"\", texto)\n",
    "  return texto_sem_carac_esp\n",
    "\n",
    "def remover_email(texto):\n",
    "  padrao_email = r'[\\w+\\./{1}]+@(?:[a-zA-Z0-9-]+\\.)+[a-zA-Z]{2,}'\n",
    "  texto_sem_email = re.sub(padrao_email, \"\", texto)\n",
    "  return texto_sem_email\n",
    "\n",
    "def remover_conjunto_emails(texto):\n",
    "  padrao_email = r'\\{[\\w+\\./{1}\\,*]+\\}@(?:[a-zA-Z0-9-]+\\.)+[a-zA-Z]{2,}'\n",
    "  texto_sem_email = re.sub(padrao_email, \"\", texto)\n",
    "  return texto_sem_email\n",
    "\n",
    "def remover_enderecos_emails(texto):\n",
    "  texto = remover_conjunto_emails(texto)\n",
    "  texto = remover_email(texto)\n",
    "  return texto\n",
    "\n",
    "def remover_url(texto):\n",
    "  padrao_url = r'\\w+:\\/{2}[\\d\\w-]+(\\.[\\d\\w-]+)*(?:(?:\\/[^\\s/]*))*'\n",
    "  texto_sem_url = re.sub(padrao_url, \"\", str(texto))\n",
    "  return texto_sem_url\n",
    "\n",
    "\n",
    "def remover_numeros(texto):\n",
    "  texto_sem_numeros = re.sub(r'\\d', \"\", texto)\n",
    "  return texto_sem_numeros\n",
    "\n",
    "def remover_caracteres_especiais(texto):\n",
    "  texto_sem_carac_esp = re.sub(r'[^a-zA-Z0-9áéíóúÁÉÍÓÚâêîôÂÊÎÔãõÃÕàÀÜüçÇ ]', \"\", texto)\n",
    "  return texto_sem_carac_esp\n",
    "\n",
    "def remover_sequencia_espaco_branco(texto):\n",
    "  padrao = re.compile(r\"(\\s)\\1{1,}\")\n",
    "  return padrao.sub(r\"\\1\", texto)\n",
    "\n",
    "def remover_palavras_por_tamanho(texto, limite):\n",
    "  lista_texto = tokenizar_texto(texto)\n",
    "  lista_palavras_retorno = []\n",
    "  separador = ' '\n",
    "  for palavra in lista_texto:\n",
    "      if len(palavra) > limite:\n",
    "          lista_palavras_retorno.append(palavra)\n",
    "  texto_pos_remocao = separador.join(lista_palavras_retorno)\n",
    "  return texto_pos_remocao\n",
    "\n",
    "def unificar_artigos_com_n_gramas(lista_de_lista_de_texto):\n",
    "  artigo_tokens_unificados = []\n",
    "  for texto in lista_de_lista_de_texto:\n",
    "      xtexto = texto\n",
    "      unigramas = xtexto\n",
    "      xbigramas = construir_bigramas(xtexto)\n",
    "      xtrigramas = construir_trigramas(xtexto)\n",
    "      xunigramas = unigramas + xbigramas + xtrigramas\n",
    "      artigo_tokens_unificados.append(xunigramas)\n",
    "  return artigo_tokens_unificados\n",
    "\n",
    "def construir_bigramas(texto_tokenizado):\n",
    "  bigrams = []\n",
    "  for i in range(0, len(texto_tokenizado)):\n",
    "      if (i == len(texto_tokenizado) - 1):\n",
    "          break\n",
    "      else:\n",
    "          bigrama_obs = texto_tokenizado[i] + '_' + texto_tokenizado[i + 1]\n",
    "          bigrams.append(bigrama_obs)\n",
    "  # colocar analise por frequencia aqui\n",
    "  bigrams = remover_ngram_por_frequencia(bigrams, 7)\n",
    "  return bigrams\n",
    "\n",
    "def construir_trigramas(texto_tokenizado):\n",
    "  trigrams = []\n",
    "  for i in range(0, len(texto_tokenizado)):\n",
    "      if (i == len(texto_tokenizado) - 2):\n",
    "          break\n",
    "      else:\n",
    "          trigrama_obs = texto_tokenizado[i] + '_' + texto_tokenizado[i + 1] + '_' + texto_tokenizado[i + 2]\n",
    "          trigrams.append(trigrama_obs)\n",
    "  # colocar analise por frequencia aqui\n",
    "  trigrams = remover_ngram_por_frequencia(trigrams, 7)\n",
    "  return trigrams\n",
    "\n",
    "def remover_ngram_por_frequencia(lista_ngrams, frequencia_limiar):\n",
    "  fdist = FreqDist(lista_ngrams)\n",
    "  lista_ngrams_retorno = [w for w in lista_ngrams if fdist[w] >= frequencia_limiar]\n",
    "  return lista_ngrams_retorno\n",
    "\n",
    "def obter_dicionario(lista_de_lista_textos):\n",
    "  dic_id_palavras = corpora.Dictionary(lista_de_lista_textos)\n",
    "  return dic_id_palavras\n",
    "\n",
    "def obter_corpus(dicionario_texto, lista_de_lista_texto):\n",
    "  corpus_texto = [dicionario_texto.doc2bow(lista_texto) for lista_texto in lista_de_lista_texto]\n",
    "  return corpus_texto\n",
    "\n",
    "\n",
    "def remover_hashtags(text):\n",
    "  raw = re.sub(r'#[A-Za-z0-9]+', \"\", text)\n",
    "  return raw\n",
    "\n",
    "def remover_repeticao_letras(text):\n",
    "  pattern = re.compile(r\"(.)\\1{2,}\")\n",
    "  return pattern.sub(r\"\\1\", text)\n",
    "\n",
    "def traduzir_emoticons(text):\n",
    "  text = re.sub(r'\\:\\)|\\(\\:|\\=\\)|\\(\\=|\\:D', \"sorrindo\", text)\n",
    "  text = re.sub(r'D\\:', \"surpreso\", text)\n",
    "  text = re.sub(r'\\;\\)|\\(\\;', \"piscando\", text)\n",
    "  text = re.sub(r'xd', \"sorrindo\", text)\n",
    "  text = re.sub(r'\\:O', \"surpreso\", text)\n",
    "  text = re.sub(r'<2|<3|s2|sz|s3', \"amor\", text)\n",
    "  text = re.sub(r'u.u', \"prevalecido\", text)\n",
    "  text = re.sub(r'\\:\\/', \"indeciso\", text)\n",
    "  text = re.sub(r'\\:\\'\\(', \"chorando\", text)\n",
    "  text = re.sub(r'\\:9', \"gostando\", text)\n",
    "  text = re.sub(r'\\:x', \"aborrecido\", text)\n",
    "  text = re.sub(r'\\*\\-\\*', \"gostando\", text)\n",
    "  return text\n",
    "\n",
    "def tradutor_abreveacao(text):\n",
    "  text = re.sub(r'blz', \"beleza\", text)\n",
    "  text = re.sub(r'flw', \"tchau\", text)\n",
    "  text = re.sub(r'vlw', \"obrigado\", text)\n",
    "  text = re.sub(r'ta', \"esta\", text)\n",
    "  text = re.sub(r'mt', \"muito\", text)\n",
    "  text = re.sub(r'mts', \"muitos\", text)\n",
    "  text = re.sub(r'mó', \"muito\", text)\n",
    "  text = re.sub(r'pf', \"por favor\", text)\n",
    "  text = re.sub(r'mlhr', \"melhor\", text)\n",
    "  text = re.sub(r'q', \"que\", text)\n",
    "  text = re.sub(r'n', \"não\", text)\n",
    "  text = re.sub(r's', \"sim\", text)\n",
    "  text = re.sub(r'pq', \"porque\", text)\n",
    "  text = re.sub(r'ok', \"beleza\", text)\n",
    "  text = re.sub(r'vcs', \"voces\", text)\n",
    "  text = re.sub(r'vc', \"voce\", text)\n",
    "  text = re.sub(r'amr', \"amor\", text)\n",
    "  text = re.sub(r'migo', \"amigo\", text)\n",
    "  text = re.sub(r'migs', \"amigo\", text)\n",
    "  text = re.sub(r'okz', \"beleza\", text)\n",
    "  text = re.sub(r'hj', \"hoje\", text)\n",
    "  text = re.sub(r'p|p\\/', \"para\", text)\n",
    "  return text\n",
    "\n",
    "def tokenizar_tweets(text):\n",
    "  tweet_tokenizer =  TweetTokenizer(strip_handles=True, reduce_len=False, preserve_case=False)\n",
    "  return tweet_tokenizer.tokenize(text)\n",
    "\n",
    "def converter_termos_geral(texto):\n",
    "  texto = re.sub(\" app\",\" aplicativo \",texto)\n",
    "  texto = re.sub('blz ', \" beleza \", texto)\n",
    "  texto = re.sub('ta ', \" esta \", texto)\n",
    "  texto = re.sub('mt', \" muito \", texto)\n",
    "  texto = re.sub('mts', \" muitos \", texto)\n",
    "  texto = re.sub('mó ', \" muito \", texto)\n",
    "  texto = re.sub(' pf ', \" por favor \", texto)\n",
    "  texto = re.sub(' mlhr ', \" melhor \", texto)\n",
    "  texto = re.sub(' q ', \" que \", texto)\n",
    "  texto = re.sub(' n ', \" não \", texto)\n",
    "  texto = re.sub(' s ', \" sim \", texto)\n",
    "  texto = re.sub(' pq ', \" porque \", texto)\n",
    "  texto = re.sub(' vcs ', \" voces \", texto)\n",
    "  texto = re.sub(' vc ', \" voce \", texto)\n",
    "  texto = re.sub(' amr ', \" amor \", texto)\n",
    "  texto = re.sub(' hj ', \" hoje \", texto)\n",
    "  texto = texto.lstrip()\n",
    "  return texto.rstrip()\n",
    "\n",
    "\n",
    "def pre_processamento_dados(texto):\n",
    "  texto = str(texto)\n",
    "  texto = remover_url(texto)\n",
    "  texto = remover_hashtags(texto)\n",
    "  texto = remover_numeros(texto)\n",
    "  texto = converter_termos_geral(texto)\n",
    "  texto = traduzir_emoticons(texto)\n",
    "  texto = remover_palavras_por_tamanho(texto, 1)\n",
    "  texto = remover_stopwords(texto)\n",
    "  #texto = tokenizar_tweets(texto)\n",
    "  texto = remover_repeticao_letras(texto)\n",
    "  texto = remover_acentos(texto)\n",
    "  texto = remover_caracteres_especiais(texto)\n",
    "  texto = remover_sequencia_espaco_branco(texto)\n",
    "  texto = remover_hashtags(texto)\n",
    "  return texto"
   ]
  },
  {
   "cell_type": "markdown",
   "metadata": {
    "id": "NebP-S0V2IVt"
   },
   "source": [
    "# Preparando o corpus para o treinamento"
   ]
  },
  {
   "cell_type": "code",
   "execution_count": null,
   "metadata": {
    "id": "3fijp8pGypEc"
   },
   "outputs": [],
   "source": [
    "df_amazon_full_concat['Classification'] = 'NaN'\n",
    "df_netflix_full_concat['Classification'] = 'NaN'"
   ]
  },
  {
   "cell_type": "code",
   "execution_count": null,
   "metadata": {
    "colab": {
     "base_uri": "https://localhost:8080/",
     "height": 205
    },
    "executionInfo": {
     "elapsed": 204,
     "status": "ok",
     "timestamp": 1623122152954,
     "user": {
      "displayName": "Carlos Eduardo Ramos",
      "photoUrl": "https://lh3.googleusercontent.com/a-/AOh14Girfo8mrae_OWZZG95sEc5f3DNmMM0k7I9Qw1Za=s64",
      "userId": "01761804650114495504"
     },
     "user_tz": 180
    },
    "id": "Vs2eR8Rexf6A",
    "outputId": "e7fdb647-72e2-48c0-ccc2-4969b5aceeb8"
   },
   "outputs": [],
   "source": [
    "df_amazon_full_concat.head()\n"
   ]
  },
  {
   "cell_type": "code",
   "execution_count": null,
   "metadata": {
    "colab": {
     "base_uri": "https://localhost:8080/",
     "height": 205
    },
    "executionInfo": {
     "elapsed": 197,
     "status": "ok",
     "timestamp": 1623122160557,
     "user": {
      "displayName": "Carlos Eduardo Ramos",
      "photoUrl": "https://lh3.googleusercontent.com/a-/AOh14Girfo8mrae_OWZZG95sEc5f3DNmMM0k7I9Qw1Za=s64",
      "userId": "01761804650114495504"
     },
     "user_tz": 180
    },
    "id": "vbJpcuYqdoTA",
    "outputId": "4f0d6e9c-8a50-4494-b04f-f102c69c4929"
   },
   "outputs": [],
   "source": [
    "df_netflix_full_concat.head()"
   ]
  },
  {
   "cell_type": "code",
   "execution_count": null,
   "metadata": {
    "colab": {
     "base_uri": "https://localhost:8080/"
    },
    "executionInfo": {
     "elapsed": 208,
     "status": "ok",
     "timestamp": 1623114435453,
     "user": {
      "displayName": "Carlos Eduardo Ramos",
      "photoUrl": "https://lh3.googleusercontent.com/a-/AOh14Girfo8mrae_OWZZG95sEc5f3DNmMM0k7I9Qw1Za=s64",
      "userId": "01761804650114495504"
     },
     "user_tz": 180
    },
    "id": "7efKQUH1xJHq",
    "outputId": "cbfff4c3-fca5-4929-fa93-dbce03bfb1d2"
   },
   "outputs": [],
   "source": [
    "print(\"Df netflix antes de remover linhas duplicas: {}\".format(len(df_netflix_full_concat)))\n",
    "print(\"Df amazon antes de remover linhas duplicas: {}\".format(len(df_amazon_full_concat)))"
   ]
  },
  {
   "cell_type": "code",
   "execution_count": null,
   "metadata": {
    "id": "j_x7uywRxFUy"
   },
   "outputs": [],
   "source": [
    "# Removendo os valores duplicados:\n",
    "df_netflix_full_concat.drop_duplicates(['Review'], inplace=True)\n",
    "df_amazon_full_concat.drop_duplicates(['Review'], inplace=True)"
   ]
  },
  {
   "cell_type": "code",
   "execution_count": null,
   "metadata": {
    "colab": {
     "base_uri": "https://localhost:8080/"
    },
    "executionInfo": {
     "elapsed": 339,
     "status": "ok",
     "timestamp": 1623122169201,
     "user": {
      "displayName": "Carlos Eduardo Ramos",
      "photoUrl": "https://lh3.googleusercontent.com/a-/AOh14Girfo8mrae_OWZZG95sEc5f3DNmMM0k7I9Qw1Za=s64",
      "userId": "01761804650114495504"
     },
     "user_tz": 180
    },
    "id": "A_TWQ7Z9xM0j",
    "outputId": "0a1e6b35-612a-42d6-85a6-30c809bf9df1"
   },
   "outputs": [],
   "source": [
    "print(\"Df netflix depois de remover linhas duplicas: {}\".format(len(df_netflix_full_concat)))\n",
    "print(\"Df amazon depois de remover linhas duplicas: {}\".format(len(df_amazon_full_concat)))"
   ]
  },
  {
   "cell_type": "markdown",
   "metadata": {
    "id": "MQuYmfAGRaVv"
   },
   "source": [
    "### Classificando a coluna de sentimento (Classificação)\n",
    "\n",
    "As avaliações das resenhas nas lojas de Apps são realizadas através de estrelas,  que  equivalem  a  notas, podendo ser dadas de 1 (pior avaliação) até 5 (melhor avaliação). Através dessa avaliação foi feita a anotação da polaridade dos sentimentos contidos nas resenhas:\n",
    "\n",
    "\n",
    "* 4 ou 5 estrelas foram classificadas como positivas;\n",
    "\n",
    "\n",
    "\n",
    "* 1 ou 2 estrelas foram consideradas negativas. \n",
    "\n",
    "\n",
    "\n",
    "\n",
    "Avaliações neutras (3 estrelas) foram removidas."
   ]
  },
  {
   "cell_type": "code",
   "execution_count": null,
   "metadata": {
    "id": "LDnnMtcU2TZD"
   },
   "outputs": [],
   "source": [
    "for index, row in df_amazon_full_concat.iterrows():\n",
    "  if str(row['Rating']) in ['1', '2']:\n",
    "    df_amazon_full_concat.loc[index,'Classification'] = \"Negativa\"\n",
    "  if str(row['Rating']) in ['4', '5']:\n",
    "    df_amazon_full_concat.loc[index,'Classification'] = \"Positiva\""
   ]
  },
  {
   "cell_type": "code",
   "execution_count": null,
   "metadata": {
    "id": "MPikjh_zd7In"
   },
   "outputs": [],
   "source": [
    "for index, row in df_netflix_full_concat.iterrows():\n",
    "  if str(row['Rating']) in ['1', '2']:\n",
    "    df_netflix_full_concat.loc[index,'Classification'] = \"Negativa\"\n",
    "  if str(row['Rating']) in ['4', '5']:\n",
    "    df_netflix_full_concat.loc[index,'Classification'] = \"Positiva\""
   ]
  },
  {
   "cell_type": "code",
   "execution_count": null,
   "metadata": {
    "colab": {
     "base_uri": "https://localhost:8080/"
    },
    "executionInfo": {
     "elapsed": 201,
     "status": "ok",
     "timestamp": 1623122416956,
     "user": {
      "displayName": "Carlos Eduardo Ramos",
      "photoUrl": "https://lh3.googleusercontent.com/a-/AOh14Girfo8mrae_OWZZG95sEc5f3DNmMM0k7I9Qw1Za=s64",
      "userId": "01761804650114495504"
     },
     "user_tz": 180
    },
    "id": "IrEP53k427cE",
    "outputId": "71c5a5c3-5498-4161-fc40-18c7a0c706bf"
   },
   "outputs": [],
   "source": [
    "df_amazon_full_concat.Classification"
   ]
  },
  {
   "cell_type": "code",
   "execution_count": null,
   "metadata": {
    "colab": {
     "base_uri": "https://localhost:8080/"
    },
    "executionInfo": {
     "elapsed": 201,
     "status": "ok",
     "timestamp": 1623122500769,
     "user": {
      "displayName": "Carlos Eduardo Ramos",
      "photoUrl": "https://lh3.googleusercontent.com/a-/AOh14Girfo8mrae_OWZZG95sEc5f3DNmMM0k7I9Qw1Za=s64",
      "userId": "01761804650114495504"
     },
     "user_tz": 180
    },
    "id": "yYPA_9SLfO8H",
    "outputId": "768bfc82-cd53-41e4-ef4d-4ae77930b0bf"
   },
   "outputs": [],
   "source": [
    "df_netflix_full_concat.Classification"
   ]
  },
  {
   "cell_type": "code",
   "execution_count": null,
   "metadata": {
    "colab": {
     "base_uri": "https://localhost:8080/",
     "height": 318
    },
    "executionInfo": {
     "elapsed": 679,
     "status": "ok",
     "timestamp": 1623122505458,
     "user": {
      "displayName": "Carlos Eduardo Ramos",
      "photoUrl": "https://lh3.googleusercontent.com/a-/AOh14Girfo8mrae_OWZZG95sEc5f3DNmMM0k7I9Qw1Za=s64",
      "userId": "01761804650114495504"
     },
     "user_tz": 180
    },
    "id": "NUVKdEevwnXy",
    "outputId": "ce28bd38-806d-46d4-fa97-c3130fc96143"
   },
   "outputs": [],
   "source": [
    "df_amazon_full_concat.Classification.value_counts().plot(kind='bar', )"
   ]
  },
  {
   "cell_type": "code",
   "execution_count": null,
   "metadata": {
    "colab": {
     "base_uri": "https://localhost:8080/",
     "height": 318
    },
    "executionInfo": {
     "elapsed": 549,
     "status": "ok",
     "timestamp": 1623122508005,
     "user": {
      "displayName": "Carlos Eduardo Ramos",
      "photoUrl": "https://lh3.googleusercontent.com/a-/AOh14Girfo8mrae_OWZZG95sEc5f3DNmMM0k7I9Qw1Za=s64",
      "userId": "01761804650114495504"
     },
     "user_tz": 180
    },
    "id": "SWX1snjxwcjb",
    "outputId": "ebd9cefd-aaf4-4b1a-dd72-4ac283978ab0"
   },
   "outputs": [],
   "source": [
    "df_netflix_full_concat.Classification.value_counts().plot(kind='bar')"
   ]
  },
  {
   "cell_type": "markdown",
   "metadata": {
    "id": "GTpzHC8pRfMf"
   },
   "source": [
    "### Separando a base classificada e não classificada\n",
    "- Elas serão usadas no treinamento do modelo e no teste do modelo\n",
    "- Ponto de discussão: Será que faz sentido adotar a classificação automática? \n",
    "Quantas resenhas não-classificadas nós temos?"
   ]
  },
  {
   "cell_type": "code",
   "execution_count": null,
   "metadata": {
    "colab": {
     "base_uri": "https://localhost:8080/"
    },
    "executionInfo": {
     "elapsed": 217,
     "status": "ok",
     "timestamp": 1623122625896,
     "user": {
      "displayName": "Carlos Eduardo Ramos",
      "photoUrl": "https://lh3.googleusercontent.com/a-/AOh14Girfo8mrae_OWZZG95sEc5f3DNmMM0k7I9Qw1Za=s64",
      "userId": "01761804650114495504"
     },
     "user_tz": 180
    },
    "id": "wajnDRLn6ua_",
    "outputId": "3038f630-3658-434a-c33f-cd303b4a1c15"
   },
   "outputs": [],
   "source": [
    "df_amazon_rotulado =  df_amazon_full_concat.query('Classification != \"NaN\"')\n",
    "df_amazon_nao_rotulado =  df_amazon_full_concat.query('Classification == \"NaN\"')\n",
    "print(\"Tamanho do Dataframe Amazon Rotulado: {0}\".format(len(df_amazon_rotulado)))\n",
    "print(\"Tamanho do Dataframe Amazon Não Rotulado: {0}\".format(len(df_amazon_nao_rotulado)))"
   ]
  },
  {
   "cell_type": "code",
   "execution_count": null,
   "metadata": {
    "colab": {
     "base_uri": "https://localhost:8080/"
    },
    "executionInfo": {
     "elapsed": 198,
     "status": "ok",
     "timestamp": 1623123179934,
     "user": {
      "displayName": "Carlos Eduardo Ramos",
      "photoUrl": "https://lh3.googleusercontent.com/a-/AOh14Girfo8mrae_OWZZG95sEc5f3DNmMM0k7I9Qw1Za=s64",
      "userId": "01761804650114495504"
     },
     "user_tz": 180
    },
    "id": "yxCCh3vIpdSu",
    "outputId": "3c5f9d2b-dce2-4d89-c457-e1df5b2d4aa7"
   },
   "outputs": [],
   "source": [
    "len(df_amazon_nao_rotulado)"
   ]
  },
  {
   "cell_type": "code",
   "execution_count": null,
   "metadata": {
    "colab": {
     "base_uri": "https://localhost:8080/"
    },
    "executionInfo": {
     "elapsed": 196,
     "status": "ok",
     "timestamp": 1623122517590,
     "user": {
      "displayName": "Carlos Eduardo Ramos",
      "photoUrl": "https://lh3.googleusercontent.com/a-/AOh14Girfo8mrae_OWZZG95sEc5f3DNmMM0k7I9Qw1Za=s64",
      "userId": "01761804650114495504"
     },
     "user_tz": 180
    },
    "id": "2J75Mo8MgbTH",
    "outputId": "07ef0e91-39a4-480b-90d3-36de9e4d1c03"
   },
   "outputs": [],
   "source": [
    "df_netflix_rotulado =  df_netflix_full_concat.query('Classification != \"NaN\"')\n",
    "df_netflix_nao_rotulado =  df_netflix_full_concat.query('Classification == \"NaN\"')\n",
    "print(\"Tamanho do Dataframe Netflix Rotulado: {0}\".format(len(df_netflix_rotulado)))\n",
    "print(\"Tamanho do Dataframe Netflix Não Rotulado: {0}\".format(len(df_netflix_nao_rotulado)))"
   ]
  },
  {
   "cell_type": "code",
   "execution_count": null,
   "metadata": {
    "colab": {
     "base_uri": "https://localhost:8080/"
    },
    "executionInfo": {
     "elapsed": 195,
     "status": "ok",
     "timestamp": 1623123191158,
     "user": {
      "displayName": "Carlos Eduardo Ramos",
      "photoUrl": "https://lh3.googleusercontent.com/a-/AOh14Girfo8mrae_OWZZG95sEc5f3DNmMM0k7I9Qw1Za=s64",
      "userId": "01761804650114495504"
     },
     "user_tz": 180
    },
    "id": "X2KKBUdNpieq",
    "outputId": "37dc64ba-ec49-4ef0-da6e-0a2f6ce10016"
   },
   "outputs": [],
   "source": [
    "len(df_netflix_nao_rotulado)"
   ]
  },
  {
   "cell_type": "markdown",
   "metadata": {
    "id": "Yj21RbBbRskI"
   },
   "source": [
    "### Separando as resenhas das classes"
   ]
  },
  {
   "cell_type": "code",
   "execution_count": null,
   "metadata": {
    "id": "0x-DwVTTM2LQ"
   },
   "outputs": [],
   "source": [
    "resenhas_amazon = df_amazon_rotulado['Review']\n",
    "classes_amazon = df_amazon_rotulado['Classification']\n"
   ]
  },
  {
   "cell_type": "code",
   "execution_count": null,
   "metadata": {
    "id": "09DXjDgVjvVL"
   },
   "outputs": [],
   "source": [
    "resenhas_netflix = df_netflix_rotulado['Review']\n",
    "classes_netflix = df_netflix_rotulado['Classification']\n"
   ]
  },
  {
   "cell_type": "markdown",
   "metadata": {
    "id": "Rc1jYQirRyZ3"
   },
   "source": [
    "### Realizando o pre-processamento nas resenhas"
   ]
  },
  {
   "cell_type": "code",
   "execution_count": null,
   "metadata": {
    "id": "2f2Ur7K4Np_F"
   },
   "outputs": [],
   "source": [
    "resenhas_lista_amazon = [pre_processamento_dados(i).lstrip().rstrip() for i in resenhas_amazon]\n"
   ]
  },
  {
   "cell_type": "code",
   "execution_count": null,
   "metadata": {
    "id": "Llwb4H7WpqfB"
   },
   "outputs": [],
   "source": [
    "resenhas_lista_netflix = [pre_processamento_dados(i).lstrip().rstrip() for i in resenhas_netflix]"
   ]
  },
  {
   "cell_type": "code",
   "execution_count": null,
   "metadata": {
    "colab": {
     "base_uri": "https://localhost:8080/"
    },
    "executionInfo": {
     "elapsed": 213,
     "status": "ok",
     "timestamp": 1623121928553,
     "user": {
      "displayName": "Carlos Eduardo Ramos",
      "photoUrl": "https://lh3.googleusercontent.com/a-/AOh14Girfo8mrae_OWZZG95sEc5f3DNmMM0k7I9Qw1Za=s64",
      "userId": "01761804650114495504"
     },
     "user_tz": 180
    },
    "id": "7VhAnTDaN22W",
    "outputId": "69bcdb47-d975-498d-f2d1-7b500e664363"
   },
   "outputs": [],
   "source": [
    "resenhas_lista_amazon[:10]"
   ]
  },
  {
   "cell_type": "code",
   "execution_count": null,
   "metadata": {
    "colab": {
     "base_uri": "https://localhost:8080/"
    },
    "executionInfo": {
     "elapsed": 202,
     "status": "ok",
     "timestamp": 1623121932296,
     "user": {
      "displayName": "Carlos Eduardo Ramos",
      "photoUrl": "https://lh3.googleusercontent.com/a-/AOh14Girfo8mrae_OWZZG95sEc5f3DNmMM0k7I9Qw1Za=s64",
      "userId": "01761804650114495504"
     },
     "user_tz": 180
    },
    "id": "5miZgeh9oVXh",
    "outputId": "17246660-d5ca-40a8-804d-5df04144fd20"
   },
   "outputs": [],
   "source": [
    "resenhas_lista_netflix[:10]"
   ]
  },
  {
   "cell_type": "code",
   "execution_count": null,
   "metadata": {
    "colab": {
     "base_uri": "https://localhost:8080/"
    },
    "executionInfo": {
     "elapsed": 13,
     "status": "ok",
     "timestamp": 1622729972819,
     "user": {
      "displayName": "Carlos Eduardo Ramos",
      "photoUrl": "https://lh3.googleusercontent.com/a-/AOh14Girfo8mrae_OWZZG95sEc5f3DNmMM0k7I9Qw1Za=s64",
      "userId": "01761804650114495504"
     },
     "user_tz": 180
    },
    "id": "WmXP8-C_h4Wp",
    "outputId": "d936699d-f300-49e7-ffc2-eb6b3c308028"
   },
   "outputs": [],
   "source": [
    "resenhas_vazias= 0\n",
    "for res in resenhas_lista:\n",
    "  if len(res) ==0:\n",
    "    resenhas_vazias = resenhas_vazias +1\n",
    "percent_resenhas_vazias = resenhas_vazias/len(resenhas_lista)\n",
    "print(\"Resenhas Vazias: {0}%\".format(round(percent_resenhas_vazias*100, 2)))"
   ]
  },
  {
   "cell_type": "markdown",
   "metadata": {
    "id": "uIOavREDglEs"
   },
   "source": [
    "# Criando o modelo"
   ]
  },
  {
   "cell_type": "markdown",
   "metadata": {
    "id": "0V76yC3cgx6M"
   },
   "source": [
    "### vetorização dos textos"
   ]
  },
  {
   "cell_type": "code",
   "execution_count": null,
   "metadata": {
    "id": "OqkWgGxzQVQS"
   },
   "outputs": [],
   "source": [
    "tweet_tokenizer = TweetTokenizer()\n",
    "vectorizer = CountVectorizer(analyzer=\"word\", tokenizer=tweet_tokenizer.tokenize)"
   ]
  },
  {
   "cell_type": "markdown",
   "metadata": {
    "id": "UfQL721uh1wF"
   },
   "source": [
    "Vetorizando os dados\n",
    "- cada palavra se torna uma coluna - matriz de termo-frequencia\n",
    "- ponto de atenção - Uso do vectorizer.transform() e o vectorizer.fit_transform() "
   ]
  },
  {
   "cell_type": "code",
   "execution_count": null,
   "metadata": {
    "id": "DW8EHKF8h3f6"
   },
   "outputs": [],
   "source": [
    "freq_resenhas_amazon = vectorizer.fit_transform(resenhas_lista_amazon)\n",
    "freq_resenhas_netflix = vectorizer.fit_transform(resenhas_lista_netflix)"
   ]
  },
  {
   "cell_type": "markdown",
   "metadata": {
    "id": "cvgca-P6igj6"
   },
   "source": [
    "Dados vetorizados em uma matriz esparsa, de \"0\" e \"1\""
   ]
  },
  {
   "cell_type": "code",
   "execution_count": null,
   "metadata": {
    "colab": {
     "base_uri": "https://localhost:8080/"
    },
    "executionInfo": {
     "elapsed": 198,
     "status": "ok",
     "timestamp": 1623116026285,
     "user": {
      "displayName": "Carlos Eduardo Ramos",
      "photoUrl": "https://lh3.googleusercontent.com/a-/AOh14Girfo8mrae_OWZZG95sEc5f3DNmMM0k7I9Qw1Za=s64",
      "userId": "01761804650114495504"
     },
     "user_tz": 180
    },
    "id": "FFG6evF9iTml",
    "outputId": "4fdb7608-0711-406d-b36b-f1f4f126f98a"
   },
   "outputs": [],
   "source": [
    "type(freq_resenhas_amazon)"
   ]
  },
  {
   "cell_type": "code",
   "execution_count": null,
   "metadata": {
    "colab": {
     "base_uri": "https://localhost:8080/"
    },
    "executionInfo": {
     "elapsed": 1107,
     "status": "ok",
     "timestamp": 1623116029058,
     "user": {
      "displayName": "Carlos Eduardo Ramos",
      "photoUrl": "https://lh3.googleusercontent.com/a-/AOh14Girfo8mrae_OWZZG95sEc5f3DNmMM0k7I9Qw1Za=s64",
      "userId": "01761804650114495504"
     },
     "user_tz": 180
    },
    "id": "dMfta8NA4O7n",
    "outputId": "b0bfabf7-198c-4e50-9e03-c17551095c65"
   },
   "outputs": [],
   "source": [
    "freq_resenhas_amazon.A"
   ]
  },
  {
   "cell_type": "markdown",
   "metadata": {
    "id": "WwpQQllv879z"
   },
   "source": [
    "Tamanho das matrizes esparsas de Termo-Frequencia criadas após a vetorização"
   ]
  },
  {
   "cell_type": "code",
   "execution_count": null,
   "metadata": {
    "colab": {
     "base_uri": "https://localhost:8080/"
    },
    "executionInfo": {
     "elapsed": 195,
     "status": "ok",
     "timestamp": 1623116034149,
     "user": {
      "displayName": "Carlos Eduardo Ramos",
      "photoUrl": "https://lh3.googleusercontent.com/a-/AOh14Girfo8mrae_OWZZG95sEc5f3DNmMM0k7I9Qw1Za=s64",
      "userId": "01761804650114495504"
     },
     "user_tz": 180
    },
    "id": "Nw5C8Rk9iXtR",
    "outputId": "727580d7-5334-45ce-8f69-0049bbb22a07"
   },
   "outputs": [],
   "source": [
    "tp_matrix_am = freq_resenhas_amazon.shape\n",
    "tp_matrix_nt = freq_resenhas_netflix.shape\n",
    "\n",
    "print(\"Dimensões da Matriz Esparsa do Df Amazon: {0} linhas x {1} colunas\".format(tp_matrix_am[1], tp_matrix_am[0]))\n",
    "print(\"Dimensões da Matriz Esparsa do Df Netflix: {0} linhas x {1} colunas\".format(tp_matrix_nt[1], tp_matrix_nt[0]))\n"
   ]
  },
  {
   "cell_type": "markdown",
   "metadata": {
    "id": "enMFj5BWjZoh"
   },
   "source": [
    "### Treino do Modelo"
   ]
  },
  {
   "cell_type": "code",
   "execution_count": null,
   "metadata": {
    "colab": {
     "base_uri": "https://localhost:8080/"
    },
    "executionInfo": {
     "elapsed": 208,
     "status": "ok",
     "timestamp": 1623116042378,
     "user": {
      "displayName": "Carlos Eduardo Ramos",
      "photoUrl": "https://lh3.googleusercontent.com/a-/AOh14Girfo8mrae_OWZZG95sEc5f3DNmMM0k7I9Qw1Za=s64",
      "userId": "01761804650114495504"
     },
     "user_tz": 180
    },
    "id": "RfHrWWkFj9ax",
    "outputId": "7778939a-b5f6-4492-ff54-9053cf5ca42a"
   },
   "outputs": [],
   "source": [
    "modelo_amazon = MultinomialNB()\n",
    "modelo_amazon.fit(freq_resenhas_amazon, classes_amazon)"
   ]
  },
  {
   "cell_type": "code",
   "execution_count": null,
   "metadata": {
    "colab": {
     "base_uri": "https://localhost:8080/"
    },
    "executionInfo": {
     "elapsed": 206,
     "status": "ok",
     "timestamp": 1623116045301,
     "user": {
      "displayName": "Carlos Eduardo Ramos",
      "photoUrl": "https://lh3.googleusercontent.com/a-/AOh14Girfo8mrae_OWZZG95sEc5f3DNmMM0k7I9Qw1Za=s64",
      "userId": "01761804650114495504"
     },
     "user_tz": 180
    },
    "id": "BgX63H3d-nJ7",
    "outputId": "1b3e56ad-4ec4-4255-e29a-1cebde51074a"
   },
   "outputs": [],
   "source": [
    "modelo_netflix = MultinomialNB()\n",
    "modelo_netflix.fit(freq_resenhas_netflix, classes_netflix)"
   ]
  },
  {
   "cell_type": "markdown",
   "metadata": {
    "id": "9vh4ITKg5WDi"
   },
   "source": [
    "## Verificando o modelo com uma frase de teste"
   ]
  },
  {
   "cell_type": "code",
   "execution_count": 8,
   "metadata": {
    "id": "rEbQsfJA4XmO"
   },
   "outputs": [],
   "source": [
    "teste = ['possui excelentes series precisa melhorar a busca',\n",
    "         'estou muito feliz com o aplicativo',\n",
    "         'não estou muito feliz com o aplicativo',\n",
    "         'aplicativo não abre e lento']"
   ]
  },
  {
   "cell_type": "code",
   "execution_count": null,
   "metadata": {
    "id": "bGIxNDxK43-N"
   },
   "outputs": [],
   "source": [
    "teste = [pre_processamento_dados(i).lstrip().rstrip() for i in teste]"
   ]
  },
  {
   "cell_type": "code",
   "execution_count": null,
   "metadata": {
    "id": "79GTacLf5Bz8"
   },
   "outputs": [],
   "source": [
    "freq_teste = vectorizer.transform(teste)"
   ]
  },
  {
   "cell_type": "markdown",
   "metadata": {
    "id": "xI3yR0ur_ftC"
   },
   "source": [
    "Modelo Netflix"
   ]
  },
  {
   "cell_type": "code",
   "execution_count": null,
   "metadata": {
    "colab": {
     "base_uri": "https://localhost:8080/"
    },
    "executionInfo": {
     "elapsed": 195,
     "status": "ok",
     "timestamp": 1623116062353,
     "user": {
      "displayName": "Carlos Eduardo Ramos",
      "photoUrl": "https://lh3.googleusercontent.com/a-/AOh14Girfo8mrae_OWZZG95sEc5f3DNmMM0k7I9Qw1Za=s64",
      "userId": "01761804650114495504"
     },
     "user_tz": 180
    },
    "id": "LC71pV_d5UN8",
    "outputId": "0e1acb49-297c-4622-bedf-e08a263b1683"
   },
   "outputs": [],
   "source": [
    "for t,c in zip(teste, modelo_netflix.predict(freq_teste)):\n",
    "  print(t + \", \" + c)"
   ]
  },
  {
   "cell_type": "code",
   "execution_count": null,
   "metadata": {
    "colab": {
     "base_uri": "https://localhost:8080/"
    },
    "executionInfo": {
     "elapsed": 231,
     "status": "ok",
     "timestamp": 1623116067086,
     "user": {
      "displayName": "Carlos Eduardo Ramos",
      "photoUrl": "https://lh3.googleusercontent.com/a-/AOh14Girfo8mrae_OWZZG95sEc5f3DNmMM0k7I9Qw1Za=s64",
      "userId": "01761804650114495504"
     },
     "user_tz": 180
    },
    "id": "4VbCf_eG6XlZ",
    "outputId": "6154949f-fa8b-4194-8a4b-9eb3fe68b5e1"
   },
   "outputs": [],
   "source": [
    "# Detalhando a prob. da predição\n",
    "modelo_netflix.predict_proba(freq_teste).round(2)"
   ]
  },
  {
   "cell_type": "markdown",
   "metadata": {
    "id": "JStSpFyrCTYw"
   },
   "source": [
    "Modelo Amazon"
   ]
  },
  {
   "cell_type": "code",
   "execution_count": null,
   "metadata": {
    "colab": {
     "base_uri": "https://localhost:8080/",
     "height": 340
    },
    "executionInfo": {
     "elapsed": 375,
     "status": "error",
     "timestamp": 1623116069966,
     "user": {
      "displayName": "Carlos Eduardo Ramos",
      "photoUrl": "https://lh3.googleusercontent.com/a-/AOh14Girfo8mrae_OWZZG95sEc5f3DNmMM0k7I9Qw1Za=s64",
      "userId": "01761804650114495504"
     },
     "user_tz": 180
    },
    "id": "KXZLEfjEA6Th",
    "outputId": "3724a241-2d9f-467f-f40e-ff7aa004f3aa"
   },
   "outputs": [],
   "source": [
    "for t,c in zip(teste, modelo_amazon.predict(freq_teste)):\n",
    "  print(t + \", \" + c)"
   ]
  },
  {
   "cell_type": "code",
   "execution_count": null,
   "metadata": {
    "colab": {
     "base_uri": "https://localhost:8080/"
    },
    "executionInfo": {
     "elapsed": 228,
     "status": "ok",
     "timestamp": 1623028520113,
     "user": {
      "displayName": "Carlos Eduardo Ramos",
      "photoUrl": "https://lh3.googleusercontent.com/a-/AOh14Girfo8mrae_OWZZG95sEc5f3DNmMM0k7I9Qw1Za=s64",
      "userId": "01761804650114495504"
     },
     "user_tz": 180
    },
    "id": "I3J2y7tuCXii",
    "outputId": "c8276bb3-462a-4eaf-ced3-44d95e9624f3"
   },
   "outputs": [],
   "source": [
    "# Detalhando a prob. da predição\n",
    "modelo_amazon.predict_proba(freq_teste).round(2)"
   ]
  },
  {
   "cell_type": "markdown",
   "metadata": {
    "id": "fcFJdN_OoBkb"
   },
   "source": [
    "# Definindo um Pipeline automatizado para gerar o modelo"
   ]
  },
  {
   "cell_type": "markdown",
   "metadata": {
    "id": "NQwe9uYlgetd"
   },
   "source": [
    "Etapas do Pipiline Simples\n",
    "\n",
    "\n",
    "\n",
    "\n"
   ]
  },
  {
   "cell_type": "code",
   "execution_count": null,
   "metadata": {
    "id": "M0ngjfrUof_n"
   },
   "outputs": [],
   "source": [
    "etapas = [('counts', CountVectorizer()),\n",
    "          ('classifier', MultinomialNB())]\n"
   ]
  },
  {
   "cell_type": "code",
   "execution_count": null,
   "metadata": {
    "id": "03coz3gZgicN"
   },
   "outputs": [],
   "source": [
    "pipeline_amazon = Pipeline(etapas)\n",
    "pipeline_netflix = Pipeline(etapas)"
   ]
  },
  {
   "cell_type": "markdown",
   "metadata": {
    "id": "nsf99JsPgoGs"
   },
   "source": [
    "Treinando os Pipelines"
   ]
  },
  {
   "cell_type": "code",
   "execution_count": null,
   "metadata": {
    "colab": {
     "base_uri": "https://localhost:8080/"
    },
    "executionInfo": {
     "elapsed": 549,
     "status": "ok",
     "timestamp": 1623116094443,
     "user": {
      "displayName": "Carlos Eduardo Ramos",
      "photoUrl": "https://lh3.googleusercontent.com/a-/AOh14Girfo8mrae_OWZZG95sEc5f3DNmMM0k7I9Qw1Za=s64",
      "userId": "01761804650114495504"
     },
     "user_tz": 180
    },
    "id": "idqj-xQ5eMkn",
    "outputId": "fe038f09-2073-4406-e96d-1210e604d3b9"
   },
   "outputs": [],
   "source": [
    "pipeline_amazon.fit(resenhas_lista_amazon, classes_amazon)"
   ]
  },
  {
   "cell_type": "code",
   "execution_count": null,
   "metadata": {
    "colab": {
     "base_uri": "https://localhost:8080/"
    },
    "executionInfo": {
     "elapsed": 725,
     "status": "ok",
     "timestamp": 1623116097279,
     "user": {
      "displayName": "Carlos Eduardo Ramos",
      "photoUrl": "https://lh3.googleusercontent.com/a-/AOh14Girfo8mrae_OWZZG95sEc5f3DNmMM0k7I9Qw1Za=s64",
      "userId": "01761804650114495504"
     },
     "user_tz": 180
    },
    "id": "S7dLc3moDW7I",
    "outputId": "bf6ca63b-c7ec-4349-8e7b-a41e36e6735a"
   },
   "outputs": [],
   "source": [
    "pipeline_netflix.fit(resenhas_lista_netflix, classes_netflix)"
   ]
  },
  {
   "cell_type": "code",
   "execution_count": null,
   "metadata": {
    "colab": {
     "base_uri": "https://localhost:8080/"
    },
    "executionInfo": {
     "elapsed": 196,
     "status": "ok",
     "timestamp": 1623116100073,
     "user": {
      "displayName": "Carlos Eduardo Ramos",
      "photoUrl": "https://lh3.googleusercontent.com/a-/AOh14Girfo8mrae_OWZZG95sEc5f3DNmMM0k7I9Qw1Za=s64",
      "userId": "01761804650114495504"
     },
     "user_tz": 180
    },
    "id": "ER57dlaTenVA",
    "outputId": "60eda8a2-4fa0-489d-fe05-436d1eab0902"
   },
   "outputs": [],
   "source": [
    "pipeline_amazon.steps"
   ]
  },
  {
   "cell_type": "markdown",
   "metadata": {
    "id": "kl7xG8nKZyfJ"
   },
   "source": [
    "Pipeline de Modelo SVM\n",
    "- Kernel Linear\n"
   ]
  },
  {
   "cell_type": "markdown",
   "metadata": {
    "id": "aqyUALaFnEK4"
   },
   "source": [
    "Etapas do Pipilene SVM"
   ]
  },
  {
   "cell_type": "code",
   "execution_count": null,
   "metadata": {
    "id": "MCplKFZfh-tc"
   },
   "outputs": [],
   "source": [
    "etapas_svm = [('count', CountVectorizer()),\n",
    "              ('classifier',svm.SVC(kernel='linear'))]"
   ]
  },
  {
   "cell_type": "code",
   "execution_count": null,
   "metadata": {
    "id": "NtxhCRawjfU7"
   },
   "outputs": [],
   "source": [
    "pipeline_svm_amazon = Pipeline(etapas_svm)\n",
    "pipeline_svm_netflix = Pipeline(etapas_svm)"
   ]
  },
  {
   "cell_type": "markdown",
   "metadata": {
    "id": "np7ODL9VnlBp"
   },
   "source": [
    "# Validando os modelos\n",
    "- Validação Cruzada - de 10 folds - cv=10"
   ]
  },
  {
   "cell_type": "code",
   "execution_count": null,
   "metadata": {
    "id": "dU-AS6lRvkbC"
   },
   "outputs": [],
   "source": [
    "resultados_modelo_amazon = cross_val_predict(pipeline_amazon, resenhas_lista_amazon, classes_amazon, cv=10)\n",
    "resultados_modelo_netflix = cross_val_predict(pipeline_netflix, resenhas_lista_netflix, classes_netflix, cv=10)\n"
   ]
  },
  {
   "cell_type": "markdown",
   "metadata": {
    "id": "S62c9HxvxOoh"
   },
   "source": [
    "* Medindo a métrica de acurácia dos modelos\n"
   ]
  },
  {
   "cell_type": "code",
   "execution_count": null,
   "metadata": {
    "colab": {
     "base_uri": "https://localhost:8080/"
    },
    "executionInfo": {
     "elapsed": 215,
     "status": "ok",
     "timestamp": 1623116125717,
     "user": {
      "displayName": "Carlos Eduardo Ramos",
      "photoUrl": "https://lh3.googleusercontent.com/a-/AOh14Girfo8mrae_OWZZG95sEc5f3DNmMM0k7I9Qw1Za=s64",
      "userId": "01761804650114495504"
     },
     "user_tz": 180
    },
    "id": "FZ-34NpZxUbP",
    "outputId": "9d707424-7f27-470d-b43b-a858c8d17ae0"
   },
   "outputs": [],
   "source": [
    "accur_pipeline_amazon = accuracy_score(classes_amazon, resultados_modelo_amazon)\n",
    "print(\"Acurácia do Modelo Pipeline Simples Amazon: {0}\".format((accur_pipeline_amazon)))\n",
    "\n",
    "accur_pipeline_netflix = accuracy_score(classes_netflix, resultados_modelo_netflix)\n",
    "print(\"Acurácia do Modelo Pipeline Simples Netflix: {0}\".format((accur_pipeline_netflix)))"
   ]
  },
  {
   "cell_type": "markdown",
   "metadata": {
    "id": "quxnyvYqzT2H"
   },
   "source": [
    "Medidas de Validação do Modelo"
   ]
  },
  {
   "cell_type": "markdown",
   "metadata": {
    "id": "ptUNfmqJ1KSp"
   },
   "source": [
    "* Acurácia: proximidade entre o valor obtido no modelo e o valor verdadeiro na classificação rotulada \n",
    "\n",
    "\n",
    "\n"
   ]
  },
  {
   "cell_type": "markdown",
   "metadata": {
    "id": "FBq1NzpYGRUD"
   },
   "source": [
    "Amazon"
   ]
  },
  {
   "cell_type": "code",
   "execution_count": null,
   "metadata": {
    "colab": {
     "base_uri": "https://localhost:8080/"
    },
    "executionInfo": {
     "elapsed": 553,
     "status": "ok",
     "timestamp": 1623116130599,
     "user": {
      "displayName": "Carlos Eduardo Ramos",
      "photoUrl": "https://lh3.googleusercontent.com/a-/AOh14Girfo8mrae_OWZZG95sEc5f3DNmMM0k7I9Qw1Za=s64",
      "userId": "01761804650114495504"
     },
     "user_tz": 180
    },
    "id": "yKugryxZym2X",
    "outputId": "f0b25f02-b47e-4794-b410-393125bf6c89"
   },
   "outputs": [],
   "source": [
    "# Acurácia\n",
    "sentimentos = ['Positiva', 'Negativa']\n",
    "print(classification_report(classes_amazon, resultados_modelo_amazon, sentimentos))"
   ]
  },
  {
   "cell_type": "markdown",
   "metadata": {
    "id": "mgU8hhcMGTyz"
   },
   "source": [
    "Netflix"
   ]
  },
  {
   "cell_type": "code",
   "execution_count": null,
   "metadata": {
    "colab": {
     "base_uri": "https://localhost:8080/"
    },
    "executionInfo": {
     "elapsed": 1416,
     "status": "ok",
     "timestamp": 1623116135583,
     "user": {
      "displayName": "Carlos Eduardo Ramos",
      "photoUrl": "https://lh3.googleusercontent.com/a-/AOh14Girfo8mrae_OWZZG95sEc5f3DNmMM0k7I9Qw1Za=s64",
      "userId": "01761804650114495504"
     },
     "user_tz": 180
    },
    "id": "GMUiVCzYF3hc",
    "outputId": "8d2ec628-62e0-43e6-c15c-fedd2df47d3f"
   },
   "outputs": [],
   "source": [
    "# Acurácia\n",
    "sentimentos = ['Positiva', 'Negativa']\n",
    "print(classification_report(classes_netflix, resultados_modelo_netflix, sentimentos))"
   ]
  },
  {
   "cell_type": "markdown",
   "metadata": {
    "id": "SJ-0ys_61gSw"
   },
   "source": [
    "* Matriz de Confusão: Avaliar no número de predições erradas por classe (feature)"
   ]
  },
  {
   "cell_type": "markdown",
   "metadata": {
    "id": "zv-45F3VHCG_"
   },
   "source": [
    "Amazon\n"
   ]
  },
  {
   "cell_type": "code",
   "execution_count": null,
   "metadata": {
    "colab": {
     "base_uri": "https://localhost:8080/"
    },
    "executionInfo": {
     "elapsed": 191,
     "status": "ok",
     "timestamp": 1623116139135,
     "user": {
      "displayName": "Carlos Eduardo Ramos",
      "photoUrl": "https://lh3.googleusercontent.com/a-/AOh14Girfo8mrae_OWZZG95sEc5f3DNmMM0k7I9Qw1Za=s64",
      "userId": "01761804650114495504"
     },
     "user_tz": 180
    },
    "id": "7dVCiuPL0Pdh",
    "outputId": "ee9006d2-1282-468a-b0ed-a8de4315f3e5"
   },
   "outputs": [],
   "source": [
    "print(pd.crosstab(classes_amazon, resultados_modelo_amazon, rownames=['Real'], colnames=['Predito'],  margins=True))"
   ]
  },
  {
   "cell_type": "code",
   "execution_count": null,
   "metadata": {
    "colab": {
     "base_uri": "https://localhost:8080/"
    },
    "executionInfo": {
     "elapsed": 206,
     "status": "ok",
     "timestamp": 1623116141638,
     "user": {
      "displayName": "Carlos Eduardo Ramos",
      "photoUrl": "https://lh3.googleusercontent.com/a-/AOh14Girfo8mrae_OWZZG95sEc5f3DNmMM0k7I9Qw1Za=s64",
      "userId": "01761804650114495504"
     },
     "user_tz": 180
    },
    "id": "mqX4770aHKUr",
    "outputId": "63539623-c6c6-4d27-e76f-efc677ea6628"
   },
   "outputs": [],
   "source": [
    "print(pd.crosstab(classes_netflix, resultados_modelo_netflix, rownames=['Real'], colnames=['Predito'],  margins=True))"
   ]
  },
  {
   "cell_type": "code",
   "execution_count": null,
   "metadata": {
    "id": "U4_58wnO3IJn"
   },
   "outputs": [],
   "source": [
    "def obter_metricas(modelo, resenhas, classes):\n",
    "  resutado = cross_val_predict(modelo, resenhas, classes,cv=10)\n",
    "  return accuracy_score(classes, resutado)\n",
    "  "
   ]
  },
  {
   "cell_type": "code",
   "execution_count": null,
   "metadata": {
    "colab": {
     "base_uri": "https://localhost:8080/"
    },
    "executionInfo": {
     "elapsed": 7477,
     "status": "ok",
     "timestamp": 1623116156297,
     "user": {
      "displayName": "Carlos Eduardo Ramos",
      "photoUrl": "https://lh3.googleusercontent.com/a-/AOh14Girfo8mrae_OWZZG95sEc5f3DNmMM0k7I9Qw1Za=s64",
      "userId": "01761804650114495504"
     },
     "user_tz": 180
    },
    "id": "ZJj6uo8h3tp4",
    "outputId": "5bee318c-baab-4922-a4b1-8e7c1b0fed3e"
   },
   "outputs": [],
   "source": [
    "# naive bayes simples\n",
    "accur_pp_amazon = obter_metricas(pipeline_amazon, resenhas_lista_amazon, classes_amazon)\n",
    "accur_pp_netflix = obter_metricas(pipeline_netflix, resenhas_lista_netflix, classes_netflix)\n",
    "\n",
    "print(\"Acurácia do modelo Naive Bayes - Amazon: {}\".format(accur_pp_amazon))\n",
    "print(\"Acurácia do modelo Naive Bayes - Netflix {}\".format(accur_pp_netflix))"
   ]
  },
  {
   "cell_type": "code",
   "execution_count": null,
   "metadata": {
    "colab": {
     "base_uri": "https://localhost:8080/"
    },
    "executionInfo": {
     "elapsed": 2187858,
     "status": "ok",
     "timestamp": 1623032208957,
     "user": {
      "displayName": "Carlos Eduardo Ramos",
      "photoUrl": "https://lh3.googleusercontent.com/a-/AOh14Girfo8mrae_OWZZG95sEc5f3DNmMM0k7I9Qw1Za=s64",
      "userId": "01761804650114495504"
     },
     "user_tz": 180
    },
    "id": "r1Bs4lIN4bLW",
    "outputId": "6b56e4cf-2021-4358-9bb4-66b1dd19843b"
   },
   "outputs": [],
   "source": [
    "# SVM\n",
    "accur_pp_svm_amazon = obter_metricas(pipeline_svm_amazon, resenhas_lista_amazon, classes_amazon)\n",
    "accur_pp_svm_netflix = obter_metricas(pipeline_svm_netflix, resenhas_lista_netflix, classes_netflix)\n",
    "\n",
    "print(\"Acurácia do modelo SVM - Amazon: {}\".format(accur_pp_svm_amazon))\n",
    "print(\"Acurácia do modelo SVM - Netflix: {}\".format(accur_pp_svm_netflix))\n"
   ]
  },
  {
   "cell_type": "markdown",
   "metadata": {
    "id": "-iD67pxY7BlU"
   },
   "source": [
    "# Predição aplicada na Base de Dados\n",
    "- Vamos classificar as resenhas não-Classificadas \n",
    "- Para separar as bases (Positiva e Negativa) que usaremos na Modelagem de Tópicos\n",
    "\n",
    "---\n",
    " ToDo List\n",
    "* Criar metodo para pre-processar uma string  e retornar string pre-processada\n",
    "* Criar método para predizer as resenhas não-classificadas diretamente nos Dfs\n",
    "* Concatenar e depois consolidar os Dfs classificados e nao-classificados\n",
    "* Separar resenhas classificadas entre Positivas e Negativas\n",
    "* Consolidar resenhas separadas em arquivo .txt\n",
    "\n",
    "\n"
   ]
  },
  {
   "cell_type": "code",
   "execution_count": null,
   "metadata": {
    "id": "iNEcvasZ7ZHk"
   },
   "outputs": [],
   "source": [
    "# ToDo List\n",
    "# Criar método para predizer as resenhas não-classificadas diretamente nos Dfs\n",
    "# Separar resenhas classificadas entre Positivas e Negativas\n",
    "# Consolidar resenhas separadas em arquivo .txt"
   ]
  },
  {
   "cell_type": "code",
   "execution_count": null,
   "metadata": {
    "id": "F6CY6d-fRYxY"
   },
   "outputs": [],
   "source": []
  },
  {
   "cell_type": "code",
   "execution_count": null,
   "metadata": {
    "colab": {
     "base_uri": "https://localhost:8080/",
     "height": 205
    },
    "executionInfo": {
     "elapsed": 203,
     "status": "ok",
     "timestamp": 1623121898962,
     "user": {
      "displayName": "Carlos Eduardo Ramos",
      "photoUrl": "https://lh3.googleusercontent.com/a-/AOh14Girfo8mrae_OWZZG95sEc5f3DNmMM0k7I9Qw1Za=s64",
      "userId": "01761804650114495504"
     },
     "user_tz": 180
    },
    "id": "ZiBM3cW_Rn2G",
    "outputId": "0035e416-af9e-43e8-a5da-36680d204efa"
   },
   "outputs": [],
   "source": [
    "df_net_nao_rotulado.head()"
   ]
  },
  {
   "cell_type": "code",
   "execution_count": null,
   "metadata": {
    "colab": {
     "base_uri": "https://localhost:8080/",
     "height": 205
    },
    "executionInfo": {
     "elapsed": 199,
     "status": "ok",
     "timestamp": 1623122715249,
     "user": {
      "displayName": "Carlos Eduardo Ramos",
      "photoUrl": "https://lh3.googleusercontent.com/a-/AOh14Girfo8mrae_OWZZG95sEc5f3DNmMM0k7I9Qw1Za=s64",
      "userId": "01761804650114495504"
     },
     "user_tz": 180
    },
    "id": "1Vep_UvTmHJ_",
    "outputId": "906180e0-d948-4aca-aceb-d236e4176261"
   },
   "outputs": [],
   "source": [
    "df_netflix_nao_rotulado.head()"
   ]
  },
  {
   "cell_type": "markdown",
   "metadata": {
    "id": "oPcFvMO6WFr5"
   },
   "source": [
    "Classificando resenhas não-rotuladas com o modelo Netflix"
   ]
  },
  {
   "cell_type": "code",
   "execution_count": null,
   "metadata": {
    "colab": {
     "base_uri": "https://localhost:8080/"
    },
    "executionInfo": {
     "elapsed": 6952,
     "status": "ok",
     "timestamp": 1623123506852,
     "user": {
      "displayName": "Carlos Eduardo Ramos",
      "photoUrl": "https://lh3.googleusercontent.com/a-/AOh14Girfo8mrae_OWZZG95sEc5f3DNmMM0k7I9Qw1Za=s64",
      "userId": "01761804650114495504"
     },
     "user_tz": 180
    },
    "id": "kO5lh6BoSO9j",
    "outputId": "0068589c-fdca-4c6e-97ce-89e011465819"
   },
   "outputs": [],
   "source": [
    "count = 0\n",
    "for index, row in df_netflix_nao_rotulado.iterrows():\n",
    "  resenha = row['Review']\n",
    "  resenha = pre_processamento_dados(resenha)\n",
    "  if (not(resenha.isspace()) and len(resenha) > 1):\n",
    "    lista_resenha = []\n",
    "    lista_resenha.append(resenha)\n",
    "    classificacao_pred = pipeline_netflix.predict(lista_resenha)[0]\n",
    "    df_netflix_nao_rotulado.loc[index,'Classification'] = classificacao_pred\n",
    "    #print(\"{0},{1},{2}\".format(index, resenha,  classificacao_pred))\n",
    "    count = count+1\n",
    "\n",
    "\n",
    "print(count)"
   ]
  },
  {
   "cell_type": "code",
   "execution_count": null,
   "metadata": {
    "colab": {
     "base_uri": "https://localhost:8080/"
    },
    "executionInfo": {
     "elapsed": 203,
     "status": "ok",
     "timestamp": 1623123527886,
     "user": {
      "displayName": "Carlos Eduardo Ramos",
      "photoUrl": "https://lh3.googleusercontent.com/a-/AOh14Girfo8mrae_OWZZG95sEc5f3DNmMM0k7I9Qw1Za=s64",
      "userId": "01761804650114495504"
     },
     "user_tz": 180
    },
    "id": "k2sQFMtnrr7w",
    "outputId": "2a7d44d6-acb9-4194-b264-4b52d7f04c7f"
   },
   "outputs": [],
   "source": [
    "len(df_netflix_nao_rotulado)"
   ]
  },
  {
   "cell_type": "markdown",
   "metadata": {
    "id": "ssRYqMKsiDli"
   },
   "source": [
    "Classificando resenhas não-rotuladas com o modelo Amazon"
   ]
  },
  {
   "cell_type": "code",
   "execution_count": null,
   "metadata": {
    "colab": {
     "base_uri": "https://localhost:8080/"
    },
    "executionInfo": {
     "elapsed": 5490,
     "status": "ok",
     "timestamp": 1623123719556,
     "user": {
      "displayName": "Carlos Eduardo Ramos",
      "photoUrl": "https://lh3.googleusercontent.com/a-/AOh14Girfo8mrae_OWZZG95sEc5f3DNmMM0k7I9Qw1Za=s64",
      "userId": "01761804650114495504"
     },
     "user_tz": 180
    },
    "id": "i7E2sZBMXHKJ",
    "outputId": "99e3a6f8-8a3f-44a4-bb37-2b6bfbce969a"
   },
   "outputs": [],
   "source": [
    "count = 0\n",
    "for index, row in df_amazon_nao_rotulado.iterrows():\n",
    "  resenha = row['Review']\n",
    "  resenha = pre_processamento_dados(resenha)\n",
    "  if (not(resenha.isspace()) and len(resenha) > 1):\n",
    "    lista_resenha = []\n",
    "    lista_resenha.append(resenha)\n",
    "    classificacao_pred = pipeline_amazon.predict(lista_resenha)[0]\n",
    "    df_amazon_nao_rotulado.loc[index,'Classification'] = classificacao_pred\n",
    "    #print(\"{0},{1},{2}\".format(index, resenha,  classificacao_pred))\n",
    "    count = count+1\n",
    "\n",
    "\n",
    "print(count)"
   ]
  },
  {
   "cell_type": "code",
   "execution_count": null,
   "metadata": {
    "colab": {
     "base_uri": "https://localhost:8080/"
    },
    "executionInfo": {
     "elapsed": 195,
     "status": "ok",
     "timestamp": 1623123673205,
     "user": {
      "displayName": "Carlos Eduardo Ramos",
      "photoUrl": "https://lh3.googleusercontent.com/a-/AOh14Girfo8mrae_OWZZG95sEc5f3DNmMM0k7I9Qw1Za=s64",
      "userId": "01761804650114495504"
     },
     "user_tz": 180
    },
    "id": "-i0k5SXItaZc",
    "outputId": "7c8ff521-9fac-482d-951c-fb403f5cc692"
   },
   "outputs": [],
   "source": [
    "len(df_amazon_nao_rotulado)"
   ]
  },
  {
   "cell_type": "code",
   "execution_count": null,
   "metadata": {
    "id": "icGlPYPSgnp1"
   },
   "outputs": [],
   "source": [
    "ls"
   ]
  },
  {
   "cell_type": "code",
   "execution_count": null,
   "metadata": {
    "colab": {
     "base_uri": "https://localhost:8080/",
     "height": 205
    },
    "executionInfo": {
     "elapsed": 203,
     "status": "ok",
     "timestamp": 1623123850753,
     "user": {
      "displayName": "Carlos Eduardo Ramos",
      "photoUrl": "https://lh3.googleusercontent.com/a-/AOh14Girfo8mrae_OWZZG95sEc5f3DNmMM0k7I9Qw1Za=s64",
      "userId": "01761804650114495504"
     },
     "user_tz": 180
    },
    "id": "Nfm5ZyIluCOh",
    "outputId": "d761d723-9a4b-44ca-ac7b-24dac718b9ca"
   },
   "outputs": [],
   "source": [
    "df_amazon_nao_rotulado.head()"
   ]
  },
  {
   "cell_type": "code",
   "execution_count": null,
   "metadata": {
    "colab": {
     "base_uri": "https://localhost:8080/",
     "height": 205
    },
    "executionInfo": {
     "elapsed": 197,
     "status": "ok",
     "timestamp": 1623123854783,
     "user": {
      "displayName": "Carlos Eduardo Ramos",
      "photoUrl": "https://lh3.googleusercontent.com/a-/AOh14Girfo8mrae_OWZZG95sEc5f3DNmMM0k7I9Qw1Za=s64",
      "userId": "01761804650114495504"
     },
     "user_tz": 180
    },
    "id": "yJHdclLuuFJa",
    "outputId": "a989fff4-cba2-4792-cf35-e30fe0b3f8f2"
   },
   "outputs": [],
   "source": [
    "df_netflix_nao_rotulado.head()"
   ]
  },
  {
   "cell_type": "code",
   "execution_count": null,
   "metadata": {
    "id": "70xE2EQSTw6y"
   },
   "outputs": [],
   "source": [
    "df_amazon_nao_rotulado.to_csv(\"df_amazon_rotulada_modelo.csv\") \n",
    "df_netflix_nao_rotulado.to_csv(\"df_netflix_rotulada_modelo.csv\") "
   ]
  }
 ],
 "metadata": {
  "colab": {
   "authorship_tag": "ABX9TyM2nYIdfkvc0QsndzTDRvxZ",
   "collapsed_sections": [
    "2KB91NDpOuRA",
    "z4tWk7kpc2x6"
   ],
   "name": "ClassificacaoResenhasApp.ipynb",
   "provenance": []
  },
  "kernelspec": {
   "display_name": "Python 3",
   "language": "python",
   "name": "python3"
  },
  "language_info": {
   "codemirror_mode": {
    "name": "ipython",
    "version": 3
   },
   "file_extension": ".py",
   "mimetype": "text/x-python",
   "name": "python",
   "nbconvert_exporter": "python",
   "pygments_lexer": "ipython3",
   "version": "3.8.8"
  }
 },
 "nbformat": 4,
 "nbformat_minor": 1
}
