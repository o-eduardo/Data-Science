{
 "cells": [
  {
   "cell_type": "markdown",
   "metadata": {
    "id": "Zr94JEEdkpIZ"
   },
   "source": [
    "# Indicadores de Clientes e Segmentação de Clientes por perfil de carteira de fundos de invesimentos  \n",
    "\n",
    "\n",
    "## Contexto\n",
    "\n",
    "Supondo uma empresa atacadista (Cedente) realizando transações de títulos dos fundos com os seus clientes (Sacado), de modo que os títulos têm: valor, taxa de juros mensal, taxa de desagio, uma data de vencimento e uma data de pagamento.\n",
    "\n",
    "Apresentamos alguns indicadores do comportamento dos clientes atuantes nas transações e também uma Segmentação dos clientes por perfil com algoritmo de machine learning não-supervisionado K-means.\n",
    "\n",
    "Na implementação da análise utilizamos a linguagem Python, com o aparato das bibliotecas: Pandas, Numpy, Matplotlib, Seaborn, Sklearn-KMeans.\n",
    "\n"
   ]
  },
  {
   "cell_type": "markdown",
   "metadata": {},
   "source": [
    "A Base de dados possui valores fictícios, de modo que têm as colunas abaixo:\n",
    "\n",
    "| Nome variável | Descrição da variável |\n",
    "| ------ | ------ |\n",
    "| CODIGO | Código do título |\n",
    "| NOME_FUNDO | Nome do fundo em que o título está registrado|\n",
    "| TIPO_PRODUTO | Tipo de produto do título |\n",
    "| CEDENTE | Nome do Cedente |\n",
    "| SACADO | Nome do sacado |\n",
    "| LIMITE_CEDENTE | Limite de Crédito do Cedente |\n",
    "| ESTADO_CEDENTE | Estado de cadastro do Cedente |\n",
    "| ESTADO_SACADO | Estado de cadastro do sacado |\n",
    "| VENCIMENTO | Data de vencimento do título |\n",
    "| DATA_EMISSAO | Data de emissão do título |\n",
    "| DATA_PAGAMENTO | Data de vencimento de pagamento do título |\n",
    "| VALOR_REAL | Valor do título |\n",
    "| VALOR_DESAGIO | valor de deságio do título |\n",
    "| TAXA_MENSAL | Taxa mensal (30 dias) que foi utilizada para o desconto do título |\n",
    "| STATUS_LIQ_TITULO | Status de liquidação do título (EM_DIA: O Título foi pago em dia, ATRASO o título foi pago em atraso) |"
   ]
  },
  {
   "cell_type": "markdown",
   "metadata": {
    "id": "eRFRqLCZkap6"
   },
   "source": [
    "# Implementação\n",
    "\n",
    "Vamos iniciar a nossa análise!"
   ]
  },
  {
   "cell_type": "markdown",
   "metadata": {
    "id": "EngjqXQGlqVh"
   },
   "source": [
    "# Coletados Dados"
   ]
  },
  {
   "cell_type": "markdown",
   "metadata": {
    "id": "a_7_n6M_0tCW"
   },
   "source": [
    "## Imports básicos\n"
   ]
  },
  {
   "cell_type": "code",
   "execution_count": 1,
   "metadata": {
    "colab": {
     "base_uri": "https://localhost:8080/"
    },
    "id": "ZdygycXwM9I6",
    "outputId": "c83ccb8c-f260-4550-a188-b8c6af84d490"
   },
   "outputs": [
    {
     "name": "stdout",
     "output_type": "stream",
     "text": [
      "Requirement already satisfied: sklearn in c:\\users\\pichau\\anaconda3\\lib\\site-packages (0.0)\n",
      "Requirement already satisfied: scikit-learn in c:\\users\\pichau\\anaconda3\\lib\\site-packages (from sklearn) (0.24.1)\n",
      "Requirement already satisfied: numpy>=1.13.3 in c:\\users\\pichau\\anaconda3\\lib\\site-packages (from scikit-learn->sklearn) (1.20.1)\n",
      "Requirement already satisfied: scipy>=0.19.1 in c:\\users\\pichau\\anaconda3\\lib\\site-packages (from scikit-learn->sklearn) (1.6.2)\n",
      "Requirement already satisfied: threadpoolctl>=2.0.0 in c:\\users\\pichau\\anaconda3\\lib\\site-packages (from scikit-learn->sklearn) (2.1.0)\n",
      "Requirement already satisfied: joblib>=0.11 in c:\\users\\pichau\\appdata\\roaming\\python\\python38\\site-packages (from scikit-learn->sklearn) (0.14.1)\n"
     ]
    }
   ],
   "source": [
    "!pip install sklearn"
   ]
  },
  {
   "cell_type": "code",
   "execution_count": 2,
   "metadata": {
    "id": "fs0NFQbEls9o"
   },
   "outputs": [],
   "source": [
    "import pandas as pd\n",
    "import numpy as np\n",
    "import matplotlib.pyplot as plt\n",
    "import matplotlib as mpl\n",
    "import seaborn as sns\n",
    "from sklearn.cluster import KMeans\n",
    "%matplotlib inline\n",
    "\n",
    "import warnings\n",
    "warnings.simplefilter(action='ignore', category=FutureWarning)"
   ]
  },
  {
   "cell_type": "markdown",
   "metadata": {
    "id": "6IvdfO3Okdk5"
   },
   "source": [
    "## Coleta de Dados\n"
   ]
  },
  {
   "cell_type": "code",
   "execution_count": 3,
   "metadata": {
    "colab": {
     "base_uri": "https://localhost:8080/",
     "height": 313
    },
    "id": "3RVkFScrlxkx",
    "outputId": "94fa66c0-9ead-410f-e671-f46ec78d4fcf"
   },
   "outputs": [
    {
     "data": {
      "text/html": [
       "<div>\n",
       "<style scoped>\n",
       "    .dataframe tbody tr th:only-of-type {\n",
       "        vertical-align: middle;\n",
       "    }\n",
       "\n",
       "    .dataframe tbody tr th {\n",
       "        vertical-align: top;\n",
       "    }\n",
       "\n",
       "    .dataframe thead th {\n",
       "        text-align: right;\n",
       "    }\n",
       "</style>\n",
       "<table border=\"1\" class=\"dataframe\">\n",
       "  <thead>\n",
       "    <tr style=\"text-align: right;\">\n",
       "      <th></th>\n",
       "      <th>CODIGO</th>\n",
       "      <th>NOME_FUNDO</th>\n",
       "      <th>TIPO_PRODUTO</th>\n",
       "      <th>CEDENTE</th>\n",
       "      <th>SACADO</th>\n",
       "      <th>LIMITE_CEDENTE</th>\n",
       "      <th>ESTADO_CEDENTE</th>\n",
       "      <th>ESTADO_SACADO</th>\n",
       "      <th>VENCIMENTO</th>\n",
       "      <th>DATA_EMISSAO</th>\n",
       "      <th>...</th>\n",
       "      <th>RISCO_13</th>\n",
       "      <th>RISCO_14</th>\n",
       "      <th>RISCO_15</th>\n",
       "      <th>RISCO_16</th>\n",
       "      <th>RISCO_17</th>\n",
       "      <th>RISCO_18</th>\n",
       "      <th>RISCO_19</th>\n",
       "      <th>RISCO_20</th>\n",
       "      <th>RISCO_21</th>\n",
       "      <th>STATUS_LIQ_TITULO</th>\n",
       "    </tr>\n",
       "  </thead>\n",
       "  <tbody>\n",
       "    <tr>\n",
       "      <th>0</th>\n",
       "      <td>1</td>\n",
       "      <td>Fundo 1</td>\n",
       "      <td>Produto 1</td>\n",
       "      <td>Cedente 2</td>\n",
       "      <td>Sacado 249</td>\n",
       "      <td>10000000</td>\n",
       "      <td>CE</td>\n",
       "      <td>SP</td>\n",
       "      <td>2018-03-18</td>\n",
       "      <td>2017-10-28</td>\n",
       "      <td>...</td>\n",
       "      <td>0.168124</td>\n",
       "      <td>0</td>\n",
       "      <td>0.066667</td>\n",
       "      <td>0.2</td>\n",
       "      <td>0.727965</td>\n",
       "      <td>0.738669</td>\n",
       "      <td>0.407407</td>\n",
       "      <td>0.860111</td>\n",
       "      <td>0.985155</td>\n",
       "      <td>EM_DIA</td>\n",
       "    </tr>\n",
       "    <tr>\n",
       "      <th>1</th>\n",
       "      <td>2</td>\n",
       "      <td>Fundo 2</td>\n",
       "      <td>Produto 1</td>\n",
       "      <td>Cedente 1</td>\n",
       "      <td>Sacado 1372</td>\n",
       "      <td>8035714</td>\n",
       "      <td>PA</td>\n",
       "      <td>MG</td>\n",
       "      <td>2018-06-24</td>\n",
       "      <td>2018-05-21</td>\n",
       "      <td>...</td>\n",
       "      <td>0.392065</td>\n",
       "      <td>0</td>\n",
       "      <td>0.266667</td>\n",
       "      <td>0.6</td>\n",
       "      <td>0.010041</td>\n",
       "      <td>0.012547</td>\n",
       "      <td>0.395062</td>\n",
       "      <td>0.698438</td>\n",
       "      <td>0.707374</td>\n",
       "      <td>EM_DIA</td>\n",
       "    </tr>\n",
       "    <tr>\n",
       "      <th>2</th>\n",
       "      <td>3</td>\n",
       "      <td>Fundo 1</td>\n",
       "      <td>Produto 1</td>\n",
       "      <td>Cedente 2</td>\n",
       "      <td>Sacado 346</td>\n",
       "      <td>10000000</td>\n",
       "      <td>CE</td>\n",
       "      <td>PR</td>\n",
       "      <td>2018-03-19</td>\n",
       "      <td>2017-11-29</td>\n",
       "      <td>...</td>\n",
       "      <td>0.109617</td>\n",
       "      <td>0</td>\n",
       "      <td>0.066667</td>\n",
       "      <td>0.2</td>\n",
       "      <td>0.327489</td>\n",
       "      <td>0.321123</td>\n",
       "      <td>0.395062</td>\n",
       "      <td>0.890059</td>\n",
       "      <td>0.987560</td>\n",
       "      <td>ATRASO</td>\n",
       "    </tr>\n",
       "    <tr>\n",
       "      <th>3</th>\n",
       "      <td>4</td>\n",
       "      <td>Fundo 2</td>\n",
       "      <td>Produto 1</td>\n",
       "      <td>Cedente 1</td>\n",
       "      <td>Sacado 585</td>\n",
       "      <td>8035714</td>\n",
       "      <td>PA</td>\n",
       "      <td>PA</td>\n",
       "      <td>2018-04-03</td>\n",
       "      <td>2018-02-14</td>\n",
       "      <td>...</td>\n",
       "      <td>0.415602</td>\n",
       "      <td>0</td>\n",
       "      <td>0.400000</td>\n",
       "      <td>0.6</td>\n",
       "      <td>0.012217</td>\n",
       "      <td>0.017485</td>\n",
       "      <td>0.419753</td>\n",
       "      <td>0.609827</td>\n",
       "      <td>0.906279</td>\n",
       "      <td>ATRASO</td>\n",
       "    </tr>\n",
       "    <tr>\n",
       "      <th>4</th>\n",
       "      <td>5</td>\n",
       "      <td>Fundo 1</td>\n",
       "      <td>Produto 1</td>\n",
       "      <td>Cedente 2</td>\n",
       "      <td>Sacado 2184</td>\n",
       "      <td>10000000</td>\n",
       "      <td>CE</td>\n",
       "      <td>RJ</td>\n",
       "      <td>2018-02-02</td>\n",
       "      <td>2017-11-03</td>\n",
       "      <td>...</td>\n",
       "      <td>0.168124</td>\n",
       "      <td>0</td>\n",
       "      <td>0.066667</td>\n",
       "      <td>0.2</td>\n",
       "      <td>0.727965</td>\n",
       "      <td>0.738669</td>\n",
       "      <td>0.407407</td>\n",
       "      <td>0.860111</td>\n",
       "      <td>0.368493</td>\n",
       "      <td>EM_DIA</td>\n",
       "    </tr>\n",
       "  </tbody>\n",
       "</table>\n",
       "<p>5 rows × 36 columns</p>\n",
       "</div>"
      ],
      "text/plain": [
       "   CODIGO NOME_FUNDO TIPO_PRODUTO    CEDENTE       SACADO  LIMITE_CEDENTE  \\\n",
       "0       1    Fundo 1    Produto 1  Cedente 2   Sacado 249        10000000   \n",
       "1       2    Fundo 2    Produto 1  Cedente 1  Sacado 1372         8035714   \n",
       "2       3    Fundo 1    Produto 1  Cedente 2   Sacado 346        10000000   \n",
       "3       4    Fundo 2    Produto 1  Cedente 1   Sacado 585         8035714   \n",
       "4       5    Fundo 1    Produto 1  Cedente 2  Sacado 2184        10000000   \n",
       "\n",
       "  ESTADO_CEDENTE ESTADO_SACADO  VENCIMENTO DATA_EMISSAO  ...  RISCO_13  \\\n",
       "0             CE            SP  2018-03-18   2017-10-28  ...  0.168124   \n",
       "1             PA            MG  2018-06-24   2018-05-21  ...  0.392065   \n",
       "2             CE            PR  2018-03-19   2017-11-29  ...  0.109617   \n",
       "3             PA            PA  2018-04-03   2018-02-14  ...  0.415602   \n",
       "4             CE            RJ  2018-02-02   2017-11-03  ...  0.168124   \n",
       "\n",
       "   RISCO_14  RISCO_15  RISCO_16  RISCO_17  RISCO_18  RISCO_19  RISCO_20  \\\n",
       "0         0  0.066667       0.2  0.727965  0.738669  0.407407  0.860111   \n",
       "1         0  0.266667       0.6  0.010041  0.012547  0.395062  0.698438   \n",
       "2         0  0.066667       0.2  0.327489  0.321123  0.395062  0.890059   \n",
       "3         0  0.400000       0.6  0.012217  0.017485  0.419753  0.609827   \n",
       "4         0  0.066667       0.2  0.727965  0.738669  0.407407  0.860111   \n",
       "\n",
       "   RISCO_21  STATUS_LIQ_TITULO  \n",
       "0  0.985155             EM_DIA  \n",
       "1  0.707374             EM_DIA  \n",
       "2  0.987560             ATRASO  \n",
       "3  0.906279             ATRASO  \n",
       "4  0.368493             EM_DIA  \n",
       "\n",
       "[5 rows x 36 columns]"
      ]
     },
     "execution_count": 3,
     "metadata": {},
     "output_type": "execute_result"
    }
   ],
   "source": [
    "df_titulos = pd.read_csv(\"BASE_TITULOS.txt\", sep=\"\\t\")\n",
    "df_titulos.head()"
   ]
  },
  {
   "cell_type": "markdown",
   "metadata": {
    "id": "ms5T_qyr35ik"
   },
   "source": [
    "# Indicadores dos clientes cedentes "
   ]
  },
  {
   "cell_type": "markdown",
   "metadata": {
    "id": "Iv3ILgSj3_Z0"
   },
   "source": [
    "### Indicador de Taxa de Pagamento por Cliente Cedente"
   ]
  },
  {
   "cell_type": "code",
   "execution_count": 4,
   "metadata": {
    "colab": {
     "base_uri": "https://localhost:8080/",
     "height": 0
    },
    "id": "9qEecsx0Qsnx",
    "outputId": "19d8e313-5f6e-484e-8bc4-8ed0df038dc5"
   },
   "outputs": [
    {
     "data": {
      "text/html": [
       "<div>\n",
       "<style scoped>\n",
       "    .dataframe tbody tr th:only-of-type {\n",
       "        vertical-align: middle;\n",
       "    }\n",
       "\n",
       "    .dataframe tbody tr th {\n",
       "        vertical-align: top;\n",
       "    }\n",
       "\n",
       "    .dataframe thead th {\n",
       "        text-align: right;\n",
       "    }\n",
       "</style>\n",
       "<table border=\"1\" class=\"dataframe\">\n",
       "  <thead>\n",
       "    <tr style=\"text-align: right;\">\n",
       "      <th></th>\n",
       "      <th>CEDENTE</th>\n",
       "      <th>STATUS_LIQ_TITULO</th>\n",
       "      <th>count</th>\n",
       "    </tr>\n",
       "  </thead>\n",
       "  <tbody>\n",
       "    <tr>\n",
       "      <th>0</th>\n",
       "      <td>Cedente 1</td>\n",
       "      <td>ATRASO</td>\n",
       "      <td>166</td>\n",
       "    </tr>\n",
       "    <tr>\n",
       "      <th>1</th>\n",
       "      <td>Cedente 1</td>\n",
       "      <td>EM_DIA</td>\n",
       "      <td>1335</td>\n",
       "    </tr>\n",
       "    <tr>\n",
       "      <th>2</th>\n",
       "      <td>Cedente 10</td>\n",
       "      <td>ATRASO</td>\n",
       "      <td>4</td>\n",
       "    </tr>\n",
       "    <tr>\n",
       "      <th>3</th>\n",
       "      <td>Cedente 10</td>\n",
       "      <td>EM_DIA</td>\n",
       "      <td>46</td>\n",
       "    </tr>\n",
       "    <tr>\n",
       "      <th>4</th>\n",
       "      <td>Cedente 11</td>\n",
       "      <td>ATRASO</td>\n",
       "      <td>18</td>\n",
       "    </tr>\n",
       "  </tbody>\n",
       "</table>\n",
       "</div>"
      ],
      "text/plain": [
       "      CEDENTE STATUS_LIQ_TITULO  count\n",
       "0   Cedente 1            ATRASO    166\n",
       "1   Cedente 1            EM_DIA   1335\n",
       "2  Cedente 10            ATRASO      4\n",
       "3  Cedente 10            EM_DIA     46\n",
       "4  Cedente 11            ATRASO     18"
      ]
     },
     "execution_count": 4,
     "metadata": {},
     "output_type": "execute_result"
    }
   ],
   "source": [
    "# criando um novo dataFrame com dados dos cedentes - quantidade de pagamentos em dia e com atraso\n",
    "df_indicadores_cedentes = df_titulos.groupby(['CEDENTE', 'STATUS_LIQ_TITULO'])['CODIGO'].agg(['count']).reset_index()\n",
    "df_indicadores_cedentes.head()"
   ]
  },
  {
   "cell_type": "code",
   "execution_count": 5,
   "metadata": {
    "colab": {
     "base_uri": "https://localhost:8080/",
     "height": 0
    },
    "id": "XNiSbBreKbsR",
    "outputId": "31adc198-37d2-4e51-b5c6-174778143924"
   },
   "outputs": [
    {
     "data": {
      "text/html": [
       "<div>\n",
       "<style scoped>\n",
       "    .dataframe tbody tr th:only-of-type {\n",
       "        vertical-align: middle;\n",
       "    }\n",
       "\n",
       "    .dataframe tbody tr th {\n",
       "        vertical-align: top;\n",
       "    }\n",
       "\n",
       "    .dataframe thead th {\n",
       "        text-align: right;\n",
       "    }\n",
       "</style>\n",
       "<table border=\"1\" class=\"dataframe\">\n",
       "  <thead>\n",
       "    <tr style=\"text-align: right;\">\n",
       "      <th>STATUS_LIQ_TITULO</th>\n",
       "      <th>CEDENTE</th>\n",
       "      <th>ATRASO</th>\n",
       "      <th>EM_DIA</th>\n",
       "    </tr>\n",
       "  </thead>\n",
       "  <tbody>\n",
       "    <tr>\n",
       "      <th>0</th>\n",
       "      <td>Cedente 1</td>\n",
       "      <td>166</td>\n",
       "      <td>1335</td>\n",
       "    </tr>\n",
       "    <tr>\n",
       "      <th>1</th>\n",
       "      <td>Cedente 10</td>\n",
       "      <td>4</td>\n",
       "      <td>46</td>\n",
       "    </tr>\n",
       "    <tr>\n",
       "      <th>2</th>\n",
       "      <td>Cedente 11</td>\n",
       "      <td>18</td>\n",
       "      <td>86</td>\n",
       "    </tr>\n",
       "    <tr>\n",
       "      <th>3</th>\n",
       "      <td>Cedente 12</td>\n",
       "      <td>4</td>\n",
       "      <td>103</td>\n",
       "    </tr>\n",
       "    <tr>\n",
       "      <th>4</th>\n",
       "      <td>Cedente 13</td>\n",
       "      <td>17</td>\n",
       "      <td>35</td>\n",
       "    </tr>\n",
       "  </tbody>\n",
       "</table>\n",
       "</div>"
      ],
      "text/plain": [
       "STATUS_LIQ_TITULO     CEDENTE  ATRASO  EM_DIA\n",
       "0                   Cedente 1     166    1335\n",
       "1                  Cedente 10       4      46\n",
       "2                  Cedente 11      18      86\n",
       "3                  Cedente 12       4     103\n",
       "4                  Cedente 13      17      35"
      ]
     },
     "execution_count": 5,
     "metadata": {},
     "output_type": "execute_result"
    }
   ],
   "source": [
    "# ATRASO e EM_DIA estão como linhas - queremos que sejam colunas\n",
    "# vamos pivotar as linhas de STATUS_LIQ_TITULO como colunas 'EM_DIA' e 'ATRASO' \n",
    "df_indicadores_cedentes = pd.pivot(df_indicadores_cedentes,\n",
    "                                  columns=['STATUS_LIQ_TITULO'],\n",
    "                                  values='count', index='CEDENTE').reset_index() \n",
    "df_indicadores_cedentes.head()  "
   ]
  },
  {
   "cell_type": "code",
   "execution_count": 6,
   "metadata": {
    "id": "UvnSE6eKT8UN"
   },
   "outputs": [],
   "source": [
    "# calculando a taxa de pagamento por cedente e o numero total de titulos por cedente\n",
    "df_indicadores_cedentes['TOTAL_TITULOS'] = df_indicadores_cedentes['ATRASO'] + df_indicadores_cedentes['EM_DIA']\n",
    "df_indicadores_cedentes['TAXA_PAGAMENTO_TITULOS'] = round(df_indicadores_cedentes['EM_DIA'] /  df_indicadores_cedentes['TOTAL_TITULOS'], 2)"
   ]
  },
  {
   "cell_type": "code",
   "execution_count": 7,
   "metadata": {},
   "outputs": [
    {
     "name": "stdout",
     "output_type": "stream",
     "text": [
      "Taxa de Pagamento média dos clientes cedentes: 74.7%\n"
     ]
    }
   ],
   "source": [
    "# taxa de pagamento média entre cedentes\n",
    "media_taxa_pagamento = 100*round(df_indicadores_cedentes.TAXA_PAGAMENTO_TITULOS.mean(), 3)\n",
    "print(f\"Taxa de Pagamento média dos clientes cedentes: {media_taxa_pagamento}%\")"
   ]
  },
  {
   "cell_type": "code",
   "execution_count": 8,
   "metadata": {
    "colab": {
     "base_uri": "https://localhost:8080/",
     "height": 0
    },
    "id": "tce2PbvvSNeA",
    "outputId": "aa869dce-40dd-46b4-e84f-054ffebe82cd",
    "scrolled": true
   },
   "outputs": [
    {
     "data": {
      "text/html": [
       "<div>\n",
       "<style scoped>\n",
       "    .dataframe tbody tr th:only-of-type {\n",
       "        vertical-align: middle;\n",
       "    }\n",
       "\n",
       "    .dataframe tbody tr th {\n",
       "        vertical-align: top;\n",
       "    }\n",
       "\n",
       "    .dataframe thead th {\n",
       "        text-align: right;\n",
       "    }\n",
       "</style>\n",
       "<table border=\"1\" class=\"dataframe\">\n",
       "  <thead>\n",
       "    <tr style=\"text-align: right;\">\n",
       "      <th>STATUS_LIQ_TITULO</th>\n",
       "      <th>CEDENTE</th>\n",
       "      <th>TOTAL_TITULOS</th>\n",
       "      <th>TAXA_PAGAMENTO_TITULOS</th>\n",
       "    </tr>\n",
       "  </thead>\n",
       "  <tbody>\n",
       "    <tr>\n",
       "      <th>3</th>\n",
       "      <td>Cedente 12</td>\n",
       "      <td>107</td>\n",
       "      <td>0.96</td>\n",
       "    </tr>\n",
       "    <tr>\n",
       "      <th>19</th>\n",
       "      <td>Cedente 5</td>\n",
       "      <td>385</td>\n",
       "      <td>0.93</td>\n",
       "    </tr>\n",
       "    <tr>\n",
       "      <th>1</th>\n",
       "      <td>Cedente 10</td>\n",
       "      <td>50</td>\n",
       "      <td>0.92</td>\n",
       "    </tr>\n",
       "    <tr>\n",
       "      <th>22</th>\n",
       "      <td>Cedente 8</td>\n",
       "      <td>150</td>\n",
       "      <td>0.91</td>\n",
       "    </tr>\n",
       "    <tr>\n",
       "      <th>23</th>\n",
       "      <td>Cedente 9</td>\n",
       "      <td>976</td>\n",
       "      <td>0.90</td>\n",
       "    </tr>\n",
       "    <tr>\n",
       "      <th>0</th>\n",
       "      <td>Cedente 1</td>\n",
       "      <td>1501</td>\n",
       "      <td>0.89</td>\n",
       "    </tr>\n",
       "    <tr>\n",
       "      <th>10</th>\n",
       "      <td>Cedente 19</td>\n",
       "      <td>459</td>\n",
       "      <td>0.88</td>\n",
       "    </tr>\n",
       "    <tr>\n",
       "      <th>16</th>\n",
       "      <td>Cedente 24</td>\n",
       "      <td>382</td>\n",
       "      <td>0.88</td>\n",
       "    </tr>\n",
       "    <tr>\n",
       "      <th>5</th>\n",
       "      <td>Cedente 14</td>\n",
       "      <td>181</td>\n",
       "      <td>0.87</td>\n",
       "    </tr>\n",
       "    <tr>\n",
       "      <th>21</th>\n",
       "      <td>Cedente 7</td>\n",
       "      <td>22</td>\n",
       "      <td>0.86</td>\n",
       "    </tr>\n",
       "    <tr>\n",
       "      <th>8</th>\n",
       "      <td>Cedente 17</td>\n",
       "      <td>1029</td>\n",
       "      <td>0.86</td>\n",
       "    </tr>\n",
       "    <tr>\n",
       "      <th>2</th>\n",
       "      <td>Cedente 11</td>\n",
       "      <td>104</td>\n",
       "      <td>0.83</td>\n",
       "    </tr>\n",
       "    <tr>\n",
       "      <th>17</th>\n",
       "      <td>Cedente 3</td>\n",
       "      <td>490</td>\n",
       "      <td>0.82</td>\n",
       "    </tr>\n",
       "    <tr>\n",
       "      <th>20</th>\n",
       "      <td>Cedente 6</td>\n",
       "      <td>77</td>\n",
       "      <td>0.82</td>\n",
       "    </tr>\n",
       "    <tr>\n",
       "      <th>7</th>\n",
       "      <td>Cedente 16</td>\n",
       "      <td>26</td>\n",
       "      <td>0.81</td>\n",
       "    </tr>\n",
       "    <tr>\n",
       "      <th>11</th>\n",
       "      <td>Cedente 2</td>\n",
       "      <td>2019</td>\n",
       "      <td>0.80</td>\n",
       "    </tr>\n",
       "    <tr>\n",
       "      <th>13</th>\n",
       "      <td>Cedente 21</td>\n",
       "      <td>152</td>\n",
       "      <td>0.76</td>\n",
       "    </tr>\n",
       "    <tr>\n",
       "      <th>14</th>\n",
       "      <td>Cedente 22</td>\n",
       "      <td>306</td>\n",
       "      <td>0.72</td>\n",
       "    </tr>\n",
       "    <tr>\n",
       "      <th>4</th>\n",
       "      <td>Cedente 13</td>\n",
       "      <td>52</td>\n",
       "      <td>0.67</td>\n",
       "    </tr>\n",
       "    <tr>\n",
       "      <th>9</th>\n",
       "      <td>Cedente 18</td>\n",
       "      <td>63</td>\n",
       "      <td>0.51</td>\n",
       "    </tr>\n",
       "    <tr>\n",
       "      <th>6</th>\n",
       "      <td>Cedente 15</td>\n",
       "      <td>160</td>\n",
       "      <td>0.48</td>\n",
       "    </tr>\n",
       "    <tr>\n",
       "      <th>15</th>\n",
       "      <td>Cedente 23</td>\n",
       "      <td>205</td>\n",
       "      <td>0.46</td>\n",
       "    </tr>\n",
       "    <tr>\n",
       "      <th>12</th>\n",
       "      <td>Cedente 20</td>\n",
       "      <td>510</td>\n",
       "      <td>0.27</td>\n",
       "    </tr>\n",
       "    <tr>\n",
       "      <th>18</th>\n",
       "      <td>Cedente 4</td>\n",
       "      <td>9</td>\n",
       "      <td>0.11</td>\n",
       "    </tr>\n",
       "  </tbody>\n",
       "</table>\n",
       "</div>"
      ],
      "text/plain": [
       "STATUS_LIQ_TITULO     CEDENTE  TOTAL_TITULOS  TAXA_PAGAMENTO_TITULOS\n",
       "3                  Cedente 12            107                    0.96\n",
       "19                  Cedente 5            385                    0.93\n",
       "1                  Cedente 10             50                    0.92\n",
       "22                  Cedente 8            150                    0.91\n",
       "23                  Cedente 9            976                    0.90\n",
       "0                   Cedente 1           1501                    0.89\n",
       "10                 Cedente 19            459                    0.88\n",
       "16                 Cedente 24            382                    0.88\n",
       "5                  Cedente 14            181                    0.87\n",
       "21                  Cedente 7             22                    0.86\n",
       "8                  Cedente 17           1029                    0.86\n",
       "2                  Cedente 11            104                    0.83\n",
       "17                  Cedente 3            490                    0.82\n",
       "20                  Cedente 6             77                    0.82\n",
       "7                  Cedente 16             26                    0.81\n",
       "11                  Cedente 2           2019                    0.80\n",
       "13                 Cedente 21            152                    0.76\n",
       "14                 Cedente 22            306                    0.72\n",
       "4                  Cedente 13             52                    0.67\n",
       "9                  Cedente 18             63                    0.51\n",
       "6                  Cedente 15            160                    0.48\n",
       "15                 Cedente 23            205                    0.46\n",
       "12                 Cedente 20            510                    0.27\n",
       "18                  Cedente 4              9                    0.11"
      ]
     },
     "execution_count": 8,
     "metadata": {},
     "output_type": "execute_result"
    }
   ],
   "source": [
    "df_indicadores_cedentes[['CEDENTE', 'TOTAL_TITULOS', 'TAXA_PAGAMENTO_TITULOS']].sort_values(by='TAXA_PAGAMENTO_TITULOS', ascending=False)"
   ]
  },
  {
   "cell_type": "markdown",
   "metadata": {
    "id": "EbHcD3d14zj6"
   },
   "source": [
    "Vemos que o cliente com a maior taxa de Pagamento é o Cedente 12."
   ]
  },
  {
   "cell_type": "code",
   "execution_count": 9,
   "metadata": {},
   "outputs": [
    {
     "data": {
      "image/png": "[encoded data removed]",
      "text/plain": [
       "<Figure size 864x288 with 1 Axes>"
      ]
     },
     "metadata": {
      "needs_background": "light"
     },
     "output_type": "display_data"
    }
   ],
   "source": [
    "plt.figure(figsize=(12,4))\n",
    "\n",
    "sns.barplot(x=df_indicadores_cedentes.CEDENTE, \n",
    "            y=df_indicadores_cedentes.TAXA_PAGAMENTO_TITULOS, \n",
    "            alpha=0.8)\n",
    "plt.title('Taxa de Pagamento por Clientes Cedentes')\n",
    "plt.hlines(df_indicadores_cedentes.TAXA_PAGAMENTO_TITULOS.mean(),-1, 25,color='r',linestyles=':', \n",
    "           label='Taxa de pagamento Média')\n",
    "plt.xticks(rotation=45)\n",
    "plt.legend()\n",
    "plt.tight_layout()\n",
    "plt.show()\n"
   ]
  },
  {
   "cell_type": "markdown",
   "metadata": {},
   "source": [
    "Neste gráfico temos uma visão dos clientes cedentes com taxas de pagamento acima e abaixo da média."
   ]
  },
  {
   "cell_type": "markdown",
   "metadata": {
    "id": "bfK7RRJPzPtn"
   },
   "source": [
    "### Indicador de receita gerada por clientes credentes"
   ]
  },
  {
   "cell_type": "code",
   "execution_count": 10,
   "metadata": {
    "id": "RGqhgt-L5nK0"
   },
   "outputs": [],
   "source": [
    "# armazenando dados da receita por cliente cedente em um novo DataFrame\n",
    "df_receita_cedente = df_titulos.groupby('CEDENTE')['VALOR_REAL'].agg(['sum']).reset_index()"
   ]
  },
  {
   "cell_type": "code",
   "execution_count": 11,
   "metadata": {
    "id": "VK3u4rOg5sHC"
   },
   "outputs": [],
   "source": [
    "# renomeando nome da coluna\n",
    "df_receita_cedente = df_receita_cedente.rename(columns={'sum':'RECEITA'})"
   ]
  },
  {
   "cell_type": "code",
   "execution_count": 12,
   "metadata": {},
   "outputs": [
    {
     "name": "stdout",
     "output_type": "stream",
     "text": [
      "Receita média dos clientes cedentes: R$2524006.96\n"
     ]
    }
   ],
   "source": [
    "# receita média dos cedentes\n",
    "media_receita = round(df_receita_cedente.RECEITA.mean(), 2)\n",
    "print(f\"Receita média dos clientes cedentes: R${media_receita}\")"
   ]
  },
  {
   "cell_type": "code",
   "execution_count": 117,
   "metadata": {
    "colab": {
     "base_uri": "https://localhost:8080/",
     "height": 0
    },
    "id": "gteWartN76Iy",
    "outputId": "c717369d-d95e-4a46-e8c5-4804112a4d94"
   },
   "outputs": [
    {
     "data": {
      "text/html": [
       "<div>\n",
       "<style scoped>\n",
       "    .dataframe tbody tr th:only-of-type {\n",
       "        vertical-align: middle;\n",
       "    }\n",
       "\n",
       "    .dataframe tbody tr th {\n",
       "        vertical-align: top;\n",
       "    }\n",
       "\n",
       "    .dataframe thead th {\n",
       "        text-align: right;\n",
       "    }\n",
       "</style>\n",
       "<table border=\"1\" class=\"dataframe\">\n",
       "  <thead>\n",
       "    <tr style=\"text-align: right;\">\n",
       "      <th></th>\n",
       "      <th>CEDENTE</th>\n",
       "      <th>RECEITA</th>\n",
       "    </tr>\n",
       "  </thead>\n",
       "  <tbody>\n",
       "    <tr>\n",
       "      <th>0</th>\n",
       "      <td>Cedente 1</td>\n",
       "      <td>10280760.20</td>\n",
       "    </tr>\n",
       "    <tr>\n",
       "      <th>17</th>\n",
       "      <td>Cedente 3</td>\n",
       "      <td>9011644.10</td>\n",
       "    </tr>\n",
       "    <tr>\n",
       "      <th>4</th>\n",
       "      <td>Cedente 13</td>\n",
       "      <td>5329983.11</td>\n",
       "    </tr>\n",
       "    <tr>\n",
       "      <th>23</th>\n",
       "      <td>Cedente 9</td>\n",
       "      <td>4987095.02</td>\n",
       "    </tr>\n",
       "    <tr>\n",
       "      <th>11</th>\n",
       "      <td>Cedente 2</td>\n",
       "      <td>4639191.77</td>\n",
       "    </tr>\n",
       "    <tr>\n",
       "      <th>1</th>\n",
       "      <td>Cedente 10</td>\n",
       "      <td>4191119.98</td>\n",
       "    </tr>\n",
       "    <tr>\n",
       "      <th>2</th>\n",
       "      <td>Cedente 11</td>\n",
       "      <td>3559953.22</td>\n",
       "    </tr>\n",
       "    <tr>\n",
       "      <th>10</th>\n",
       "      <td>Cedente 19</td>\n",
       "      <td>3129771.15</td>\n",
       "    </tr>\n",
       "    <tr>\n",
       "      <th>16</th>\n",
       "      <td>Cedente 24</td>\n",
       "      <td>3044420.31</td>\n",
       "    </tr>\n",
       "    <tr>\n",
       "      <th>21</th>\n",
       "      <td>Cedente 7</td>\n",
       "      <td>1710127.21</td>\n",
       "    </tr>\n",
       "    <tr>\n",
       "      <th>19</th>\n",
       "      <td>Cedente 5</td>\n",
       "      <td>1709214.75</td>\n",
       "    </tr>\n",
       "    <tr>\n",
       "      <th>22</th>\n",
       "      <td>Cedente 8</td>\n",
       "      <td>1294294.97</td>\n",
       "    </tr>\n",
       "    <tr>\n",
       "      <th>5</th>\n",
       "      <td>Cedente 14</td>\n",
       "      <td>1236814.87</td>\n",
       "    </tr>\n",
       "    <tr>\n",
       "      <th>18</th>\n",
       "      <td>Cedente 4</td>\n",
       "      <td>1235611.34</td>\n",
       "    </tr>\n",
       "    <tr>\n",
       "      <th>6</th>\n",
       "      <td>Cedente 15</td>\n",
       "      <td>1207862.29</td>\n",
       "    </tr>\n",
       "    <tr>\n",
       "      <th>3</th>\n",
       "      <td>Cedente 12</td>\n",
       "      <td>1143889.00</td>\n",
       "    </tr>\n",
       "    <tr>\n",
       "      <th>8</th>\n",
       "      <td>Cedente 17</td>\n",
       "      <td>1094160.68</td>\n",
       "    </tr>\n",
       "    <tr>\n",
       "      <th>14</th>\n",
       "      <td>Cedente 22</td>\n",
       "      <td>328666.04</td>\n",
       "    </tr>\n",
       "    <tr>\n",
       "      <th>20</th>\n",
       "      <td>Cedente 6</td>\n",
       "      <td>321183.80</td>\n",
       "    </tr>\n",
       "    <tr>\n",
       "      <th>12</th>\n",
       "      <td>Cedente 20</td>\n",
       "      <td>309174.65</td>\n",
       "    </tr>\n",
       "    <tr>\n",
       "      <th>15</th>\n",
       "      <td>Cedente 23</td>\n",
       "      <td>270892.26</td>\n",
       "    </tr>\n",
       "    <tr>\n",
       "      <th>7</th>\n",
       "      <td>Cedente 16</td>\n",
       "      <td>247306.28</td>\n",
       "    </tr>\n",
       "    <tr>\n",
       "      <th>13</th>\n",
       "      <td>Cedente 21</td>\n",
       "      <td>214458.04</td>\n",
       "    </tr>\n",
       "    <tr>\n",
       "      <th>9</th>\n",
       "      <td>Cedente 18</td>\n",
       "      <td>78572.09</td>\n",
       "    </tr>\n",
       "  </tbody>\n",
       "</table>\n",
       "</div>"
      ],
      "text/plain": [
       "       CEDENTE      RECEITA\n",
       "0    Cedente 1  10280760.20\n",
       "17   Cedente 3   9011644.10\n",
       "4   Cedente 13   5329983.11\n",
       "23   Cedente 9   4987095.02\n",
       "11   Cedente 2   4639191.77\n",
       "1   Cedente 10   4191119.98\n",
       "2   Cedente 11   3559953.22\n",
       "10  Cedente 19   3129771.15\n",
       "16  Cedente 24   3044420.31\n",
       "21   Cedente 7   1710127.21\n",
       "19   Cedente 5   1709214.75\n",
       "22   Cedente 8   1294294.97\n",
       "5   Cedente 14   1236814.87\n",
       "18   Cedente 4   1235611.34\n",
       "6   Cedente 15   1207862.29\n",
       "3   Cedente 12   1143889.00\n",
       "8   Cedente 17   1094160.68\n",
       "14  Cedente 22    328666.04\n",
       "20   Cedente 6    321183.80\n",
       "12  Cedente 20    309174.65\n",
       "15  Cedente 23    270892.26\n",
       "7   Cedente 16    247306.28\n",
       "13  Cedente 21    214458.04\n",
       "9   Cedente 18     78572.09"
      ]
     },
     "metadata": {},
     "output_type": "display_data"
    }
   ],
   "source": [
    "display(df_receita_cedente.sort_values(by='RECEITA', ascending=False))"
   ]
  },
  {
   "cell_type": "markdown",
   "metadata": {
    "id": "QwGl3HTu5Y2L"
   },
   "source": [
    "O cliente cedente com maior receita gerada é o Cedente 1\n"
   ]
  },
  {
   "cell_type": "code",
   "execution_count": 13,
   "metadata": {},
   "outputs": [
    {
     "data": {
      "image/png": "[encoded data removed]",
      "text/plain": [
       "<Figure size 864x288 with 1 Axes>"
      ]
     },
     "metadata": {
      "needs_background": "light"
     },
     "output_type": "display_data"
    }
   ],
   "source": [
    "plt.figure(figsize=(12,4))\n",
    "\n",
    "sns.barplot(x=df_receita_cedente.CEDENTE, \n",
    "            y=df_receita_cedente.RECEITA, \n",
    "            alpha=0.8)\n",
    "plt.title('Receita por Clientes Cedentes')\n",
    "plt.hlines(df_receita_cedente.RECEITA.mean(),-1, 25,color='r',linestyles=':', label='Receita Média')\n",
    "plt.xticks(rotation=45)\n",
    "plt.legend()\n",
    "plt.tight_layout()\n",
    "plt.show()\n"
   ]
  },
  {
   "cell_type": "markdown",
   "metadata": {},
   "source": [
    "A maior parte dos clientes cedentes tem receitas abaixo da média. Vemos que poucos clientes cedentes geraram receitas mais altas, e por isso o valor da média foi maior. "
   ]
  },
  {
   "cell_type": "markdown",
   "metadata": {
    "id": "bO0jW5bh8VhK"
   },
   "source": [
    "### Visão Geral dos indicadores por Cedentes"
   ]
  },
  {
   "cell_type": "code",
   "execution_count": 14,
   "metadata": {
    "id": "jgnaoQWX6mez"
   },
   "outputs": [],
   "source": [
    "# unificando coluna de receita no dataframe com os outros indicadores de cedentes\n",
    "df_indicadores_cedentes = pd.merge(df_indicadores_cedentes, \n",
    "                         df_receita_cedente, \n",
    "                         on=['CEDENTE'])\n"
   ]
  },
  {
   "cell_type": "code",
   "execution_count": 16,
   "metadata": {
    "colab": {
     "base_uri": "https://localhost:8080/",
     "height": 0
    },
    "id": "dofK4T2M8h5Z",
    "outputId": "f22b62c2-eff3-4d12-f6db-d9c220a822fe"
   },
   "outputs": [
    {
     "data": {
      "text/html": [
       "<div>\n",
       "<style scoped>\n",
       "    .dataframe tbody tr th:only-of-type {\n",
       "        vertical-align: middle;\n",
       "    }\n",
       "\n",
       "    .dataframe tbody tr th {\n",
       "        vertical-align: top;\n",
       "    }\n",
       "\n",
       "    .dataframe thead th {\n",
       "        text-align: right;\n",
       "    }\n",
       "</style>\n",
       "<table border=\"1\" class=\"dataframe\">\n",
       "  <thead>\n",
       "    <tr style=\"text-align: right;\">\n",
       "      <th></th>\n",
       "      <th>CEDENTE</th>\n",
       "      <th>ATRASO</th>\n",
       "      <th>EM_DIA</th>\n",
       "      <th>TOTAL_TITULOS</th>\n",
       "      <th>TAXA_PAGAMENTO_TITULOS</th>\n",
       "      <th>RECEITA</th>\n",
       "    </tr>\n",
       "  </thead>\n",
       "  <tbody>\n",
       "    <tr>\n",
       "      <th>0</th>\n",
       "      <td>Cedente 1</td>\n",
       "      <td>166</td>\n",
       "      <td>1335</td>\n",
       "      <td>1501</td>\n",
       "      <td>0.89</td>\n",
       "      <td>10280760.20</td>\n",
       "    </tr>\n",
       "    <tr>\n",
       "      <th>17</th>\n",
       "      <td>Cedente 3</td>\n",
       "      <td>87</td>\n",
       "      <td>403</td>\n",
       "      <td>490</td>\n",
       "      <td>0.82</td>\n",
       "      <td>9011644.10</td>\n",
       "    </tr>\n",
       "    <tr>\n",
       "      <th>4</th>\n",
       "      <td>Cedente 13</td>\n",
       "      <td>17</td>\n",
       "      <td>35</td>\n",
       "      <td>52</td>\n",
       "      <td>0.67</td>\n",
       "      <td>5329983.11</td>\n",
       "    </tr>\n",
       "    <tr>\n",
       "      <th>23</th>\n",
       "      <td>Cedente 9</td>\n",
       "      <td>95</td>\n",
       "      <td>881</td>\n",
       "      <td>976</td>\n",
       "      <td>0.90</td>\n",
       "      <td>4987095.02</td>\n",
       "    </tr>\n",
       "    <tr>\n",
       "      <th>11</th>\n",
       "      <td>Cedente 2</td>\n",
       "      <td>410</td>\n",
       "      <td>1609</td>\n",
       "      <td>2019</td>\n",
       "      <td>0.80</td>\n",
       "      <td>4639191.77</td>\n",
       "    </tr>\n",
       "  </tbody>\n",
       "</table>\n",
       "</div>"
      ],
      "text/plain": [
       "       CEDENTE  ATRASO  EM_DIA  TOTAL_TITULOS  TAXA_PAGAMENTO_TITULOS  \\\n",
       "0    Cedente 1     166    1335           1501                    0.89   \n",
       "17   Cedente 3      87     403            490                    0.82   \n",
       "4   Cedente 13      17      35             52                    0.67   \n",
       "23   Cedente 9      95     881            976                    0.90   \n",
       "11   Cedente 2     410    1609           2019                    0.80   \n",
       "\n",
       "        RECEITA  \n",
       "0   10280760.20  \n",
       "17   9011644.10  \n",
       "4    5329983.11  \n",
       "23   4987095.02  \n",
       "11   4639191.77  "
      ]
     },
     "metadata": {},
     "output_type": "display_data"
    }
   ],
   "source": [
    "display(df_indicadores_cedentes.sort_values(by='RECEITA', ascending=False).head())"
   ]
  },
  {
   "cell_type": "markdown",
   "metadata": {
    "id": "L4Zan_zq6h6Y"
   },
   "source": [
    "Nesta tabela com os 5 clientes cedentes que geraram mais receitas, vemos que um dos clientes (Cedente 13) tem uma taxa de pagamento bem abaixo da média de 74,7%."
   ]
  },
  {
   "cell_type": "code",
   "execution_count": 17,
   "metadata": {
    "colab": {
     "base_uri": "https://localhost:8080/",
     "height": 0
    },
    "id": "pF_siuWd9Xoq",
    "outputId": "46db927b-943f-4781-8790-620e6ac43f36"
   },
   "outputs": [
    {
     "data": {
      "image/png": "[encoded data removed]",
      "text/plain": [
       "<Figure size 1080x432 with 3 Axes>"
      ]
     },
     "metadata": {
      "needs_background": "light"
     },
     "output_type": "display_data"
    }
   ],
   "source": [
    "# gerando graficos para analisar as distribuções dos indicadores dos cedentes\n",
    "plt.figure(figsize=(15,6))\n",
    "\n",
    "plt.subplot(1 , 3 , 1)\n",
    "sns.histplot(data=df_indicadores_cedentes, x='TOTAL_TITULOS', )\n",
    "plt.title('Distribuição do número total de títulos')\n",
    "\n",
    "plt.subplot(1 , 3 , 2)\n",
    "sns.histplot(data=df_indicadores_cedentes, x='TAXA_PAGAMENTO_TITULOS')\n",
    "plt.title('Distribuição da Taxa de Pagamento')\n",
    "\n",
    "plt.subplot(1 , 3 , 3)\n",
    "sns.histplot(data=df_indicadores_cedentes, x='RECEITA')\n",
    "plt.title('Distribuição da Receita')\n",
    "plt.show()\n"
   ]
  },
  {
   "cell_type": "markdown",
   "metadata": {
    "id": "LyiheUKq7Ocx"
   },
   "source": [
    "Notamos que muitos clientes cedentes tem um número menor de títulos, ao passo que grande parte deles apresentam uma taxa de pagamento mais alta.\n",
    "\n",
    "Olhando para a receita, temos um grupo bem concentrado com receitas menores em relação aos demais."
   ]
  },
  {
   "cell_type": "code",
   "execution_count": 18,
   "metadata": {
    "colab": {
     "base_uri": "https://localhost:8080/",
     "height": 0
    },
    "id": "xO_4dcKjywjh",
    "outputId": "a079b01b-3bfe-479b-8527-d7bfd9967bba"
   },
   "outputs": [
    {
     "data": {
      "image/png": "[encoded data removed]",
      "text/plain": [
       "<Figure size 864x432 with 1 Axes>"
      ]
     },
     "metadata": {
      "needs_background": "light"
     },
     "output_type": "display_data"
    }
   ],
   "source": [
    "# vamos analisar as correlações entre os indicadores\n",
    "# grafico de pontos flutuantes da Receita vs taxa de pagamento \n",
    "plt.figure(figsize=(12,6))\n",
    "plt.scatter(x='RECEITA',y = 'TAXA_PAGAMENTO_TITULOS' ,\n",
    "            data = df_indicadores_cedentes, s = 200, alpha = 0.5)\n",
    "plt.xlabel('RECEITA')\n",
    "plt.ylabel('TAXA_PAGAMENTO_TITULOS') \n",
    "\n",
    "plt.title('Receita vs Taxa de Pagamento')\n",
    "plt.legend()\n",
    "plt.show()"
   ]
  },
  {
   "cell_type": "markdown",
   "metadata": {
    "id": "45TWg6Ps8LP0"
   },
   "source": [
    "Este gráfico mostra maior concentração de clientes com receitas menores e que pagam os títulos em dia com mais frequencia."
   ]
  },
  {
   "cell_type": "code",
   "execution_count": 19,
   "metadata": {
    "colab": {
     "base_uri": "https://localhost:8080/",
     "height": 0
    },
    "id": "LB4QxpHUy6So",
    "outputId": "a12a7ba7-31c2-43b1-dc32-1661c6b0d996"
   },
   "outputs": [
    {
     "data": {
      "image/png": "[encoded data removed]",
      "text/plain": [
       "<Figure size 864x432 with 1 Axes>"
      ]
     },
     "metadata": {
      "needs_background": "light"
     },
     "output_type": "display_data"
    }
   ],
   "source": [
    "# grafico de pontos flutuantes do total de titulos vs taxa de pagamento\n",
    "plt.figure(figsize=(12,6))\n",
    "plt.scatter(x='TOTAL_TITULOS',y = 'TAXA_PAGAMENTO_TITULOS' ,\n",
    "            data = df_indicadores_cedentes, s = 200, alpha = 0.5)\n",
    "plt.xlabel('TOTAL_TITULOS')\n",
    "plt.ylabel('TAXA_PAGAMENTO_TITULOS') \n",
    "\n",
    "plt.title('TOTAL_TITULOS vs Taxa de Pagamento')\n",
    "plt.legend()\n",
    "plt.show()"
   ]
  },
  {
   "cell_type": "markdown",
   "metadata": {
    "id": "E23C1jjq9uvH"
   },
   "source": [
    "Novamente temos um comportamento semelhante, com clientes mais concentrados na área de taxa de pagamento alta e menos títulos.\n",
    "\n",
    "O perfil de clientes com altas receitas geradas e altas taxas de pagamento é mais restrito, ou seja, poucos clientes se encaixam nesse perfil."
   ]
  },
  {
   "cell_type": "markdown",
   "metadata": {
    "id": "r0WGr2dmC4E0"
   },
   "source": [
    "# Segmentação de clientes cedentes"
   ]
  },
  {
   "cell_type": "markdown",
   "metadata": {
    "id": "83BVgjfgfzam"
   },
   "source": [
    "Para a realização da segmentação dos clientes optamos pelo método K-means. \n",
    "\n",
    "O método K-means agrupa dados que compartilham características importantes e parecidas. Basicamente, o algoritmo encontra uma boa solução para o processo de clusterização em que os dados do grupo são mais semelhantes entre si, do que comparados com outro grupo.\n",
    "\n",
    "Optamos pelo k-means por ele ser escalável e eficiente. Além disso, a literatura mostra que frequentemente, após as iterações do algoritmo, o mesmo termina num local ótimo, ou seja, encontra uma solução ótima para o problema de clusterização\n",
    "\n",
    "A segmentação foi realizada com base nos indicadores de Taxa de Pagamento e Receitas\n"
   ]
  },
  {
   "cell_type": "markdown",
   "metadata": {
    "id": "jUg1bYpnDHyu"
   },
   "source": [
    "## Determinando o número ideal de clusters\n",
    "A técnica K-means necessita que o numero *K* de clusters seja informado com antecedencia.\n",
    "\n",
    "Este valor pode ser obtido avaliando e minimizando as distâncias entre os cluesters com o método Elbow.\n",
    "\n",
    "Resumidamente, está técnica verifica a soma das distâncias entre os clusters conforme aumentamos o número de clusters analisados. \n",
    "\n",
    "Quando há uma estabilização das distâncias, mesmo aumentando o número de clusters, temos o indicativo do número ótimo de clusters. "
   ]
  },
  {
   "cell_type": "code",
   "execution_count": 20,
   "metadata": {
    "id": "0TeEwWrTDFuu"
   },
   "outputs": [
    {
     "name": "stderr",
     "output_type": "stream",
     "text": [
      "C:\\Users\\PICHAU\\anaconda3\\lib\\site-packages\\sklearn\\cluster\\_kmeans.py:881: UserWarning: KMeans is known to have a memory leak on Windows with MKL, when there are less chunks than available threads. You can avoid it by setting the environment variable OMP_NUM_THREADS=1.\n",
      "  warnings.warn(\n"
     ]
    }
   ],
   "source": [
    "# Selecionando o número de clusters através do método Elbow (Soma das distâncias quadráticas intra clusters):\n",
    "X_treino_segmentacao = df_indicadores_cedentes[['RECEITA' , 'TAXA_PAGAMENTO_TITULOS']].iloc[: , :].values\n",
    "inertia = []          # Lista para Soma das distâncias quadráticas intra cluster.\n",
    "\n",
    "# treinamento do modelo com abordagem não-supervisionada - otimizando o numero ideal de clusters\n",
    "# verificando a metrica de soma das distancias dos clusters para n clusters (1 até 11)\n",
    "for n in range(1 , 11):\n",
    "    modelo_kmeans = (KMeans(n_clusters = n))\n",
    "    modelo_kmeans.fit(X_treino_segmentacao)\n",
    "    inertia.append(modelo_kmeans.inertia_)"
   ]
  },
  {
   "cell_type": "code",
   "execution_count": 21,
   "metadata": {
    "colab": {
     "base_uri": "https://localhost:8080/",
     "height": 398
    },
    "id": "QUFSbAuyEWnd",
    "outputId": "71dca05e-8855-4b1f-bb88-01c6696660ca"
   },
   "outputs": [
    {
     "data": {
      "image/png": "[encoded data removed]",
      "text/plain": [
       "<Figure size 864x432 with 1 Axes>"
      ]
     },
     "metadata": {
      "needs_background": "light"
     },
     "output_type": "display_data"
    }
   ],
   "source": [
    "plt.figure(figsize=(12,6))\n",
    "plt.plot(np.arange(1 , 11) , inertia , 'o')\n",
    "plt.plot(np.arange(1 , 11) , inertia , '-' , alpha = 0.5)\n",
    "plt.xlabel('Número de Clusters')\n",
    "plt.ylabel('Soma das Distâncias intra Clusters')\n",
    "plt.show()"
   ]
  },
  {
   "cell_type": "markdown",
   "metadata": {
    "id": "TEBnf59YIFNb"
   },
   "source": [
    "É importante notar que a partir de 3 cluesters, a métrica de distância entre os clusters começou a convergir para o valor ótimo de clusters.\n",
    "\n",
    "Dito isso, temos que o número de segmentos de clientes é 3."
   ]
  },
  {
   "cell_type": "markdown",
   "metadata": {
    "id": "jhuTKQd9FRSi"
   },
   "source": [
    "### Testando do modelo"
   ]
  },
  {
   "cell_type": "code",
   "execution_count": 27,
   "metadata": {
    "colab": {
     "base_uri": "https://localhost:8080/"
    },
    "id": "DBGlCLUMF9yQ",
    "outputId": "405ab64d-f970-4010-a3ed-a3cf10ae3812"
   },
   "outputs": [
    {
     "data": {
      "text/plain": [
       "KMeans(n_clusters=3, n_jobs=None, precompute_distances='auto')"
      ]
     },
     "execution_count": 27,
     "metadata": {},
     "output_type": "execute_result"
    }
   ],
   "source": [
    "# 3 clusters de clientes cedentes\n",
    "modelo_kmeans = (KMeans(n_clusters = 3))\n",
    "modelo_kmeans.fit(X_treino_segmentacao)\n",
    "\n",
    "# testando o modelo com os parametros determinados\n",
    "KMeans(algorithm='auto', copy_x=True, init='k-means++', max_iter=300,\n",
    "       n_clusters=3, n_init=10, n_jobs=None, precompute_distances='auto',\n",
    "       random_state=None, tol=0.0001, verbose=0)"
   ]
  },
  {
   "cell_type": "markdown",
   "metadata": {
    "id": "fUo1tssQHVzx"
   },
   "source": [
    "## Gráfico dos clusters de clientes cedentes"
   ]
  },
  {
   "cell_type": "code",
   "execution_count": 28,
   "metadata": {
    "colab": {
     "base_uri": "https://localhost:8080/",
     "height": 294
    },
    "id": "30Ty5pLLHU5I",
    "outputId": "bf90fa71-7c04-451f-a112-3bf10465c00b"
   },
   "outputs": [
    {
     "data": {
      "image/png": "[encoded data removed]",
      "text/plain": [
       "<Figure size 432x288 with 1 Axes>"
      ]
     },
     "metadata": {
      "needs_background": "light"
     },
     "output_type": "display_data"
    }
   ],
   "source": [
    "plt.scatter(X_treino_segmentacao[:, 0], X_treino_segmentacao[:,1], s = 100, c = modelo_kmeans.labels_)\n",
    "plt.scatter(modelo_kmeans.cluster_centers_[:, 0], modelo_kmeans.cluster_centers_[:, 1], s = 300, c = 'red',label = 'Cluster')\n",
    "plt.title('Segmentação dos clientes cedentes')\n",
    "plt.xlabel('Receita (R$)')\n",
    "plt.ylabel('Taxa de Pagamento')\n",
    "plt.legend()\n",
    "\n",
    "plt.show()"
   ]
  },
  {
   "cell_type": "markdown",
   "metadata": {
    "id": "zs7myJrlJkK3"
   },
   "source": [
    "## Entendendo os perfis dos clientes cedentes\n",
    "\n",
    "Vemos os agrupamentos de clientes nas regiões dos clusters inferidos pelo algoritmo K-means.\n",
    "\n",
    "Analisando os clusters apresentados pelo método K-means, no **cluster 0** temos clientes com perfil de taxas de pagamento próximas da média de 74,7% e com receitas menores.\n",
    "\n",
    "No outro segmento, tido como **cluster 1**, temos clientes com o perfil de taxas de pagamento um pouco acima da média de 74,7% e receitas maiores.\n",
    "\n",
    "Por fim, no **cluster 2** temos um segmento de clientes taxas de pagamento acima da média e receitas altas."
   ]
  },
  {
   "cell_type": "markdown",
   "metadata": {
    "id": "XYyuwJbQY_rT"
   },
   "source": [
    "## Incluindo cluster segmantado no DataFrame de indicadores dos cedentes "
   ]
  },
  {
   "cell_type": "code",
   "execution_count": 29,
   "metadata": {
    "colab": {
     "base_uri": "https://localhost:8080/",
     "height": 206
    },
    "id": "UFXGmsv8ZGYy",
    "outputId": "fc0b737b-8ce1-4f59-9b34-76e217ae0082",
    "scrolled": true
   },
   "outputs": [
    {
     "data": {
      "text/html": [
       "<div>\n",
       "<style scoped>\n",
       "    .dataframe tbody tr th:only-of-type {\n",
       "        vertical-align: middle;\n",
       "    }\n",
       "\n",
       "    .dataframe tbody tr th {\n",
       "        vertical-align: top;\n",
       "    }\n",
       "\n",
       "    .dataframe thead th {\n",
       "        text-align: right;\n",
       "    }\n",
       "</style>\n",
       "<table border=\"1\" class=\"dataframe\">\n",
       "  <thead>\n",
       "    <tr style=\"text-align: right;\">\n",
       "      <th></th>\n",
       "      <th>CEDENTE</th>\n",
       "      <th>ATRASO</th>\n",
       "      <th>EM_DIA</th>\n",
       "      <th>TOTAL_TITULOS</th>\n",
       "      <th>TAXA_PAGAMENTO_TITULOS</th>\n",
       "      <th>RECEITA</th>\n",
       "      <th>clusters</th>\n",
       "    </tr>\n",
       "  </thead>\n",
       "  <tbody>\n",
       "    <tr>\n",
       "      <th>0</th>\n",
       "      <td>Cedente 1</td>\n",
       "      <td>166</td>\n",
       "      <td>1335</td>\n",
       "      <td>1501</td>\n",
       "      <td>0.89</td>\n",
       "      <td>10280760.20</td>\n",
       "      <td>2</td>\n",
       "    </tr>\n",
       "    <tr>\n",
       "      <th>1</th>\n",
       "      <td>Cedente 10</td>\n",
       "      <td>4</td>\n",
       "      <td>46</td>\n",
       "      <td>50</td>\n",
       "      <td>0.92</td>\n",
       "      <td>4191119.98</td>\n",
       "      <td>1</td>\n",
       "    </tr>\n",
       "    <tr>\n",
       "      <th>2</th>\n",
       "      <td>Cedente 11</td>\n",
       "      <td>18</td>\n",
       "      <td>86</td>\n",
       "      <td>104</td>\n",
       "      <td>0.83</td>\n",
       "      <td>3559953.22</td>\n",
       "      <td>1</td>\n",
       "    </tr>\n",
       "    <tr>\n",
       "      <th>3</th>\n",
       "      <td>Cedente 12</td>\n",
       "      <td>4</td>\n",
       "      <td>103</td>\n",
       "      <td>107</td>\n",
       "      <td>0.96</td>\n",
       "      <td>1143889.00</td>\n",
       "      <td>0</td>\n",
       "    </tr>\n",
       "    <tr>\n",
       "      <th>4</th>\n",
       "      <td>Cedente 13</td>\n",
       "      <td>17</td>\n",
       "      <td>35</td>\n",
       "      <td>52</td>\n",
       "      <td>0.67</td>\n",
       "      <td>5329983.11</td>\n",
       "      <td>1</td>\n",
       "    </tr>\n",
       "  </tbody>\n",
       "</table>\n",
       "</div>"
      ],
      "text/plain": [
       "      CEDENTE  ATRASO  EM_DIA  TOTAL_TITULOS  TAXA_PAGAMENTO_TITULOS  \\\n",
       "0   Cedente 1     166    1335           1501                    0.89   \n",
       "1  Cedente 10       4      46             50                    0.92   \n",
       "2  Cedente 11      18      86            104                    0.83   \n",
       "3  Cedente 12       4     103            107                    0.96   \n",
       "4  Cedente 13      17      35             52                    0.67   \n",
       "\n",
       "       RECEITA  clusters  \n",
       "0  10280760.20         2  \n",
       "1   4191119.98         1  \n",
       "2   3559953.22         1  \n",
       "3   1143889.00         0  \n",
       "4   5329983.11         1  "
      ]
     },
     "execution_count": 29,
     "metadata": {},
     "output_type": "execute_result"
    }
   ],
   "source": [
    "df_indicadores_cedentes[\"clusters\"] = modelo_kmeans.labels_\n",
    "df_indicadores_cedentes.head()"
   ]
  },
  {
   "cell_type": "code",
   "execution_count": 30,
   "metadata": {
    "colab": {
     "base_uri": "https://localhost:8080/",
     "height": 801
    },
    "id": "_DeaD15FaLpW",
    "outputId": "37379f74-10f6-4b09-a324-92556f907011"
   },
   "outputs": [
    {
     "data": {
      "text/html": [
       "<div>\n",
       "<style scoped>\n",
       "    .dataframe tbody tr th:only-of-type {\n",
       "        vertical-align: middle;\n",
       "    }\n",
       "\n",
       "    .dataframe tbody tr th {\n",
       "        vertical-align: top;\n",
       "    }\n",
       "\n",
       "    .dataframe thead th {\n",
       "        text-align: right;\n",
       "    }\n",
       "</style>\n",
       "<table border=\"1\" class=\"dataframe\">\n",
       "  <thead>\n",
       "    <tr style=\"text-align: right;\">\n",
       "      <th></th>\n",
       "      <th>CEDENTE</th>\n",
       "      <th>ATRASO</th>\n",
       "      <th>EM_DIA</th>\n",
       "      <th>TOTAL_TITULOS</th>\n",
       "      <th>TAXA_PAGAMENTO_TITULOS</th>\n",
       "      <th>RECEITA</th>\n",
       "      <th>clusters</th>\n",
       "    </tr>\n",
       "  </thead>\n",
       "  <tbody>\n",
       "    <tr>\n",
       "      <th>21</th>\n",
       "      <td>Cedente 7</td>\n",
       "      <td>3</td>\n",
       "      <td>19</td>\n",
       "      <td>22</td>\n",
       "      <td>0.86</td>\n",
       "      <td>1710127.21</td>\n",
       "      <td>0</td>\n",
       "    </tr>\n",
       "    <tr>\n",
       "      <th>20</th>\n",
       "      <td>Cedente 6</td>\n",
       "      <td>14</td>\n",
       "      <td>63</td>\n",
       "      <td>77</td>\n",
       "      <td>0.82</td>\n",
       "      <td>321183.80</td>\n",
       "      <td>0</td>\n",
       "    </tr>\n",
       "    <tr>\n",
       "      <th>3</th>\n",
       "      <td>Cedente 12</td>\n",
       "      <td>4</td>\n",
       "      <td>103</td>\n",
       "      <td>107</td>\n",
       "      <td>0.96</td>\n",
       "      <td>1143889.00</td>\n",
       "      <td>0</td>\n",
       "    </tr>\n",
       "    <tr>\n",
       "      <th>19</th>\n",
       "      <td>Cedente 5</td>\n",
       "      <td>28</td>\n",
       "      <td>357</td>\n",
       "      <td>385</td>\n",
       "      <td>0.93</td>\n",
       "      <td>1709214.75</td>\n",
       "      <td>0</td>\n",
       "    </tr>\n",
       "    <tr>\n",
       "      <th>5</th>\n",
       "      <td>Cedente 14</td>\n",
       "      <td>24</td>\n",
       "      <td>157</td>\n",
       "      <td>181</td>\n",
       "      <td>0.87</td>\n",
       "      <td>1236814.87</td>\n",
       "      <td>0</td>\n",
       "    </tr>\n",
       "    <tr>\n",
       "      <th>6</th>\n",
       "      <td>Cedente 15</td>\n",
       "      <td>83</td>\n",
       "      <td>77</td>\n",
       "      <td>160</td>\n",
       "      <td>0.48</td>\n",
       "      <td>1207862.29</td>\n",
       "      <td>0</td>\n",
       "    </tr>\n",
       "    <tr>\n",
       "      <th>7</th>\n",
       "      <td>Cedente 16</td>\n",
       "      <td>5</td>\n",
       "      <td>21</td>\n",
       "      <td>26</td>\n",
       "      <td>0.81</td>\n",
       "      <td>247306.28</td>\n",
       "      <td>0</td>\n",
       "    </tr>\n",
       "    <tr>\n",
       "      <th>8</th>\n",
       "      <td>Cedente 17</td>\n",
       "      <td>147</td>\n",
       "      <td>882</td>\n",
       "      <td>1029</td>\n",
       "      <td>0.86</td>\n",
       "      <td>1094160.68</td>\n",
       "      <td>0</td>\n",
       "    </tr>\n",
       "    <tr>\n",
       "      <th>9</th>\n",
       "      <td>Cedente 18</td>\n",
       "      <td>31</td>\n",
       "      <td>32</td>\n",
       "      <td>63</td>\n",
       "      <td>0.51</td>\n",
       "      <td>78572.09</td>\n",
       "      <td>0</td>\n",
       "    </tr>\n",
       "    <tr>\n",
       "      <th>18</th>\n",
       "      <td>Cedente 4</td>\n",
       "      <td>8</td>\n",
       "      <td>1</td>\n",
       "      <td>9</td>\n",
       "      <td>0.11</td>\n",
       "      <td>1235611.34</td>\n",
       "      <td>0</td>\n",
       "    </tr>\n",
       "    <tr>\n",
       "      <th>22</th>\n",
       "      <td>Cedente 8</td>\n",
       "      <td>13</td>\n",
       "      <td>137</td>\n",
       "      <td>150</td>\n",
       "      <td>0.91</td>\n",
       "      <td>1294294.97</td>\n",
       "      <td>0</td>\n",
       "    </tr>\n",
       "    <tr>\n",
       "      <th>12</th>\n",
       "      <td>Cedente 20</td>\n",
       "      <td>373</td>\n",
       "      <td>137</td>\n",
       "      <td>510</td>\n",
       "      <td>0.27</td>\n",
       "      <td>309174.65</td>\n",
       "      <td>0</td>\n",
       "    </tr>\n",
       "    <tr>\n",
       "      <th>13</th>\n",
       "      <td>Cedente 21</td>\n",
       "      <td>37</td>\n",
       "      <td>115</td>\n",
       "      <td>152</td>\n",
       "      <td>0.76</td>\n",
       "      <td>214458.04</td>\n",
       "      <td>0</td>\n",
       "    </tr>\n",
       "    <tr>\n",
       "      <th>14</th>\n",
       "      <td>Cedente 22</td>\n",
       "      <td>87</td>\n",
       "      <td>219</td>\n",
       "      <td>306</td>\n",
       "      <td>0.72</td>\n",
       "      <td>328666.04</td>\n",
       "      <td>0</td>\n",
       "    </tr>\n",
       "    <tr>\n",
       "      <th>15</th>\n",
       "      <td>Cedente 23</td>\n",
       "      <td>111</td>\n",
       "      <td>94</td>\n",
       "      <td>205</td>\n",
       "      <td>0.46</td>\n",
       "      <td>270892.26</td>\n",
       "      <td>0</td>\n",
       "    </tr>\n",
       "    <tr>\n",
       "      <th>11</th>\n",
       "      <td>Cedente 2</td>\n",
       "      <td>410</td>\n",
       "      <td>1609</td>\n",
       "      <td>2019</td>\n",
       "      <td>0.80</td>\n",
       "      <td>4639191.77</td>\n",
       "      <td>1</td>\n",
       "    </tr>\n",
       "    <tr>\n",
       "      <th>23</th>\n",
       "      <td>Cedente 9</td>\n",
       "      <td>95</td>\n",
       "      <td>881</td>\n",
       "      <td>976</td>\n",
       "      <td>0.90</td>\n",
       "      <td>4987095.02</td>\n",
       "      <td>1</td>\n",
       "    </tr>\n",
       "    <tr>\n",
       "      <th>10</th>\n",
       "      <td>Cedente 19</td>\n",
       "      <td>55</td>\n",
       "      <td>404</td>\n",
       "      <td>459</td>\n",
       "      <td>0.88</td>\n",
       "      <td>3129771.15</td>\n",
       "      <td>1</td>\n",
       "    </tr>\n",
       "    <tr>\n",
       "      <th>4</th>\n",
       "      <td>Cedente 13</td>\n",
       "      <td>17</td>\n",
       "      <td>35</td>\n",
       "      <td>52</td>\n",
       "      <td>0.67</td>\n",
       "      <td>5329983.11</td>\n",
       "      <td>1</td>\n",
       "    </tr>\n",
       "    <tr>\n",
       "      <th>2</th>\n",
       "      <td>Cedente 11</td>\n",
       "      <td>18</td>\n",
       "      <td>86</td>\n",
       "      <td>104</td>\n",
       "      <td>0.83</td>\n",
       "      <td>3559953.22</td>\n",
       "      <td>1</td>\n",
       "    </tr>\n",
       "    <tr>\n",
       "      <th>1</th>\n",
       "      <td>Cedente 10</td>\n",
       "      <td>4</td>\n",
       "      <td>46</td>\n",
       "      <td>50</td>\n",
       "      <td>0.92</td>\n",
       "      <td>4191119.98</td>\n",
       "      <td>1</td>\n",
       "    </tr>\n",
       "    <tr>\n",
       "      <th>16</th>\n",
       "      <td>Cedente 24</td>\n",
       "      <td>47</td>\n",
       "      <td>335</td>\n",
       "      <td>382</td>\n",
       "      <td>0.88</td>\n",
       "      <td>3044420.31</td>\n",
       "      <td>1</td>\n",
       "    </tr>\n",
       "    <tr>\n",
       "      <th>17</th>\n",
       "      <td>Cedente 3</td>\n",
       "      <td>87</td>\n",
       "      <td>403</td>\n",
       "      <td>490</td>\n",
       "      <td>0.82</td>\n",
       "      <td>9011644.10</td>\n",
       "      <td>2</td>\n",
       "    </tr>\n",
       "    <tr>\n",
       "      <th>0</th>\n",
       "      <td>Cedente 1</td>\n",
       "      <td>166</td>\n",
       "      <td>1335</td>\n",
       "      <td>1501</td>\n",
       "      <td>0.89</td>\n",
       "      <td>10280760.20</td>\n",
       "      <td>2</td>\n",
       "    </tr>\n",
       "  </tbody>\n",
       "</table>\n",
       "</div>"
      ],
      "text/plain": [
       "       CEDENTE  ATRASO  EM_DIA  TOTAL_TITULOS  TAXA_PAGAMENTO_TITULOS  \\\n",
       "21   Cedente 7       3      19             22                    0.86   \n",
       "20   Cedente 6      14      63             77                    0.82   \n",
       "3   Cedente 12       4     103            107                    0.96   \n",
       "19   Cedente 5      28     357            385                    0.93   \n",
       "5   Cedente 14      24     157            181                    0.87   \n",
       "6   Cedente 15      83      77            160                    0.48   \n",
       "7   Cedente 16       5      21             26                    0.81   \n",
       "8   Cedente 17     147     882           1029                    0.86   \n",
       "9   Cedente 18      31      32             63                    0.51   \n",
       "18   Cedente 4       8       1              9                    0.11   \n",
       "22   Cedente 8      13     137            150                    0.91   \n",
       "12  Cedente 20     373     137            510                    0.27   \n",
       "13  Cedente 21      37     115            152                    0.76   \n",
       "14  Cedente 22      87     219            306                    0.72   \n",
       "15  Cedente 23     111      94            205                    0.46   \n",
       "11   Cedente 2     410    1609           2019                    0.80   \n",
       "23   Cedente 9      95     881            976                    0.90   \n",
       "10  Cedente 19      55     404            459                    0.88   \n",
       "4   Cedente 13      17      35             52                    0.67   \n",
       "2   Cedente 11      18      86            104                    0.83   \n",
       "1   Cedente 10       4      46             50                    0.92   \n",
       "16  Cedente 24      47     335            382                    0.88   \n",
       "17   Cedente 3      87     403            490                    0.82   \n",
       "0    Cedente 1     166    1335           1501                    0.89   \n",
       "\n",
       "        RECEITA  clusters  \n",
       "21   1710127.21         0  \n",
       "20    321183.80         0  \n",
       "3    1143889.00         0  \n",
       "19   1709214.75         0  \n",
       "5    1236814.87         0  \n",
       "6    1207862.29         0  \n",
       "7     247306.28         0  \n",
       "8    1094160.68         0  \n",
       "9      78572.09         0  \n",
       "18   1235611.34         0  \n",
       "22   1294294.97         0  \n",
       "12    309174.65         0  \n",
       "13    214458.04         0  \n",
       "14    328666.04         0  \n",
       "15    270892.26         0  \n",
       "11   4639191.77         1  \n",
       "23   4987095.02         1  \n",
       "10   3129771.15         1  \n",
       "4    5329983.11         1  \n",
       "2    3559953.22         1  \n",
       "1    4191119.98         1  \n",
       "16   3044420.31         1  \n",
       "17   9011644.10         2  \n",
       "0   10280760.20         2  "
      ]
     },
     "execution_count": 30,
     "metadata": {},
     "output_type": "execute_result"
    }
   ],
   "source": [
    "df_indicadores_cedentes.sort_values(by='clusters')"
   ]
  },
  {
   "cell_type": "markdown",
   "metadata": {
    "id": "-a0BCKyIPINa"
   },
   "source": [
    "Acima temos a lista de cedentes agrupados pelos segmentos gerados com o algoritmo K-means."
   ]
  }
 ],
 "metadata": {
  "colab": {
   "collapsed_sections": [
    "ms5T_qyr35ik",
    "r0WGr2dmC4E0",
    "XROcspOJnqtY",
    "sUOBm9TbqXn-",
    "7SktKbH18juk",
    "YAny6klbLySI",
    "DRhjzRxbKSyC",
    "A2hykpSUP--9",
    "aDe5hm_QYdvO"
   ],
   "name": "Prova_PD_Pratica_Carlos.ipynb",
   "provenance": []
  },
  "kernelspec": {
   "display_name": "Python 3",
   "language": "python",
   "name": "python3"
  },
  "language_info": {
   "codemirror_mode": {
    "name": "ipython",
    "version": 3
   },
   "file_extension": ".py",
   "mimetype": "text/x-python",
   "name": "python",
   "nbconvert_exporter": "python",
   "pygments_lexer": "ipython3",
   "version": "3.8.8"
  }
 },
 "nbformat": 4,
 "nbformat_minor": 1
}
